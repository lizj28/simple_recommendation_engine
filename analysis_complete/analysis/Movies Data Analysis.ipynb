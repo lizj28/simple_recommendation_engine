{
 "cells": [
  {
   "cell_type": "code",
   "execution_count": 1,
   "metadata": {
    "collapsed": true
   },
   "outputs": [],
   "source": [
    "import pandas as pd\n",
    "from typing import List\n",
    "\n",
    "from analysis.utils.cleaning import lower_case_and_strip_spaces"
   ]
  },
  {
   "cell_type": "markdown",
   "source": [
    "### Reading the Data and Initial Stats"
   ],
   "metadata": {
    "collapsed": false
   }
  },
  {
   "cell_type": "code",
   "execution_count": 2,
   "outputs": [
    {
     "data": {
      "text/plain": "       movieId                                    title  \\\n19809    97238       Making 'Do the Right Thing' (1989)   \n3592      3682                      Magnum Force (1973)   \n11164    46790               Kremlin Letter, The (1970)   \n36888   145610            Teodora, Slave Empress (1954)   \n11603    50574                        Crawlspace (1986)   \n52471   180915               Specter of the Rose (1946)   \n27799   123451                         Time Bomb (2006)   \n31478   132987                      Kill 'em All (2012)   \n15470    78490                           Othello (1965)   \n23313   109669        Traveling Executioner, The (1970)   \n17053    85863                      Night People (1954)   \n23838   111529                 Normal Heart, The (2014)   \n28345   124697                Slightly Dangerous (1943)   \n40394   154023                     A sangre fría (1959)   \n38999   150852                            Kotoko (2011)   \n45901   166607                  The Water Margin (1972)   \n49050   173307           The Gracefield Incident (2015)   \n9059     26782                  Mambo Kings, The (1992)   \n19787    97163  Shameless (Maskeblomstfamilien ) (2010)   \n6226      6324             It Runs in the Family (2003)   \n\n                              genres  \n19809                   Documentary   \n3592    Action|crime|DRAMA|thriller   \n11164                Drama|thriller   \n36888       Adventure|drama|ROMANCE   \n11603                        Horror   \n52471                Drama|thriller   \n27799         Action|drama|THRILLER   \n31478         Action|crime|THRILLER   \n15470                 Drama|romance   \n23313          Comedy|drama|WESTERN   \n17053                     Adventure   \n23838                         Drama   \n28345                Comedy|romance   \n40394            (no genres listed)   \n38999                  Drama|horror   \n45901                  Action|drama   \n49050          Action|horror|SCI-FI   \n9059                  Drama|musical   \n19787                         Drama   \n6226                   Comedy|drama   ",
      "text/html": "<div>\n<style scoped>\n    .dataframe tbody tr th:only-of-type {\n        vertical-align: middle;\n    }\n\n    .dataframe tbody tr th {\n        vertical-align: top;\n    }\n\n    .dataframe thead th {\n        text-align: right;\n    }\n</style>\n<table border=\"1\" class=\"dataframe\">\n  <thead>\n    <tr style=\"text-align: right;\">\n      <th></th>\n      <th>movieId</th>\n      <th>title</th>\n      <th>genres</th>\n    </tr>\n  </thead>\n  <tbody>\n    <tr>\n      <th>19809</th>\n      <td>97238</td>\n      <td>Making 'Do the Right Thing' (1989)</td>\n      <td>Documentary</td>\n    </tr>\n    <tr>\n      <th>3592</th>\n      <td>3682</td>\n      <td>Magnum Force (1973)</td>\n      <td>Action|crime|DRAMA|thriller</td>\n    </tr>\n    <tr>\n      <th>11164</th>\n      <td>46790</td>\n      <td>Kremlin Letter, The (1970)</td>\n      <td>Drama|thriller</td>\n    </tr>\n    <tr>\n      <th>36888</th>\n      <td>145610</td>\n      <td>Teodora, Slave Empress (1954)</td>\n      <td>Adventure|drama|ROMANCE</td>\n    </tr>\n    <tr>\n      <th>11603</th>\n      <td>50574</td>\n      <td>Crawlspace (1986)</td>\n      <td>Horror</td>\n    </tr>\n    <tr>\n      <th>52471</th>\n      <td>180915</td>\n      <td>Specter of the Rose (1946)</td>\n      <td>Drama|thriller</td>\n    </tr>\n    <tr>\n      <th>27799</th>\n      <td>123451</td>\n      <td>Time Bomb (2006)</td>\n      <td>Action|drama|THRILLER</td>\n    </tr>\n    <tr>\n      <th>31478</th>\n      <td>132987</td>\n      <td>Kill 'em All (2012)</td>\n      <td>Action|crime|THRILLER</td>\n    </tr>\n    <tr>\n      <th>15470</th>\n      <td>78490</td>\n      <td>Othello (1965)</td>\n      <td>Drama|romance</td>\n    </tr>\n    <tr>\n      <th>23313</th>\n      <td>109669</td>\n      <td>Traveling Executioner, The (1970)</td>\n      <td>Comedy|drama|WESTERN</td>\n    </tr>\n    <tr>\n      <th>17053</th>\n      <td>85863</td>\n      <td>Night People (1954)</td>\n      <td>Adventure</td>\n    </tr>\n    <tr>\n      <th>23838</th>\n      <td>111529</td>\n      <td>Normal Heart, The (2014)</td>\n      <td>Drama</td>\n    </tr>\n    <tr>\n      <th>28345</th>\n      <td>124697</td>\n      <td>Slightly Dangerous (1943)</td>\n      <td>Comedy|romance</td>\n    </tr>\n    <tr>\n      <th>40394</th>\n      <td>154023</td>\n      <td>A sangre fría (1959)</td>\n      <td>(no genres listed)</td>\n    </tr>\n    <tr>\n      <th>38999</th>\n      <td>150852</td>\n      <td>Kotoko (2011)</td>\n      <td>Drama|horror</td>\n    </tr>\n    <tr>\n      <th>45901</th>\n      <td>166607</td>\n      <td>The Water Margin (1972)</td>\n      <td>Action|drama</td>\n    </tr>\n    <tr>\n      <th>49050</th>\n      <td>173307</td>\n      <td>The Gracefield Incident (2015)</td>\n      <td>Action|horror|SCI-FI</td>\n    </tr>\n    <tr>\n      <th>9059</th>\n      <td>26782</td>\n      <td>Mambo Kings, The (1992)</td>\n      <td>Drama|musical</td>\n    </tr>\n    <tr>\n      <th>19787</th>\n      <td>97163</td>\n      <td>Shameless (Maskeblomstfamilien ) (2010)</td>\n      <td>Drama</td>\n    </tr>\n    <tr>\n      <th>6226</th>\n      <td>6324</td>\n      <td>It Runs in the Family (2003)</td>\n      <td>Comedy|drama</td>\n    </tr>\n  </tbody>\n</table>\n</div>"
     },
     "execution_count": 2,
     "metadata": {},
     "output_type": "execute_result"
    }
   ],
   "source": [
    "movies_df: pd.DataFrame = pd.read_csv('input/all_movies.csv')\n",
    "movies_df.sample(20)"
   ],
   "metadata": {
    "collapsed": false,
    "pycharm": {
     "name": "#%%\n"
    }
   }
  },
  {
   "cell_type": "code",
   "execution_count": 3,
   "outputs": [
    {
     "data": {
      "text/plain": "       movieId                                    title  \\\n0            1                         Toy Story (1995)   \n1            2                           Jumanji (1995)   \n2            3                  Grumpier Old Men (1995)   \n3            4                 Waiting to Exhale (1995)   \n4            5       Father of the Bride Part II (1995)   \n...        ...                                      ...   \n58093   193876                  The Great Glinka (1946)   \n58094   193878  Les tribulations d'une caissière (2011)   \n58095   193880                 Her Name Was Mumu (2016)   \n58096   193882                             Flora (2017)   \n58097   193886                              Leal (2018)   \n\n                                              genres  \n0       Adventure|animation|CHILDREN|comedy|Fantasy   \n1                        Adventure|children|FANTASY   \n2                                    Comedy|romance   \n3                              Comedy|drama|ROMANCE   \n4                                            Comedy   \n...                                              ...  \n58093                            (no genres listed)   \n58094                                        Comedy   \n58095                                         Drama   \n58096                 Adventure|drama|HORROR|sci-fi   \n58097                            Action|crime|DRAMA   \n\n[58098 rows x 3 columns]",
      "text/html": "<div>\n<style scoped>\n    .dataframe tbody tr th:only-of-type {\n        vertical-align: middle;\n    }\n\n    .dataframe tbody tr th {\n        vertical-align: top;\n    }\n\n    .dataframe thead th {\n        text-align: right;\n    }\n</style>\n<table border=\"1\" class=\"dataframe\">\n  <thead>\n    <tr style=\"text-align: right;\">\n      <th></th>\n      <th>movieId</th>\n      <th>title</th>\n      <th>genres</th>\n    </tr>\n  </thead>\n  <tbody>\n    <tr>\n      <th>0</th>\n      <td>1</td>\n      <td>Toy Story (1995)</td>\n      <td>Adventure|animation|CHILDREN|comedy|Fantasy</td>\n    </tr>\n    <tr>\n      <th>1</th>\n      <td>2</td>\n      <td>Jumanji (1995)</td>\n      <td>Adventure|children|FANTASY</td>\n    </tr>\n    <tr>\n      <th>2</th>\n      <td>3</td>\n      <td>Grumpier Old Men (1995)</td>\n      <td>Comedy|romance</td>\n    </tr>\n    <tr>\n      <th>3</th>\n      <td>4</td>\n      <td>Waiting to Exhale (1995)</td>\n      <td>Comedy|drama|ROMANCE</td>\n    </tr>\n    <tr>\n      <th>4</th>\n      <td>5</td>\n      <td>Father of the Bride Part II (1995)</td>\n      <td>Comedy</td>\n    </tr>\n    <tr>\n      <th>...</th>\n      <td>...</td>\n      <td>...</td>\n      <td>...</td>\n    </tr>\n    <tr>\n      <th>58093</th>\n      <td>193876</td>\n      <td>The Great Glinka (1946)</td>\n      <td>(no genres listed)</td>\n    </tr>\n    <tr>\n      <th>58094</th>\n      <td>193878</td>\n      <td>Les tribulations d'une caissière (2011)</td>\n      <td>Comedy</td>\n    </tr>\n    <tr>\n      <th>58095</th>\n      <td>193880</td>\n      <td>Her Name Was Mumu (2016)</td>\n      <td>Drama</td>\n    </tr>\n    <tr>\n      <th>58096</th>\n      <td>193882</td>\n      <td>Flora (2017)</td>\n      <td>Adventure|drama|HORROR|sci-fi</td>\n    </tr>\n    <tr>\n      <th>58097</th>\n      <td>193886</td>\n      <td>Leal (2018)</td>\n      <td>Action|crime|DRAMA</td>\n    </tr>\n  </tbody>\n</table>\n<p>58098 rows × 3 columns</p>\n</div>"
     },
     "execution_count": 3,
     "metadata": {},
     "output_type": "execute_result"
    }
   ],
   "source": [
    "movies_df"
   ],
   "metadata": {
    "collapsed": false,
    "pycharm": {
     "name": "#%%\n"
    }
   }
  },
  {
   "cell_type": "markdown",
   "source": [
    "## Step 1: Cleaning\n",
    "You shouldn't necessarily assume that your data is good.  It could be very sparse and not have much there. There could be duplication, poorly recorded or empty values, or with large text there could be a lot of garbage in there if it was an open text field\n",
    "\n",
    "Some things we'll do here:\n",
    "1. Get the number of rows and columns by looking at the shape\n",
    "2. Determine the number of non-null rows for each given column (This would tell us if a column is especially sparse)\n",
    "3. Check for duplicate rows\n",
    "\n",
    "As we find things that need to be cleaned (bad text, duplicates etc.) we will write tested cleaning functions to cleanup our input data."
   ],
   "metadata": {
    "collapsed": false
   }
  },
  {
   "cell_type": "code",
   "execution_count": 4,
   "outputs": [
    {
     "data": {
      "text/plain": "(58098, 3)"
     },
     "execution_count": 4,
     "metadata": {},
     "output_type": "execute_result"
    }
   ],
   "source": [
    "movies_df.shape"
   ],
   "metadata": {
    "collapsed": false,
    "pycharm": {
     "name": "#%%\n"
    }
   }
  },
  {
   "cell_type": "code",
   "execution_count": 5,
   "outputs": [
    {
     "name": "stdout",
     "output_type": "stream",
     "text": [
      "<class 'pandas.core.frame.DataFrame'>\n",
      "RangeIndex: 58098 entries, 0 to 58097\n",
      "Data columns (total 3 columns):\n",
      " #   Column   Non-Null Count  Dtype \n",
      "---  ------   --------------  ----- \n",
      " 0   movieId  58098 non-null  int64 \n",
      " 1   title    58098 non-null  object\n",
      " 2   genres   58098 non-null  object\n",
      "dtypes: int64(1), object(2)\n",
      "memory usage: 1.3+ MB\n"
     ]
    }
   ],
   "source": [
    "movies_df.info()"
   ],
   "metadata": {
    "collapsed": false,
    "pycharm": {
     "name": "#%%\n"
    }
   }
  },
  {
   "cell_type": "markdown",
   "source": [
    "#### Cleanup"
   ],
   "metadata": {
    "collapsed": false
   }
  },
  {
   "cell_type": "code",
   "execution_count": 6,
   "outputs": [],
   "source": [
    "movies_cleaned_df = movies_df.copy()\n",
    "movies_cleaned_df['genres'] = movies_cleaned_df['genres'].apply(lower_case_and_strip_spaces)"
   ],
   "metadata": {
    "collapsed": false,
    "pycharm": {
     "name": "#%%\n"
    }
   }
  },
  {
   "cell_type": "code",
   "execution_count": 7,
   "outputs": [
    {
     "data": {
      "text/plain": "       movieId                                              title  \\\n48021   171195                           Chasing Two Hares (1961)   \n9680     31247    Fighting Sullivans, The (Sullivans, The) (1944)   \n8380     25789                            Shanghai Express (1932)   \n6990      7101                               Doc Hollywood (1991)   \n8194      8877                               Second Chorus (1940)   \n2396      2480              Dry Cleaning (Nettoyage à sec) (1997)   \n21982   105163                                       Ruins (2013)   \n5843      5941                                    Drumline (2002)   \n7659      8127  First $20 Million Is Always the Hardest, The (...   \n15490    78622                               Nekromantik 2 (1991)   \n48069   171291              Katt Williams: American Hustle (2007)   \n30658   131122                               Love Exposure (2007)   \n44681   163911            USS Indianapolis: Men of Courage (2016)   \n47468   169972                                   Black Ice (1994)   \n20711   100521                    Who Killed Vincent Chin? (1987)   \n36930   145745                                  Witch Hunt (1999)   \n28946   126130                            Special Delivery (2002)   \n12312    56449                                        Cake (2005)   \n43207   160674                                  The ReZort (2016)   \n11944    53519                                 Death Proof (2007)   \n\n                                       genres  \n48021                                  comedy  \n9680                                    drama  \n8380                  adventure|drama|romance  \n6990                           comedy|romance  \n8194                   comedy|musical|romance  \n2396                                    drama  \n21982                             documentary  \n5843             comedy|drama|musical|romance  \n7659                                   comedy  \n15490                                  horror  \n48069                                  comedy  \n30658             action|comedy|drama|romance  \n44681                              action|war  \n47468                      (no genres listed)  \n20711                       crime|documentary  \n36930                             crime|drama  \n28946                      (no genres listed)  \n12312                          comedy|romance  \n43207                                  horror  \n11944  action|adventure|crime|horror|thriller  ",
      "text/html": "<div>\n<style scoped>\n    .dataframe tbody tr th:only-of-type {\n        vertical-align: middle;\n    }\n\n    .dataframe tbody tr th {\n        vertical-align: top;\n    }\n\n    .dataframe thead th {\n        text-align: right;\n    }\n</style>\n<table border=\"1\" class=\"dataframe\">\n  <thead>\n    <tr style=\"text-align: right;\">\n      <th></th>\n      <th>movieId</th>\n      <th>title</th>\n      <th>genres</th>\n    </tr>\n  </thead>\n  <tbody>\n    <tr>\n      <th>48021</th>\n      <td>171195</td>\n      <td>Chasing Two Hares (1961)</td>\n      <td>comedy</td>\n    </tr>\n    <tr>\n      <th>9680</th>\n      <td>31247</td>\n      <td>Fighting Sullivans, The (Sullivans, The) (1944)</td>\n      <td>drama</td>\n    </tr>\n    <tr>\n      <th>8380</th>\n      <td>25789</td>\n      <td>Shanghai Express (1932)</td>\n      <td>adventure|drama|romance</td>\n    </tr>\n    <tr>\n      <th>6990</th>\n      <td>7101</td>\n      <td>Doc Hollywood (1991)</td>\n      <td>comedy|romance</td>\n    </tr>\n    <tr>\n      <th>8194</th>\n      <td>8877</td>\n      <td>Second Chorus (1940)</td>\n      <td>comedy|musical|romance</td>\n    </tr>\n    <tr>\n      <th>2396</th>\n      <td>2480</td>\n      <td>Dry Cleaning (Nettoyage à sec) (1997)</td>\n      <td>drama</td>\n    </tr>\n    <tr>\n      <th>21982</th>\n      <td>105163</td>\n      <td>Ruins (2013)</td>\n      <td>documentary</td>\n    </tr>\n    <tr>\n      <th>5843</th>\n      <td>5941</td>\n      <td>Drumline (2002)</td>\n      <td>comedy|drama|musical|romance</td>\n    </tr>\n    <tr>\n      <th>7659</th>\n      <td>8127</td>\n      <td>First $20 Million Is Always the Hardest, The (...</td>\n      <td>comedy</td>\n    </tr>\n    <tr>\n      <th>15490</th>\n      <td>78622</td>\n      <td>Nekromantik 2 (1991)</td>\n      <td>horror</td>\n    </tr>\n    <tr>\n      <th>48069</th>\n      <td>171291</td>\n      <td>Katt Williams: American Hustle (2007)</td>\n      <td>comedy</td>\n    </tr>\n    <tr>\n      <th>30658</th>\n      <td>131122</td>\n      <td>Love Exposure (2007)</td>\n      <td>action|comedy|drama|romance</td>\n    </tr>\n    <tr>\n      <th>44681</th>\n      <td>163911</td>\n      <td>USS Indianapolis: Men of Courage (2016)</td>\n      <td>action|war</td>\n    </tr>\n    <tr>\n      <th>47468</th>\n      <td>169972</td>\n      <td>Black Ice (1994)</td>\n      <td>(no genres listed)</td>\n    </tr>\n    <tr>\n      <th>20711</th>\n      <td>100521</td>\n      <td>Who Killed Vincent Chin? (1987)</td>\n      <td>crime|documentary</td>\n    </tr>\n    <tr>\n      <th>36930</th>\n      <td>145745</td>\n      <td>Witch Hunt (1999)</td>\n      <td>crime|drama</td>\n    </tr>\n    <tr>\n      <th>28946</th>\n      <td>126130</td>\n      <td>Special Delivery (2002)</td>\n      <td>(no genres listed)</td>\n    </tr>\n    <tr>\n      <th>12312</th>\n      <td>56449</td>\n      <td>Cake (2005)</td>\n      <td>comedy|romance</td>\n    </tr>\n    <tr>\n      <th>43207</th>\n      <td>160674</td>\n      <td>The ReZort (2016)</td>\n      <td>horror</td>\n    </tr>\n    <tr>\n      <th>11944</th>\n      <td>53519</td>\n      <td>Death Proof (2007)</td>\n      <td>action|adventure|crime|horror|thriller</td>\n    </tr>\n  </tbody>\n</table>\n</div>"
     },
     "execution_count": 7,
     "metadata": {},
     "output_type": "execute_result"
    }
   ],
   "source": [
    "movies_cleaned_df.sample(20)"
   ],
   "metadata": {
    "collapsed": false,
    "pycharm": {
     "name": "#%%\n"
    }
   }
  },
  {
   "cell_type": "code",
   "execution_count": 8,
   "outputs": [],
   "source": [
    "movies_cleaned_df = movies_cleaned_df.loc[movies_cleaned_df['genres'] != '(no genres listed)']"
   ],
   "metadata": {
    "collapsed": false,
    "pycharm": {
     "name": "#%%\n"
    }
   }
  },
  {
   "cell_type": "code",
   "execution_count": 9,
   "outputs": [
    {
     "data": {
      "text/plain": "(53832, 3)"
     },
     "execution_count": 9,
     "metadata": {},
     "output_type": "execute_result"
    }
   ],
   "source": [
    "movies_cleaned_df.shape"
   ],
   "metadata": {
    "collapsed": false,
    "pycharm": {
     "name": "#%%\n"
    }
   }
  },
  {
   "cell_type": "code",
   "execution_count": 10,
   "outputs": [],
   "source": [
    "assert movies_cleaned_df.shape[0] < movies_df.shape[0]"
   ],
   "metadata": {
    "collapsed": false,
    "pycharm": {
     "name": "#%%\n"
    }
   }
  },
  {
   "cell_type": "markdown",
   "source": [
    "### Checking for Duplicates"
   ],
   "metadata": {
    "collapsed": false
   }
  },
  {
   "cell_type": "markdown",
   "source": [
    "#### We need to define what a \"duplicate\" is."
   ],
   "metadata": {
    "collapsed": false
   }
  },
  {
   "cell_type": "markdown",
   "source": [
    "Get a series with True or False that indicates if the title was duplicated or not."
   ],
   "metadata": {
    "collapsed": false
   }
  },
  {
   "cell_type": "code",
   "execution_count": 11,
   "outputs": [
    {
     "data": {
      "text/plain": "   movieId                               title  \\\n0        1                    Toy Story (1995)   \n1        2                      Jumanji (1995)   \n2        3             Grumpier Old Men (1995)   \n3        4            Waiting to Exhale (1995)   \n4        5  Father of the Bride Part II (1995)   \n\n                                        genres  \n0  adventure|animation|children|comedy|fantasy  \n1                   adventure|children|fantasy  \n2                               comedy|romance  \n3                         comedy|drama|romance  \n4                                       comedy  ",
      "text/html": "<div>\n<style scoped>\n    .dataframe tbody tr th:only-of-type {\n        vertical-align: middle;\n    }\n\n    .dataframe tbody tr th {\n        vertical-align: top;\n    }\n\n    .dataframe thead th {\n        text-align: right;\n    }\n</style>\n<table border=\"1\" class=\"dataframe\">\n  <thead>\n    <tr style=\"text-align: right;\">\n      <th></th>\n      <th>movieId</th>\n      <th>title</th>\n      <th>genres</th>\n    </tr>\n  </thead>\n  <tbody>\n    <tr>\n      <th>0</th>\n      <td>1</td>\n      <td>Toy Story (1995)</td>\n      <td>adventure|animation|children|comedy|fantasy</td>\n    </tr>\n    <tr>\n      <th>1</th>\n      <td>2</td>\n      <td>Jumanji (1995)</td>\n      <td>adventure|children|fantasy</td>\n    </tr>\n    <tr>\n      <th>2</th>\n      <td>3</td>\n      <td>Grumpier Old Men (1995)</td>\n      <td>comedy|romance</td>\n    </tr>\n    <tr>\n      <th>3</th>\n      <td>4</td>\n      <td>Waiting to Exhale (1995)</td>\n      <td>comedy|drama|romance</td>\n    </tr>\n    <tr>\n      <th>4</th>\n      <td>5</td>\n      <td>Father of the Bride Part II (1995)</td>\n      <td>comedy</td>\n    </tr>\n  </tbody>\n</table>\n</div>"
     },
     "execution_count": 11,
     "metadata": {},
     "output_type": "execute_result"
    }
   ],
   "source": [
    "movies_cleaned_df.head(5)"
   ],
   "metadata": {
    "collapsed": false,
    "pycharm": {
     "name": "#%%\n"
    }
   }
  },
  {
   "cell_type": "code",
   "execution_count": 12,
   "outputs": [],
   "source": [
    "duplicated_by_title = movies_cleaned_df.duplicated(['title'])"
   ],
   "metadata": {
    "collapsed": false,
    "pycharm": {
     "name": "#%%\n"
    }
   }
  },
  {
   "cell_type": "code",
   "execution_count": 13,
   "outputs": [
    {
     "data": {
      "text/plain": "       movieId                                      title  \\\n9142     26958                                Emma (1996)   \n9157     26982                       Men with Guns (1997)   \n13309    64997                   War of the Worlds (2005)   \n13395    65665                              Hamlet (2000)   \n13614    67459                               Chaos (2005)   \n...        ...                                        ...   \n56950   190881                            The Boss (2016)   \n57238   191713                               Noise (2007)   \n57269   191775                      Berlin Calling (2008)   \n57361   192003  Journey to the Center of the Earth (2008)   \n57953   193559                               Cargo (2017)   \n\n                                genres  \n9142                           romance  \n9157                             drama  \n13309                    action|sci-fi  \n13395                            drama  \n13614               crime|drama|horror  \n...                                ...  \n56950                      documentary  \n57238             crime|drama|thriller  \n57269                     comedy|drama  \n57361  action|adventure|fantasy|sci-fi  \n57953                            drama  \n\n[66 rows x 3 columns]",
      "text/html": "<div>\n<style scoped>\n    .dataframe tbody tr th:only-of-type {\n        vertical-align: middle;\n    }\n\n    .dataframe tbody tr th {\n        vertical-align: top;\n    }\n\n    .dataframe thead th {\n        text-align: right;\n    }\n</style>\n<table border=\"1\" class=\"dataframe\">\n  <thead>\n    <tr style=\"text-align: right;\">\n      <th></th>\n      <th>movieId</th>\n      <th>title</th>\n      <th>genres</th>\n    </tr>\n  </thead>\n  <tbody>\n    <tr>\n      <th>9142</th>\n      <td>26958</td>\n      <td>Emma (1996)</td>\n      <td>romance</td>\n    </tr>\n    <tr>\n      <th>9157</th>\n      <td>26982</td>\n      <td>Men with Guns (1997)</td>\n      <td>drama</td>\n    </tr>\n    <tr>\n      <th>13309</th>\n      <td>64997</td>\n      <td>War of the Worlds (2005)</td>\n      <td>action|sci-fi</td>\n    </tr>\n    <tr>\n      <th>13395</th>\n      <td>65665</td>\n      <td>Hamlet (2000)</td>\n      <td>drama</td>\n    </tr>\n    <tr>\n      <th>13614</th>\n      <td>67459</td>\n      <td>Chaos (2005)</td>\n      <td>crime|drama|horror</td>\n    </tr>\n    <tr>\n      <th>...</th>\n      <td>...</td>\n      <td>...</td>\n      <td>...</td>\n    </tr>\n    <tr>\n      <th>56950</th>\n      <td>190881</td>\n      <td>The Boss (2016)</td>\n      <td>documentary</td>\n    </tr>\n    <tr>\n      <th>57238</th>\n      <td>191713</td>\n      <td>Noise (2007)</td>\n      <td>crime|drama|thriller</td>\n    </tr>\n    <tr>\n      <th>57269</th>\n      <td>191775</td>\n      <td>Berlin Calling (2008)</td>\n      <td>comedy|drama</td>\n    </tr>\n    <tr>\n      <th>57361</th>\n      <td>192003</td>\n      <td>Journey to the Center of the Earth (2008)</td>\n      <td>action|adventure|fantasy|sci-fi</td>\n    </tr>\n    <tr>\n      <th>57953</th>\n      <td>193559</td>\n      <td>Cargo (2017)</td>\n      <td>drama</td>\n    </tr>\n  </tbody>\n</table>\n<p>66 rows × 3 columns</p>\n</div>"
     },
     "execution_count": 13,
     "metadata": {},
     "output_type": "execute_result"
    }
   ],
   "source": [
    "duplicated_by_title_df = movies_cleaned_df.loc[duplicated_by_title]\n",
    "duplicated_by_title_df"
   ],
   "metadata": {
    "collapsed": false,
    "pycharm": {
     "name": "#%%\n"
    }
   }
  },
  {
   "cell_type": "markdown",
   "source": [
    "Locate all records where the title was duplicated."
   ],
   "metadata": {
    "collapsed": false
   }
  },
  {
   "cell_type": "code",
   "execution_count": 13,
   "outputs": [],
   "source": [],
   "metadata": {
    "collapsed": false,
    "pycharm": {
     "name": "#%%\n"
    }
   }
  },
  {
   "cell_type": "markdown",
   "source": [
    "Get a series with True of False that indicates if the title and genre were both duplciated."
   ],
   "metadata": {
    "collapsed": false
   }
  },
  {
   "cell_type": "code",
   "execution_count": 14,
   "outputs": [],
   "source": [
    "duplicated_by_title_and_genre = movies_cleaned_df.duplicated(['title', 'genres'])"
   ],
   "metadata": {
    "collapsed": false,
    "pycharm": {
     "name": "#%%\n"
    }
   }
  },
  {
   "cell_type": "markdown",
   "source": [
    "Locate all records where the title and genre were duplicated"
   ],
   "metadata": {
    "collapsed": false
   }
  },
  {
   "cell_type": "code",
   "execution_count": 15,
   "outputs": [
    {
     "data": {
      "text/plain": "       movieId                        title                   genres\n15902    80330               Offside (2006)             comedy|drama\n20835   101212             Girl, The (2012)                    drama\n25046   115777               Beneath (2013)                   horror\n27572   122940         Clear History (2013)                   comedy\n29852   128991        Johnny Express (2014)  animation|comedy|sci-fi\n30226   130062               Darling (2007)                    drama\n36172   143978                  Home (2008)                    drama\n38804   150310               Macbeth (2015)                    drama\n44387   163246  Seven Years Bad Luck (1921)                   comedy\n48620   172427            Little Man (2006)                   comedy\n52192   180205               Dracula (1931)                   horror\n52644   181329                 Lucky (2017)                    drama\n52795   181655                Detour (2017)                 thriller\n57269   191775        Berlin Calling (2008)             comedy|drama",
      "text/html": "<div>\n<style scoped>\n    .dataframe tbody tr th:only-of-type {\n        vertical-align: middle;\n    }\n\n    .dataframe tbody tr th {\n        vertical-align: top;\n    }\n\n    .dataframe thead th {\n        text-align: right;\n    }\n</style>\n<table border=\"1\" class=\"dataframe\">\n  <thead>\n    <tr style=\"text-align: right;\">\n      <th></th>\n      <th>movieId</th>\n      <th>title</th>\n      <th>genres</th>\n    </tr>\n  </thead>\n  <tbody>\n    <tr>\n      <th>15902</th>\n      <td>80330</td>\n      <td>Offside (2006)</td>\n      <td>comedy|drama</td>\n    </tr>\n    <tr>\n      <th>20835</th>\n      <td>101212</td>\n      <td>Girl, The (2012)</td>\n      <td>drama</td>\n    </tr>\n    <tr>\n      <th>25046</th>\n      <td>115777</td>\n      <td>Beneath (2013)</td>\n      <td>horror</td>\n    </tr>\n    <tr>\n      <th>27572</th>\n      <td>122940</td>\n      <td>Clear History (2013)</td>\n      <td>comedy</td>\n    </tr>\n    <tr>\n      <th>29852</th>\n      <td>128991</td>\n      <td>Johnny Express (2014)</td>\n      <td>animation|comedy|sci-fi</td>\n    </tr>\n    <tr>\n      <th>30226</th>\n      <td>130062</td>\n      <td>Darling (2007)</td>\n      <td>drama</td>\n    </tr>\n    <tr>\n      <th>36172</th>\n      <td>143978</td>\n      <td>Home (2008)</td>\n      <td>drama</td>\n    </tr>\n    <tr>\n      <th>38804</th>\n      <td>150310</td>\n      <td>Macbeth (2015)</td>\n      <td>drama</td>\n    </tr>\n    <tr>\n      <th>44387</th>\n      <td>163246</td>\n      <td>Seven Years Bad Luck (1921)</td>\n      <td>comedy</td>\n    </tr>\n    <tr>\n      <th>48620</th>\n      <td>172427</td>\n      <td>Little Man (2006)</td>\n      <td>comedy</td>\n    </tr>\n    <tr>\n      <th>52192</th>\n      <td>180205</td>\n      <td>Dracula (1931)</td>\n      <td>horror</td>\n    </tr>\n    <tr>\n      <th>52644</th>\n      <td>181329</td>\n      <td>Lucky (2017)</td>\n      <td>drama</td>\n    </tr>\n    <tr>\n      <th>52795</th>\n      <td>181655</td>\n      <td>Detour (2017)</td>\n      <td>thriller</td>\n    </tr>\n    <tr>\n      <th>57269</th>\n      <td>191775</td>\n      <td>Berlin Calling (2008)</td>\n      <td>comedy|drama</td>\n    </tr>\n  </tbody>\n</table>\n</div>"
     },
     "execution_count": 15,
     "metadata": {},
     "output_type": "execute_result"
    }
   ],
   "source": [
    "duplicated_by_title_and_genre_df = movies_cleaned_df.loc[duplicated_by_title_and_genre]\n",
    "duplicated_by_title_and_genre_df"
   ],
   "metadata": {
    "collapsed": false,
    "pycharm": {
     "name": "#%%\n"
    }
   }
  },
  {
   "cell_type": "markdown",
   "source": [
    "We'll need a list of titles from each category"
   ],
   "metadata": {
    "collapsed": false
   }
  },
  {
   "cell_type": "code",
   "execution_count": 16,
   "outputs": [
    {
     "data": {
      "text/plain": "14"
     },
     "execution_count": 16,
     "metadata": {},
     "output_type": "execute_result"
    }
   ],
   "source": [
    "records_duplicated_by_title_and_genre = set(duplicated_by_title_and_genre_df['title'])\n",
    "len(records_duplicated_by_title_and_genre)"
   ],
   "metadata": {
    "collapsed": false,
    "pycharm": {
     "name": "#%%\n"
    }
   }
  },
  {
   "cell_type": "code",
   "execution_count": 17,
   "outputs": [
    {
     "data": {
      "text/plain": "66"
     },
     "execution_count": 17,
     "metadata": {},
     "output_type": "execute_result"
    }
   ],
   "source": [
    "records_duplicated_by_title = set(duplicated_by_title_df['title'])\n",
    "len(records_duplicated_by_title)"
   ],
   "metadata": {
    "collapsed": false,
    "pycharm": {
     "name": "#%%\n"
    }
   }
  },
  {
   "cell_type": "code",
   "execution_count": 18,
   "outputs": [
    {
     "data": {
      "text/plain": "{'20,000 Leagues Under the Sea (1997)',\n 'Absolution (2015)',\n 'Aftermath (2012)',\n 'Aladdin (1992)',\n 'Beneath (2013)',\n 'Berlin Calling (2008)',\n 'Blackout (2007)',\n 'Cargo (2017)',\n 'Casanova (2005)',\n 'Chaos (2005)',\n 'Classmates (2016)',\n 'Clear History (2013)',\n 'Clockstoppers (2002)',\n 'Confessions of a Dangerous Mind (2002)',\n 'Darling (2007)',\n 'Delirium (2014)',\n 'Deranged (2012)',\n 'Detour (2017)',\n 'Dracula (1931)',\n 'Ecstasy (2011)',\n 'Eden (2014)',\n 'Emma (1996)',\n 'Eros (2004)',\n 'Forsaken (2016)',\n 'Free Fall (2014)',\n 'Frozen (2010)',\n 'Girl, The (2012)',\n 'Good People (2014)',\n 'Gossip (2000)',\n 'Grace (2014)',\n 'Hamlet (2000)',\n 'Holiday (2014)',\n 'Home (2008)',\n 'Hostage (2005)',\n 'Interrogation (2016)',\n 'Johnny Express (2014)',\n 'Journey to the Center of the Earth (2008)',\n 'Lagaan: Once Upon a Time in India (2001)',\n 'Little Man (2006)',\n 'Lucky (2017)',\n 'Macbeth (2015)',\n 'Men with Guns (1997)',\n 'Noise (2007)',\n 'Office (2015)',\n 'Offside (2006)',\n 'Paradise (2013)',\n 'Rose (2011)',\n 'Saturn 3 (1980)',\n 'Seven Years Bad Luck (1921)',\n 'Shelter (2015)',\n 'Sing (2016)',\n 'Slow Burn (2000)',\n 'Stranded (2015)',\n 'Tag (2015)',\n 'The Boss (2016)',\n 'The Break-In (2016)',\n 'The Connection (2014)',\n 'The Dream Team (2012)',\n 'The Midnight Man (2016)',\n 'The Promise (2016)',\n 'The Reunion (2011)',\n 'The Void (2016)',\n 'Truth (2015)',\n 'Veronica (2017)',\n 'War of the Worlds (2005)',\n 'Weekend (2011)'}"
     },
     "execution_count": 18,
     "metadata": {},
     "output_type": "execute_result"
    }
   ],
   "source": [
    "records_duplicated_by_title"
   ],
   "metadata": {
    "collapsed": false,
    "pycharm": {
     "name": "#%%\n"
    }
   }
  },
  {
   "cell_type": "markdown",
   "source": [
    "We have two lists of movies:\n",
    "1. Has all the titles where the title was duplicated - in this list some titles represent records that have duplicated genre strings and some represent records that have different genre string.\n",
    "2. Has all the titles where the title and genre was duplicated - in this list the title represents records that have duplicated genre strings.\n",
    "\n",
    "With these two lists how can we get a list that is ONLY the titles where the title was duplicated but the genre was not?"
   ],
   "metadata": {
    "collapsed": false
   }
  },
  {
   "cell_type": "code",
   "execution_count": 19,
   "outputs": [
    {
     "data": {
      "text/plain": "{'20,000 Leagues Under the Sea (1997)',\n 'Absolution (2015)',\n 'Aftermath (2012)',\n 'Aladdin (1992)',\n 'Blackout (2007)',\n 'Cargo (2017)',\n 'Casanova (2005)',\n 'Chaos (2005)',\n 'Classmates (2016)',\n 'Clockstoppers (2002)',\n 'Confessions of a Dangerous Mind (2002)',\n 'Delirium (2014)',\n 'Deranged (2012)',\n 'Ecstasy (2011)',\n 'Eden (2014)',\n 'Emma (1996)',\n 'Eros (2004)',\n 'Forsaken (2016)',\n 'Free Fall (2014)',\n 'Frozen (2010)',\n 'Good People (2014)',\n 'Gossip (2000)',\n 'Grace (2014)',\n 'Hamlet (2000)',\n 'Holiday (2014)',\n 'Hostage (2005)',\n 'Interrogation (2016)',\n 'Journey to the Center of the Earth (2008)',\n 'Lagaan: Once Upon a Time in India (2001)',\n 'Men with Guns (1997)',\n 'Noise (2007)',\n 'Office (2015)',\n 'Paradise (2013)',\n 'Rose (2011)',\n 'Saturn 3 (1980)',\n 'Shelter (2015)',\n 'Sing (2016)',\n 'Slow Burn (2000)',\n 'Stranded (2015)',\n 'Tag (2015)',\n 'The Boss (2016)',\n 'The Break-In (2016)',\n 'The Connection (2014)',\n 'The Dream Team (2012)',\n 'The Midnight Man (2016)',\n 'The Promise (2016)',\n 'The Reunion (2011)',\n 'The Void (2016)',\n 'Truth (2015)',\n 'Veronica (2017)',\n 'War of the Worlds (2005)',\n 'Weekend (2011)'}"
     },
     "execution_count": 19,
     "metadata": {},
     "output_type": "execute_result"
    }
   ],
   "source": [
    "records_duplicated_by_title_only = records_duplicated_by_title.difference(records_duplicated_by_title_and_genre)\n",
    "records_duplicated_by_title_only"
   ],
   "metadata": {
    "collapsed": false,
    "pycharm": {
     "name": "#%%\n"
    }
   }
  },
  {
   "cell_type": "markdown",
   "source": [
    "Now we can locate an example using the titles in our list."
   ],
   "metadata": {
    "collapsed": false
   }
  },
  {
   "cell_type": "code",
   "execution_count": 20,
   "outputs": [],
   "source": [
    "ALADDIN = 'Aladdin (1992)'"
   ],
   "metadata": {
    "collapsed": false,
    "pycharm": {
     "name": "#%%\n"
    }
   }
  },
  {
   "cell_type": "code",
   "execution_count": 21,
   "outputs": [],
   "source": [
    "def get_aladdin_example(df: pd.DataFrame) -> pd.DataFrame:\n",
    "    return df.loc[df['title'] == ALADDIN]"
   ],
   "metadata": {
    "collapsed": false,
    "pycharm": {
     "name": "#%%\n"
    }
   }
  },
  {
   "cell_type": "code",
   "execution_count": 22,
   "outputs": [
    {
     "data": {
      "text/plain": "       movieId           title                                       genres\n582        588  Aladdin (1992)  adventure|animation|children|comedy|musical\n24657   114240  Aladdin (1992)  adventure|animation|children|comedy|fantasy",
      "text/html": "<div>\n<style scoped>\n    .dataframe tbody tr th:only-of-type {\n        vertical-align: middle;\n    }\n\n    .dataframe tbody tr th {\n        vertical-align: top;\n    }\n\n    .dataframe thead th {\n        text-align: right;\n    }\n</style>\n<table border=\"1\" class=\"dataframe\">\n  <thead>\n    <tr style=\"text-align: right;\">\n      <th></th>\n      <th>movieId</th>\n      <th>title</th>\n      <th>genres</th>\n    </tr>\n  </thead>\n  <tbody>\n    <tr>\n      <th>582</th>\n      <td>588</td>\n      <td>Aladdin (1992)</td>\n      <td>adventure|animation|children|comedy|musical</td>\n    </tr>\n    <tr>\n      <th>24657</th>\n      <td>114240</td>\n      <td>Aladdin (1992)</td>\n      <td>adventure|animation|children|comedy|fantasy</td>\n    </tr>\n  </tbody>\n</table>\n</div>"
     },
     "execution_count": 22,
     "metadata": {},
     "output_type": "execute_result"
    }
   ],
   "source": [
    "movies_cleaned_df.loc[movies_cleaned_df['title'] == ALADDIN]"
   ],
   "metadata": {
    "collapsed": false,
    "pycharm": {
     "name": "#%%\n"
    }
   }
  },
  {
   "cell_type": "markdown",
   "source": [
    "## Step 2: Feature Preparation\n",
    "\n",
    "What is a feature?\n",
    "\n",
    "A descriptive attribute that can be used in our algorithms.\n",
    "\n",
    "Examples:\n",
    "    - If we are trying to predict house prices, square footage could be a feature we use to predict the house price\n",
    "    - In our case, as we try to find movies similar to our movie the \"feature\" we will be focusing on is the \"genres\" description\n",
    "    - We need to \"prepare\" the columns data in such a way that we can compare one genre description to another and get some measure of similarity"
   ],
   "metadata": {
    "collapsed": false
   }
  },
  {
   "cell_type": "markdown",
   "source": [
    "We can focus on the genres to recommend movies.  Let's prepare our genres list. First we need to group by movie."
   ],
   "metadata": {
    "collapsed": false
   }
  },
  {
   "cell_type": "code",
   "execution_count": 23,
   "outputs": [],
   "source": [
    "movies_grouped_by_title_df = movies_cleaned_df.copy()\n",
    "movies_grouped_by_title_df = movies_grouped_by_title_df.groupby('title').agg({'genres': lambda x: x.to_list()}).reset_index()"
   ],
   "metadata": {
    "collapsed": false,
    "pycharm": {
     "name": "#%%\n"
    }
   }
  },
  {
   "cell_type": "code",
   "execution_count": 24,
   "outputs": [
    {
     "data": {
      "text/plain": "                                        title                           genres\n0            \"Great Performances\" Cats (1998)                        [musical]\n1                  #1 Cheerleader Camp (2010)                   [comedy|drama]\n2                            #Captured (2017)                         [horror]\n3                              #Horror (2015)  [drama|horror|mystery|thriller]\n4                           #SCREAMERS (2016)                         [horror]\n...                                       ...                              ...\n53761                          ארבינקא (1967)           [comedy|crime|romance]\n53762  …And the Fifth Horseman Is Fear (1965)                      [drama|war]\n53763                             キサラギ (2007)                 [comedy|mystery]\n53764                          チェブラーシカ (2010)             [animation|children]\n53765                             貞子3D (2012)                         [horror]\n\n[53766 rows x 2 columns]",
      "text/html": "<div>\n<style scoped>\n    .dataframe tbody tr th:only-of-type {\n        vertical-align: middle;\n    }\n\n    .dataframe tbody tr th {\n        vertical-align: top;\n    }\n\n    .dataframe thead th {\n        text-align: right;\n    }\n</style>\n<table border=\"1\" class=\"dataframe\">\n  <thead>\n    <tr style=\"text-align: right;\">\n      <th></th>\n      <th>title</th>\n      <th>genres</th>\n    </tr>\n  </thead>\n  <tbody>\n    <tr>\n      <th>0</th>\n      <td>\"Great Performances\" Cats (1998)</td>\n      <td>[musical]</td>\n    </tr>\n    <tr>\n      <th>1</th>\n      <td>#1 Cheerleader Camp (2010)</td>\n      <td>[comedy|drama]</td>\n    </tr>\n    <tr>\n      <th>2</th>\n      <td>#Captured (2017)</td>\n      <td>[horror]</td>\n    </tr>\n    <tr>\n      <th>3</th>\n      <td>#Horror (2015)</td>\n      <td>[drama|horror|mystery|thriller]</td>\n    </tr>\n    <tr>\n      <th>4</th>\n      <td>#SCREAMERS (2016)</td>\n      <td>[horror]</td>\n    </tr>\n    <tr>\n      <th>...</th>\n      <td>...</td>\n      <td>...</td>\n    </tr>\n    <tr>\n      <th>53761</th>\n      <td>ארבינקא (1967)</td>\n      <td>[comedy|crime|romance]</td>\n    </tr>\n    <tr>\n      <th>53762</th>\n      <td>…And the Fifth Horseman Is Fear (1965)</td>\n      <td>[drama|war]</td>\n    </tr>\n    <tr>\n      <th>53763</th>\n      <td>キサラギ (2007)</td>\n      <td>[comedy|mystery]</td>\n    </tr>\n    <tr>\n      <th>53764</th>\n      <td>チェブラーシカ (2010)</td>\n      <td>[animation|children]</td>\n    </tr>\n    <tr>\n      <th>53765</th>\n      <td>貞子3D (2012)</td>\n      <td>[horror]</td>\n    </tr>\n  </tbody>\n</table>\n<p>53766 rows × 2 columns</p>\n</div>"
     },
     "execution_count": 24,
     "metadata": {},
     "output_type": "execute_result"
    }
   ],
   "source": [
    "movies_grouped_by_title_df"
   ],
   "metadata": {
    "collapsed": false,
    "pycharm": {
     "name": "#%%\n"
    }
   }
  },
  {
   "cell_type": "code",
   "execution_count": 25,
   "outputs": [
    {
     "data": {
      "text/plain": "               title                                             genres\n2023  Aladdin (1992)  [adventure|animation|children|comedy|musical, ...",
      "text/html": "<div>\n<style scoped>\n    .dataframe tbody tr th:only-of-type {\n        vertical-align: middle;\n    }\n\n    .dataframe tbody tr th {\n        vertical-align: top;\n    }\n\n    .dataframe thead th {\n        text-align: right;\n    }\n</style>\n<table border=\"1\" class=\"dataframe\">\n  <thead>\n    <tr style=\"text-align: right;\">\n      <th></th>\n      <th>title</th>\n      <th>genres</th>\n    </tr>\n  </thead>\n  <tbody>\n    <tr>\n      <th>2023</th>\n      <td>Aladdin (1992)</td>\n      <td>[adventure|animation|children|comedy|musical, ...</td>\n    </tr>\n  </tbody>\n</table>\n</div>"
     },
     "execution_count": 25,
     "metadata": {},
     "output_type": "execute_result"
    }
   ],
   "source": [
    "get_aladdin_example(movies_grouped_by_title_df)"
   ],
   "metadata": {
    "collapsed": false,
    "pycharm": {
     "name": "#%%\n"
    }
   }
  },
  {
   "cell_type": "markdown",
   "source": [
    "Clean up the genres lists."
   ],
   "metadata": {
    "collapsed": false
   }
  },
  {
   "cell_type": "code",
   "execution_count": 26,
   "outputs": [],
   "source": [
    "from analysis.utils.cleaning import combine_genres_list\n",
    "\n",
    "movies_unique_genres_df = movies_grouped_by_title_df.copy()\n",
    "movies_unique_genres_df['genres'] = movies_unique_genres_df['genres'].apply(combine_genres_list)"
   ],
   "metadata": {
    "collapsed": false,
    "pycharm": {
     "name": "#%%\n"
    }
   }
  },
  {
   "cell_type": "code",
   "execution_count": 27,
   "outputs": [
    {
     "data": {
      "text/plain": "                                                   title  \\\n25770                                    Level Up (2016)   \n38003  Second Wind (Le deuxième souffle) (Second Brea...   \n14265                                        Emma (1932)   \n31330                             No Down Payment (1957)   \n33407                                     Peacock (2010)   \n7678             Burn Notice: The Fall of Sam Axe (2011)   \n46016                            The Music Lovers (1970)   \n19688                               Helen of Troy (1956)   \n383                                24: Redemption (2008)   \n17488                           Germany in Autumn (1978)   \n24928                          Lady Vanishes, The (1938)   \n23505                     Jumpin' at the Boneyard (1991)   \n20019                                   Hideaways (2011)   \n2355                             All the Way Home (1981)   \n46977                     The Siege of Jadotville (2016)   \n47018                  The Six Million Dollar Man (1973)   \n6700                                Bombay Talkie (1970)   \n46391                            The Pirate Fairy (2014)   \n34622                              Price of Glory (2000)   \n23865                             Keep the Change (2017)   \n\n                                            genres  \n25770                                   {thriller}  \n38003                    {film-noir, crime, drama}  \n14265                     {romance, drama, comedy}  \n31330                                      {drama}  \n33407                                   {thriller}  \n7678                       {crime, drama, mystery}  \n46016                                      {drama}  \n19688     {war, romance, action, drama, adventure}  \n383    {action, drama, thriller, crime, adventure}  \n17488                         {documentary, drama}  \n24928                   {thriller, drama, mystery}  \n23505                                      {drama}  \n20019                                    {fantasy}  \n2355                                       {drama}  \n46977                            {thriller, drama}  \n47018                          {adventure, sci-fi}  \n6700                     {musical, romance, drama}  \n46391               {children, fantasy, animation}  \n34622                                      {drama}  \n23865                                     {comedy}  ",
      "text/html": "<div>\n<style scoped>\n    .dataframe tbody tr th:only-of-type {\n        vertical-align: middle;\n    }\n\n    .dataframe tbody tr th {\n        vertical-align: top;\n    }\n\n    .dataframe thead th {\n        text-align: right;\n    }\n</style>\n<table border=\"1\" class=\"dataframe\">\n  <thead>\n    <tr style=\"text-align: right;\">\n      <th></th>\n      <th>title</th>\n      <th>genres</th>\n    </tr>\n  </thead>\n  <tbody>\n    <tr>\n      <th>25770</th>\n      <td>Level Up (2016)</td>\n      <td>{thriller}</td>\n    </tr>\n    <tr>\n      <th>38003</th>\n      <td>Second Wind (Le deuxième souffle) (Second Brea...</td>\n      <td>{film-noir, crime, drama}</td>\n    </tr>\n    <tr>\n      <th>14265</th>\n      <td>Emma (1932)</td>\n      <td>{romance, drama, comedy}</td>\n    </tr>\n    <tr>\n      <th>31330</th>\n      <td>No Down Payment (1957)</td>\n      <td>{drama}</td>\n    </tr>\n    <tr>\n      <th>33407</th>\n      <td>Peacock (2010)</td>\n      <td>{thriller}</td>\n    </tr>\n    <tr>\n      <th>7678</th>\n      <td>Burn Notice: The Fall of Sam Axe (2011)</td>\n      <td>{crime, drama, mystery}</td>\n    </tr>\n    <tr>\n      <th>46016</th>\n      <td>The Music Lovers (1970)</td>\n      <td>{drama}</td>\n    </tr>\n    <tr>\n      <th>19688</th>\n      <td>Helen of Troy (1956)</td>\n      <td>{war, romance, action, drama, adventure}</td>\n    </tr>\n    <tr>\n      <th>383</th>\n      <td>24: Redemption (2008)</td>\n      <td>{action, drama, thriller, crime, adventure}</td>\n    </tr>\n    <tr>\n      <th>17488</th>\n      <td>Germany in Autumn (1978)</td>\n      <td>{documentary, drama}</td>\n    </tr>\n    <tr>\n      <th>24928</th>\n      <td>Lady Vanishes, The (1938)</td>\n      <td>{thriller, drama, mystery}</td>\n    </tr>\n    <tr>\n      <th>23505</th>\n      <td>Jumpin' at the Boneyard (1991)</td>\n      <td>{drama}</td>\n    </tr>\n    <tr>\n      <th>20019</th>\n      <td>Hideaways (2011)</td>\n      <td>{fantasy}</td>\n    </tr>\n    <tr>\n      <th>2355</th>\n      <td>All the Way Home (1981)</td>\n      <td>{drama}</td>\n    </tr>\n    <tr>\n      <th>46977</th>\n      <td>The Siege of Jadotville (2016)</td>\n      <td>{thriller, drama}</td>\n    </tr>\n    <tr>\n      <th>47018</th>\n      <td>The Six Million Dollar Man (1973)</td>\n      <td>{adventure, sci-fi}</td>\n    </tr>\n    <tr>\n      <th>6700</th>\n      <td>Bombay Talkie (1970)</td>\n      <td>{musical, romance, drama}</td>\n    </tr>\n    <tr>\n      <th>46391</th>\n      <td>The Pirate Fairy (2014)</td>\n      <td>{children, fantasy, animation}</td>\n    </tr>\n    <tr>\n      <th>34622</th>\n      <td>Price of Glory (2000)</td>\n      <td>{drama}</td>\n    </tr>\n    <tr>\n      <th>23865</th>\n      <td>Keep the Change (2017)</td>\n      <td>{comedy}</td>\n    </tr>\n  </tbody>\n</table>\n</div>"
     },
     "execution_count": 27,
     "metadata": {},
     "output_type": "execute_result"
    }
   ],
   "source": [
    "movies_unique_genres_df.sample(20)"
   ],
   "metadata": {
    "collapsed": false,
    "pycharm": {
     "name": "#%%\n"
    }
   }
  },
  {
   "cell_type": "code",
   "execution_count": 29,
   "outputs": [
    {
     "data": {
      "text/plain": "               title                                             genres\n2023  Aladdin (1992)  {children, musical, comedy, animation, adventu...",
      "text/html": "<div>\n<style scoped>\n    .dataframe tbody tr th:only-of-type {\n        vertical-align: middle;\n    }\n\n    .dataframe tbody tr th {\n        vertical-align: top;\n    }\n\n    .dataframe thead th {\n        text-align: right;\n    }\n</style>\n<table border=\"1\" class=\"dataframe\">\n  <thead>\n    <tr style=\"text-align: right;\">\n      <th></th>\n      <th>title</th>\n      <th>genres</th>\n    </tr>\n  </thead>\n  <tbody>\n    <tr>\n      <th>2023</th>\n      <td>Aladdin (1992)</td>\n      <td>{children, musical, comedy, animation, adventu...</td>\n    </tr>\n  </tbody>\n</table>\n</div>"
     },
     "execution_count": 29,
     "metadata": {},
     "output_type": "execute_result"
    }
   ],
   "source": [
    "get_aladdin_example(movies_unique_genres_df)"
   ],
   "metadata": {
    "collapsed": false,
    "pycharm": {
     "name": "#%%\n"
    }
   }
  },
  {
   "cell_type": "markdown",
   "source": [
    "Let's think about our recommendation engine now again.  Let's say that we want to recommend movies to by recommending the movies with the most similar genres list."
   ],
   "metadata": {
    "collapsed": false
   }
  },
  {
   "cell_type": "markdown",
   "source": [
    "In order to to use TF IDF we need a list of all the \"words\" (genres) used in our corpus.  This is easy for us to do.  We can make a list of all the genres by:\n",
    "1. Creating a column with a list of genres\n",
    "2. Grouping by the genre\n",
    "3. Aggregating the results\n",
    "4. Transforming the resulting series into a list of genres"
   ],
   "metadata": {
    "collapsed": false
   }
  },
  {
   "cell_type": "markdown",
   "source": [
    "Collect Unique List of Genres"
   ],
   "metadata": {
    "collapsed": false
   }
  },
  {
   "cell_type": "code",
   "execution_count": 34,
   "outputs": [],
   "source": [
    "for_genres_list_df = movies_unique_genres_df.copy()\n",
    "for_genres_list_df = for_genres_list_df['genres'].explode().reset_index()"
   ],
   "metadata": {
    "collapsed": false,
    "pycharm": {
     "name": "#%%\n"
    }
   }
  },
  {
   "cell_type": "code",
   "execution_count": 35,
   "outputs": [
    {
     "data": {
      "text/plain": "array(['musical', 'drama', 'comedy', 'horror', 'thriller', 'mystery',\n       'documentary', 'crime', 'western', 'animation', 'war', 'action',\n       'adventure', 'fantasy', 'romance', 'children', 'sci-fi',\n       'film-noir', 'imax'], dtype=object)"
     },
     "execution_count": 35,
     "metadata": {},
     "output_type": "execute_result"
    }
   ],
   "source": [
    "for_genres_list_df.genres.unique()"
   ],
   "metadata": {
    "collapsed": false,
    "pycharm": {
     "name": "#%%\n"
    }
   }
  },
  {
   "cell_type": "code",
   "execution_count": 36,
   "outputs": [],
   "source": [
    "all_genres = list(for_genres_list_df.genres.unique())"
   ],
   "metadata": {
    "collapsed": false,
    "pycharm": {
     "name": "#%%\n"
    }
   }
  },
  {
   "cell_type": "code",
   "execution_count": 37,
   "outputs": [
    {
     "data": {
      "text/plain": "19"
     },
     "execution_count": 37,
     "metadata": {},
     "output_type": "execute_result"
    }
   ],
   "source": [
    "len(all_genres)"
   ],
   "metadata": {
    "collapsed": false,
    "pycharm": {
     "name": "#%%\n"
    }
   }
  },
  {
   "cell_type": "markdown",
   "source": [
    "Let's turn our genres column into a space separated list of genres (as if they were words in a document)"
   ],
   "metadata": {
    "collapsed": false
   }
  },
  {
   "cell_type": "code",
   "execution_count": 38,
   "outputs": [],
   "source": [
    "movies_with_document_description_df = movies_unique_genres_df.copy()\n",
    "movies_with_document_description_df['genres'] = movies_with_document_description_df['genres'].apply(lambda x: ' '.join(x))"
   ],
   "metadata": {
    "collapsed": false,
    "pycharm": {
     "name": "#%%\n"
    }
   }
  },
  {
   "cell_type": "code",
   "execution_count": 39,
   "outputs": [
    {
     "data": {
      "text/plain": "                                        title                         genres\n0            \"Great Performances\" Cats (1998)                        musical\n1                  #1 Cheerleader Camp (2010)                   drama comedy\n2                            #Captured (2017)                         horror\n3                              #Horror (2015)  horror thriller drama mystery\n4                           #SCREAMERS (2016)                         horror\n...                                       ...                            ...\n53761                          ארבינקא (1967)           romance crime comedy\n53762  …And the Fifth Horseman Is Fear (1965)                      war drama\n53763                             キサラギ (2007)                 mystery comedy\n53764                          チェブラーシカ (2010)             children animation\n53765                             貞子3D (2012)                         horror\n\n[53766 rows x 2 columns]",
      "text/html": "<div>\n<style scoped>\n    .dataframe tbody tr th:only-of-type {\n        vertical-align: middle;\n    }\n\n    .dataframe tbody tr th {\n        vertical-align: top;\n    }\n\n    .dataframe thead th {\n        text-align: right;\n    }\n</style>\n<table border=\"1\" class=\"dataframe\">\n  <thead>\n    <tr style=\"text-align: right;\">\n      <th></th>\n      <th>title</th>\n      <th>genres</th>\n    </tr>\n  </thead>\n  <tbody>\n    <tr>\n      <th>0</th>\n      <td>\"Great Performances\" Cats (1998)</td>\n      <td>musical</td>\n    </tr>\n    <tr>\n      <th>1</th>\n      <td>#1 Cheerleader Camp (2010)</td>\n      <td>drama comedy</td>\n    </tr>\n    <tr>\n      <th>2</th>\n      <td>#Captured (2017)</td>\n      <td>horror</td>\n    </tr>\n    <tr>\n      <th>3</th>\n      <td>#Horror (2015)</td>\n      <td>horror thriller drama mystery</td>\n    </tr>\n    <tr>\n      <th>4</th>\n      <td>#SCREAMERS (2016)</td>\n      <td>horror</td>\n    </tr>\n    <tr>\n      <th>...</th>\n      <td>...</td>\n      <td>...</td>\n    </tr>\n    <tr>\n      <th>53761</th>\n      <td>ארבינקא (1967)</td>\n      <td>romance crime comedy</td>\n    </tr>\n    <tr>\n      <th>53762</th>\n      <td>…And the Fifth Horseman Is Fear (1965)</td>\n      <td>war drama</td>\n    </tr>\n    <tr>\n      <th>53763</th>\n      <td>キサラギ (2007)</td>\n      <td>mystery comedy</td>\n    </tr>\n    <tr>\n      <th>53764</th>\n      <td>チェブラーシカ (2010)</td>\n      <td>children animation</td>\n    </tr>\n    <tr>\n      <th>53765</th>\n      <td>貞子3D (2012)</td>\n      <td>horror</td>\n    </tr>\n  </tbody>\n</table>\n<p>53766 rows × 2 columns</p>\n</div>"
     },
     "execution_count": 39,
     "metadata": {},
     "output_type": "execute_result"
    }
   ],
   "source": [
    "movies_with_document_description_df"
   ],
   "metadata": {
    "collapsed": false,
    "pycharm": {
     "name": "#%%\n"
    }
   }
  },
  {
   "cell_type": "code",
   "execution_count": 40,
   "outputs": [
    {
     "data": {
      "text/plain": "               title                                             genres\n2023  Aladdin (1992)  children musical comedy animation adventure fa...",
      "text/html": "<div>\n<style scoped>\n    .dataframe tbody tr th:only-of-type {\n        vertical-align: middle;\n    }\n\n    .dataframe tbody tr th {\n        vertical-align: top;\n    }\n\n    .dataframe thead th {\n        text-align: right;\n    }\n</style>\n<table border=\"1\" class=\"dataframe\">\n  <thead>\n    <tr style=\"text-align: right;\">\n      <th></th>\n      <th>title</th>\n      <th>genres</th>\n    </tr>\n  </thead>\n  <tbody>\n    <tr>\n      <th>2023</th>\n      <td>Aladdin (1992)</td>\n      <td>children musical comedy animation adventure fa...</td>\n    </tr>\n  </tbody>\n</table>\n</div>"
     },
     "execution_count": 40,
     "metadata": {},
     "output_type": "execute_result"
    }
   ],
   "source": [
    "get_aladdin_example(movies_with_document_description_df)"
   ],
   "metadata": {
    "collapsed": false,
    "pycharm": {
     "name": "#%%\n"
    }
   }
  },
  {
   "cell_type": "code",
   "execution_count": 41,
   "outputs": [],
   "source": [
    "from sklearn.feature_extraction.text import TfidfVectorizer\n",
    "tf = TfidfVectorizer(vocabulary=all_genres)\n",
    "tfidf_matrix = tf.fit_transform(movies_with_document_description_df['genres'])"
   ],
   "metadata": {
    "collapsed": false,
    "pycharm": {
     "name": "#%%\n"
    }
   }
  },
  {
   "cell_type": "raw",
   "source": [
    "To see what our matrix looks like we can do the following:\n",
    "- What you see below is a data frame representation of the tfidf_matrix.  What the matrix really is though, is each row (every movie) has a vector representation of it's genres. So movies 0 - \"Great Performances\" Cats, has a vector representation of it's genres that looks like [1, 0, 0, ...0]\n",
    "- Each movie has one of these and we can now mathematically compare the vector representing movie 0 to movies 1, 2, 3, ... 53k\n",
    "- We can do this for each movie\n",
    "- We will compare using cosine similarity"
   ],
   "metadata": {
    "collapsed": false,
    "pycharm": {
     "name": "#%% raw\n"
    }
   }
  },
  {
   "cell_type": "code",
   "execution_count": 42,
   "outputs": [
    {
     "data": {
      "text/plain": "        0         1         2         3         4         5    6         7   \\\n0      1.0  0.000000  0.000000  0.000000  0.000000  0.000000  0.0  0.000000   \n1      0.0  0.630926  0.775843  0.000000  0.000000  0.000000  0.0  0.000000   \n2      0.0  0.000000  0.000000  1.000000  0.000000  0.000000  0.0  0.000000   \n3      0.0  0.292446  0.000000  0.530876  0.467441  0.643541  0.0  0.000000   \n4      0.0  0.000000  0.000000  1.000000  0.000000  0.000000  0.0  0.000000   \n...    ...       ...       ...       ...       ...       ...  ...       ...   \n53761  0.0  0.000000  0.442574  0.000000  0.000000  0.000000  0.0  0.670223   \n53762  0.0  0.379998  0.000000  0.000000  0.000000  0.000000  0.0  0.000000   \n53763  0.0  0.000000  0.487812  0.000000  0.000000  0.872949  0.0  0.000000   \n53764  0.0  0.000000  0.000000  0.000000  0.000000  0.000000  0.0  0.000000   \n53765  0.0  0.000000  0.000000  1.000000  0.000000  0.000000  0.0  0.000000   \n\n        8         9         10   11   12   13        14        15   16   17  \\\n0      0.0  0.000000  0.000000  0.0  0.0  0.0  0.000000  0.000000  0.0  0.0   \n1      0.0  0.000000  0.000000  0.0  0.0  0.0  0.000000  0.000000  0.0  0.0   \n2      0.0  0.000000  0.000000  0.0  0.0  0.0  0.000000  0.000000  0.0  0.0   \n3      0.0  0.000000  0.000000  0.0  0.0  0.0  0.000000  0.000000  0.0  0.0   \n4      0.0  0.000000  0.000000  0.0  0.0  0.0  0.000000  0.000000  0.0  0.0   \n...    ...       ...       ...  ...  ...  ...       ...       ...  ...  ...   \n53761  0.0  0.000000  0.000000  0.0  0.0  0.0  0.595759  0.000000  0.0  0.0   \n53762  0.0  0.000000  0.924987  0.0  0.0  0.0  0.000000  0.000000  0.0  0.0   \n53763  0.0  0.000000  0.000000  0.0  0.0  0.0  0.000000  0.000000  0.0  0.0   \n53764  0.0  0.709951  0.000000  0.0  0.0  0.0  0.000000  0.704251  0.0  0.0   \n53765  0.0  0.000000  0.000000  0.0  0.0  0.0  0.000000  0.000000  0.0  0.0   \n\n        18  \n0      0.0  \n1      0.0  \n2      0.0  \n3      0.0  \n4      0.0  \n...    ...  \n53761  0.0  \n53762  0.0  \n53763  0.0  \n53764  0.0  \n53765  0.0  \n\n[53766 rows x 19 columns]",
      "text/html": "<div>\n<style scoped>\n    .dataframe tbody tr th:only-of-type {\n        vertical-align: middle;\n    }\n\n    .dataframe tbody tr th {\n        vertical-align: top;\n    }\n\n    .dataframe thead th {\n        text-align: right;\n    }\n</style>\n<table border=\"1\" class=\"dataframe\">\n  <thead>\n    <tr style=\"text-align: right;\">\n      <th></th>\n      <th>0</th>\n      <th>1</th>\n      <th>2</th>\n      <th>3</th>\n      <th>4</th>\n      <th>5</th>\n      <th>6</th>\n      <th>7</th>\n      <th>8</th>\n      <th>9</th>\n      <th>10</th>\n      <th>11</th>\n      <th>12</th>\n      <th>13</th>\n      <th>14</th>\n      <th>15</th>\n      <th>16</th>\n      <th>17</th>\n      <th>18</th>\n    </tr>\n  </thead>\n  <tbody>\n    <tr>\n      <th>0</th>\n      <td>1.0</td>\n      <td>0.000000</td>\n      <td>0.000000</td>\n      <td>0.000000</td>\n      <td>0.000000</td>\n      <td>0.000000</td>\n      <td>0.0</td>\n      <td>0.000000</td>\n      <td>0.0</td>\n      <td>0.000000</td>\n      <td>0.000000</td>\n      <td>0.0</td>\n      <td>0.0</td>\n      <td>0.0</td>\n      <td>0.000000</td>\n      <td>0.000000</td>\n      <td>0.0</td>\n      <td>0.0</td>\n      <td>0.0</td>\n    </tr>\n    <tr>\n      <th>1</th>\n      <td>0.0</td>\n      <td>0.630926</td>\n      <td>0.775843</td>\n      <td>0.000000</td>\n      <td>0.000000</td>\n      <td>0.000000</td>\n      <td>0.0</td>\n      <td>0.000000</td>\n      <td>0.0</td>\n      <td>0.000000</td>\n      <td>0.000000</td>\n      <td>0.0</td>\n      <td>0.0</td>\n      <td>0.0</td>\n      <td>0.000000</td>\n      <td>0.000000</td>\n      <td>0.0</td>\n      <td>0.0</td>\n      <td>0.0</td>\n    </tr>\n    <tr>\n      <th>2</th>\n      <td>0.0</td>\n      <td>0.000000</td>\n      <td>0.000000</td>\n      <td>1.000000</td>\n      <td>0.000000</td>\n      <td>0.000000</td>\n      <td>0.0</td>\n      <td>0.000000</td>\n      <td>0.0</td>\n      <td>0.000000</td>\n      <td>0.000000</td>\n      <td>0.0</td>\n      <td>0.0</td>\n      <td>0.0</td>\n      <td>0.000000</td>\n      <td>0.000000</td>\n      <td>0.0</td>\n      <td>0.0</td>\n      <td>0.0</td>\n    </tr>\n    <tr>\n      <th>3</th>\n      <td>0.0</td>\n      <td>0.292446</td>\n      <td>0.000000</td>\n      <td>0.530876</td>\n      <td>0.467441</td>\n      <td>0.643541</td>\n      <td>0.0</td>\n      <td>0.000000</td>\n      <td>0.0</td>\n      <td>0.000000</td>\n      <td>0.000000</td>\n      <td>0.0</td>\n      <td>0.0</td>\n      <td>0.0</td>\n      <td>0.000000</td>\n      <td>0.000000</td>\n      <td>0.0</td>\n      <td>0.0</td>\n      <td>0.0</td>\n    </tr>\n    <tr>\n      <th>4</th>\n      <td>0.0</td>\n      <td>0.000000</td>\n      <td>0.000000</td>\n      <td>1.000000</td>\n      <td>0.000000</td>\n      <td>0.000000</td>\n      <td>0.0</td>\n      <td>0.000000</td>\n      <td>0.0</td>\n      <td>0.000000</td>\n      <td>0.000000</td>\n      <td>0.0</td>\n      <td>0.0</td>\n      <td>0.0</td>\n      <td>0.000000</td>\n      <td>0.000000</td>\n      <td>0.0</td>\n      <td>0.0</td>\n      <td>0.0</td>\n    </tr>\n    <tr>\n      <th>...</th>\n      <td>...</td>\n      <td>...</td>\n      <td>...</td>\n      <td>...</td>\n      <td>...</td>\n      <td>...</td>\n      <td>...</td>\n      <td>...</td>\n      <td>...</td>\n      <td>...</td>\n      <td>...</td>\n      <td>...</td>\n      <td>...</td>\n      <td>...</td>\n      <td>...</td>\n      <td>...</td>\n      <td>...</td>\n      <td>...</td>\n      <td>...</td>\n    </tr>\n    <tr>\n      <th>53761</th>\n      <td>0.0</td>\n      <td>0.000000</td>\n      <td>0.442574</td>\n      <td>0.000000</td>\n      <td>0.000000</td>\n      <td>0.000000</td>\n      <td>0.0</td>\n      <td>0.670223</td>\n      <td>0.0</td>\n      <td>0.000000</td>\n      <td>0.000000</td>\n      <td>0.0</td>\n      <td>0.0</td>\n      <td>0.0</td>\n      <td>0.595759</td>\n      <td>0.000000</td>\n      <td>0.0</td>\n      <td>0.0</td>\n      <td>0.0</td>\n    </tr>\n    <tr>\n      <th>53762</th>\n      <td>0.0</td>\n      <td>0.379998</td>\n      <td>0.000000</td>\n      <td>0.000000</td>\n      <td>0.000000</td>\n      <td>0.000000</td>\n      <td>0.0</td>\n      <td>0.000000</td>\n      <td>0.0</td>\n      <td>0.000000</td>\n      <td>0.924987</td>\n      <td>0.0</td>\n      <td>0.0</td>\n      <td>0.0</td>\n      <td>0.000000</td>\n      <td>0.000000</td>\n      <td>0.0</td>\n      <td>0.0</td>\n      <td>0.0</td>\n    </tr>\n    <tr>\n      <th>53763</th>\n      <td>0.0</td>\n      <td>0.000000</td>\n      <td>0.487812</td>\n      <td>0.000000</td>\n      <td>0.000000</td>\n      <td>0.872949</td>\n      <td>0.0</td>\n      <td>0.000000</td>\n      <td>0.0</td>\n      <td>0.000000</td>\n      <td>0.000000</td>\n      <td>0.0</td>\n      <td>0.0</td>\n      <td>0.0</td>\n      <td>0.000000</td>\n      <td>0.000000</td>\n      <td>0.0</td>\n      <td>0.0</td>\n      <td>0.0</td>\n    </tr>\n    <tr>\n      <th>53764</th>\n      <td>0.0</td>\n      <td>0.000000</td>\n      <td>0.000000</td>\n      <td>0.000000</td>\n      <td>0.000000</td>\n      <td>0.000000</td>\n      <td>0.0</td>\n      <td>0.000000</td>\n      <td>0.0</td>\n      <td>0.709951</td>\n      <td>0.000000</td>\n      <td>0.0</td>\n      <td>0.0</td>\n      <td>0.0</td>\n      <td>0.000000</td>\n      <td>0.704251</td>\n      <td>0.0</td>\n      <td>0.0</td>\n      <td>0.0</td>\n    </tr>\n    <tr>\n      <th>53765</th>\n      <td>0.0</td>\n      <td>0.000000</td>\n      <td>0.000000</td>\n      <td>1.000000</td>\n      <td>0.000000</td>\n      <td>0.000000</td>\n      <td>0.0</td>\n      <td>0.000000</td>\n      <td>0.0</td>\n      <td>0.000000</td>\n      <td>0.000000</td>\n      <td>0.0</td>\n      <td>0.0</td>\n      <td>0.0</td>\n      <td>0.000000</td>\n      <td>0.000000</td>\n      <td>0.0</td>\n      <td>0.0</td>\n      <td>0.0</td>\n    </tr>\n  </tbody>\n</table>\n<p>53766 rows × 19 columns</p>\n</div>"
     },
     "execution_count": 42,
     "metadata": {},
     "output_type": "execute_result"
    }
   ],
   "source": [
    "pd.DataFrame(tfidf_matrix.toarray())"
   ],
   "metadata": {
    "collapsed": false,
    "pycharm": {
     "name": "#%%\n"
    }
   }
  },
  {
   "cell_type": "markdown",
   "source": [
    "Now let's calculate the dot product of the tfidf_martix with itself in order to get a cosine similarity matrix."
   ],
   "metadata": {
    "collapsed": false
   }
  },
  {
   "cell_type": "code",
   "execution_count": 43,
   "outputs": [],
   "source": [
    "from sklearn.metrics.pairwise import cosine_similarity\n",
    "\n",
    "cosine_sim = cosine_similarity(tfidf_matrix, tfidf_matrix)"
   ],
   "metadata": {
    "collapsed": false,
    "pycharm": {
     "name": "#%%\n"
    }
   }
  },
  {
   "cell_type": "markdown",
   "source": [
    " What do we expect the dimensions of this matrix to be?"
   ],
   "metadata": {
    "collapsed": false
   }
  },
  {
   "cell_type": "code",
   "execution_count": 44,
   "outputs": [
    {
     "data": {
      "text/plain": "array([[1.        , 0.        , 0.        , ..., 0.        , 0.        ,\n        0.        ],\n       [0.        , 1.        , 0.        , ..., 0.37846524, 0.        ,\n        0.        ],\n       [0.        , 0.        , 1.        , ..., 0.        , 0.        ,\n        1.        ],\n       ...,\n       [0.        , 0.37846524, 0.        , ..., 1.        , 0.        ,\n        0.        ],\n       [0.        , 0.        , 0.        , ..., 0.        , 1.        ,\n        0.        ],\n       [0.        , 0.        , 1.        , ..., 0.        , 0.        ,\n        1.        ]])"
     },
     "execution_count": 44,
     "metadata": {},
     "output_type": "execute_result"
    }
   ],
   "source": [
    "cosine_sim"
   ],
   "metadata": {
    "collapsed": false,
    "pycharm": {
     "name": "#%%\n"
    }
   }
  },
  {
   "cell_type": "markdown",
   "source": [
    "Notice that this matrix also has 1's along the diagonals. Why is that?"
   ],
   "metadata": {
    "collapsed": false
   }
  },
  {
   "cell_type": "code",
   "execution_count": 45,
   "outputs": [
    {
     "data": {
      "text/plain": "(53766, 53766)"
     },
     "execution_count": 45,
     "metadata": {},
     "output_type": "execute_result"
    }
   ],
   "source": [
    "cosine_sim.shape"
   ],
   "metadata": {
    "collapsed": false,
    "pycharm": {
     "name": "#%%\n"
    }
   }
  },
  {
   "cell_type": "markdown",
   "source": [
    "The next part you can Test Drive because now we'll add logic to grab the top 30 movie titles by index\n",
    "\n",
    "We can build this in a separate module and import it here to see some results"
   ],
   "metadata": {
    "collapsed": false
   }
  },
  {
   "cell_type": "code",
   "execution_count": 46,
   "outputs": [
    {
     "data": {
      "text/plain": "['Antz (1998)',\n 'Asterix and the Vikings (Astérix et les Vikings) (2006)',\n 'Boxtrolls, The (2014)',\n 'Brother Bear 2 (2006)',\n 'DuckTales: The Movie - Treasure of the Lost Lamp (1990)',\n \"Emperor's New Groove, The (2000)\",\n 'Home (2015)',\n 'Moana (2016)',\n 'Monsters, Inc. (2001)',\n \"Olaf's Frozen Adventure (2017)\",\n 'Penguin Highway (2018)',\n 'Puss in Book: Trapped in an Epic Tale (2017)',\n 'Scooby-Doo! Mask of the Blue Falcon (2012)',\n 'Shrek the Third (2007)',\n 'Space Jam (1996)',\n 'Tale of Despereaux, The (2008)',\n 'Tangled: Before Ever After (2017)',\n 'The Croods 2 (2017)',\n 'The Dragon Spell (2016)',\n 'The Good Dinosaur (2015)',\n 'The Magic Crystal (2011)',\n 'Toy Story (1995)',\n 'Toy Story 2 (1999)',\n 'Toy Story Toons: Hawaiian Vacation (2011)',\n 'Toy Story Toons: Small Fry (2011)',\n 'Trolls Holiday (2017)',\n 'Turbo (2013)',\n 'Wild, The (2006)',\n 'Inside Out (2015)',\n 'Pokémon the Movie: I Choose You! (2017)']"
     },
     "execution_count": 46,
     "metadata": {},
     "output_type": "execute_result"
    }
   ],
   "source": [
    "from analysis.utils.recommendation import get_similar_movies\n",
    "\n",
    "similar_movies = get_similar_movies('Toy Story (1995)', cosine_sim, movies_with_document_description_df, 30)\n",
    "similar_movies"
   ],
   "metadata": {
    "collapsed": false,
    "pycharm": {
     "name": "#%%\n"
    }
   }
  },
  {
   "cell_type": "markdown",
   "source": [
    "THAT'S IT! :)"
   ],
   "metadata": {
    "collapsed": false,
    "pycharm": {
     "name": "#%% md\n"
    }
   }
  }
 ],
 "metadata": {
  "kernelspec": {
   "display_name": "Python 3",
   "language": "python",
   "name": "python3"
  },
  "language_info": {
   "codemirror_mode": {
    "name": "ipython",
    "version": 2
   },
   "file_extension": ".py",
   "mimetype": "text/x-python",
   "name": "python",
   "nbconvert_exporter": "python",
   "pygments_lexer": "ipython2",
   "version": "2.7.6"
  }
 },
 "nbformat": 4,
 "nbformat_minor": 0
}
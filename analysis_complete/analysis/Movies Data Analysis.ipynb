{
 "cells": [
  {
   "cell_type": "code",
   "execution_count": 3,
   "metadata": {
    "collapsed": true
   },
   "outputs": [],
   "source": [
    "import pandas as pd\n",
    "from typing import List\n",
    "\n",
    "from analysis.utils.cleaning import lower_case_and_strip_spaces"
   ]
  },
  {
   "cell_type": "markdown",
   "source": [
    "### Reading the Data and Initial Stats"
   ],
   "metadata": {
    "collapsed": false
   }
  },
  {
   "cell_type": "code",
   "execution_count": 4,
   "outputs": [
    {
     "data": {
      "text/plain": "       movieId                                      title  \\\n54917   186219            The Phantom of the Opera (1962)   \n27573   122942                       The Identical (2014)   \n57252   191741                      Golden Slumber (2010)   \n22237   106032                      Chastity Bites (2013)   \n23660   110750                  Heaven Is for Real (2014)   \n25966   118330                               Blood (2012)   \n13429    65909                               Maria (2003)   \n27845   123559                            Spitfire (1995)   \n35615   142663                    Babes in Toyland (1997)   \n56822   190539  Odnoklassniki.ru: The Magic Laptop (2013)   \n28058   124059            Octopus 2: River of Fear (2001)   \n51972   179749                             Creep 2 (2017)   \n27677   123174                        The Facility (2012)   \n50475   176409                            Sensoria (2015)   \n22523   107011    Música Campesina (Country Music) (2011)   \n19046    94068                  Goodbye First Love (2011)   \n20590   100169                     After Porn Ends (2010)   \n3829      3921                         Beach Party (1963)   \n28067   124081            Return of the Gunfighter (1967)   \n36918   145720                        Batton Story (1976)   \n\n                                       genres  \n54917                   Drama|horror|MYSTERY   \n27573                                  Drama   \n57252   Action|comedy|DRAMA|mystery|Thriller   \n22237                          Comedy|horror   \n23660                                  Drama   \n25966                   Crime|drama|THRILLER   \n13429                                  Drama   \n27845                     (no genres listed)   \n35615                     Animation|children   \n56822                         Comedy|romance   \n28058                                 Horror   \n51972                          Comedy|horror   \n27677                          Horror|sci-fi   \n50475                  Drama|horror|THRILLER   \n22523                           Comedy|drama   \n19046                          Drama|romance   \n20590                            Documentary   \n3829                                  Comedy   \n28067                                Western   \n36918                     (no genres listed)   ",
      "text/html": "<div>\n<style scoped>\n    .dataframe tbody tr th:only-of-type {\n        vertical-align: middle;\n    }\n\n    .dataframe tbody tr th {\n        vertical-align: top;\n    }\n\n    .dataframe thead th {\n        text-align: right;\n    }\n</style>\n<table border=\"1\" class=\"dataframe\">\n  <thead>\n    <tr style=\"text-align: right;\">\n      <th></th>\n      <th>movieId</th>\n      <th>title</th>\n      <th>genres</th>\n    </tr>\n  </thead>\n  <tbody>\n    <tr>\n      <th>54917</th>\n      <td>186219</td>\n      <td>The Phantom of the Opera (1962)</td>\n      <td>Drama|horror|MYSTERY</td>\n    </tr>\n    <tr>\n      <th>27573</th>\n      <td>122942</td>\n      <td>The Identical (2014)</td>\n      <td>Drama</td>\n    </tr>\n    <tr>\n      <th>57252</th>\n      <td>191741</td>\n      <td>Golden Slumber (2010)</td>\n      <td>Action|comedy|DRAMA|mystery|Thriller</td>\n    </tr>\n    <tr>\n      <th>22237</th>\n      <td>106032</td>\n      <td>Chastity Bites (2013)</td>\n      <td>Comedy|horror</td>\n    </tr>\n    <tr>\n      <th>23660</th>\n      <td>110750</td>\n      <td>Heaven Is for Real (2014)</td>\n      <td>Drama</td>\n    </tr>\n    <tr>\n      <th>25966</th>\n      <td>118330</td>\n      <td>Blood (2012)</td>\n      <td>Crime|drama|THRILLER</td>\n    </tr>\n    <tr>\n      <th>13429</th>\n      <td>65909</td>\n      <td>Maria (2003)</td>\n      <td>Drama</td>\n    </tr>\n    <tr>\n      <th>27845</th>\n      <td>123559</td>\n      <td>Spitfire (1995)</td>\n      <td>(no genres listed)</td>\n    </tr>\n    <tr>\n      <th>35615</th>\n      <td>142663</td>\n      <td>Babes in Toyland (1997)</td>\n      <td>Animation|children</td>\n    </tr>\n    <tr>\n      <th>56822</th>\n      <td>190539</td>\n      <td>Odnoklassniki.ru: The Magic Laptop (2013)</td>\n      <td>Comedy|romance</td>\n    </tr>\n    <tr>\n      <th>28058</th>\n      <td>124059</td>\n      <td>Octopus 2: River of Fear (2001)</td>\n      <td>Horror</td>\n    </tr>\n    <tr>\n      <th>51972</th>\n      <td>179749</td>\n      <td>Creep 2 (2017)</td>\n      <td>Comedy|horror</td>\n    </tr>\n    <tr>\n      <th>27677</th>\n      <td>123174</td>\n      <td>The Facility (2012)</td>\n      <td>Horror|sci-fi</td>\n    </tr>\n    <tr>\n      <th>50475</th>\n      <td>176409</td>\n      <td>Sensoria (2015)</td>\n      <td>Drama|horror|THRILLER</td>\n    </tr>\n    <tr>\n      <th>22523</th>\n      <td>107011</td>\n      <td>Música Campesina (Country Music) (2011)</td>\n      <td>Comedy|drama</td>\n    </tr>\n    <tr>\n      <th>19046</th>\n      <td>94068</td>\n      <td>Goodbye First Love (2011)</td>\n      <td>Drama|romance</td>\n    </tr>\n    <tr>\n      <th>20590</th>\n      <td>100169</td>\n      <td>After Porn Ends (2010)</td>\n      <td>Documentary</td>\n    </tr>\n    <tr>\n      <th>3829</th>\n      <td>3921</td>\n      <td>Beach Party (1963)</td>\n      <td>Comedy</td>\n    </tr>\n    <tr>\n      <th>28067</th>\n      <td>124081</td>\n      <td>Return of the Gunfighter (1967)</td>\n      <td>Western</td>\n    </tr>\n    <tr>\n      <th>36918</th>\n      <td>145720</td>\n      <td>Batton Story (1976)</td>\n      <td>(no genres listed)</td>\n    </tr>\n  </tbody>\n</table>\n</div>"
     },
     "execution_count": 4,
     "metadata": {},
     "output_type": "execute_result"
    }
   ],
   "source": [
    "movies_df: pd.DataFrame = pd.read_csv('input/all_movies.csv')\n",
    "movies_df.sample(20)"
   ],
   "metadata": {
    "collapsed": false,
    "pycharm": {
     "name": "#%%\n"
    }
   }
  },
  {
   "cell_type": "code",
   "execution_count": 5,
   "outputs": [
    {
     "data": {
      "text/plain": "       movieId                                    title  \\\n0            1                         Toy Story (1995)   \n1            2                           Jumanji (1995)   \n2            3                  Grumpier Old Men (1995)   \n3            4                 Waiting to Exhale (1995)   \n4            5       Father of the Bride Part II (1995)   \n...        ...                                      ...   \n58093   193876                  The Great Glinka (1946)   \n58094   193878  Les tribulations d'une caissière (2011)   \n58095   193880                 Her Name Was Mumu (2016)   \n58096   193882                             Flora (2017)   \n58097   193886                              Leal (2018)   \n\n                                              genres  \n0       Adventure|animation|CHILDREN|comedy|Fantasy   \n1                        Adventure|children|FANTASY   \n2                                    Comedy|romance   \n3                              Comedy|drama|ROMANCE   \n4                                            Comedy   \n...                                              ...  \n58093                            (no genres listed)   \n58094                                        Comedy   \n58095                                         Drama   \n58096                 Adventure|drama|HORROR|sci-fi   \n58097                            Action|crime|DRAMA   \n\n[58098 rows x 3 columns]",
      "text/html": "<div>\n<style scoped>\n    .dataframe tbody tr th:only-of-type {\n        vertical-align: middle;\n    }\n\n    .dataframe tbody tr th {\n        vertical-align: top;\n    }\n\n    .dataframe thead th {\n        text-align: right;\n    }\n</style>\n<table border=\"1\" class=\"dataframe\">\n  <thead>\n    <tr style=\"text-align: right;\">\n      <th></th>\n      <th>movieId</th>\n      <th>title</th>\n      <th>genres</th>\n    </tr>\n  </thead>\n  <tbody>\n    <tr>\n      <th>0</th>\n      <td>1</td>\n      <td>Toy Story (1995)</td>\n      <td>Adventure|animation|CHILDREN|comedy|Fantasy</td>\n    </tr>\n    <tr>\n      <th>1</th>\n      <td>2</td>\n      <td>Jumanji (1995)</td>\n      <td>Adventure|children|FANTASY</td>\n    </tr>\n    <tr>\n      <th>2</th>\n      <td>3</td>\n      <td>Grumpier Old Men (1995)</td>\n      <td>Comedy|romance</td>\n    </tr>\n    <tr>\n      <th>3</th>\n      <td>4</td>\n      <td>Waiting to Exhale (1995)</td>\n      <td>Comedy|drama|ROMANCE</td>\n    </tr>\n    <tr>\n      <th>4</th>\n      <td>5</td>\n      <td>Father of the Bride Part II (1995)</td>\n      <td>Comedy</td>\n    </tr>\n    <tr>\n      <th>...</th>\n      <td>...</td>\n      <td>...</td>\n      <td>...</td>\n    </tr>\n    <tr>\n      <th>58093</th>\n      <td>193876</td>\n      <td>The Great Glinka (1946)</td>\n      <td>(no genres listed)</td>\n    </tr>\n    <tr>\n      <th>58094</th>\n      <td>193878</td>\n      <td>Les tribulations d'une caissière (2011)</td>\n      <td>Comedy</td>\n    </tr>\n    <tr>\n      <th>58095</th>\n      <td>193880</td>\n      <td>Her Name Was Mumu (2016)</td>\n      <td>Drama</td>\n    </tr>\n    <tr>\n      <th>58096</th>\n      <td>193882</td>\n      <td>Flora (2017)</td>\n      <td>Adventure|drama|HORROR|sci-fi</td>\n    </tr>\n    <tr>\n      <th>58097</th>\n      <td>193886</td>\n      <td>Leal (2018)</td>\n      <td>Action|crime|DRAMA</td>\n    </tr>\n  </tbody>\n</table>\n<p>58098 rows × 3 columns</p>\n</div>"
     },
     "execution_count": 5,
     "metadata": {},
     "output_type": "execute_result"
    }
   ],
   "source": [
    "movies_df"
   ],
   "metadata": {
    "collapsed": false,
    "pycharm": {
     "name": "#%%\n"
    }
   }
  },
  {
   "cell_type": "code",
   "execution_count": 6,
   "outputs": [
    {
     "data": {
      "text/plain": "          userId  movieId  rating   timestamp\n24582124  251314    57368     3.5  1291056475\n26168009  267254      800     5.0  1083267679\n4021611    41414     2324     4.0   974698686\n26975036  275449     2111     3.0   916515465\n15864147  161996      296     5.0   843835883\n5251317    54040       72     5.0   954272955\n1758695    17980     2244     3.0  1037354046\n21210854  216701     2683     2.0  1147979998\n24151213  246915     3253     3.0  1002247212\n13558274  138555   127098     3.5  1496220691\n465748      4796     1207     4.5  1149949187\n23752334  242683     2920     5.0  1192173184\n20827895  212629     5218     4.0  1286308001\n4863130    49910      419     2.5  1371530489\n19703833  201015      661     3.0   841744569\n198268      2011     6502     3.5  1534340366\n19103146  194924     6863     2.0  1131440309\n9188618    94805       11     4.5  1501926104\n6769068    69515     7458     1.0  1462249553\n18220847  185964       45     4.0   960702105",
      "text/html": "<div>\n<style scoped>\n    .dataframe tbody tr th:only-of-type {\n        vertical-align: middle;\n    }\n\n    .dataframe tbody tr th {\n        vertical-align: top;\n    }\n\n    .dataframe thead th {\n        text-align: right;\n    }\n</style>\n<table border=\"1\" class=\"dataframe\">\n  <thead>\n    <tr style=\"text-align: right;\">\n      <th></th>\n      <th>userId</th>\n      <th>movieId</th>\n      <th>rating</th>\n      <th>timestamp</th>\n    </tr>\n  </thead>\n  <tbody>\n    <tr>\n      <th>24582124</th>\n      <td>251314</td>\n      <td>57368</td>\n      <td>3.5</td>\n      <td>1291056475</td>\n    </tr>\n    <tr>\n      <th>26168009</th>\n      <td>267254</td>\n      <td>800</td>\n      <td>5.0</td>\n      <td>1083267679</td>\n    </tr>\n    <tr>\n      <th>4021611</th>\n      <td>41414</td>\n      <td>2324</td>\n      <td>4.0</td>\n      <td>974698686</td>\n    </tr>\n    <tr>\n      <th>26975036</th>\n      <td>275449</td>\n      <td>2111</td>\n      <td>3.0</td>\n      <td>916515465</td>\n    </tr>\n    <tr>\n      <th>15864147</th>\n      <td>161996</td>\n      <td>296</td>\n      <td>5.0</td>\n      <td>843835883</td>\n    </tr>\n    <tr>\n      <th>5251317</th>\n      <td>54040</td>\n      <td>72</td>\n      <td>5.0</td>\n      <td>954272955</td>\n    </tr>\n    <tr>\n      <th>1758695</th>\n      <td>17980</td>\n      <td>2244</td>\n      <td>3.0</td>\n      <td>1037354046</td>\n    </tr>\n    <tr>\n      <th>21210854</th>\n      <td>216701</td>\n      <td>2683</td>\n      <td>2.0</td>\n      <td>1147979998</td>\n    </tr>\n    <tr>\n      <th>24151213</th>\n      <td>246915</td>\n      <td>3253</td>\n      <td>3.0</td>\n      <td>1002247212</td>\n    </tr>\n    <tr>\n      <th>13558274</th>\n      <td>138555</td>\n      <td>127098</td>\n      <td>3.5</td>\n      <td>1496220691</td>\n    </tr>\n    <tr>\n      <th>465748</th>\n      <td>4796</td>\n      <td>1207</td>\n      <td>4.5</td>\n      <td>1149949187</td>\n    </tr>\n    <tr>\n      <th>23752334</th>\n      <td>242683</td>\n      <td>2920</td>\n      <td>5.0</td>\n      <td>1192173184</td>\n    </tr>\n    <tr>\n      <th>20827895</th>\n      <td>212629</td>\n      <td>5218</td>\n      <td>4.0</td>\n      <td>1286308001</td>\n    </tr>\n    <tr>\n      <th>4863130</th>\n      <td>49910</td>\n      <td>419</td>\n      <td>2.5</td>\n      <td>1371530489</td>\n    </tr>\n    <tr>\n      <th>19703833</th>\n      <td>201015</td>\n      <td>661</td>\n      <td>3.0</td>\n      <td>841744569</td>\n    </tr>\n    <tr>\n      <th>198268</th>\n      <td>2011</td>\n      <td>6502</td>\n      <td>3.5</td>\n      <td>1534340366</td>\n    </tr>\n    <tr>\n      <th>19103146</th>\n      <td>194924</td>\n      <td>6863</td>\n      <td>2.0</td>\n      <td>1131440309</td>\n    </tr>\n    <tr>\n      <th>9188618</th>\n      <td>94805</td>\n      <td>11</td>\n      <td>4.5</td>\n      <td>1501926104</td>\n    </tr>\n    <tr>\n      <th>6769068</th>\n      <td>69515</td>\n      <td>7458</td>\n      <td>1.0</td>\n      <td>1462249553</td>\n    </tr>\n    <tr>\n      <th>18220847</th>\n      <td>185964</td>\n      <td>45</td>\n      <td>4.0</td>\n      <td>960702105</td>\n    </tr>\n  </tbody>\n</table>\n</div>"
     },
     "execution_count": 6,
     "metadata": {},
     "output_type": "execute_result"
    }
   ],
   "source": [
    "ratings_df = pd.read_csv('input/ratings.csv')\n",
    "ratings_df.sample(20)"
   ],
   "metadata": {
    "collapsed": false,
    "pycharm": {
     "name": "#%%\n"
    }
   }
  },
  {
   "cell_type": "markdown",
   "source": [
    "## Step 1: Cleaning\n",
    "You shouldn't necessarily assume that your data is good.  It could be very sparse and not have much there. There could be duplication, poorly recorded or empty values, or with large text there could be a lot of garbage in there if it was an open text field\n",
    "\n",
    "Some things we'll do here:\n",
    "1. Get the number of rows and columns by looking at the shape\n",
    "2. Determine the number of non-null rows for each given column (This would tell us if a column is especially sparse)\n",
    "3. Check for duplicate rows\n",
    "\n",
    "As we find things that need to be cleaned (bad text, duplicates etc.) we will write tested cleaning functions to cleanup our input data."
   ],
   "metadata": {
    "collapsed": false
   }
  },
  {
   "cell_type": "code",
   "execution_count": 7,
   "outputs": [
    {
     "data": {
      "text/plain": "(58098, 3)"
     },
     "execution_count": 7,
     "metadata": {},
     "output_type": "execute_result"
    }
   ],
   "source": [
    "movies_df.shape"
   ],
   "metadata": {
    "collapsed": false,
    "pycharm": {
     "name": "#%%\n"
    }
   }
  },
  {
   "cell_type": "code",
   "execution_count": 8,
   "outputs": [
    {
     "name": "stdout",
     "output_type": "stream",
     "text": [
      "<class 'pandas.core.frame.DataFrame'>\n",
      "RangeIndex: 58098 entries, 0 to 58097\n",
      "Data columns (total 3 columns):\n",
      " #   Column   Non-Null Count  Dtype \n",
      "---  ------   --------------  ----- \n",
      " 0   movieId  58098 non-null  int64 \n",
      " 1   title    58098 non-null  object\n",
      " 2   genres   58098 non-null  object\n",
      "dtypes: int64(1), object(2)\n",
      "memory usage: 1.3+ MB\n"
     ]
    }
   ],
   "source": [
    "movies_df.info()"
   ],
   "metadata": {
    "collapsed": false,
    "pycharm": {
     "name": "#%%\n"
    }
   }
  },
  {
   "cell_type": "markdown",
   "source": [
    "### Checking for Duplicates"
   ],
   "metadata": {
    "collapsed": false
   }
  },
  {
   "cell_type": "markdown",
   "source": [
    "#### We need to define what a \"duplicate\" is."
   ],
   "metadata": {
    "collapsed": false
   }
  },
  {
   "cell_type": "markdown",
   "source": [
    "Get a series with True or False that indicates if the title was duplicated or not."
   ],
   "metadata": {
    "collapsed": false
   }
  },
  {
   "cell_type": "code",
   "execution_count": 9,
   "outputs": [],
   "source": [
    "movies_duplicated_title = movies_df.duplicated(['title'])"
   ],
   "metadata": {
    "collapsed": false,
    "pycharm": {
     "name": "#%%\n"
    }
   }
  },
  {
   "cell_type": "markdown",
   "source": [
    "Locate all records where the title was duplicated."
   ],
   "metadata": {
    "collapsed": false
   }
  },
  {
   "cell_type": "code",
   "execution_count": 10,
   "outputs": [],
   "source": [
    "movies_duplicated_title_df = movies_df.loc[movies_duplicated_title]"
   ],
   "metadata": {
    "collapsed": false,
    "pycharm": {
     "name": "#%%\n"
    }
   }
  },
  {
   "cell_type": "markdown",
   "source": [
    "Get a series with True of False that indicates if the title and genre were both duplciated."
   ],
   "metadata": {
    "collapsed": false
   }
  },
  {
   "cell_type": "code",
   "execution_count": 11,
   "outputs": [],
   "source": [
    "movies_duplicated_title_and_genre = movies_df.duplicated(['title', 'genres'])"
   ],
   "metadata": {
    "collapsed": false,
    "pycharm": {
     "name": "#%%\n"
    }
   }
  },
  {
   "cell_type": "markdown",
   "source": [
    "Locate all records where the title and genre were duplicated"
   ],
   "metadata": {
    "collapsed": false
   }
  },
  {
   "cell_type": "code",
   "execution_count": 12,
   "outputs": [],
   "source": [
    "movies_duplicated_title_and_genre_df = movies_df.loc[movies_duplicated_title_and_genre]"
   ],
   "metadata": {
    "collapsed": false,
    "pycharm": {
     "name": "#%%\n"
    }
   }
  },
  {
   "cell_type": "markdown",
   "source": [
    "We'll need a list of titles from each category"
   ],
   "metadata": {
    "collapsed": false
   }
  },
  {
   "cell_type": "code",
   "execution_count": 13,
   "outputs": [
    {
     "data": {
      "text/plain": "{'20,000 Leagues Under the Sea (1997)',\n 'Absolution (2015)',\n 'Aftermath (2012)',\n 'Aladdin (1992)',\n 'Another World (2014)',\n 'Apparition (2014)',\n 'Ava (2017)',\n 'Beneath (2013)',\n 'Berlin Calling (2008)',\n 'Black Field (2009)',\n 'Blackout (2007)',\n 'Cargo (2017)',\n 'Casanova (2005)',\n 'Chaos (2005)',\n 'Classmates (2016)',\n 'Clear History (2013)',\n 'Clockstoppers (2002)',\n 'Confessions of a Dangerous Mind (2002)',\n 'Contact (1992)',\n 'Darling (2007)',\n 'Delirium (2014)',\n 'Deranged (2012)',\n 'Detour (2017)',\n 'Dracula (1931)',\n 'Ecstasy (2011)',\n 'Eden (2014)',\n 'Emma (1996)',\n 'Eros (2004)',\n 'Escalation (1968)',\n 'Escape Room (2017)',\n 'Family Life (1971)',\n 'Forsaken (2016)',\n 'Free Fall (2014)',\n 'Frozen (2010)',\n 'Girl, The (2012)',\n 'Good People (2014)',\n 'Gossip (2000)',\n 'Grace (2014)',\n 'Hamlet (2000)',\n 'Holiday (2014)',\n 'Home (2008)',\n 'Hostage (2005)',\n 'Inside (2012)',\n 'Interrogation (2016)',\n 'Johnny Express (2014)',\n 'Journey to the Center of the Earth (2008)',\n 'Lagaan: Once Upon a Time in India (2001)',\n 'Let There Be Light (2017)',\n 'Little Man (2006)',\n 'Lucky (2017)',\n 'Macbeth (2015)',\n 'Men with Guns (1997)',\n 'Noise (2007)',\n 'Office (2015)',\n 'Offside (2006)',\n 'Paradise (2013)',\n 'Rose (2011)',\n 'Saturn 3 (1980)',\n 'Seven Years Bad Luck (1921)',\n 'Shelter (2015)',\n 'Sing (2016)',\n 'Slow Burn (2000)',\n 'Stranded (2015)',\n 'Tag (2015)',\n 'The Boss (2016)',\n 'The Break-In (2016)',\n 'The Connection (2014)',\n 'The Dream Team (2012)',\n 'The Forest (2016)',\n 'The Midnight Man (2016)',\n 'The Promise (2016)',\n 'The Reunion (2011)',\n 'The Tunnel (1933)',\n 'The Void (2016)',\n 'Truth (2015)',\n 'Veronica (2017)',\n 'War of the Worlds (2005)',\n 'Weekend (2011)'}"
     },
     "execution_count": 13,
     "metadata": {},
     "output_type": "execute_result"
    }
   ],
   "source": [
    "titles_duplicated_title_only = set(movies_duplicated_title_df['title'])\n",
    "titles_duplicated_title_only"
   ],
   "metadata": {
    "collapsed": false,
    "pycharm": {
     "name": "#%%\n"
    }
   }
  },
  {
   "cell_type": "code",
   "execution_count": 14,
   "outputs": [
    {
     "data": {
      "text/plain": "{'Beneath (2013)',\n 'Berlin Calling (2008)',\n 'Clear History (2013)',\n 'Darling (2007)',\n 'Detour (2017)',\n 'Dracula (1931)',\n 'Girl, The (2012)',\n 'Home (2008)',\n 'Johnny Express (2014)',\n 'Little Man (2006)',\n 'Lucky (2017)',\n 'Macbeth (2015)',\n 'Offside (2006)',\n 'Seven Years Bad Luck (1921)'}"
     },
     "execution_count": 14,
     "metadata": {},
     "output_type": "execute_result"
    }
   ],
   "source": [
    "titles_duplicated_title_and_genre = set(movies_duplicated_title_and_genre_df['title'])\n",
    "titles_duplicated_title_and_genre"
   ],
   "metadata": {
    "collapsed": false,
    "pycharm": {
     "name": "#%%\n"
    }
   }
  },
  {
   "cell_type": "markdown",
   "source": [
    "We have two lists of movies:\n",
    "1. Has all the titles where the title was duplicated - in this list some titles represent records that have duplicated genre strings and some represent records that have different genre string.\n",
    "2. Has all the titles where the title and genre was duplicated - in this list the title represents records that have duplicated genre strings.\n",
    "\n",
    "With these two lists how can we get a list that is ONLY the titles where the title was duplicated but the genre was not?"
   ],
   "metadata": {
    "collapsed": false
   }
  },
  {
   "cell_type": "code",
   "execution_count": 15,
   "outputs": [
    {
     "data": {
      "text/plain": "{'20,000 Leagues Under the Sea (1997)',\n 'Absolution (2015)',\n 'Aftermath (2012)',\n 'Aladdin (1992)',\n 'Another World (2014)',\n 'Apparition (2014)',\n 'Ava (2017)',\n 'Black Field (2009)',\n 'Blackout (2007)',\n 'Cargo (2017)',\n 'Casanova (2005)',\n 'Chaos (2005)',\n 'Classmates (2016)',\n 'Clockstoppers (2002)',\n 'Confessions of a Dangerous Mind (2002)',\n 'Contact (1992)',\n 'Delirium (2014)',\n 'Deranged (2012)',\n 'Ecstasy (2011)',\n 'Eden (2014)',\n 'Emma (1996)',\n 'Eros (2004)',\n 'Escalation (1968)',\n 'Escape Room (2017)',\n 'Family Life (1971)',\n 'Forsaken (2016)',\n 'Free Fall (2014)',\n 'Frozen (2010)',\n 'Good People (2014)',\n 'Gossip (2000)',\n 'Grace (2014)',\n 'Hamlet (2000)',\n 'Holiday (2014)',\n 'Hostage (2005)',\n 'Inside (2012)',\n 'Interrogation (2016)',\n 'Journey to the Center of the Earth (2008)',\n 'Lagaan: Once Upon a Time in India (2001)',\n 'Let There Be Light (2017)',\n 'Men with Guns (1997)',\n 'Noise (2007)',\n 'Office (2015)',\n 'Paradise (2013)',\n 'Rose (2011)',\n 'Saturn 3 (1980)',\n 'Shelter (2015)',\n 'Sing (2016)',\n 'Slow Burn (2000)',\n 'Stranded (2015)',\n 'Tag (2015)',\n 'The Boss (2016)',\n 'The Break-In (2016)',\n 'The Connection (2014)',\n 'The Dream Team (2012)',\n 'The Forest (2016)',\n 'The Midnight Man (2016)',\n 'The Promise (2016)',\n 'The Reunion (2011)',\n 'The Tunnel (1933)',\n 'The Void (2016)',\n 'Truth (2015)',\n 'Veronica (2017)',\n 'War of the Worlds (2005)',\n 'Weekend (2011)'}"
     },
     "execution_count": 15,
     "metadata": {},
     "output_type": "execute_result"
    }
   ],
   "source": [
    "movies_duplicated_by_title_not_genre = titles_duplicated_title_only.difference(titles_duplicated_title_and_genre)\n",
    "movies_duplicated_by_title_not_genre"
   ],
   "metadata": {
    "collapsed": false,
    "pycharm": {
     "name": "#%%\n"
    }
   }
  },
  {
   "cell_type": "code",
   "execution_count": 16,
   "outputs": [
    {
     "data": {
      "text/plain": "       movieId           title                                         genres\n582        588  Aladdin (1992)   Adventure|animation|CHILDREN|comedy|Musical \n24657   114240  Aladdin (1992)   Adventure|animation|CHILDREN|comedy|Fantasy ",
      "text/html": "<div>\n<style scoped>\n    .dataframe tbody tr th:only-of-type {\n        vertical-align: middle;\n    }\n\n    .dataframe tbody tr th {\n        vertical-align: top;\n    }\n\n    .dataframe thead th {\n        text-align: right;\n    }\n</style>\n<table border=\"1\" class=\"dataframe\">\n  <thead>\n    <tr style=\"text-align: right;\">\n      <th></th>\n      <th>movieId</th>\n      <th>title</th>\n      <th>genres</th>\n    </tr>\n  </thead>\n  <tbody>\n    <tr>\n      <th>582</th>\n      <td>588</td>\n      <td>Aladdin (1992)</td>\n      <td>Adventure|animation|CHILDREN|comedy|Musical</td>\n    </tr>\n    <tr>\n      <th>24657</th>\n      <td>114240</td>\n      <td>Aladdin (1992)</td>\n      <td>Adventure|animation|CHILDREN|comedy|Fantasy</td>\n    </tr>\n  </tbody>\n</table>\n</div>"
     },
     "execution_count": 16,
     "metadata": {},
     "output_type": "execute_result"
    }
   ],
   "source": [
    "movies_df.loc[movies_df['title'] == 'Aladdin (1992)']"
   ],
   "metadata": {
    "collapsed": false,
    "pycharm": {
     "name": "#%%\n"
    }
   }
  },
  {
   "cell_type": "markdown",
   "source": [
    "#### Let's do some cleanup."
   ],
   "metadata": {
    "collapsed": false
   }
  },
  {
   "cell_type": "code",
   "execution_count": 47,
   "outputs": [
    {
     "data": {
      "text/plain": "   movieId                               title  \\\n0        1                    Toy Story (1995)   \n1        2                      Jumanji (1995)   \n2        3             Grumpier Old Men (1995)   \n3        4            Waiting to Exhale (1995)   \n4        5  Father of the Bride Part II (1995)   \n\n                                        genres  \n0  adventure|animation|children|comedy|fantasy  \n1                   adventure|children|fantasy  \n2                               comedy|romance  \n3                         comedy|drama|romance  \n4                                       comedy  ",
      "text/html": "<div>\n<style scoped>\n    .dataframe tbody tr th:only-of-type {\n        vertical-align: middle;\n    }\n\n    .dataframe tbody tr th {\n        vertical-align: top;\n    }\n\n    .dataframe thead th {\n        text-align: right;\n    }\n</style>\n<table border=\"1\" class=\"dataframe\">\n  <thead>\n    <tr style=\"text-align: right;\">\n      <th></th>\n      <th>movieId</th>\n      <th>title</th>\n      <th>genres</th>\n    </tr>\n  </thead>\n  <tbody>\n    <tr>\n      <th>0</th>\n      <td>1</td>\n      <td>Toy Story (1995)</td>\n      <td>adventure|animation|children|comedy|fantasy</td>\n    </tr>\n    <tr>\n      <th>1</th>\n      <td>2</td>\n      <td>Jumanji (1995)</td>\n      <td>adventure|children|fantasy</td>\n    </tr>\n    <tr>\n      <th>2</th>\n      <td>3</td>\n      <td>Grumpier Old Men (1995)</td>\n      <td>comedy|romance</td>\n    </tr>\n    <tr>\n      <th>3</th>\n      <td>4</td>\n      <td>Waiting to Exhale (1995)</td>\n      <td>comedy|drama|romance</td>\n    </tr>\n    <tr>\n      <th>4</th>\n      <td>5</td>\n      <td>Father of the Bride Part II (1995)</td>\n      <td>comedy</td>\n    </tr>\n  </tbody>\n</table>\n</div>"
     },
     "execution_count": 47,
     "metadata": {},
     "output_type": "execute_result"
    }
   ],
   "source": [
    "movies_df.head(5)"
   ],
   "metadata": {
    "collapsed": false,
    "pycharm": {
     "name": "#%%\n"
    }
   }
  },
  {
   "cell_type": "code",
   "execution_count": 18,
   "outputs": [],
   "source": [
    "movies_df['genres'] =  movies_df['genres'].apply(lower_case_and_strip_spaces)"
   ],
   "metadata": {
    "collapsed": false,
    "pycharm": {
     "name": "#%%\n"
    }
   }
  },
  {
   "cell_type": "code",
   "execution_count": 19,
   "outputs": [
    {
     "data": {
      "text/plain": "(53832, 3)"
     },
     "execution_count": 19,
     "metadata": {},
     "output_type": "execute_result"
    }
   ],
   "source": [
    "movies_df = movies_df.loc[movies_df['genres'] != '(no genres listed)']\n",
    "movies_df.shape"
   ],
   "metadata": {
    "collapsed": false,
    "pycharm": {
     "name": "#%%\n"
    }
   }
  },
  {
   "cell_type": "markdown",
   "source": [
    "## Step 2: Feature Preparation"
   ],
   "metadata": {
    "collapsed": false
   }
  },
  {
   "cell_type": "markdown",
   "source": [
    "We can focus on the genres to recommend movies.  Let's prepare our genres list. First we need to group by movie."
   ],
   "metadata": {
    "collapsed": false
   }
  },
  {
   "cell_type": "code",
   "execution_count": 29,
   "outputs": [],
   "source": [
    "movies_grouped_by_title = movies_df.groupby('title').agg({'genres': lambda x: list(x.unique())}).reset_index()"
   ],
   "metadata": {
    "collapsed": false,
    "pycharm": {
     "name": "#%%\n"
    }
   }
  },
  {
   "cell_type": "code",
   "execution_count": 30,
   "outputs": [
    {
     "data": {
      "text/plain": "               title                                             rating  \\\n1900  Aladdin (1992)  [2.5, 4.0, 3.5, 4.0, 5.0, 3.5, 4.0, 4.0, 4.5, ...   \n\n                                                 genres  \n1900  [adventure|animation|children|comedy|musical, ...  ",
      "text/html": "<div>\n<style scoped>\n    .dataframe tbody tr th:only-of-type {\n        vertical-align: middle;\n    }\n\n    .dataframe tbody tr th {\n        vertical-align: top;\n    }\n\n    .dataframe thead th {\n        text-align: right;\n    }\n</style>\n<table border=\"1\" class=\"dataframe\">\n  <thead>\n    <tr style=\"text-align: right;\">\n      <th></th>\n      <th>title</th>\n      <th>rating</th>\n      <th>genres</th>\n    </tr>\n  </thead>\n  <tbody>\n    <tr>\n      <th>1900</th>\n      <td>Aladdin (1992)</td>\n      <td>[2.5, 4.0, 3.5, 4.0, 5.0, 3.5, 4.0, 4.0, 4.5, ...</td>\n      <td>[adventure|animation|children|comedy|musical, ...</td>\n    </tr>\n  </tbody>\n</table>\n</div>"
     },
     "execution_count": 30,
     "metadata": {},
     "output_type": "execute_result"
    }
   ],
   "source": [
    "movies_grouped_by_title.loc[movies_grouped_by_title['title'] == 'Aladdin (1992)']"
   ],
   "metadata": {
    "collapsed": false,
    "pycharm": {
     "name": "#%%\n"
    }
   }
  },
  {
   "cell_type": "markdown",
   "source": [
    "Clean up the genres lists."
   ],
   "metadata": {
    "collapsed": false
   }
  },
  {
   "cell_type": "code",
   "execution_count": 31,
   "outputs": [],
   "source": [
    "from analysis.utils.cleaning import combine_genres_list\n",
    "\n",
    "movies_grouped_by_title['genres'] = movies_grouped_by_title['genres'].apply(lambda x: combine_genres_list(x))"
   ],
   "metadata": {
    "collapsed": false,
    "pycharm": {
     "name": "#%%\n"
    }
   }
  },
  {
   "cell_type": "code",
   "execution_count": 32,
   "outputs": [
    {
     "data": {
      "text/plain": "                                        title  \\\n0            \"Great Performances\" Cats (1998)   \n1                  #1 Cheerleader Camp (2010)   \n2                            #Captured (2017)   \n3                              #Horror (2015)   \n4                           #SCREAMERS (2016)   \n...                                       ...   \n50091                          ארבינקא (1967)   \n50092  …And the Fifth Horseman Is Fear (1965)   \n50093                             キサラギ (2007)   \n50094                          チェブラーシカ (2010)   \n50095                             貞子3D (2012)   \n\n                                                  rating  \\\n0      [3.0, 5.0, 4.0, 1.0, 0.5, 1.5, 0.5, 3.5, 5.0, ...   \n1          [3.0, 1.0, 1.5, 3.0, 4.0, 2.0, 4.0, 5.0, 1.5]   \n2                                                  [2.5]   \n3      [1.0, 1.0, 3.0, 3.5, 0.5, 2.5, 1.5, 2.0, 3.0, ...   \n4                                                  [2.5]   \n...                                                  ...   \n50091                                              [3.5]   \n50092                                         [3.5, 3.0]   \n50093                                    [3.5, 4.5, 3.0]   \n50094  [5.0, 4.0, 2.5, 3.5, 3.5, 4.5, 3.0, 3.0, 2.0, ...   \n50095  [4.0, 3.5, 2.0, 1.5, 1.0, 1.0, 4.0, 0.5, 3.0, ...   \n\n                              genres  \n0                            musical  \n1                       comedy|drama  \n2                             horror  \n3      drama|horror|mystery|thriller  \n4                             horror  \n...                              ...  \n50091           comedy|crime|romance  \n50092                      drama|war  \n50093                 comedy|mystery  \n50094             animation|children  \n50095                         horror  \n\n[50096 rows x 3 columns]",
      "text/html": "<div>\n<style scoped>\n    .dataframe tbody tr th:only-of-type {\n        vertical-align: middle;\n    }\n\n    .dataframe tbody tr th {\n        vertical-align: top;\n    }\n\n    .dataframe thead th {\n        text-align: right;\n    }\n</style>\n<table border=\"1\" class=\"dataframe\">\n  <thead>\n    <tr style=\"text-align: right;\">\n      <th></th>\n      <th>title</th>\n      <th>rating</th>\n      <th>genres</th>\n    </tr>\n  </thead>\n  <tbody>\n    <tr>\n      <th>0</th>\n      <td>\"Great Performances\" Cats (1998)</td>\n      <td>[3.0, 5.0, 4.0, 1.0, 0.5, 1.5, 0.5, 3.5, 5.0, ...</td>\n      <td>musical</td>\n    </tr>\n    <tr>\n      <th>1</th>\n      <td>#1 Cheerleader Camp (2010)</td>\n      <td>[3.0, 1.0, 1.5, 3.0, 4.0, 2.0, 4.0, 5.0, 1.5]</td>\n      <td>comedy|drama</td>\n    </tr>\n    <tr>\n      <th>2</th>\n      <td>#Captured (2017)</td>\n      <td>[2.5]</td>\n      <td>horror</td>\n    </tr>\n    <tr>\n      <th>3</th>\n      <td>#Horror (2015)</td>\n      <td>[1.0, 1.0, 3.0, 3.5, 0.5, 2.5, 1.5, 2.0, 3.0, ...</td>\n      <td>drama|horror|mystery|thriller</td>\n    </tr>\n    <tr>\n      <th>4</th>\n      <td>#SCREAMERS (2016)</td>\n      <td>[2.5]</td>\n      <td>horror</td>\n    </tr>\n    <tr>\n      <th>...</th>\n      <td>...</td>\n      <td>...</td>\n      <td>...</td>\n    </tr>\n    <tr>\n      <th>50091</th>\n      <td>ארבינקא (1967)</td>\n      <td>[3.5]</td>\n      <td>comedy|crime|romance</td>\n    </tr>\n    <tr>\n      <th>50092</th>\n      <td>…And the Fifth Horseman Is Fear (1965)</td>\n      <td>[3.5, 3.0]</td>\n      <td>drama|war</td>\n    </tr>\n    <tr>\n      <th>50093</th>\n      <td>キサラギ (2007)</td>\n      <td>[3.5, 4.5, 3.0]</td>\n      <td>comedy|mystery</td>\n    </tr>\n    <tr>\n      <th>50094</th>\n      <td>チェブラーシカ (2010)</td>\n      <td>[5.0, 4.0, 2.5, 3.5, 3.5, 4.5, 3.0, 3.0, 2.0, ...</td>\n      <td>animation|children</td>\n    </tr>\n    <tr>\n      <th>50095</th>\n      <td>貞子3D (2012)</td>\n      <td>[4.0, 3.5, 2.0, 1.5, 1.0, 1.0, 4.0, 0.5, 3.0, ...</td>\n      <td>horror</td>\n    </tr>\n  </tbody>\n</table>\n<p>50096 rows × 3 columns</p>\n</div>"
     },
     "execution_count": 32,
     "metadata": {},
     "output_type": "execute_result"
    }
   ],
   "source": [
    "movies_grouped_by_title"
   ],
   "metadata": {
    "collapsed": false,
    "pycharm": {
     "name": "#%%\n"
    }
   }
  },
  {
   "cell_type": "code",
   "execution_count": 33,
   "outputs": [
    {
     "data": {
      "text/plain": "               title                                             rating  \\\n1900  Aladdin (1992)  [2.5, 4.0, 3.5, 4.0, 5.0, 3.5, 4.0, 4.0, 4.5, ...   \n\n                                                 genres  \n1900  adventure|animation|children|comedy|musical|fa...  ",
      "text/html": "<div>\n<style scoped>\n    .dataframe tbody tr th:only-of-type {\n        vertical-align: middle;\n    }\n\n    .dataframe tbody tr th {\n        vertical-align: top;\n    }\n\n    .dataframe thead th {\n        text-align: right;\n    }\n</style>\n<table border=\"1\" class=\"dataframe\">\n  <thead>\n    <tr style=\"text-align: right;\">\n      <th></th>\n      <th>title</th>\n      <th>rating</th>\n      <th>genres</th>\n    </tr>\n  </thead>\n  <tbody>\n    <tr>\n      <th>1900</th>\n      <td>Aladdin (1992)</td>\n      <td>[2.5, 4.0, 3.5, 4.0, 5.0, 3.5, 4.0, 4.0, 4.5, ...</td>\n      <td>adventure|animation|children|comedy|musical|fa...</td>\n    </tr>\n  </tbody>\n</table>\n</div>"
     },
     "execution_count": 33,
     "metadata": {},
     "output_type": "execute_result"
    }
   ],
   "source": [
    "movies_grouped_by_title.loc[movies_grouped_by_title['title'] == 'Aladdin (1992)']"
   ],
   "metadata": {
    "collapsed": false,
    "pycharm": {
     "name": "#%%\n"
    }
   }
  },
  {
   "cell_type": "markdown",
   "source": [
    "Let's think about our recommendation engine now again.  Let's say that we want to recommend movies to by recommending the movies with the most similar genres list."
   ],
   "metadata": {
    "collapsed": false
   }
  },
  {
   "cell_type": "markdown",
   "source": [
    "In order to to use TF IDF we need a list of all the \"words\" (genres) used in our corpus.  This is easy for us to do.  We can make a list of all the genres by:\n",
    "1. Creating a column with a list of genres\n",
    "2. Grouping by the genre\n",
    "3. Aggregating the results\n",
    "4. Transforming the resulting series into a list of genres"
   ],
   "metadata": {
    "collapsed": false
   }
  },
  {
   "cell_type": "markdown",
   "source": [
    "Column with list of genres"
   ],
   "metadata": {
    "collapsed": false
   }
  },
  {
   "cell_type": "code",
   "execution_count": 34,
   "outputs": [],
   "source": [
    "movies_grouped_by_title['genres_list'] = movies_grouped_by_title['genres'].apply(lambda x: x.split('|'))"
   ],
   "metadata": {
    "collapsed": false,
    "pycharm": {
     "name": "#%%\n"
    }
   }
  },
  {
   "cell_type": "markdown",
   "source": [
    "Group by Genre"
   ],
   "metadata": {
    "collapsed": false
   }
  },
  {
   "cell_type": "code",
   "execution_count": 35,
   "outputs": [],
   "source": [
    "movies_grouped_by_genre = movies_grouped_by_title.drop(columns=['rating']).explode('genres_list').groupby('genres_list')"
   ],
   "metadata": {
    "collapsed": false,
    "pycharm": {
     "name": "#%%\n"
    }
   }
  },
  {
   "cell_type": "markdown",
   "source": [
    "Aggregrate the results"
   ],
   "metadata": {
    "collapsed": false
   }
  },
  {
   "cell_type": "code",
   "execution_count": 36,
   "outputs": [],
   "source": [
    "all_genres = movies_grouped_by_genre.agg(sum).reset_index()['genres_list']"
   ],
   "metadata": {
    "collapsed": false,
    "pycharm": {
     "name": "#%%\n"
    }
   }
  },
  {
   "cell_type": "markdown",
   "source": [
    "create a list of genres"
   ],
   "metadata": {
    "collapsed": false
   }
  },
  {
   "cell_type": "code",
   "execution_count": 37,
   "outputs": [
    {
     "data": {
      "text/plain": "['action',\n 'adventure',\n 'animation',\n 'children',\n 'comedy',\n 'crime',\n 'documentary',\n 'drama',\n 'fantasy',\n 'film-noir',\n 'horror',\n 'imax',\n 'musical',\n 'mystery',\n 'romance',\n 'sci-fi',\n 'thriller',\n 'war',\n 'western']"
     },
     "execution_count": 37,
     "metadata": {},
     "output_type": "execute_result"
    }
   ],
   "source": [
    "all_genres_list = list(all_genres)\n",
    "all_genres_list"
   ],
   "metadata": {
    "collapsed": false,
    "pycharm": {
     "name": "#%%\n"
    }
   }
  },
  {
   "cell_type": "markdown",
   "source": [
    "Let's turn our genres column into a space separated list of genres (as if they were words in a document)"
   ],
   "metadata": {
    "collapsed": false
   }
  },
  {
   "cell_type": "code",
   "execution_count": 38,
   "outputs": [
    {
     "data": {
      "text/plain": "                         title  \\\n45496         Tom Thumb (1958)   \n30452    Open Road, The (2009)   \n15665         Free Fall (2014)   \n44993  Three Faces East (1930)   \n44477   The Wicked Gift (2017)   \n\n                                                  rating  \\\n45496  [3.0, 0.5, 3.5, 3.0, 3.0, 3.0, 3.0, 1.0, 3.0, ...   \n30452  [3.5, 2.5, 4.5, 3.5, 2.0, 3.5, 1.0, 4.0, 4.0, ...   \n15665                [3.0, 0.5, 3.5, 4.0, 3.0, 3.5, 4.0]   \n44993                                              [3.5]   \n44477                                              [4.0]   \n\n                         genres                   genres_list  \n45496  children fantasy musical  [children, fantasy, musical]  \n30452              comedy drama               [comedy, drama]  \n15665                     drama                       [drama]  \n44993         drama mystery war         [drama, mystery, war]  \n44477           horror thriller            [horror, thriller]  ",
      "text/html": "<div>\n<style scoped>\n    .dataframe tbody tr th:only-of-type {\n        vertical-align: middle;\n    }\n\n    .dataframe tbody tr th {\n        vertical-align: top;\n    }\n\n    .dataframe thead th {\n        text-align: right;\n    }\n</style>\n<table border=\"1\" class=\"dataframe\">\n  <thead>\n    <tr style=\"text-align: right;\">\n      <th></th>\n      <th>title</th>\n      <th>rating</th>\n      <th>genres</th>\n      <th>genres_list</th>\n    </tr>\n  </thead>\n  <tbody>\n    <tr>\n      <th>45496</th>\n      <td>Tom Thumb (1958)</td>\n      <td>[3.0, 0.5, 3.5, 3.0, 3.0, 3.0, 3.0, 1.0, 3.0, ...</td>\n      <td>children fantasy musical</td>\n      <td>[children, fantasy, musical]</td>\n    </tr>\n    <tr>\n      <th>30452</th>\n      <td>Open Road, The (2009)</td>\n      <td>[3.5, 2.5, 4.5, 3.5, 2.0, 3.5, 1.0, 4.0, 4.0, ...</td>\n      <td>comedy drama</td>\n      <td>[comedy, drama]</td>\n    </tr>\n    <tr>\n      <th>15665</th>\n      <td>Free Fall (2014)</td>\n      <td>[3.0, 0.5, 3.5, 4.0, 3.0, 3.5, 4.0]</td>\n      <td>drama</td>\n      <td>[drama]</td>\n    </tr>\n    <tr>\n      <th>44993</th>\n      <td>Three Faces East (1930)</td>\n      <td>[3.5]</td>\n      <td>drama mystery war</td>\n      <td>[drama, mystery, war]</td>\n    </tr>\n    <tr>\n      <th>44477</th>\n      <td>The Wicked Gift (2017)</td>\n      <td>[4.0]</td>\n      <td>horror thriller</td>\n      <td>[horror, thriller]</td>\n    </tr>\n  </tbody>\n</table>\n</div>"
     },
     "execution_count": 38,
     "metadata": {},
     "output_type": "execute_result"
    }
   ],
   "source": [
    "movies_with_genres_as_space_separated_string = movies_grouped_by_title\n",
    "movies_with_genres_as_space_separated_string['genres'] = movies_with_genres_as_space_separated_string['genres'].apply(lambda x: x.replace('|', ' '))\n",
    "movies_with_genres_as_space_separated_string.sample(5)"
   ],
   "metadata": {
    "collapsed": false,
    "pycharm": {
     "name": "#%%\n"
    }
   }
  },
  {
   "cell_type": "markdown",
   "source": [
    "reset our index again"
   ],
   "metadata": {
    "collapsed": false
   }
  },
  {
   "cell_type": "code",
   "execution_count": 39,
   "outputs": [],
   "source": [
    "movies_ready_for_vectorizer = movies_with_genres_as_space_separated_string.reset_index().drop(columns=['index'])"
   ],
   "metadata": {
    "collapsed": false,
    "pycharm": {
     "name": "#%%\n"
    }
   }
  },
  {
   "cell_type": "raw",
   "source": [
    "analyzer : {'word', 'char', 'char_wb'} or callable, default='word'\n",
    "        Whether the feature should be made of word or character n-grams.\n",
    "        Option 'char_wb' creates character n-grams only from text inside\n",
    "        word boundaries; n-grams at the edges of words are padded with space.\n",
    "\n",
    "ngram_range : tuple (min_n, max_n), default=(1, 1)\n",
    "        The lower and upper boundary of the range of n-values for different\n",
    "        n-grams to be extracted. All values of n such that min_n <= n <= max_n\n",
    "        will be used. For example an ``ngram_range`` of ``(1, 1)`` means only\n",
    "        unigrams, ``(1, 2)`` means unigrams and bigrams, and ``(2, 2)`` means\n",
    "        only bigrams.\n",
    "\n",
    "min_df : float or int, default=1\n",
    "        When building the vocabulary ignore terms that have a document\n",
    "        frequency strictly lower than the given threshold.\n",
    "\n",
    "vocabulary_ : dict\n",
    "        A mapping of terms to feature indices."
   ],
   "metadata": {
    "collapsed": false,
    "pycharm": {
     "name": "#%% raw\n"
    }
   }
  },
  {
   "cell_type": "code",
   "execution_count": 40,
   "outputs": [],
   "source": [
    "from sklearn.feature_extraction.text import TfidfVectorizer\n",
    "tf = TfidfVectorizer(analyzer='word',ngram_range=(1, 1),min_df=0, stop_words='english', vocabulary=all_genres_list)\n",
    "tfidf_matrix = tf.fit_transform(movies_ready_for_vectorizer['genres'])"
   ],
   "metadata": {
    "collapsed": false,
    "pycharm": {
     "name": "#%%\n"
    }
   }
  },
  {
   "cell_type": "markdown",
   "source": [
    "To see what our matrix looks like we can do the following:"
   ],
   "metadata": {
    "collapsed": false
   }
  },
  {
   "cell_type": "code",
   "execution_count": 41,
   "outputs": [
    {
     "data": {
      "text/plain": "        0    1         2         3         4         5    6         7    8   \\\n0      0.0  0.0  0.000000  0.000000  0.000000  0.000000  0.0  0.000000  0.0   \n1      0.0  0.0  0.000000  0.000000  0.775664  0.000000  0.0  0.631147  0.0   \n2      0.0  0.0  0.000000  0.000000  0.000000  0.000000  0.0  0.000000  0.0   \n3      0.0  0.0  0.000000  0.000000  0.000000  0.000000  0.0  0.292225  0.0   \n4      0.0  0.0  0.000000  0.000000  0.000000  0.000000  0.0  0.000000  0.0   \n...    ...  ...       ...       ...       ...       ...  ...       ...  ...   \n50091  0.0  0.0  0.000000  0.000000  0.440955  0.671256  0.0  0.000000  0.0   \n50092  0.0  0.0  0.000000  0.000000  0.000000  0.000000  0.0  0.378841  0.0   \n50093  0.0  0.0  0.000000  0.000000  0.486407  0.000000  0.0  0.000000  0.0   \n50094  0.0  0.0  0.707986  0.706226  0.000000  0.000000  0.0  0.000000  0.0   \n50095  0.0  0.0  0.000000  0.000000  0.000000  0.000000  0.0  0.000000  0.0   \n\n        9         10   11   12        13        14   15        16        17  \\\n0      0.0  0.000000  0.0  1.0  0.000000  0.000000  0.0  0.000000  0.000000   \n1      0.0  0.000000  0.0  0.0  0.000000  0.000000  0.0  0.000000  0.000000   \n2      0.0  1.000000  0.0  0.0  0.000000  0.000000  0.0  0.000000  0.000000   \n3      0.0  0.529955  0.0  0.0  0.645119  0.000000  0.0  0.466448  0.000000   \n4      0.0  1.000000  0.0  0.0  0.000000  0.000000  0.0  0.000000  0.000000   \n...    ...       ...  ...  ...       ...       ...  ...       ...       ...   \n50091  0.0  0.000000  0.0  0.0  0.000000  0.595797  0.0  0.000000  0.000000   \n50092  0.0  0.000000  0.0  0.0  0.000000  0.000000  0.0  0.000000  0.925462   \n50093  0.0  0.000000  0.0  0.0  0.873732  0.000000  0.0  0.000000  0.000000   \n50094  0.0  0.000000  0.0  0.0  0.000000  0.000000  0.0  0.000000  0.000000   \n50095  0.0  1.000000  0.0  0.0  0.000000  0.000000  0.0  0.000000  0.000000   \n\n        18  \n0      0.0  \n1      0.0  \n2      0.0  \n3      0.0  \n4      0.0  \n...    ...  \n50091  0.0  \n50092  0.0  \n50093  0.0  \n50094  0.0  \n50095  0.0  \n\n[50096 rows x 19 columns]",
      "text/html": "<div>\n<style scoped>\n    .dataframe tbody tr th:only-of-type {\n        vertical-align: middle;\n    }\n\n    .dataframe tbody tr th {\n        vertical-align: top;\n    }\n\n    .dataframe thead th {\n        text-align: right;\n    }\n</style>\n<table border=\"1\" class=\"dataframe\">\n  <thead>\n    <tr style=\"text-align: right;\">\n      <th></th>\n      <th>0</th>\n      <th>1</th>\n      <th>2</th>\n      <th>3</th>\n      <th>4</th>\n      <th>5</th>\n      <th>6</th>\n      <th>7</th>\n      <th>8</th>\n      <th>9</th>\n      <th>10</th>\n      <th>11</th>\n      <th>12</th>\n      <th>13</th>\n      <th>14</th>\n      <th>15</th>\n      <th>16</th>\n      <th>17</th>\n      <th>18</th>\n    </tr>\n  </thead>\n  <tbody>\n    <tr>\n      <th>0</th>\n      <td>0.0</td>\n      <td>0.0</td>\n      <td>0.000000</td>\n      <td>0.000000</td>\n      <td>0.000000</td>\n      <td>0.000000</td>\n      <td>0.0</td>\n      <td>0.000000</td>\n      <td>0.0</td>\n      <td>0.0</td>\n      <td>0.000000</td>\n      <td>0.0</td>\n      <td>1.0</td>\n      <td>0.000000</td>\n      <td>0.000000</td>\n      <td>0.0</td>\n      <td>0.000000</td>\n      <td>0.000000</td>\n      <td>0.0</td>\n    </tr>\n    <tr>\n      <th>1</th>\n      <td>0.0</td>\n      <td>0.0</td>\n      <td>0.000000</td>\n      <td>0.000000</td>\n      <td>0.775664</td>\n      <td>0.000000</td>\n      <td>0.0</td>\n      <td>0.631147</td>\n      <td>0.0</td>\n      <td>0.0</td>\n      <td>0.000000</td>\n      <td>0.0</td>\n      <td>0.0</td>\n      <td>0.000000</td>\n      <td>0.000000</td>\n      <td>0.0</td>\n      <td>0.000000</td>\n      <td>0.000000</td>\n      <td>0.0</td>\n    </tr>\n    <tr>\n      <th>2</th>\n      <td>0.0</td>\n      <td>0.0</td>\n      <td>0.000000</td>\n      <td>0.000000</td>\n      <td>0.000000</td>\n      <td>0.000000</td>\n      <td>0.0</td>\n      <td>0.000000</td>\n      <td>0.0</td>\n      <td>0.0</td>\n      <td>1.000000</td>\n      <td>0.0</td>\n      <td>0.0</td>\n      <td>0.000000</td>\n      <td>0.000000</td>\n      <td>0.0</td>\n      <td>0.000000</td>\n      <td>0.000000</td>\n      <td>0.0</td>\n    </tr>\n    <tr>\n      <th>3</th>\n      <td>0.0</td>\n      <td>0.0</td>\n      <td>0.000000</td>\n      <td>0.000000</td>\n      <td>0.000000</td>\n      <td>0.000000</td>\n      <td>0.0</td>\n      <td>0.292225</td>\n      <td>0.0</td>\n      <td>0.0</td>\n      <td>0.529955</td>\n      <td>0.0</td>\n      <td>0.0</td>\n      <td>0.645119</td>\n      <td>0.000000</td>\n      <td>0.0</td>\n      <td>0.466448</td>\n      <td>0.000000</td>\n      <td>0.0</td>\n    </tr>\n    <tr>\n      <th>4</th>\n      <td>0.0</td>\n      <td>0.0</td>\n      <td>0.000000</td>\n      <td>0.000000</td>\n      <td>0.000000</td>\n      <td>0.000000</td>\n      <td>0.0</td>\n      <td>0.000000</td>\n      <td>0.0</td>\n      <td>0.0</td>\n      <td>1.000000</td>\n      <td>0.0</td>\n      <td>0.0</td>\n      <td>0.000000</td>\n      <td>0.000000</td>\n      <td>0.0</td>\n      <td>0.000000</td>\n      <td>0.000000</td>\n      <td>0.0</td>\n    </tr>\n    <tr>\n      <th>...</th>\n      <td>...</td>\n      <td>...</td>\n      <td>...</td>\n      <td>...</td>\n      <td>...</td>\n      <td>...</td>\n      <td>...</td>\n      <td>...</td>\n      <td>...</td>\n      <td>...</td>\n      <td>...</td>\n      <td>...</td>\n      <td>...</td>\n      <td>...</td>\n      <td>...</td>\n      <td>...</td>\n      <td>...</td>\n      <td>...</td>\n      <td>...</td>\n    </tr>\n    <tr>\n      <th>50091</th>\n      <td>0.0</td>\n      <td>0.0</td>\n      <td>0.000000</td>\n      <td>0.000000</td>\n      <td>0.440955</td>\n      <td>0.671256</td>\n      <td>0.0</td>\n      <td>0.000000</td>\n      <td>0.0</td>\n      <td>0.0</td>\n      <td>0.000000</td>\n      <td>0.0</td>\n      <td>0.0</td>\n      <td>0.000000</td>\n      <td>0.595797</td>\n      <td>0.0</td>\n      <td>0.000000</td>\n      <td>0.000000</td>\n      <td>0.0</td>\n    </tr>\n    <tr>\n      <th>50092</th>\n      <td>0.0</td>\n      <td>0.0</td>\n      <td>0.000000</td>\n      <td>0.000000</td>\n      <td>0.000000</td>\n      <td>0.000000</td>\n      <td>0.0</td>\n      <td>0.378841</td>\n      <td>0.0</td>\n      <td>0.0</td>\n      <td>0.000000</td>\n      <td>0.0</td>\n      <td>0.0</td>\n      <td>0.000000</td>\n      <td>0.000000</td>\n      <td>0.0</td>\n      <td>0.000000</td>\n      <td>0.925462</td>\n      <td>0.0</td>\n    </tr>\n    <tr>\n      <th>50093</th>\n      <td>0.0</td>\n      <td>0.0</td>\n      <td>0.000000</td>\n      <td>0.000000</td>\n      <td>0.486407</td>\n      <td>0.000000</td>\n      <td>0.0</td>\n      <td>0.000000</td>\n      <td>0.0</td>\n      <td>0.0</td>\n      <td>0.000000</td>\n      <td>0.0</td>\n      <td>0.0</td>\n      <td>0.873732</td>\n      <td>0.000000</td>\n      <td>0.0</td>\n      <td>0.000000</td>\n      <td>0.000000</td>\n      <td>0.0</td>\n    </tr>\n    <tr>\n      <th>50094</th>\n      <td>0.0</td>\n      <td>0.0</td>\n      <td>0.707986</td>\n      <td>0.706226</td>\n      <td>0.000000</td>\n      <td>0.000000</td>\n      <td>0.0</td>\n      <td>0.000000</td>\n      <td>0.0</td>\n      <td>0.0</td>\n      <td>0.000000</td>\n      <td>0.0</td>\n      <td>0.0</td>\n      <td>0.000000</td>\n      <td>0.000000</td>\n      <td>0.0</td>\n      <td>0.000000</td>\n      <td>0.000000</td>\n      <td>0.0</td>\n    </tr>\n    <tr>\n      <th>50095</th>\n      <td>0.0</td>\n      <td>0.0</td>\n      <td>0.000000</td>\n      <td>0.000000</td>\n      <td>0.000000</td>\n      <td>0.000000</td>\n      <td>0.0</td>\n      <td>0.000000</td>\n      <td>0.0</td>\n      <td>0.0</td>\n      <td>1.000000</td>\n      <td>0.0</td>\n      <td>0.0</td>\n      <td>0.000000</td>\n      <td>0.000000</td>\n      <td>0.0</td>\n      <td>0.000000</td>\n      <td>0.000000</td>\n      <td>0.0</td>\n    </tr>\n  </tbody>\n</table>\n<p>50096 rows × 19 columns</p>\n</div>"
     },
     "execution_count": 41,
     "metadata": {},
     "output_type": "execute_result"
    }
   ],
   "source": [
    "pd.DataFrame(tfidf_matrix.toarray())"
   ],
   "metadata": {
    "collapsed": false,
    "pycharm": {
     "name": "#%%\n"
    }
   }
  },
  {
   "cell_type": "markdown",
   "source": [
    "Now let's calculate the dot product of the tfidf_martix with itself in order to get a cosine similarity matrix."
   ],
   "metadata": {
    "collapsed": false
   }
  },
  {
   "cell_type": "code",
   "execution_count": 43,
   "outputs": [],
   "source": [
    "from sklearn.metrics.pairwise import cosine_similarity\n",
    "\n",
    "cosine_sim = cosine_similarity(tfidf_matrix, tfidf_matrix)"
   ],
   "metadata": {
    "collapsed": false,
    "pycharm": {
     "name": "#%%\n"
    }
   }
  },
  {
   "cell_type": "markdown",
   "source": [
    " What do we expect the dimensions of this matrix to be?"
   ],
   "metadata": {
    "collapsed": false
   }
  },
  {
   "cell_type": "code",
   "execution_count": 44,
   "outputs": [
    {
     "data": {
      "text/plain": "array([[1.        , 0.        , 0.        , ..., 0.        , 0.        ,\n        0.        ],\n       [0.        , 1.        , 0.        , ..., 0.37728826, 0.        ,\n        0.        ],\n       [0.        , 0.        , 1.        , ..., 0.        , 0.        ,\n        1.        ],\n       ...,\n       [0.        , 0.37728826, 0.        , ..., 1.        , 0.        ,\n        0.        ],\n       [0.        , 0.        , 0.        , ..., 0.        , 1.        ,\n        0.        ],\n       [0.        , 0.        , 1.        , ..., 0.        , 0.        ,\n        1.        ]])"
     },
     "execution_count": 44,
     "metadata": {},
     "output_type": "execute_result"
    }
   ],
   "source": [
    "cosine_sim"
   ],
   "metadata": {
    "collapsed": false,
    "pycharm": {
     "name": "#%%\n"
    }
   }
  },
  {
   "cell_type": "markdown",
   "source": [
    "Notice that this matrix also has 1's along the diagonals. Why is that?"
   ],
   "metadata": {
    "collapsed": false
   }
  },
  {
   "cell_type": "code",
   "execution_count": 45,
   "outputs": [
    {
     "data": {
      "text/plain": "(50096, 50096)"
     },
     "execution_count": 45,
     "metadata": {},
     "output_type": "execute_result"
    }
   ],
   "source": [
    "cosine_sim.shape"
   ],
   "metadata": {
    "collapsed": false,
    "pycharm": {
     "name": "#%%\n"
    }
   }
  },
  {
   "cell_type": "markdown",
   "source": [
    "The next part you can Test Drive because now we'll add logic to grab the top 20 movie titles by index\n",
    "\n",
    "We can build this in a separate module and import it here to see some results"
   ],
   "metadata": {
    "collapsed": false
   }
  },
  {
   "cell_type": "code",
   "execution_count": 46,
   "outputs": [
    {
     "ename": "NameError",
     "evalue": "name 'movies_with_ratings_combined_df' is not defined",
     "output_type": "error",
     "traceback": [
      "\u001B[0;31m---------------------------------------------------------------------------\u001B[0m",
      "\u001B[0;31mNameError\u001B[0m                                 Traceback (most recent call last)",
      "\u001B[0;32m/var/folders/p5/b_txxkwd5bl901mk43z_hmkw0000gn/T/ipykernel_90834/2102374311.py\u001B[0m in \u001B[0;36m<module>\u001B[0;34m\u001B[0m\n\u001B[1;32m      1\u001B[0m \u001B[0;32mfrom\u001B[0m \u001B[0manalysis\u001B[0m\u001B[0;34m.\u001B[0m\u001B[0mutils\u001B[0m\u001B[0;34m.\u001B[0m\u001B[0mrecommendation\u001B[0m \u001B[0;32mimport\u001B[0m \u001B[0mget_similar_movies\u001B[0m\u001B[0;34m\u001B[0m\u001B[0;34m\u001B[0m\u001B[0m\n\u001B[1;32m      2\u001B[0m \u001B[0;34m\u001B[0m\u001B[0m\n\u001B[0;32m----> 3\u001B[0;31m \u001B[0msimilar_movies\u001B[0m \u001B[0;34m=\u001B[0m \u001B[0mget_similar_movies\u001B[0m\u001B[0;34m(\u001B[0m\u001B[0;34m'Toy Story (1995)'\u001B[0m\u001B[0;34m,\u001B[0m \u001B[0mcosine_sim\u001B[0m\u001B[0;34m,\u001B[0m \u001B[0mmovies_with_ratings_combined_df\u001B[0m\u001B[0;34m)\u001B[0m\u001B[0;34m\u001B[0m\u001B[0;34m\u001B[0m\u001B[0m\n\u001B[0m\u001B[1;32m      4\u001B[0m \u001B[0msimilar_movies\u001B[0m\u001B[0;34m\u001B[0m\u001B[0;34m\u001B[0m\u001B[0m\n",
      "\u001B[0;31mNameError\u001B[0m: name 'movies_with_ratings_combined_df' is not defined"
     ]
    }
   ],
   "source": [
    "from analysis.utils.recommendation import get_similar_movies\n",
    "\n",
    "similar_movies = get_similar_movies('Toy Story (1995)', cosine_sim, movies_with_ratings_combined_df)\n",
    "similar_movies"
   ],
   "metadata": {
    "collapsed": false,
    "pycharm": {
     "name": "#%%\n"
    }
   }
  },
  {
   "cell_type": "markdown",
   "source": [
    "THAT'S IT! :)"
   ],
   "metadata": {
    "collapsed": false,
    "pycharm": {
     "name": "#%% md\n"
    }
   }
  }
 ],
 "metadata": {
  "kernelspec": {
   "display_name": "Python 3",
   "language": "python",
   "name": "python3"
  },
  "language_info": {
   "codemirror_mode": {
    "name": "ipython",
    "version": 2
   },
   "file_extension": ".py",
   "mimetype": "text/x-python",
   "name": "python",
   "nbconvert_exporter": "python",
   "pygments_lexer": "ipython2",
   "version": "2.7.6"
  }
 },
 "nbformat": 4,
 "nbformat_minor": 0
}
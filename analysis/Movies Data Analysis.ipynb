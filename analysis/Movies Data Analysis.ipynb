{
 "cells": [
  {
   "cell_type": "code",
   "execution_count": 3,
   "metadata": {
    "collapsed": true
   },
   "outputs": [],
   "source": [
    "import pandas as pd\n",
    "from typing import List"
   ]
  },
  {
   "cell_type": "markdown",
   "source": [
    "### Reading the Data and Initial Stats"
   ],
   "metadata": {
    "collapsed": false
   }
  },
  {
   "cell_type": "code",
   "execution_count": 4,
   "outputs": [
    {
     "data": {
      "text/plain": "       movieId                                      title  \\\n54917   186219            The Phantom of the Opera (1962)   \n27573   122942                       The Identical (2014)   \n57252   191741                      Golden Slumber (2010)   \n22237   106032                      Chastity Bites (2013)   \n23660   110750                  Heaven Is for Real (2014)   \n25966   118330                               Blood (2012)   \n13429    65909                               Maria (2003)   \n27845   123559                            Spitfire (1995)   \n35615   142663                    Babes in Toyland (1997)   \n56822   190539  Odnoklassniki.ru: The Magic Laptop (2013)   \n28058   124059            Octopus 2: River of Fear (2001)   \n51972   179749                             Creep 2 (2017)   \n27677   123174                        The Facility (2012)   \n50475   176409                            Sensoria (2015)   \n22523   107011    Música Campesina (Country Music) (2011)   \n19046    94068                  Goodbye First Love (2011)   \n20590   100169                     After Porn Ends (2010)   \n3829      3921                         Beach Party (1963)   \n28067   124081            Return of the Gunfighter (1967)   \n36918   145720                        Batton Story (1976)   \n\n                                       genres  \n54917                   Drama|horror|MYSTERY   \n27573                                  Drama   \n57252   Action|comedy|DRAMA|mystery|Thriller   \n22237                          Comedy|horror   \n23660                                  Drama   \n25966                   Crime|drama|THRILLER   \n13429                                  Drama   \n27845                     (no genres listed)   \n35615                     Animation|children   \n56822                         Comedy|romance   \n28058                                 Horror   \n51972                          Comedy|horror   \n27677                          Horror|sci-fi   \n50475                  Drama|horror|THRILLER   \n22523                           Comedy|drama   \n19046                          Drama|romance   \n20590                            Documentary   \n3829                                  Comedy   \n28067                                Western   \n36918                     (no genres listed)   ",
      "text/html": "<div>\n<style scoped>\n    .dataframe tbody tr th:only-of-type {\n        vertical-align: middle;\n    }\n\n    .dataframe tbody tr th {\n        vertical-align: top;\n    }\n\n    .dataframe thead th {\n        text-align: right;\n    }\n</style>\n<table border=\"1\" class=\"dataframe\">\n  <thead>\n    <tr style=\"text-align: right;\">\n      <th></th>\n      <th>movieId</th>\n      <th>title</th>\n      <th>genres</th>\n    </tr>\n  </thead>\n  <tbody>\n    <tr>\n      <th>54917</th>\n      <td>186219</td>\n      <td>The Phantom of the Opera (1962)</td>\n      <td>Drama|horror|MYSTERY</td>\n    </tr>\n    <tr>\n      <th>27573</th>\n      <td>122942</td>\n      <td>The Identical (2014)</td>\n      <td>Drama</td>\n    </tr>\n    <tr>\n      <th>57252</th>\n      <td>191741</td>\n      <td>Golden Slumber (2010)</td>\n      <td>Action|comedy|DRAMA|mystery|Thriller</td>\n    </tr>\n    <tr>\n      <th>22237</th>\n      <td>106032</td>\n      <td>Chastity Bites (2013)</td>\n      <td>Comedy|horror</td>\n    </tr>\n    <tr>\n      <th>23660</th>\n      <td>110750</td>\n      <td>Heaven Is for Real (2014)</td>\n      <td>Drama</td>\n    </tr>\n    <tr>\n      <th>25966</th>\n      <td>118330</td>\n      <td>Blood (2012)</td>\n      <td>Crime|drama|THRILLER</td>\n    </tr>\n    <tr>\n      <th>13429</th>\n      <td>65909</td>\n      <td>Maria (2003)</td>\n      <td>Drama</td>\n    </tr>\n    <tr>\n      <th>27845</th>\n      <td>123559</td>\n      <td>Spitfire (1995)</td>\n      <td>(no genres listed)</td>\n    </tr>\n    <tr>\n      <th>35615</th>\n      <td>142663</td>\n      <td>Babes in Toyland (1997)</td>\n      <td>Animation|children</td>\n    </tr>\n    <tr>\n      <th>56822</th>\n      <td>190539</td>\n      <td>Odnoklassniki.ru: The Magic Laptop (2013)</td>\n      <td>Comedy|romance</td>\n    </tr>\n    <tr>\n      <th>28058</th>\n      <td>124059</td>\n      <td>Octopus 2: River of Fear (2001)</td>\n      <td>Horror</td>\n    </tr>\n    <tr>\n      <th>51972</th>\n      <td>179749</td>\n      <td>Creep 2 (2017)</td>\n      <td>Comedy|horror</td>\n    </tr>\n    <tr>\n      <th>27677</th>\n      <td>123174</td>\n      <td>The Facility (2012)</td>\n      <td>Horror|sci-fi</td>\n    </tr>\n    <tr>\n      <th>50475</th>\n      <td>176409</td>\n      <td>Sensoria (2015)</td>\n      <td>Drama|horror|THRILLER</td>\n    </tr>\n    <tr>\n      <th>22523</th>\n      <td>107011</td>\n      <td>Música Campesina (Country Music) (2011)</td>\n      <td>Comedy|drama</td>\n    </tr>\n    <tr>\n      <th>19046</th>\n      <td>94068</td>\n      <td>Goodbye First Love (2011)</td>\n      <td>Drama|romance</td>\n    </tr>\n    <tr>\n      <th>20590</th>\n      <td>100169</td>\n      <td>After Porn Ends (2010)</td>\n      <td>Documentary</td>\n    </tr>\n    <tr>\n      <th>3829</th>\n      <td>3921</td>\n      <td>Beach Party (1963)</td>\n      <td>Comedy</td>\n    </tr>\n    <tr>\n      <th>28067</th>\n      <td>124081</td>\n      <td>Return of the Gunfighter (1967)</td>\n      <td>Western</td>\n    </tr>\n    <tr>\n      <th>36918</th>\n      <td>145720</td>\n      <td>Batton Story (1976)</td>\n      <td>(no genres listed)</td>\n    </tr>\n  </tbody>\n</table>\n</div>"
     },
     "execution_count": 4,
     "metadata": {},
     "output_type": "execute_result"
    }
   ],
   "source": [
    "movies_df: pd.DataFrame = pd.read_csv('input/all_movies.csv')\n",
    "movies_df.sample(20)"
   ],
   "metadata": {
    "collapsed": false,
    "pycharm": {
     "name": "#%%\n"
    }
   }
  },
  {
   "cell_type": "code",
   "execution_count": 5,
   "outputs": [
    {
     "data": {
      "text/plain": "       movieId                                    title  \\\n0            1                         Toy Story (1995)   \n1            2                           Jumanji (1995)   \n2            3                  Grumpier Old Men (1995)   \n3            4                 Waiting to Exhale (1995)   \n4            5       Father of the Bride Part II (1995)   \n...        ...                                      ...   \n58093   193876                  The Great Glinka (1946)   \n58094   193878  Les tribulations d'une caissière (2011)   \n58095   193880                 Her Name Was Mumu (2016)   \n58096   193882                             Flora (2017)   \n58097   193886                              Leal (2018)   \n\n                                              genres  \n0       Adventure|animation|CHILDREN|comedy|Fantasy   \n1                        Adventure|children|FANTASY   \n2                                    Comedy|romance   \n3                              Comedy|drama|ROMANCE   \n4                                            Comedy   \n...                                              ...  \n58093                            (no genres listed)   \n58094                                        Comedy   \n58095                                         Drama   \n58096                 Adventure|drama|HORROR|sci-fi   \n58097                            Action|crime|DRAMA   \n\n[58098 rows x 3 columns]",
      "text/html": "<div>\n<style scoped>\n    .dataframe tbody tr th:only-of-type {\n        vertical-align: middle;\n    }\n\n    .dataframe tbody tr th {\n        vertical-align: top;\n    }\n\n    .dataframe thead th {\n        text-align: right;\n    }\n</style>\n<table border=\"1\" class=\"dataframe\">\n  <thead>\n    <tr style=\"text-align: right;\">\n      <th></th>\n      <th>movieId</th>\n      <th>title</th>\n      <th>genres</th>\n    </tr>\n  </thead>\n  <tbody>\n    <tr>\n      <th>0</th>\n      <td>1</td>\n      <td>Toy Story (1995)</td>\n      <td>Adventure|animation|CHILDREN|comedy|Fantasy</td>\n    </tr>\n    <tr>\n      <th>1</th>\n      <td>2</td>\n      <td>Jumanji (1995)</td>\n      <td>Adventure|children|FANTASY</td>\n    </tr>\n    <tr>\n      <th>2</th>\n      <td>3</td>\n      <td>Grumpier Old Men (1995)</td>\n      <td>Comedy|romance</td>\n    </tr>\n    <tr>\n      <th>3</th>\n      <td>4</td>\n      <td>Waiting to Exhale (1995)</td>\n      <td>Comedy|drama|ROMANCE</td>\n    </tr>\n    <tr>\n      <th>4</th>\n      <td>5</td>\n      <td>Father of the Bride Part II (1995)</td>\n      <td>Comedy</td>\n    </tr>\n    <tr>\n      <th>...</th>\n      <td>...</td>\n      <td>...</td>\n      <td>...</td>\n    </tr>\n    <tr>\n      <th>58093</th>\n      <td>193876</td>\n      <td>The Great Glinka (1946)</td>\n      <td>(no genres listed)</td>\n    </tr>\n    <tr>\n      <th>58094</th>\n      <td>193878</td>\n      <td>Les tribulations d'une caissière (2011)</td>\n      <td>Comedy</td>\n    </tr>\n    <tr>\n      <th>58095</th>\n      <td>193880</td>\n      <td>Her Name Was Mumu (2016)</td>\n      <td>Drama</td>\n    </tr>\n    <tr>\n      <th>58096</th>\n      <td>193882</td>\n      <td>Flora (2017)</td>\n      <td>Adventure|drama|HORROR|sci-fi</td>\n    </tr>\n    <tr>\n      <th>58097</th>\n      <td>193886</td>\n      <td>Leal (2018)</td>\n      <td>Action|crime|DRAMA</td>\n    </tr>\n  </tbody>\n</table>\n<p>58098 rows × 3 columns</p>\n</div>"
     },
     "execution_count": 5,
     "metadata": {},
     "output_type": "execute_result"
    }
   ],
   "source": [
    "movies_df"
   ],
   "metadata": {
    "collapsed": false,
    "pycharm": {
     "name": "#%%\n"
    }
   }
  },
  {
   "cell_type": "markdown",
   "source": [
    "## Step 1: Cleaning\n",
    "You shouldn't necessarily assume that your data is good.  It could be very sparse and not have much there. There could be duplication, poorly recorded or empty values, or with large text there could be a lot of garbage in there if it was an open text field\n",
    "\n",
    "Some things we'll do here:\n",
    "1. Get the number of rows and columns by looking at the shape\n",
    "2. Determine the number of non-null rows for each given column (This would tell us if a column is especially sparse)\n",
    "3. Check for duplicate rows\n",
    "\n",
    "As we find things that need to be cleaned (bad text, duplicates etc.) we will write tested cleaning functions to cleanup our input data."
   ],
   "metadata": {
    "collapsed": false
   }
  },
  {
   "cell_type": "code",
   "execution_count": 47,
   "outputs": [],
   "source": [],
   "metadata": {
    "collapsed": false,
    "pycharm": {
     "name": "#%%\n"
    }
   }
  },
  {
   "cell_type": "code",
   "execution_count": 47,
   "outputs": [],
   "source": [],
   "metadata": {
    "collapsed": false,
    "pycharm": {
     "name": "#%%\n"
    }
   }
  },
  {
   "cell_type": "markdown",
   "source": [
    "#### Let's do some cleanup."
   ],
   "metadata": {
    "collapsed": false
   }
  },
  {
   "cell_type": "code",
   "execution_count": null,
   "outputs": [],
   "source": [],
   "metadata": {
    "collapsed": false,
    "pycharm": {
     "name": "#%%\n"
    }
   }
  },
  {
   "cell_type": "code",
   "execution_count": null,
   "outputs": [],
   "source": [],
   "metadata": {
    "collapsed": false,
    "pycharm": {
     "name": "#%%\n"
    }
   }
  },
  {
   "cell_type": "code",
   "execution_count": null,
   "outputs": [],
   "source": [],
   "metadata": {
    "collapsed": false,
    "pycharm": {
     "name": "#%%\n"
    }
   }
  },
  {
   "cell_type": "markdown",
   "source": [
    "### Checking for Duplicates"
   ],
   "metadata": {
    "collapsed": false
   }
  },
  {
   "cell_type": "markdown",
   "source": [
    "#### We need to define what a \"duplicate\" is."
   ],
   "metadata": {
    "collapsed": false
   }
  },
  {
   "cell_type": "markdown",
   "source": [
    "Get a series with True or False that indicates if the title was duplicated or not."
   ],
   "metadata": {
    "collapsed": false
   }
  },
  {
   "cell_type": "code",
   "execution_count": 9,
   "outputs": [],
   "source": [],
   "metadata": {
    "collapsed": false,
    "pycharm": {
     "name": "#%%\n"
    }
   }
  },
  {
   "cell_type": "markdown",
   "source": [
    "Locate all records where the title was duplicated."
   ],
   "metadata": {
    "collapsed": false
   }
  },
  {
   "cell_type": "code",
   "execution_count": 10,
   "outputs": [],
   "source": [],
   "metadata": {
    "collapsed": false,
    "pycharm": {
     "name": "#%%\n"
    }
   }
  },
  {
   "cell_type": "markdown",
   "source": [
    "Get a series with True of False that indicates if the title and genre were both duplciated."
   ],
   "metadata": {
    "collapsed": false
   }
  },
  {
   "cell_type": "code",
   "execution_count": 11,
   "outputs": [],
   "source": [],
   "metadata": {
    "collapsed": false,
    "pycharm": {
     "name": "#%%\n"
    }
   }
  },
  {
   "cell_type": "markdown",
   "source": [
    "Locate all records where the title and genre were duplicated"
   ],
   "metadata": {
    "collapsed": false
   }
  },
  {
   "cell_type": "code",
   "execution_count": 12,
   "outputs": [],
   "source": [],
   "metadata": {
    "collapsed": false,
    "pycharm": {
     "name": "#%%\n"
    }
   }
  },
  {
   "cell_type": "markdown",
   "source": [
    "We'll need a list of titles from each category"
   ],
   "metadata": {
    "collapsed": false
   }
  },
  {
   "cell_type": "code",
   "execution_count": 47,
   "outputs": [],
   "source": [],
   "metadata": {
    "collapsed": false,
    "pycharm": {
     "name": "#%%\n"
    }
   }
  },
  {
   "cell_type": "code",
   "execution_count": 47,
   "outputs": [],
   "source": [],
   "metadata": {
    "collapsed": false,
    "pycharm": {
     "name": "#%%\n"
    }
   }
  },
  {
   "cell_type": "markdown",
   "source": [
    "We have two lists of movies:\n",
    "1. Has all the titles where the title was duplicated - in this list some titles represent records that have duplicated genre strings and some represent records that have different genre string.\n",
    "2. Has all the titles where the title and genre was duplicated - in this list the title represents records that have duplicated genre strings.\n",
    "\n",
    "With these two lists how can we get a list that is ONLY the titles where the title was duplicated but the genre was not?"
   ],
   "metadata": {
    "collapsed": false
   }
  },
  {
   "cell_type": "code",
   "execution_count": 47,
   "outputs": [],
   "source": [],
   "metadata": {
    "collapsed": false,
    "pycharm": {
     "name": "#%%\n"
    }
   }
  },
  {
   "cell_type": "markdown",
   "source": [
    "Now we can locate an example using the titles in our list."
   ],
   "metadata": {
    "collapsed": false
   }
  },
  {
   "cell_type": "code",
   "execution_count": 47,
   "outputs": [],
   "source": [],
   "metadata": {
    "collapsed": false,
    "pycharm": {
     "name": "#%%\n"
    }
   }
  },
  {
   "cell_type": "markdown",
   "source": [
    "## Step 2: Feature Preparation"
   ],
   "metadata": {
    "collapsed": false
   }
  },
  {
   "cell_type": "markdown",
   "source": [
    "We can focus on the genres to recommend movies.  Let's prepare our genres list. First we need to group by movie."
   ],
   "metadata": {
    "collapsed": false
   }
  },
  {
   "cell_type": "code",
   "execution_count": 29,
   "outputs": [],
   "source": [],
   "metadata": {
    "collapsed": false,
    "pycharm": {
     "name": "#%%\n"
    }
   }
  },
  {
   "cell_type": "code",
   "execution_count": 47,
   "outputs": [],
   "source": [],
   "metadata": {
    "collapsed": false,
    "pycharm": {
     "name": "#%%\n"
    }
   }
  },
  {
   "cell_type": "markdown",
   "source": [
    "Clean up the genres lists."
   ],
   "metadata": {
    "collapsed": false
   }
  },
  {
   "cell_type": "code",
   "execution_count": 47,
   "outputs": [],
   "source": [],
   "metadata": {
    "collapsed": false,
    "pycharm": {
     "name": "#%%\n"
    }
   }
  },
  {
   "cell_type": "code",
   "execution_count": 47,
   "outputs": [],
   "source": [],
   "metadata": {
    "collapsed": false,
    "pycharm": {
     "name": "#%%\n"
    }
   }
  },
  {
   "cell_type": "code",
   "execution_count": 47,
   "outputs": [],
   "source": [],
   "metadata": {
    "collapsed": false,
    "pycharm": {
     "name": "#%%\n"
    }
   }
  },
  {
   "cell_type": "markdown",
   "source": [
    "Let's think about our recommendation engine now again.  Let's say that we want to recommend movies to by recommending the movies with the most similar genres list."
   ],
   "metadata": {
    "collapsed": false
   }
  },
  {
   "cell_type": "markdown",
   "source": [
    "In order to to use TF IDF we need a list of all the \"words\" (genres) used in our corpus.  This is easy for us to do.  We can make a list of all the genres by:\n",
    "1. Creating a column with a list of genres\n",
    "2. Grouping by the genre\n",
    "3. Aggregating the results\n",
    "4. Transforming the resulting series into a list of genres"
   ],
   "metadata": {
    "collapsed": false
   }
  },
  {
   "cell_type": "markdown",
   "source": [
    "Group by Genre"
   ],
   "metadata": {
    "collapsed": false
   }
  },
  {
   "cell_type": "code",
   "execution_count": 36,
   "outputs": [],
   "source": [],
   "metadata": {
    "collapsed": false,
    "pycharm": {
     "name": "#%%\n"
    }
   }
  },
  {
   "cell_type": "markdown",
   "source": [
    "create a list of genres"
   ],
   "metadata": {
    "collapsed": false
   }
  },
  {
   "cell_type": "code",
   "execution_count": 47,
   "outputs": [],
   "source": [],
   "metadata": {
    "collapsed": false,
    "pycharm": {
     "name": "#%%\n"
    }
   }
  },
  {
   "cell_type": "markdown",
   "source": [
    "Let's turn our genres column into a space separated list of genres (as if they were words in a document)"
   ],
   "metadata": {
    "collapsed": false
   }
  },
  {
   "cell_type": "code",
   "execution_count": 47,
   "outputs": [],
   "source": [],
   "metadata": {
    "collapsed": false,
    "pycharm": {
     "name": "#%%\n"
    }
   }
  },
  {
   "cell_type": "markdown",
   "source": [
    "reset our index again"
   ],
   "metadata": {
    "collapsed": false
   }
  },
  {
   "cell_type": "code",
   "execution_count": 47,
   "outputs": [],
   "source": [],
   "metadata": {
    "collapsed": false,
    "pycharm": {
     "name": "#%%\n"
    }
   }
  },
  {
   "cell_type": "code",
   "execution_count": 40,
   "outputs": [],
   "source": [
    "from sklearn.feature_extraction.text import TfidfVectorizer\n",
    "tf = TfidfVectorizer(vocabulary=all_genres)\n",
    "tfidf_matrix = tf.fit_transform(movies_ready_for_vectorizer['genres'])"
   ],
   "metadata": {
    "collapsed": false,
    "pycharm": {
     "name": "#%%\n"
    }
   }
  },
  {
   "cell_type": "markdown",
   "source": [
    "To see what our matrix looks like we can do the following:"
   ],
   "metadata": {
    "collapsed": false
   }
  },
  {
   "cell_type": "code",
   "execution_count": 41,
   "outputs": [
    {
     "data": {
      "text/plain": "        0    1         2         3         4         5    6         7    8   \\\n0      0.0  0.0  0.000000  0.000000  0.000000  0.000000  0.0  0.000000  0.0   \n1      0.0  0.0  0.000000  0.000000  0.775664  0.000000  0.0  0.631147  0.0   \n2      0.0  0.0  0.000000  0.000000  0.000000  0.000000  0.0  0.000000  0.0   \n3      0.0  0.0  0.000000  0.000000  0.000000  0.000000  0.0  0.292225  0.0   \n4      0.0  0.0  0.000000  0.000000  0.000000  0.000000  0.0  0.000000  0.0   \n...    ...  ...       ...       ...       ...       ...  ...       ...  ...   \n50091  0.0  0.0  0.000000  0.000000  0.440955  0.671256  0.0  0.000000  0.0   \n50092  0.0  0.0  0.000000  0.000000  0.000000  0.000000  0.0  0.378841  0.0   \n50093  0.0  0.0  0.000000  0.000000  0.486407  0.000000  0.0  0.000000  0.0   \n50094  0.0  0.0  0.707986  0.706226  0.000000  0.000000  0.0  0.000000  0.0   \n50095  0.0  0.0  0.000000  0.000000  0.000000  0.000000  0.0  0.000000  0.0   \n\n        9         10   11   12        13        14   15        16        17  \\\n0      0.0  0.000000  0.0  1.0  0.000000  0.000000  0.0  0.000000  0.000000   \n1      0.0  0.000000  0.0  0.0  0.000000  0.000000  0.0  0.000000  0.000000   \n2      0.0  1.000000  0.0  0.0  0.000000  0.000000  0.0  0.000000  0.000000   \n3      0.0  0.529955  0.0  0.0  0.645119  0.000000  0.0  0.466448  0.000000   \n4      0.0  1.000000  0.0  0.0  0.000000  0.000000  0.0  0.000000  0.000000   \n...    ...       ...  ...  ...       ...       ...  ...       ...       ...   \n50091  0.0  0.000000  0.0  0.0  0.000000  0.595797  0.0  0.000000  0.000000   \n50092  0.0  0.000000  0.0  0.0  0.000000  0.000000  0.0  0.000000  0.925462   \n50093  0.0  0.000000  0.0  0.0  0.873732  0.000000  0.0  0.000000  0.000000   \n50094  0.0  0.000000  0.0  0.0  0.000000  0.000000  0.0  0.000000  0.000000   \n50095  0.0  1.000000  0.0  0.0  0.000000  0.000000  0.0  0.000000  0.000000   \n\n        18  \n0      0.0  \n1      0.0  \n2      0.0  \n3      0.0  \n4      0.0  \n...    ...  \n50091  0.0  \n50092  0.0  \n50093  0.0  \n50094  0.0  \n50095  0.0  \n\n[50096 rows x 19 columns]",
      "text/html": "<div>\n<style scoped>\n    .dataframe tbody tr th:only-of-type {\n        vertical-align: middle;\n    }\n\n    .dataframe tbody tr th {\n        vertical-align: top;\n    }\n\n    .dataframe thead th {\n        text-align: right;\n    }\n</style>\n<table border=\"1\" class=\"dataframe\">\n  <thead>\n    <tr style=\"text-align: right;\">\n      <th></th>\n      <th>0</th>\n      <th>1</th>\n      <th>2</th>\n      <th>3</th>\n      <th>4</th>\n      <th>5</th>\n      <th>6</th>\n      <th>7</th>\n      <th>8</th>\n      <th>9</th>\n      <th>10</th>\n      <th>11</th>\n      <th>12</th>\n      <th>13</th>\n      <th>14</th>\n      <th>15</th>\n      <th>16</th>\n      <th>17</th>\n      <th>18</th>\n    </tr>\n  </thead>\n  <tbody>\n    <tr>\n      <th>0</th>\n      <td>0.0</td>\n      <td>0.0</td>\n      <td>0.000000</td>\n      <td>0.000000</td>\n      <td>0.000000</td>\n      <td>0.000000</td>\n      <td>0.0</td>\n      <td>0.000000</td>\n      <td>0.0</td>\n      <td>0.0</td>\n      <td>0.000000</td>\n      <td>0.0</td>\n      <td>1.0</td>\n      <td>0.000000</td>\n      <td>0.000000</td>\n      <td>0.0</td>\n      <td>0.000000</td>\n      <td>0.000000</td>\n      <td>0.0</td>\n    </tr>\n    <tr>\n      <th>1</th>\n      <td>0.0</td>\n      <td>0.0</td>\n      <td>0.000000</td>\n      <td>0.000000</td>\n      <td>0.775664</td>\n      <td>0.000000</td>\n      <td>0.0</td>\n      <td>0.631147</td>\n      <td>0.0</td>\n      <td>0.0</td>\n      <td>0.000000</td>\n      <td>0.0</td>\n      <td>0.0</td>\n      <td>0.000000</td>\n      <td>0.000000</td>\n      <td>0.0</td>\n      <td>0.000000</td>\n      <td>0.000000</td>\n      <td>0.0</td>\n    </tr>\n    <tr>\n      <th>2</th>\n      <td>0.0</td>\n      <td>0.0</td>\n      <td>0.000000</td>\n      <td>0.000000</td>\n      <td>0.000000</td>\n      <td>0.000000</td>\n      <td>0.0</td>\n      <td>0.000000</td>\n      <td>0.0</td>\n      <td>0.0</td>\n      <td>1.000000</td>\n      <td>0.0</td>\n      <td>0.0</td>\n      <td>0.000000</td>\n      <td>0.000000</td>\n      <td>0.0</td>\n      <td>0.000000</td>\n      <td>0.000000</td>\n      <td>0.0</td>\n    </tr>\n    <tr>\n      <th>3</th>\n      <td>0.0</td>\n      <td>0.0</td>\n      <td>0.000000</td>\n      <td>0.000000</td>\n      <td>0.000000</td>\n      <td>0.000000</td>\n      <td>0.0</td>\n      <td>0.292225</td>\n      <td>0.0</td>\n      <td>0.0</td>\n      <td>0.529955</td>\n      <td>0.0</td>\n      <td>0.0</td>\n      <td>0.645119</td>\n      <td>0.000000</td>\n      <td>0.0</td>\n      <td>0.466448</td>\n      <td>0.000000</td>\n      <td>0.0</td>\n    </tr>\n    <tr>\n      <th>4</th>\n      <td>0.0</td>\n      <td>0.0</td>\n      <td>0.000000</td>\n      <td>0.000000</td>\n      <td>0.000000</td>\n      <td>0.000000</td>\n      <td>0.0</td>\n      <td>0.000000</td>\n      <td>0.0</td>\n      <td>0.0</td>\n      <td>1.000000</td>\n      <td>0.0</td>\n      <td>0.0</td>\n      <td>0.000000</td>\n      <td>0.000000</td>\n      <td>0.0</td>\n      <td>0.000000</td>\n      <td>0.000000</td>\n      <td>0.0</td>\n    </tr>\n    <tr>\n      <th>...</th>\n      <td>...</td>\n      <td>...</td>\n      <td>...</td>\n      <td>...</td>\n      <td>...</td>\n      <td>...</td>\n      <td>...</td>\n      <td>...</td>\n      <td>...</td>\n      <td>...</td>\n      <td>...</td>\n      <td>...</td>\n      <td>...</td>\n      <td>...</td>\n      <td>...</td>\n      <td>...</td>\n      <td>...</td>\n      <td>...</td>\n      <td>...</td>\n    </tr>\n    <tr>\n      <th>50091</th>\n      <td>0.0</td>\n      <td>0.0</td>\n      <td>0.000000</td>\n      <td>0.000000</td>\n      <td>0.440955</td>\n      <td>0.671256</td>\n      <td>0.0</td>\n      <td>0.000000</td>\n      <td>0.0</td>\n      <td>0.0</td>\n      <td>0.000000</td>\n      <td>0.0</td>\n      <td>0.0</td>\n      <td>0.000000</td>\n      <td>0.595797</td>\n      <td>0.0</td>\n      <td>0.000000</td>\n      <td>0.000000</td>\n      <td>0.0</td>\n    </tr>\n    <tr>\n      <th>50092</th>\n      <td>0.0</td>\n      <td>0.0</td>\n      <td>0.000000</td>\n      <td>0.000000</td>\n      <td>0.000000</td>\n      <td>0.000000</td>\n      <td>0.0</td>\n      <td>0.378841</td>\n      <td>0.0</td>\n      <td>0.0</td>\n      <td>0.000000</td>\n      <td>0.0</td>\n      <td>0.0</td>\n      <td>0.000000</td>\n      <td>0.000000</td>\n      <td>0.0</td>\n      <td>0.000000</td>\n      <td>0.925462</td>\n      <td>0.0</td>\n    </tr>\n    <tr>\n      <th>50093</th>\n      <td>0.0</td>\n      <td>0.0</td>\n      <td>0.000000</td>\n      <td>0.000000</td>\n      <td>0.486407</td>\n      <td>0.000000</td>\n      <td>0.0</td>\n      <td>0.000000</td>\n      <td>0.0</td>\n      <td>0.0</td>\n      <td>0.000000</td>\n      <td>0.0</td>\n      <td>0.0</td>\n      <td>0.873732</td>\n      <td>0.000000</td>\n      <td>0.0</td>\n      <td>0.000000</td>\n      <td>0.000000</td>\n      <td>0.0</td>\n    </tr>\n    <tr>\n      <th>50094</th>\n      <td>0.0</td>\n      <td>0.0</td>\n      <td>0.707986</td>\n      <td>0.706226</td>\n      <td>0.000000</td>\n      <td>0.000000</td>\n      <td>0.0</td>\n      <td>0.000000</td>\n      <td>0.0</td>\n      <td>0.0</td>\n      <td>0.000000</td>\n      <td>0.0</td>\n      <td>0.0</td>\n      <td>0.000000</td>\n      <td>0.000000</td>\n      <td>0.0</td>\n      <td>0.000000</td>\n      <td>0.000000</td>\n      <td>0.0</td>\n    </tr>\n    <tr>\n      <th>50095</th>\n      <td>0.0</td>\n      <td>0.0</td>\n      <td>0.000000</td>\n      <td>0.000000</td>\n      <td>0.000000</td>\n      <td>0.000000</td>\n      <td>0.0</td>\n      <td>0.000000</td>\n      <td>0.0</td>\n      <td>0.0</td>\n      <td>1.000000</td>\n      <td>0.0</td>\n      <td>0.0</td>\n      <td>0.000000</td>\n      <td>0.000000</td>\n      <td>0.0</td>\n      <td>0.000000</td>\n      <td>0.000000</td>\n      <td>0.0</td>\n    </tr>\n  </tbody>\n</table>\n<p>50096 rows × 19 columns</p>\n</div>"
     },
     "execution_count": 41,
     "metadata": {},
     "output_type": "execute_result"
    }
   ],
   "source": [
    "pd.DataFrame(tfidf_matrix.toarray())"
   ],
   "metadata": {
    "collapsed": false,
    "pycharm": {
     "name": "#%%\n"
    }
   }
  },
  {
   "cell_type": "markdown",
   "source": [
    "Now let's calculate the dot product of the tfidf_martix with itself in order to get a cosine similarity matrix."
   ],
   "metadata": {
    "collapsed": false
   }
  },
  {
   "cell_type": "code",
   "execution_count": 43,
   "outputs": [],
   "source": [
    "from sklearn.metrics.pairwise import cosine_similarity\n",
    "\n",
    "cosine_sim = cosine_similarity(tfidf_matrix, tfidf_matrix)"
   ],
   "metadata": {
    "collapsed": false,
    "pycharm": {
     "name": "#%%\n"
    }
   }
  },
  {
   "cell_type": "markdown",
   "source": [
    " What do we expect the dimensions of this matrix to be?"
   ],
   "metadata": {
    "collapsed": false
   }
  },
  {
   "cell_type": "code",
   "execution_count": 44,
   "outputs": [
    {
     "data": {
      "text/plain": "array([[1.        , 0.        , 0.        , ..., 0.        , 0.        ,\n        0.        ],\n       [0.        , 1.        , 0.        , ..., 0.37728826, 0.        ,\n        0.        ],\n       [0.        , 0.        , 1.        , ..., 0.        , 0.        ,\n        1.        ],\n       ...,\n       [0.        , 0.37728826, 0.        , ..., 1.        , 0.        ,\n        0.        ],\n       [0.        , 0.        , 0.        , ..., 0.        , 1.        ,\n        0.        ],\n       [0.        , 0.        , 1.        , ..., 0.        , 0.        ,\n        1.        ]])"
     },
     "execution_count": 44,
     "metadata": {},
     "output_type": "execute_result"
    }
   ],
   "source": [
    "cosine_sim"
   ],
   "metadata": {
    "collapsed": false,
    "pycharm": {
     "name": "#%%\n"
    }
   }
  },
  {
   "cell_type": "markdown",
   "source": [
    "Notice that this matrix also has 1's along the diagonals. Why is that?"
   ],
   "metadata": {
    "collapsed": false
   }
  },
  {
   "cell_type": "code",
   "execution_count": 45,
   "outputs": [
    {
     "data": {
      "text/plain": "(50096, 50096)"
     },
     "execution_count": 45,
     "metadata": {},
     "output_type": "execute_result"
    }
   ],
   "source": [
    "cosine_sim.shape"
   ],
   "metadata": {
    "collapsed": false,
    "pycharm": {
     "name": "#%%\n"
    }
   }
  },
  {
   "cell_type": "markdown",
   "source": [
    "The next part you can Test Drive because now we'll add logic to grab the top 30 movie titles by index\n",
    "\n",
    "We can build this in a separate module and import it here to see some results"
   ],
   "metadata": {
    "collapsed": false
   }
  },
  {
   "cell_type": "code",
   "execution_count": 46,
   "outputs": [
    {
     "ename": "NameError",
     "evalue": "name 'movies_with_ratings_combined_df' is not defined",
     "output_type": "error",
     "traceback": [
      "\u001B[0;31m---------------------------------------------------------------------------\u001B[0m",
      "\u001B[0;31mNameError\u001B[0m                                 Traceback (most recent call last)",
      "\u001B[0;32m/var/folders/p5/b_txxkwd5bl901mk43z_hmkw0000gn/T/ipykernel_90834/2102374311.py\u001B[0m in \u001B[0;36m<module>\u001B[0;34m\u001B[0m\n\u001B[1;32m      1\u001B[0m \u001B[0;32mfrom\u001B[0m \u001B[0manalysis\u001B[0m\u001B[0;34m.\u001B[0m\u001B[0mutils\u001B[0m\u001B[0;34m.\u001B[0m\u001B[0mrecommendation\u001B[0m \u001B[0;32mimport\u001B[0m \u001B[0mget_similar_movies\u001B[0m\u001B[0;34m\u001B[0m\u001B[0;34m\u001B[0m\u001B[0m\n\u001B[1;32m      2\u001B[0m \u001B[0;34m\u001B[0m\u001B[0m\n\u001B[0;32m----> 3\u001B[0;31m \u001B[0msimilar_movies\u001B[0m \u001B[0;34m=\u001B[0m \u001B[0mget_similar_movies\u001B[0m\u001B[0;34m(\u001B[0m\u001B[0;34m'Toy Story (1995)'\u001B[0m\u001B[0;34m,\u001B[0m \u001B[0mcosine_sim\u001B[0m\u001B[0;34m,\u001B[0m \u001B[0mmovies_with_ratings_combined_df\u001B[0m\u001B[0;34m)\u001B[0m\u001B[0;34m\u001B[0m\u001B[0;34m\u001B[0m\u001B[0m\n\u001B[0m\u001B[1;32m      4\u001B[0m \u001B[0msimilar_movies\u001B[0m\u001B[0;34m\u001B[0m\u001B[0;34m\u001B[0m\u001B[0m\n",
      "\u001B[0;31mNameError\u001B[0m: name 'movies_with_ratings_combined_df' is not defined"
     ]
    }
   ],
   "source": [
    "from analysis.utils.recommendation import get_similar_movies\n",
    "\n",
    "similar_movies = get_similar_movies('Toy Story (1995)', cosine_sim, movies_with_ratings_combined_df)\n",
    "similar_movies"
   ],
   "metadata": {
    "collapsed": false,
    "pycharm": {
     "name": "#%%\n"
    }
   }
  },
  {
   "cell_type": "markdown",
   "source": [
    "THAT'S IT! :)"
   ],
   "metadata": {
    "collapsed": false,
    "pycharm": {
     "name": "#%% md\n"
    }
   }
  }
 ],
 "metadata": {
  "kernelspec": {
   "display_name": "Python 3",
   "language": "python",
   "name": "python3"
  },
  "language_info": {
   "codemirror_mode": {
    "name": "ipython",
    "version": 2
   },
   "file_extension": ".py",
   "mimetype": "text/x-python",
   "name": "python",
   "nbconvert_exporter": "python",
   "pygments_lexer": "ipython2",
   "version": "2.7.6"
  }
 },
 "nbformat": 4,
 "nbformat_minor": 0
}
{
 "cells": [
  {
   "cell_type": "code",
   "execution_count": 18,
   "metadata": {
    "collapsed": true
   },
   "outputs": [],
   "source": [
    "import pandas as pd"
   ]
  },
  {
   "cell_type": "markdown",
   "source": [
    "### The Data and what we want to do with it:\n",
    "\n",
    "These datasets where originally from Kaggle here is the description they gave:\n",
    "\n",
    "This dataset contains 27753444 ratings and 1108997 tag applications across 58098 movies. These data sets were created by 283228 users between January 09, 1995 and September 26, 2018. This dataset was generated on September 26, 2018.\n",
    "\n",
    "Goal: Product a simple recommendation engine that accepts a movie title and then recommends two similar movies"
   ],
   "metadata": {
    "collapsed": false
   }
  },
  {
   "cell_type": "markdown",
   "source": [
    "### Reading the Data and Initial Stats"
   ],
   "metadata": {
    "collapsed": false
   }
  },
  {
   "cell_type": "code",
   "execution_count": 19,
   "outputs": [
    {
     "data": {
      "text/plain": "       movieId                                    title  \\\n0            1                         Toy Story (1995)   \n1            2                           Jumanji (1995)   \n2            3                  Grumpier Old Men (1995)   \n3            4                 Waiting to Exhale (1995)   \n4            5       Father of the Bride Part II (1995)   \n...        ...                                      ...   \n58093   193876                  The Great Glinka (1946)   \n58094   193878  Les tribulations d'une caissière (2011)   \n58095   193880                 Her Name Was Mumu (2016)   \n58096   193882                             Flora (2017)   \n58097   193886                              Leal (2018)   \n\n                                              genres  \n0       Adventure|animation|CHILDREN|comedy|Fantasy   \n1                        Adventure|children|FANTASY   \n2                                    Comedy|romance   \n3                              Comedy|drama|ROMANCE   \n4                                            Comedy   \n...                                              ...  \n58093                            (no genres listed)   \n58094                                        Comedy   \n58095                                         Drama   \n58096                 Adventure|drama|HORROR|sci-fi   \n58097                            Action|crime|DRAMA   \n\n[58098 rows x 3 columns]",
      "text/html": "<div>\n<style scoped>\n    .dataframe tbody tr th:only-of-type {\n        vertical-align: middle;\n    }\n\n    .dataframe tbody tr th {\n        vertical-align: top;\n    }\n\n    .dataframe thead th {\n        text-align: right;\n    }\n</style>\n<table border=\"1\" class=\"dataframe\">\n  <thead>\n    <tr style=\"text-align: right;\">\n      <th></th>\n      <th>movieId</th>\n      <th>title</th>\n      <th>genres</th>\n    </tr>\n  </thead>\n  <tbody>\n    <tr>\n      <th>0</th>\n      <td>1</td>\n      <td>Toy Story (1995)</td>\n      <td>Adventure|animation|CHILDREN|comedy|Fantasy</td>\n    </tr>\n    <tr>\n      <th>1</th>\n      <td>2</td>\n      <td>Jumanji (1995)</td>\n      <td>Adventure|children|FANTASY</td>\n    </tr>\n    <tr>\n      <th>2</th>\n      <td>3</td>\n      <td>Grumpier Old Men (1995)</td>\n      <td>Comedy|romance</td>\n    </tr>\n    <tr>\n      <th>3</th>\n      <td>4</td>\n      <td>Waiting to Exhale (1995)</td>\n      <td>Comedy|drama|ROMANCE</td>\n    </tr>\n    <tr>\n      <th>4</th>\n      <td>5</td>\n      <td>Father of the Bride Part II (1995)</td>\n      <td>Comedy</td>\n    </tr>\n    <tr>\n      <th>...</th>\n      <td>...</td>\n      <td>...</td>\n      <td>...</td>\n    </tr>\n    <tr>\n      <th>58093</th>\n      <td>193876</td>\n      <td>The Great Glinka (1946)</td>\n      <td>(no genres listed)</td>\n    </tr>\n    <tr>\n      <th>58094</th>\n      <td>193878</td>\n      <td>Les tribulations d'une caissière (2011)</td>\n      <td>Comedy</td>\n    </tr>\n    <tr>\n      <th>58095</th>\n      <td>193880</td>\n      <td>Her Name Was Mumu (2016)</td>\n      <td>Drama</td>\n    </tr>\n    <tr>\n      <th>58096</th>\n      <td>193882</td>\n      <td>Flora (2017)</td>\n      <td>Adventure|drama|HORROR|sci-fi</td>\n    </tr>\n    <tr>\n      <th>58097</th>\n      <td>193886</td>\n      <td>Leal (2018)</td>\n      <td>Action|crime|DRAMA</td>\n    </tr>\n  </tbody>\n</table>\n<p>58098 rows × 3 columns</p>\n</div>"
     },
     "execution_count": 19,
     "metadata": {},
     "output_type": "execute_result"
    }
   ],
   "source": [
    "movies_df = pd.read_csv('input/all_movies.csv')\n",
    "movies_df"
   ],
   "metadata": {
    "collapsed": false,
    "pycharm": {
     "name": "#%%\n"
    }
   }
  },
  {
   "cell_type": "code",
   "execution_count": 20,
   "outputs": [
    {
     "data": {
      "text/plain": "          userId  movieId  rating   timestamp\n0              1      307     3.5  1256677221\n1              1      481     3.5  1256677456\n2              1     1091     1.5  1256677471\n3              1     1257     4.5  1256677460\n4              1     1449     4.5  1256677264\n...          ...      ...     ...         ...\n27753439  283228     8542     4.5  1379882795\n27753440  283228     8712     4.5  1379882751\n27753441  283228    34405     4.5  1379882889\n27753442  283228    44761     4.5  1354159524\n27753443  283228    54286     4.5  1354159718\n\n[27753444 rows x 4 columns]",
      "text/html": "<div>\n<style scoped>\n    .dataframe tbody tr th:only-of-type {\n        vertical-align: middle;\n    }\n\n    .dataframe tbody tr th {\n        vertical-align: top;\n    }\n\n    .dataframe thead th {\n        text-align: right;\n    }\n</style>\n<table border=\"1\" class=\"dataframe\">\n  <thead>\n    <tr style=\"text-align: right;\">\n      <th></th>\n      <th>userId</th>\n      <th>movieId</th>\n      <th>rating</th>\n      <th>timestamp</th>\n    </tr>\n  </thead>\n  <tbody>\n    <tr>\n      <th>0</th>\n      <td>1</td>\n      <td>307</td>\n      <td>3.5</td>\n      <td>1256677221</td>\n    </tr>\n    <tr>\n      <th>1</th>\n      <td>1</td>\n      <td>481</td>\n      <td>3.5</td>\n      <td>1256677456</td>\n    </tr>\n    <tr>\n      <th>2</th>\n      <td>1</td>\n      <td>1091</td>\n      <td>1.5</td>\n      <td>1256677471</td>\n    </tr>\n    <tr>\n      <th>3</th>\n      <td>1</td>\n      <td>1257</td>\n      <td>4.5</td>\n      <td>1256677460</td>\n    </tr>\n    <tr>\n      <th>4</th>\n      <td>1</td>\n      <td>1449</td>\n      <td>4.5</td>\n      <td>1256677264</td>\n    </tr>\n    <tr>\n      <th>...</th>\n      <td>...</td>\n      <td>...</td>\n      <td>...</td>\n      <td>...</td>\n    </tr>\n    <tr>\n      <th>27753439</th>\n      <td>283228</td>\n      <td>8542</td>\n      <td>4.5</td>\n      <td>1379882795</td>\n    </tr>\n    <tr>\n      <th>27753440</th>\n      <td>283228</td>\n      <td>8712</td>\n      <td>4.5</td>\n      <td>1379882751</td>\n    </tr>\n    <tr>\n      <th>27753441</th>\n      <td>283228</td>\n      <td>34405</td>\n      <td>4.5</td>\n      <td>1379882889</td>\n    </tr>\n    <tr>\n      <th>27753442</th>\n      <td>283228</td>\n      <td>44761</td>\n      <td>4.5</td>\n      <td>1354159524</td>\n    </tr>\n    <tr>\n      <th>27753443</th>\n      <td>283228</td>\n      <td>54286</td>\n      <td>4.5</td>\n      <td>1354159718</td>\n    </tr>\n  </tbody>\n</table>\n<p>27753444 rows × 4 columns</p>\n</div>"
     },
     "execution_count": 20,
     "metadata": {},
     "output_type": "execute_result"
    }
   ],
   "source": [
    "ratings_df = pd.read_csv('input/ratings.csv')\n",
    "ratings_df"
   ],
   "metadata": {
    "collapsed": false,
    "pycharm": {
     "name": "#%%\n"
    }
   }
  },
  {
   "cell_type": "markdown",
   "source": [
    "## Step 1: Cleaning\n",
    "You shouldn't necessarily assume that your data is good.  It could be very sparse and not have much there. There could be duplication, poorly recorded or empty values, or with large text there could be a lot of garbage in there if it was an open text field\n",
    "\n",
    "Some things we'll do here:\n",
    "1. Get the number of rows and columns by looking at the shape\n",
    "2. Determine the number of non-null rows for each given column (This would tell us if a column is especially sparse)\n",
    "3. Check for duplicate rows\n",
    "\n",
    "As we find things that need to be cleaned (bad text, duplicates etc.) we will write tested cleaning functions to cleanup our input data."
   ],
   "metadata": {
    "collapsed": false
   }
  },
  {
   "cell_type": "code",
   "execution_count": 21,
   "outputs": [
    {
     "data": {
      "text/plain": "(58098, 3)"
     },
     "execution_count": 21,
     "metadata": {},
     "output_type": "execute_result"
    }
   ],
   "source": [
    "movies_df.shape"
   ],
   "metadata": {
    "collapsed": false,
    "pycharm": {
     "name": "#%%\n"
    }
   }
  },
  {
   "cell_type": "code",
   "execution_count": 22,
   "outputs": [
    {
     "name": "stdout",
     "output_type": "stream",
     "text": [
      "<class 'pandas.core.frame.DataFrame'>\n",
      "RangeIndex: 58098 entries, 0 to 58097\n",
      "Data columns (total 3 columns):\n",
      " #   Column   Non-Null Count  Dtype \n",
      "---  ------   --------------  ----- \n",
      " 0   movieId  58098 non-null  int64 \n",
      " 1   title    58098 non-null  object\n",
      " 2   genres   58098 non-null  object\n",
      "dtypes: int64(1), object(2)\n",
      "memory usage: 1.3+ MB\n"
     ]
    }
   ],
   "source": [
    "movies_df.info()"
   ],
   "metadata": {
    "collapsed": false,
    "pycharm": {
     "name": "#%%\n"
    }
   }
  },
  {
   "cell_type": "markdown",
   "source": [
    "#### Checking for Duplicates\n",
    "You can add assert statements throughout.  These are good as checks because they can directly translate into your tests or even just live in your scripts"
   ],
   "metadata": {
    "collapsed": false
   }
  },
  {
   "cell_type": "markdown",
   "source": [
    "Here we need to define what a duplicate is. If you don't specify column names then pandas will only call something a duplicate when all columns match.\n",
    "\n",
    "For movies, it seems like a \"duplicate\" would be rows that have exactly matching titles and genres"
   ],
   "metadata": {
    "collapsed": false
   }
  },
  {
   "cell_type": "code",
   "execution_count": 23,
   "outputs": [
    {
     "ename": "AssertionError",
     "evalue": "",
     "output_type": "error",
     "traceback": [
      "\u001B[0;31m---------------------------------------------------------------------------\u001B[0m",
      "\u001B[0;31mAssertionError\u001B[0m                            Traceback (most recent call last)",
      "\u001B[0;32m/var/folders/p5/b_txxkwd5bl901mk43z_hmkw0000gn/T/ipykernel_11879/3962551104.py\u001B[0m in \u001B[0;36m<cell line: 1>\u001B[0;34m()\u001B[0m\n\u001B[0;32m----> 1\u001B[0;31m \u001B[0;32massert\u001B[0m \u001B[0;34m(\u001B[0m\u001B[0mlen\u001B[0m\u001B[0;34m(\u001B[0m\u001B[0mmovies_df\u001B[0m\u001B[0;34m)\u001B[0m \u001B[0;34m-\u001B[0m \u001B[0mlen\u001B[0m\u001B[0;34m(\u001B[0m\u001B[0mmovies_df\u001B[0m\u001B[0;34m.\u001B[0m\u001B[0mdrop_duplicates\u001B[0m\u001B[0;34m(\u001B[0m\u001B[0;34m[\u001B[0m\u001B[0;34m'title'\u001B[0m\u001B[0;34m,\u001B[0m \u001B[0;34m'genres'\u001B[0m\u001B[0;34m]\u001B[0m\u001B[0;34m)\u001B[0m\u001B[0;34m)\u001B[0m\u001B[0;34m)\u001B[0m \u001B[0;34m==\u001B[0m \u001B[0;36m0\u001B[0m\u001B[0;34m\u001B[0m\u001B[0;34m\u001B[0m\u001B[0m\n\u001B[0m",
      "\u001B[0;31mAssertionError\u001B[0m: "
     ]
    }
   ],
   "source": [
    "assert (len(movies_df) - len(movies_df.drop_duplicates(['title', 'genres']))) == 0"
   ],
   "metadata": {
    "collapsed": false,
    "pycharm": {
     "name": "#%%\n"
    }
   }
  },
  {
   "cell_type": "markdown",
   "source": [
    "That is expected, but let's also make sure that the number of duplicated titles is equal to the number of duplicated genres/title combos"
   ],
   "metadata": {
    "collapsed": false
   }
  },
  {
   "cell_type": "code",
   "execution_count": 24,
   "outputs": [
    {
     "data": {
      "text/plain": "(14, 3)"
     },
     "execution_count": 24,
     "metadata": {},
     "output_type": "execute_result"
    }
   ],
   "source": [
    "movies_df.loc[movies_df.duplicated(['title', 'genres'])].shape"
   ],
   "metadata": {
    "collapsed": false,
    "pycharm": {
     "name": "#%%\n"
    }
   }
  },
  {
   "cell_type": "code",
   "execution_count": 25,
   "outputs": [
    {
     "data": {
      "text/plain": "(78, 3)"
     },
     "execution_count": 25,
     "metadata": {},
     "output_type": "execute_result"
    }
   ],
   "source": [
    "movies_df.loc[movies_df.duplicated(['title'])].shape"
   ],
   "metadata": {
    "collapsed": false,
    "pycharm": {
     "name": "#%%\n"
    }
   }
  },
  {
   "cell_type": "markdown",
   "source": [
    "#### Cleaning the duplicated/bad columns"
   ],
   "metadata": {
    "collapsed": false
   }
  },
  {
   "cell_type": "markdown",
   "source": [
    "Notice that the genres column has inconsistency in it's capitalization.  We probably also want to make sure any leading or trailing spaces are removed. So let's start by cleaning up the genres column."
   ],
   "metadata": {
    "collapsed": false
   }
  },
  {
   "cell_type": "code",
   "execution_count": 26,
   "outputs": [],
   "source": [
    "def lower_case_and_strip_spaces(input):\n",
    "    return input.lower().strip()"
   ],
   "metadata": {
    "collapsed": false,
    "pycharm": {
     "name": "#%%\n"
    }
   }
  },
  {
   "cell_type": "markdown",
   "source": [
    "We can start by writing tests in the notebook.  Our tests right now won't need any extra libraries like pytest.  They will simply be a function that runs our cleaning code against an input and asserts that the output is what we expect."
   ],
   "metadata": {
    "collapsed": false
   }
  },
  {
   "cell_type": "code",
   "execution_count": 27,
   "outputs": [],
   "source": [
    "initial: str = \"Crime|drama|HORROR\"\n",
    "expected: str = \"crime|drama|horror\"\n",
    "\n",
    "initial_2: str = \" CRIME|DRAMA|HORROR \"\n",
    "expected_2: str = \"crime|drama|horror\"\n",
    "\n",
    "initial_3: str = \" CRIME \"\n",
    "expected_3: str = \"crime\"\n",
    "\n",
    "initial_4: str = \" comedy \"\n",
    "expected_4: str = \"comedy\"\n",
    "actual = lower_case_and_strip_spaces(initial)\n",
    "assert actual == expected\n",
    "actual = lower_case_and_strip_spaces(initial_2)\n",
    "assert actual == expected_2\n",
    "actual = lower_case_and_strip_spaces(initial_3)\n",
    "assert actual == expected_3\n",
    "actual = lower_case_and_strip_spaces(initial_4)\n",
    "assert actual == expected_4"
   ],
   "metadata": {
    "collapsed": false,
    "pycharm": {
     "name": "#%%\n"
    }
   }
  },
  {
   "cell_type": "code",
   "execution_count": 28,
   "outputs": [
    {
     "data": {
      "text/plain": "       movieId                                    title  \\\n0            1                         Toy Story (1995)   \n1            2                           Jumanji (1995)   \n2            3                  Grumpier Old Men (1995)   \n3            4                 Waiting to Exhale (1995)   \n4            5       Father of the Bride Part II (1995)   \n...        ...                                      ...   \n58093   193876                  The Great Glinka (1946)   \n58094   193878  Les tribulations d'une caissière (2011)   \n58095   193880                 Her Name Was Mumu (2016)   \n58096   193882                             Flora (2017)   \n58097   193886                              Leal (2018)   \n\n                                            genres  \n0      adventure|animation|children|comedy|fantasy  \n1                       adventure|children|fantasy  \n2                                   comedy|romance  \n3                             comedy|drama|romance  \n4                                           comedy  \n...                                            ...  \n58093                           (no genres listed)  \n58094                                       comedy  \n58095                                        drama  \n58096                adventure|drama|horror|sci-fi  \n58097                           action|crime|drama  \n\n[58098 rows x 3 columns]",
      "text/html": "<div>\n<style scoped>\n    .dataframe tbody tr th:only-of-type {\n        vertical-align: middle;\n    }\n\n    .dataframe tbody tr th {\n        vertical-align: top;\n    }\n\n    .dataframe thead th {\n        text-align: right;\n    }\n</style>\n<table border=\"1\" class=\"dataframe\">\n  <thead>\n    <tr style=\"text-align: right;\">\n      <th></th>\n      <th>movieId</th>\n      <th>title</th>\n      <th>genres</th>\n    </tr>\n  </thead>\n  <tbody>\n    <tr>\n      <th>0</th>\n      <td>1</td>\n      <td>Toy Story (1995)</td>\n      <td>adventure|animation|children|comedy|fantasy</td>\n    </tr>\n    <tr>\n      <th>1</th>\n      <td>2</td>\n      <td>Jumanji (1995)</td>\n      <td>adventure|children|fantasy</td>\n    </tr>\n    <tr>\n      <th>2</th>\n      <td>3</td>\n      <td>Grumpier Old Men (1995)</td>\n      <td>comedy|romance</td>\n    </tr>\n    <tr>\n      <th>3</th>\n      <td>4</td>\n      <td>Waiting to Exhale (1995)</td>\n      <td>comedy|drama|romance</td>\n    </tr>\n    <tr>\n      <th>4</th>\n      <td>5</td>\n      <td>Father of the Bride Part II (1995)</td>\n      <td>comedy</td>\n    </tr>\n    <tr>\n      <th>...</th>\n      <td>...</td>\n      <td>...</td>\n      <td>...</td>\n    </tr>\n    <tr>\n      <th>58093</th>\n      <td>193876</td>\n      <td>The Great Glinka (1946)</td>\n      <td>(no genres listed)</td>\n    </tr>\n    <tr>\n      <th>58094</th>\n      <td>193878</td>\n      <td>Les tribulations d'une caissière (2011)</td>\n      <td>comedy</td>\n    </tr>\n    <tr>\n      <th>58095</th>\n      <td>193880</td>\n      <td>Her Name Was Mumu (2016)</td>\n      <td>drama</td>\n    </tr>\n    <tr>\n      <th>58096</th>\n      <td>193882</td>\n      <td>Flora (2017)</td>\n      <td>adventure|drama|horror|sci-fi</td>\n    </tr>\n    <tr>\n      <th>58097</th>\n      <td>193886</td>\n      <td>Leal (2018)</td>\n      <td>action|crime|drama</td>\n    </tr>\n  </tbody>\n</table>\n<p>58098 rows × 3 columns</p>\n</div>"
     },
     "execution_count": 28,
     "metadata": {},
     "output_type": "execute_result"
    }
   ],
   "source": [
    "movies_df['genres'] = movies_df['genres'].apply(lower_case_and_strip_spaces)\n",
    "movies_df"
   ],
   "metadata": {
    "collapsed": false,
    "pycharm": {
     "name": "#%%\n"
    }
   }
  },
  {
   "cell_type": "markdown",
   "source": [
    "Now we can move our cleaning function to a python file. From here on our we can test drive and write other cleaning functions in that file.  Then we can import the code to use in our notebook."
   ],
   "metadata": {
    "collapsed": false
   }
  },
  {
   "cell_type": "code",
   "execution_count": 29,
   "outputs": [
    {
     "data": {
      "text/plain": "       movieId                        title                   genres\n15902    80330               Offside (2006)             comedy|drama\n20835   101212             Girl, The (2012)                    drama\n25046   115777               Beneath (2013)                   horror\n27572   122940         Clear History (2013)                   comedy\n29852   128991        Johnny Express (2014)  animation|comedy|sci-fi\n30226   130062               Darling (2007)                    drama\n36172   143978                  Home (2008)                    drama\n38804   150310               Macbeth (2015)                    drama\n44387   163246  Seven Years Bad Luck (1921)                   comedy\n48620   172427            Little Man (2006)                   comedy\n52192   180205               Dracula (1931)                   horror\n52644   181329                 Lucky (2017)                    drama\n52795   181655                Detour (2017)                 thriller\n57269   191775        Berlin Calling (2008)             comedy|drama",
      "text/html": "<div>\n<style scoped>\n    .dataframe tbody tr th:only-of-type {\n        vertical-align: middle;\n    }\n\n    .dataframe tbody tr th {\n        vertical-align: top;\n    }\n\n    .dataframe thead th {\n        text-align: right;\n    }\n</style>\n<table border=\"1\" class=\"dataframe\">\n  <thead>\n    <tr style=\"text-align: right;\">\n      <th></th>\n      <th>movieId</th>\n      <th>title</th>\n      <th>genres</th>\n    </tr>\n  </thead>\n  <tbody>\n    <tr>\n      <th>15902</th>\n      <td>80330</td>\n      <td>Offside (2006)</td>\n      <td>comedy|drama</td>\n    </tr>\n    <tr>\n      <th>20835</th>\n      <td>101212</td>\n      <td>Girl, The (2012)</td>\n      <td>drama</td>\n    </tr>\n    <tr>\n      <th>25046</th>\n      <td>115777</td>\n      <td>Beneath (2013)</td>\n      <td>horror</td>\n    </tr>\n    <tr>\n      <th>27572</th>\n      <td>122940</td>\n      <td>Clear History (2013)</td>\n      <td>comedy</td>\n    </tr>\n    <tr>\n      <th>29852</th>\n      <td>128991</td>\n      <td>Johnny Express (2014)</td>\n      <td>animation|comedy|sci-fi</td>\n    </tr>\n    <tr>\n      <th>30226</th>\n      <td>130062</td>\n      <td>Darling (2007)</td>\n      <td>drama</td>\n    </tr>\n    <tr>\n      <th>36172</th>\n      <td>143978</td>\n      <td>Home (2008)</td>\n      <td>drama</td>\n    </tr>\n    <tr>\n      <th>38804</th>\n      <td>150310</td>\n      <td>Macbeth (2015)</td>\n      <td>drama</td>\n    </tr>\n    <tr>\n      <th>44387</th>\n      <td>163246</td>\n      <td>Seven Years Bad Luck (1921)</td>\n      <td>comedy</td>\n    </tr>\n    <tr>\n      <th>48620</th>\n      <td>172427</td>\n      <td>Little Man (2006)</td>\n      <td>comedy</td>\n    </tr>\n    <tr>\n      <th>52192</th>\n      <td>180205</td>\n      <td>Dracula (1931)</td>\n      <td>horror</td>\n    </tr>\n    <tr>\n      <th>52644</th>\n      <td>181329</td>\n      <td>Lucky (2017)</td>\n      <td>drama</td>\n    </tr>\n    <tr>\n      <th>52795</th>\n      <td>181655</td>\n      <td>Detour (2017)</td>\n      <td>thriller</td>\n    </tr>\n    <tr>\n      <th>57269</th>\n      <td>191775</td>\n      <td>Berlin Calling (2008)</td>\n      <td>comedy|drama</td>\n    </tr>\n  </tbody>\n</table>\n</div>"
     },
     "execution_count": 29,
     "metadata": {},
     "output_type": "execute_result"
    }
   ],
   "source": [
    "duplicated_titles_and_genres = movies_df.loc[movies_df.duplicated(['title', 'genres'])]\n",
    "duplicated_titles_and_genres"
   ],
   "metadata": {
    "collapsed": false,
    "pycharm": {
     "name": "#%%\n"
    }
   }
  },
  {
   "cell_type": "code",
   "execution_count": 30,
   "outputs": [
    {
     "data": {
      "text/plain": "       movieId                                      title  \\\n9142     26958                                Emma (1996)   \n9157     26982                       Men with Guns (1997)   \n13309    64997                   War of the Worlds (2005)   \n13395    65665                              Hamlet (2000)   \n13614    67459                               Chaos (2005)   \n...        ...                                        ...   \n57269   191775                      Berlin Calling (2008)   \n57305   191867                  Let There Be Light (2017)   \n57361   192003  Journey to the Center of the Earth (2008)   \n57463   192243                             Contact (1992)   \n57953   193559                               Cargo (2017)   \n\n                                genres  \n9142                           romance  \n9157                             drama  \n13309                    action|sci-fi  \n13395                            drama  \n13614               crime|drama|horror  \n...                                ...  \n57269                     comedy|drama  \n57305                      documentary  \n57361  action|adventure|fantasy|sci-fi  \n57463    drama|horror|mystery|thriller  \n57953                            drama  \n\n[78 rows x 3 columns]",
      "text/html": "<div>\n<style scoped>\n    .dataframe tbody tr th:only-of-type {\n        vertical-align: middle;\n    }\n\n    .dataframe tbody tr th {\n        vertical-align: top;\n    }\n\n    .dataframe thead th {\n        text-align: right;\n    }\n</style>\n<table border=\"1\" class=\"dataframe\">\n  <thead>\n    <tr style=\"text-align: right;\">\n      <th></th>\n      <th>movieId</th>\n      <th>title</th>\n      <th>genres</th>\n    </tr>\n  </thead>\n  <tbody>\n    <tr>\n      <th>9142</th>\n      <td>26958</td>\n      <td>Emma (1996)</td>\n      <td>romance</td>\n    </tr>\n    <tr>\n      <th>9157</th>\n      <td>26982</td>\n      <td>Men with Guns (1997)</td>\n      <td>drama</td>\n    </tr>\n    <tr>\n      <th>13309</th>\n      <td>64997</td>\n      <td>War of the Worlds (2005)</td>\n      <td>action|sci-fi</td>\n    </tr>\n    <tr>\n      <th>13395</th>\n      <td>65665</td>\n      <td>Hamlet (2000)</td>\n      <td>drama</td>\n    </tr>\n    <tr>\n      <th>13614</th>\n      <td>67459</td>\n      <td>Chaos (2005)</td>\n      <td>crime|drama|horror</td>\n    </tr>\n    <tr>\n      <th>...</th>\n      <td>...</td>\n      <td>...</td>\n      <td>...</td>\n    </tr>\n    <tr>\n      <th>57269</th>\n      <td>191775</td>\n      <td>Berlin Calling (2008)</td>\n      <td>comedy|drama</td>\n    </tr>\n    <tr>\n      <th>57305</th>\n      <td>191867</td>\n      <td>Let There Be Light (2017)</td>\n      <td>documentary</td>\n    </tr>\n    <tr>\n      <th>57361</th>\n      <td>192003</td>\n      <td>Journey to the Center of the Earth (2008)</td>\n      <td>action|adventure|fantasy|sci-fi</td>\n    </tr>\n    <tr>\n      <th>57463</th>\n      <td>192243</td>\n      <td>Contact (1992)</td>\n      <td>drama|horror|mystery|thriller</td>\n    </tr>\n    <tr>\n      <th>57953</th>\n      <td>193559</td>\n      <td>Cargo (2017)</td>\n      <td>drama</td>\n    </tr>\n  </tbody>\n</table>\n<p>78 rows × 3 columns</p>\n</div>"
     },
     "execution_count": 30,
     "metadata": {},
     "output_type": "execute_result"
    }
   ],
   "source": [
    "duplicated_titles = movies_df.loc[movies_df.duplicated(['title'])]\n",
    "duplicated_titles"
   ],
   "metadata": {
    "collapsed": false,
    "pycharm": {
     "name": "#%%\n"
    }
   }
  },
  {
   "cell_type": "markdown",
   "source": [
    "We still have the same number of rows in each \"duplicate\" category (duplicate based on title and duplicate based on title & genre).  So let's continue our analysis and see why that is.\n",
    "\n",
    "It would be good to see an example of a title that is a duplicate title, but has a different list of genres in each entry.\n",
    "\n",
    "To do that we can create lists of the title column from both data sets and find the difference between the two lists."
   ],
   "metadata": {
    "collapsed": false
   }
  },
  {
   "cell_type": "code",
   "execution_count": 33,
   "outputs": [
    {
     "data": {
      "text/plain": "['Ecstasy (2011)',\n 'The Promise (2016)',\n 'The Midnight Man (2016)',\n 'Good People (2014)',\n 'Casanova (2005)',\n 'The Void (2016)',\n 'Office (2015)',\n 'Slow Burn (2000)',\n 'Family Life (1971)',\n 'Saturn 3 (1980)',\n 'Clockstoppers (2002)',\n 'Eros (2004)',\n 'Cargo (2017)',\n 'Let There Be Light (2017)',\n 'Tag (2015)',\n 'Hamlet (2000)',\n 'Inside (2012)',\n 'Absolution (2015)',\n 'Interrogation (2016)',\n 'Rose (2011)',\n 'The Connection (2014)',\n 'Aladdin (1992)',\n 'Sing (2016)',\n 'Truth (2015)',\n 'The Dream Team (2012)',\n 'Ava (2017)',\n 'Blackout (2007)',\n 'Another World (2014)',\n 'The Break-In (2016)',\n 'Grace (2014)',\n 'Free Fall (2014)',\n 'Frozen (2010)',\n 'Delirium (2014)',\n 'Confessions of a Dangerous Mind (2002)',\n 'Escape Room (2017)',\n 'Deranged (2012)',\n '20,000 Leagues Under the Sea (1997)',\n 'The Tunnel (1933)',\n 'Classmates (2016)',\n 'Forsaken (2016)',\n 'Paradise (2013)',\n 'The Forest (2016)',\n 'Weekend (2011)',\n 'Men with Guns (1997)',\n 'Chaos (2005)',\n 'Black Field (2009)',\n 'Shelter (2015)',\n 'The Boss (2016)',\n 'Aftermath (2012)',\n 'Apparition (2014)',\n 'War of the Worlds (2005)',\n 'Journey to the Center of the Earth (2008)',\n 'Eden (2014)',\n 'Stranded (2015)',\n 'Gossip (2000)',\n 'Noise (2007)',\n 'Contact (1992)',\n 'Veronica (2017)',\n 'Holiday (2014)',\n 'Emma (1996)',\n 'The Reunion (2011)',\n 'Hostage (2005)',\n 'Lagaan: Once Upon a Time in India (2001)',\n 'Escalation (1968)']"
     },
     "execution_count": 33,
     "metadata": {},
     "output_type": "execute_result"
    }
   ],
   "source": [
    "from typing import List\n",
    "\n",
    "list_of_titles_from_duplicated_titles_and_genres: List = duplicated_titles_and_genres['title'].to_list()\n",
    "list_of_titles_from_duplicated_titles: List = duplicated_titles['title'].to_list()\n",
    "duplicated_titles = list(set(list_of_titles_from_duplicated_titles).difference(set(list_of_titles_from_duplicated_titles_and_genres)))\n",
    "duplicated_titles"
   ],
   "metadata": {
    "collapsed": false,
    "pycharm": {
     "name": "#%%\n"
    }
   }
  },
  {
   "cell_type": "markdown",
   "source": [
    "Now we can see which titles are duplicates by title but not duplicates by title & genre.  Let's look at an example:"
   ],
   "metadata": {
    "collapsed": false
   }
  },
  {
   "cell_type": "code",
   "execution_count": 32,
   "outputs": [
    {
     "data": {
      "text/plain": "       movieId           title                                       genres\n582        588  Aladdin (1992)  adventure|animation|children|comedy|musical\n24657   114240  Aladdin (1992)  adventure|animation|children|comedy|fantasy",
      "text/html": "<div>\n<style scoped>\n    .dataframe tbody tr th:only-of-type {\n        vertical-align: middle;\n    }\n\n    .dataframe tbody tr th {\n        vertical-align: top;\n    }\n\n    .dataframe thead th {\n        text-align: right;\n    }\n</style>\n<table border=\"1\" class=\"dataframe\">\n  <thead>\n    <tr style=\"text-align: right;\">\n      <th></th>\n      <th>movieId</th>\n      <th>title</th>\n      <th>genres</th>\n    </tr>\n  </thead>\n  <tbody>\n    <tr>\n      <th>582</th>\n      <td>588</td>\n      <td>Aladdin (1992)</td>\n      <td>adventure|animation|children|comedy|musical</td>\n    </tr>\n    <tr>\n      <th>24657</th>\n      <td>114240</td>\n      <td>Aladdin (1992)</td>\n      <td>adventure|animation|children|comedy|fantasy</td>\n    </tr>\n  </tbody>\n</table>\n</div>"
     },
     "execution_count": 32,
     "metadata": {},
     "output_type": "execute_result"
    }
   ],
   "source": [
    "movies_df.loc[movies_df['title'] == 'Aladdin (1992)']"
   ],
   "metadata": {
    "collapsed": false,
    "pycharm": {
     "name": "#%%\n"
    }
   }
  },
  {
   "cell_type": "markdown",
   "source": [
    "It was possible that a movie title could have been assigned to two different movies that have different genres, but based on our example it looks like this really is the same movie with two slight different genre lists.  So now let's write a couple cleaning functions in our cleaning module that can combine these lists for us."
   ],
   "metadata": {
    "collapsed": false
   }
  },
  {
   "cell_type": "code",
   "execution_count": 34,
   "outputs": [],
   "source": [
    "from analysis.utils.cleaning import find_duplicates_and_combine\n",
    "\n",
    "movies_with_combined_genres_df = find_duplicates_and_combine(movies_df, duplicated_titles)"
   ],
   "metadata": {
    "collapsed": false,
    "pycharm": {
     "name": "#%%\n"
    }
   }
  },
  {
   "cell_type": "markdown",
   "source": [
    "Before we run this - the way we have written it the movies data frame should not lose any rows. Let's assert that remains true."
   ],
   "metadata": {
    "collapsed": false
   }
  },
  {
   "cell_type": "code",
   "execution_count": 35,
   "outputs": [],
   "source": [
    "assert len(movies_with_combined_genres_df.index) == len(movies_df.index)"
   ],
   "metadata": {
    "collapsed": false,
    "pycharm": {
     "name": "#%%\n"
    }
   }
  },
  {
   "cell_type": "markdown",
   "source": [
    "### Ratings Data Frame\n",
    "Same Steps\n",
    "1. Easily get the number of rows and columns by looking at the shape\n",
    "2. Determine the number of non-null rows for each given column\n",
    "3. Check for duplicate rows"
   ],
   "metadata": {
    "collapsed": false
   }
  },
  {
   "cell_type": "code",
   "execution_count": 36,
   "outputs": [
    {
     "data": {
      "text/plain": "(27753444, 4)"
     },
     "execution_count": 36,
     "metadata": {},
     "output_type": "execute_result"
    }
   ],
   "source": [
    "ratings_df.shape"
   ],
   "metadata": {
    "collapsed": false,
    "pycharm": {
     "name": "#%%\n"
    }
   }
  },
  {
   "cell_type": "code",
   "execution_count": 37,
   "outputs": [
    {
     "data": {
      "text/plain": "userId       27753444\nmovieId      27753444\nrating       27753444\ntimestamp    27753444\ndtype: int64"
     },
     "execution_count": 37,
     "metadata": {},
     "output_type": "execute_result"
    }
   ],
   "source": [
    "ratings_df.notnull().agg(sum)"
   ],
   "metadata": {
    "collapsed": false,
    "pycharm": {
     "name": "#%%\n"
    }
   }
  },
  {
   "cell_type": "markdown",
   "source": [
    "Here we should again define what it means to be a \"duplicate\":"
   ],
   "metadata": {
    "collapsed": false
   }
  },
  {
   "cell_type": "code",
   "execution_count": 38,
   "outputs": [],
   "source": [
    "assert (len(ratings_df) - len(ratings_df.drop_duplicates(subset=['userId', 'movieId', 'rating', 'timestamp']))) == 0"
   ],
   "metadata": {
    "collapsed": false,
    "pycharm": {
     "name": "#%%\n"
    }
   }
  },
  {
   "cell_type": "markdown",
   "source": [
    "## Step 2: Feature Creation\n",
    "We want to be able to recommend movies to users. What are some things we could do next?\n",
    "\n",
    "Answer:\n",
    "- Join movies to ratings\n",
    "- Group by movie title to find an average rating for each movie"
   ],
   "metadata": {
    "collapsed": false
   }
  },
  {
   "cell_type": "markdown",
   "source": [
    "Before we join we need to figure which direction to join - so we should ask ourselves:\n",
    "\n",
    "Why are we joining the two data frames?\n",
    "How many rows should the resulting data frame have?\n",
    "Do we expect a given column to have any nulls after the join?"
   ],
   "metadata": {
    "collapsed": false
   }
  },
  {
   "cell_type": "markdown",
   "source": [
    "Here we will left join movies to their ratings.  If we expect all movies to have ratings than we can start with an assertion that indicates that."
   ],
   "metadata": {
    "collapsed": false
   }
  },
  {
   "cell_type": "markdown",
   "source": [],
   "metadata": {
    "collapsed": false
   }
  },
  {
   "cell_type": "code",
   "execution_count": 39,
   "outputs": [],
   "source": [
    "movies_ratings_joined_df = movies_df.set_index('movieId').join(ratings_df.set_index('movieId')).reset_index()"
   ],
   "metadata": {
    "collapsed": false,
    "pycharm": {
     "name": "#%%\n"
    }
   }
  },
  {
   "cell_type": "code",
   "execution_count": 40,
   "outputs": [],
   "source": [
    "movies_with_ratings = movies_ratings_joined_df.loc[movies_ratings_joined_df['rating'].notna()]"
   ],
   "metadata": {
    "collapsed": false,
    "pycharm": {
     "name": "#%%\n"
    }
   }
  },
  {
   "cell_type": "code",
   "execution_count": 41,
   "outputs": [
    {
     "ename": "AssertionError",
     "evalue": "",
     "output_type": "error",
     "traceback": [
      "\u001B[0;31m---------------------------------------------------------------------------\u001B[0m",
      "\u001B[0;31mAssertionError\u001B[0m                            Traceback (most recent call last)",
      "\u001B[0;32m/var/folders/p5/b_txxkwd5bl901mk43z_hmkw0000gn/T/ipykernel_11879/456833705.py\u001B[0m in \u001B[0;36m<cell line: 1>\u001B[0;34m()\u001B[0m\n\u001B[0;32m----> 1\u001B[0;31m \u001B[0;32massert\u001B[0m \u001B[0mlen\u001B[0m\u001B[0;34m(\u001B[0m\u001B[0mmovies_ratings_joined_df\u001B[0m\u001B[0;34m.\u001B[0m\u001B[0mindex\u001B[0m\u001B[0;34m)\u001B[0m \u001B[0;34m==\u001B[0m \u001B[0mlen\u001B[0m\u001B[0;34m(\u001B[0m\u001B[0mmovies_with_ratings\u001B[0m\u001B[0;34m.\u001B[0m\u001B[0mindex\u001B[0m\u001B[0;34m)\u001B[0m\u001B[0;34m\u001B[0m\u001B[0;34m\u001B[0m\u001B[0m\n\u001B[0m",
      "\u001B[0;31mAssertionError\u001B[0m: "
     ]
    }
   ],
   "source": [
    "assert len(movies_ratings_joined_df.index) == len(movies_with_ratings.index)"
   ],
   "metadata": {
    "collapsed": false,
    "pycharm": {
     "name": "#%%\n"
    }
   }
  },
  {
   "cell_type": "markdown",
   "source": [
    "Well our assertion fails but what does that mean?"
   ],
   "metadata": {
    "collapsed": false
   }
  },
  {
   "cell_type": "code",
   "execution_count": 42,
   "outputs": [],
   "source": [
    "movies_missing_ratings = movies_ratings_joined_df.loc[movies_ratings_joined_df['rating'].isna()]"
   ],
   "metadata": {
    "collapsed": false,
    "pycharm": {
     "name": "#%%\n"
    }
   }
  },
  {
   "cell_type": "code",
   "execution_count": 43,
   "outputs": [
    {
     "data": {
      "text/plain": "          movieId                                      title  \\\n21871974    25817                     Break of Hearts (1935)   \n21914110    26361                    Baby Blue Marine (1976)   \n21971501    27153  Can't Be Heaven (Forever Together) (2000)   \n21986044    27433                               Bark! (2002)   \n22225201    31945                 Always a Bridesmaid (2000)   \n...           ...                                        ...   \n27756743   192399                         Under Wraps (1997)   \n27757129   192933                               Rosie (2018)   \n27757205   193109                   Ach śpij kochanie (2017)   \n27757340   193321                             Pledges (2018)   \n27757488   193593                   The Happy Thieves (1962)   \n\n                                 genres  userId  rating  timestamp  \n21871974                  drama|romance     NaN     NaN        NaN  \n21914110                          drama     NaN     NaN        NaN  \n21971501  children|comedy|drama|romance     NaN     NaN        NaN  \n21986044                   comedy|drama     NaN     NaN        NaN  \n22225201                    documentary     NaN     NaN        NaN  \n...                                 ...     ...     ...        ...  \n27756743         children|comedy|horror     NaN     NaN        NaN  \n27757129                          drama     NaN     NaN        NaN  \n27757205                 crime|thriller     NaN     NaN        NaN  \n27757340                  comedy|horror     NaN     NaN        NaN  \n27757488             comedy|crime|drama     NaN     NaN        NaN  \n\n[4209 rows x 6 columns]",
      "text/html": "<div>\n<style scoped>\n    .dataframe tbody tr th:only-of-type {\n        vertical-align: middle;\n    }\n\n    .dataframe tbody tr th {\n        vertical-align: top;\n    }\n\n    .dataframe thead th {\n        text-align: right;\n    }\n</style>\n<table border=\"1\" class=\"dataframe\">\n  <thead>\n    <tr style=\"text-align: right;\">\n      <th></th>\n      <th>movieId</th>\n      <th>title</th>\n      <th>genres</th>\n      <th>userId</th>\n      <th>rating</th>\n      <th>timestamp</th>\n    </tr>\n  </thead>\n  <tbody>\n    <tr>\n      <th>21871974</th>\n      <td>25817</td>\n      <td>Break of Hearts (1935)</td>\n      <td>drama|romance</td>\n      <td>NaN</td>\n      <td>NaN</td>\n      <td>NaN</td>\n    </tr>\n    <tr>\n      <th>21914110</th>\n      <td>26361</td>\n      <td>Baby Blue Marine (1976)</td>\n      <td>drama</td>\n      <td>NaN</td>\n      <td>NaN</td>\n      <td>NaN</td>\n    </tr>\n    <tr>\n      <th>21971501</th>\n      <td>27153</td>\n      <td>Can't Be Heaven (Forever Together) (2000)</td>\n      <td>children|comedy|drama|romance</td>\n      <td>NaN</td>\n      <td>NaN</td>\n      <td>NaN</td>\n    </tr>\n    <tr>\n      <th>21986044</th>\n      <td>27433</td>\n      <td>Bark! (2002)</td>\n      <td>comedy|drama</td>\n      <td>NaN</td>\n      <td>NaN</td>\n      <td>NaN</td>\n    </tr>\n    <tr>\n      <th>22225201</th>\n      <td>31945</td>\n      <td>Always a Bridesmaid (2000)</td>\n      <td>documentary</td>\n      <td>NaN</td>\n      <td>NaN</td>\n      <td>NaN</td>\n    </tr>\n    <tr>\n      <th>...</th>\n      <td>...</td>\n      <td>...</td>\n      <td>...</td>\n      <td>...</td>\n      <td>...</td>\n      <td>...</td>\n    </tr>\n    <tr>\n      <th>27756743</th>\n      <td>192399</td>\n      <td>Under Wraps (1997)</td>\n      <td>children|comedy|horror</td>\n      <td>NaN</td>\n      <td>NaN</td>\n      <td>NaN</td>\n    </tr>\n    <tr>\n      <th>27757129</th>\n      <td>192933</td>\n      <td>Rosie (2018)</td>\n      <td>drama</td>\n      <td>NaN</td>\n      <td>NaN</td>\n      <td>NaN</td>\n    </tr>\n    <tr>\n      <th>27757205</th>\n      <td>193109</td>\n      <td>Ach śpij kochanie (2017)</td>\n      <td>crime|thriller</td>\n      <td>NaN</td>\n      <td>NaN</td>\n      <td>NaN</td>\n    </tr>\n    <tr>\n      <th>27757340</th>\n      <td>193321</td>\n      <td>Pledges (2018)</td>\n      <td>comedy|horror</td>\n      <td>NaN</td>\n      <td>NaN</td>\n      <td>NaN</td>\n    </tr>\n    <tr>\n      <th>27757488</th>\n      <td>193593</td>\n      <td>The Happy Thieves (1962)</td>\n      <td>comedy|crime|drama</td>\n      <td>NaN</td>\n      <td>NaN</td>\n      <td>NaN</td>\n    </tr>\n  </tbody>\n</table>\n<p>4209 rows × 6 columns</p>\n</div>"
     },
     "execution_count": 43,
     "metadata": {},
     "output_type": "execute_result"
    }
   ],
   "source": [
    "movies_missing_ratings"
   ],
   "metadata": {
    "collapsed": false,
    "pycharm": {
     "name": "#%%\n"
    }
   }
  },
  {
   "cell_type": "markdown",
   "source": [],
   "metadata": {
    "collapsed": false
   }
  },
  {
   "cell_type": "markdown",
   "source": [
    "Joining movies to their ratings means that we have a subset of movies that don't have ratings.  We actually may want to know about these so it's good to know that they exist. For now though, we'll drop the records where the rating is NaN and then assert we get the number of rows we expect."
   ],
   "metadata": {
    "collapsed": false
   }
  },
  {
   "cell_type": "code",
   "execution_count": 44,
   "outputs": [],
   "source": [
    "movies_ratings_joined_df = movies_ratings_joined_df.loc[movies_ratings_joined_df['rating'].notna()]"
   ],
   "metadata": {
    "collapsed": false,
    "pycharm": {
     "name": "#%%\n"
    }
   }
  },
  {
   "cell_type": "code",
   "execution_count": 45,
   "outputs": [
    {
     "data": {
      "text/plain": "          movieId                                    title  \\\n0               1                         Toy Story (1995)   \n1               1                         Toy Story (1995)   \n2               1                         Toy Story (1995)   \n3               1                         Toy Story (1995)   \n4               1                         Toy Story (1995)   \n...           ...                                      ...   \n27757648   193878  Les tribulations d'une caissière (2011)   \n27757649   193880                 Her Name Was Mumu (2016)   \n27757650   193882                             Flora (2017)   \n27757651   193886                              Leal (2018)   \n27757652   193886                              Leal (2018)   \n\n                                               genres    userId  rating  \\\n0         adventure|animation|children|comedy|fantasy       4.0     4.0   \n1         adventure|animation|children|comedy|fantasy      10.0     5.0   \n2         adventure|animation|children|comedy|fantasy      14.0     4.5   \n3         adventure|animation|children|comedy|fantasy      15.0     4.0   \n4         adventure|animation|children|comedy|fantasy      22.0     4.0   \n...                                               ...       ...     ...   \n27757648                                       comedy  176871.0     2.0   \n27757649                                        drama   81710.0     2.0   \n27757650                adventure|drama|horror|sci-fi   33330.0     2.0   \n27757651                           action|crime|drama  206009.0     2.5   \n27757652                           action|crime|drama  226715.0     4.0   \n\n             timestamp  \n0         1.113766e+09  \n1         9.488858e+08  \n2         1.442169e+09  \n3         1.370810e+09  \n4         1.237623e+09  \n...                ...  \n27757648  1.537875e+09  \n27757649  1.537886e+09  \n27757650  1.537891e+09  \n27757651  1.537918e+09  \n27757652  1.537916e+09  \n\n[27753444 rows x 6 columns]",
      "text/html": "<div>\n<style scoped>\n    .dataframe tbody tr th:only-of-type {\n        vertical-align: middle;\n    }\n\n    .dataframe tbody tr th {\n        vertical-align: top;\n    }\n\n    .dataframe thead th {\n        text-align: right;\n    }\n</style>\n<table border=\"1\" class=\"dataframe\">\n  <thead>\n    <tr style=\"text-align: right;\">\n      <th></th>\n      <th>movieId</th>\n      <th>title</th>\n      <th>genres</th>\n      <th>userId</th>\n      <th>rating</th>\n      <th>timestamp</th>\n    </tr>\n  </thead>\n  <tbody>\n    <tr>\n      <th>0</th>\n      <td>1</td>\n      <td>Toy Story (1995)</td>\n      <td>adventure|animation|children|comedy|fantasy</td>\n      <td>4.0</td>\n      <td>4.0</td>\n      <td>1.113766e+09</td>\n    </tr>\n    <tr>\n      <th>1</th>\n      <td>1</td>\n      <td>Toy Story (1995)</td>\n      <td>adventure|animation|children|comedy|fantasy</td>\n      <td>10.0</td>\n      <td>5.0</td>\n      <td>9.488858e+08</td>\n    </tr>\n    <tr>\n      <th>2</th>\n      <td>1</td>\n      <td>Toy Story (1995)</td>\n      <td>adventure|animation|children|comedy|fantasy</td>\n      <td>14.0</td>\n      <td>4.5</td>\n      <td>1.442169e+09</td>\n    </tr>\n    <tr>\n      <th>3</th>\n      <td>1</td>\n      <td>Toy Story (1995)</td>\n      <td>adventure|animation|children|comedy|fantasy</td>\n      <td>15.0</td>\n      <td>4.0</td>\n      <td>1.370810e+09</td>\n    </tr>\n    <tr>\n      <th>4</th>\n      <td>1</td>\n      <td>Toy Story (1995)</td>\n      <td>adventure|animation|children|comedy|fantasy</td>\n      <td>22.0</td>\n      <td>4.0</td>\n      <td>1.237623e+09</td>\n    </tr>\n    <tr>\n      <th>...</th>\n      <td>...</td>\n      <td>...</td>\n      <td>...</td>\n      <td>...</td>\n      <td>...</td>\n      <td>...</td>\n    </tr>\n    <tr>\n      <th>27757648</th>\n      <td>193878</td>\n      <td>Les tribulations d'une caissière (2011)</td>\n      <td>comedy</td>\n      <td>176871.0</td>\n      <td>2.0</td>\n      <td>1.537875e+09</td>\n    </tr>\n    <tr>\n      <th>27757649</th>\n      <td>193880</td>\n      <td>Her Name Was Mumu (2016)</td>\n      <td>drama</td>\n      <td>81710.0</td>\n      <td>2.0</td>\n      <td>1.537886e+09</td>\n    </tr>\n    <tr>\n      <th>27757650</th>\n      <td>193882</td>\n      <td>Flora (2017)</td>\n      <td>adventure|drama|horror|sci-fi</td>\n      <td>33330.0</td>\n      <td>2.0</td>\n      <td>1.537891e+09</td>\n    </tr>\n    <tr>\n      <th>27757651</th>\n      <td>193886</td>\n      <td>Leal (2018)</td>\n      <td>action|crime|drama</td>\n      <td>206009.0</td>\n      <td>2.5</td>\n      <td>1.537918e+09</td>\n    </tr>\n    <tr>\n      <th>27757652</th>\n      <td>193886</td>\n      <td>Leal (2018)</td>\n      <td>action|crime|drama</td>\n      <td>226715.0</td>\n      <td>4.0</td>\n      <td>1.537916e+09</td>\n    </tr>\n  </tbody>\n</table>\n<p>27753444 rows × 6 columns</p>\n</div>"
     },
     "execution_count": 45,
     "metadata": {},
     "output_type": "execute_result"
    }
   ],
   "source": [
    "movies_ratings_joined_df"
   ],
   "metadata": {
    "collapsed": false,
    "pycharm": {
     "name": "#%%\n"
    }
   }
  },
  {
   "cell_type": "markdown",
   "source": [
    "Next let's get an average rating for each movie by grouping by title"
   ],
   "metadata": {
    "collapsed": false
   }
  },
  {
   "cell_type": "code",
   "execution_count": 117,
   "outputs": [],
   "source": [
    "movies_with_all_ratings_df = movies_ratings_joined_df.groupby(['title']).agg({'rating': lambda x : x.to_list(), 'genres': lambda x: x.to_list()[0], 'timestamp': lambda x: x.to_list()}).reset_index()"
   ],
   "metadata": {
    "collapsed": false,
    "pycharm": {
     "name": "#%%\n"
    }
   }
  },
  {
   "cell_type": "code",
   "execution_count": 118,
   "outputs": [
    {
     "data": {
      "text/plain": "                                                   title  \\\n19310                          Hatfields & McCoys (2012)   \n43963                                The Deceased (1965)   \n35107                                   Puck Hogs (2009)   \n11154                   Daria: Is It College Yet? (2002)   \n36927                                        Room (2015)   \n25661                             Les invincibles (2013)   \n44694                          The Good Die Young (1954)   \n16256                             For Ever Mozart (1996)   \n13240                     Dr. Jekyll and Mr. Hyde (1941)   \n12263                            Deux mondes, Les (2007)   \n28763                                   Metroland (1997)   \n35021                               Prophecy, The (1995)   \n5140   Beginning of the Great Revival (a.k.a. The Fou...   \n34540                                   Possessed (1947)   \n5336                  Berlin, Schoenhauser Corner (1957)   \n40161  Sophie Scholl: The Final Days (Sophie Scholl -...   \n1524                                      Absolon (2003)   \n46717                                   The Rizen (2017)   \n51827      What Have They Done to Your Daughters? (1974)   \n40244                                   Soundless (2004)   \n\n                                                  rating  \\\n19310  [4.5, 0.5, 4.0, 3.5, 3.5, 3.0, 4.0, 3.5, 0.5, ...   \n43963                                    [4.0, 3.0, 3.0]   \n35107                                              [3.5]   \n11154  [3.0, 5.0, 4.5, 3.5, 0.5, 4.0, 4.0, 5.0, 3.5, ...   \n36927  [5.0, 4.0, 4.5, 4.0, 4.0, 2.5, 5.0, 3.5, 4.5, ...   \n25661                                    [2.5, 2.0, 3.5]   \n44694                                              [2.5]   \n16256  [5.0, 4.0, 2.5, 3.5, 5.0, 3.5, 4.0, 2.0, 1.5, ...   \n13240  [3.5, 5.0, 3.0, 5.0, 2.0, 3.0, 2.0, 3.5, 4.0, ...   \n12263  [4.0, 2.5, 2.5, 1.5, 4.0, 2.5, 3.5, 3.0, 5.0, ...   \n28763  [3.0, 2.5, 4.0, 3.0, 3.0, 3.0, 3.0, 4.0, 4.0, ...   \n35021  [3.0, 2.5, 4.0, 3.0, 4.0, 3.0, 3.0, 3.5, 3.0, ...   \n5140                                [0.5, 0.5, 1.0, 1.5]   \n34540  [4.5, 4.0, 4.0, 4.0, 3.5, 4.5, 0.5, 4.0, 3.5, ...   \n5336                                               [3.5]   \n40161  [4.0, 5.0, 5.0, 3.0, 3.5, 3.5, 3.5, 4.5, 1.0, ...   \n1524   [3.5, 1.0, 2.5, 0.5, 2.0, 0.5, 2.0, 2.5, 3.0, ...   \n46717                                              [4.0]   \n51827                               [3.5, 4.0, 3.5, 3.0]   \n40244                                         [3.5, 3.5]   \n\n                         genres  \\\n19310             drama|romance   \n43963        (no genres listed)   \n35107                    comedy   \n11154          animation|comedy   \n36927                     drama   \n25661                    comedy   \n44694                     crime   \n16256                     drama   \n13240              drama|horror   \n12263            comedy|fantasy   \n28763              comedy|drama   \n35021    fantasy|horror|mystery   \n5140                 drama|imax   \n34540           drama|film-noir   \n5336              drama|romance   \n40161                 drama|war   \n1524     action|sci-fi|thriller   \n46717      action|horror|sci-fi   \n51827  mystery|romance|thriller   \n40244     action|crime|thriller   \n\n                                               timestamp  \n19310  [1506498749.0, 1458413253.0, 1372018854.0, 146...  \n43963         [1437950130.0, 1479221019.0, 1443828957.0]  \n35107                                     [1494626223.0]  \n11154  [1409524566.0, 1256702125.0, 1484306566.0, 130...  \n36927  [1472945467.0, 1466733971.0, 1485359233.0, 145...  \n25661         [1416478412.0, 1450162909.0, 1494623338.0]  \n44694                                     [1479221022.0]  \n16256  [1006781344.0, 891478200.0, 1155132769.0, 1166...  \n13240  [1073325922.0, 1073290271.0, 1074438813.0, 110...  \n12263  [1500487736.0, 1262124442.0, 1483348116.0, 150...  \n28763  [1194722977.0, 1460577638.0, 986185569.0, 9967...  \n35021  [836845133.0, 1173234562.0, 1077931294.0, 9917...  \n5140   [1434852536.0, 1441126671.0, 1319434566.0, 137...  \n34540  [1416262978.0, 1507871242.0, 1465528997.0, 148...  \n5336                                      [1530314644.0]  \n40161  [1195414467.0, 1225798053.0, 1337205351.0, 118...  \n1524   [1440347102.0, 1274612381.0, 1399481906.0, 129...  \n46717                                     [1506230972.0]  \n51827  [1425138568.0, 1486760647.0, 1535602331.0, 145...  \n40244                       [1467365996.0, 1497236231.0]  ",
      "text/html": "<div>\n<style scoped>\n    .dataframe tbody tr th:only-of-type {\n        vertical-align: middle;\n    }\n\n    .dataframe tbody tr th {\n        vertical-align: top;\n    }\n\n    .dataframe thead th {\n        text-align: right;\n    }\n</style>\n<table border=\"1\" class=\"dataframe\">\n  <thead>\n    <tr style=\"text-align: right;\">\n      <th></th>\n      <th>title</th>\n      <th>rating</th>\n      <th>genres</th>\n      <th>timestamp</th>\n    </tr>\n  </thead>\n  <tbody>\n    <tr>\n      <th>19310</th>\n      <td>Hatfields &amp; McCoys (2012)</td>\n      <td>[4.5, 0.5, 4.0, 3.5, 3.5, 3.0, 4.0, 3.5, 0.5, ...</td>\n      <td>drama|romance</td>\n      <td>[1506498749.0, 1458413253.0, 1372018854.0, 146...</td>\n    </tr>\n    <tr>\n      <th>43963</th>\n      <td>The Deceased (1965)</td>\n      <td>[4.0, 3.0, 3.0]</td>\n      <td>(no genres listed)</td>\n      <td>[1437950130.0, 1479221019.0, 1443828957.0]</td>\n    </tr>\n    <tr>\n      <th>35107</th>\n      <td>Puck Hogs (2009)</td>\n      <td>[3.5]</td>\n      <td>comedy</td>\n      <td>[1494626223.0]</td>\n    </tr>\n    <tr>\n      <th>11154</th>\n      <td>Daria: Is It College Yet? (2002)</td>\n      <td>[3.0, 5.0, 4.5, 3.5, 0.5, 4.0, 4.0, 5.0, 3.5, ...</td>\n      <td>animation|comedy</td>\n      <td>[1409524566.0, 1256702125.0, 1484306566.0, 130...</td>\n    </tr>\n    <tr>\n      <th>36927</th>\n      <td>Room (2015)</td>\n      <td>[5.0, 4.0, 4.5, 4.0, 4.0, 2.5, 5.0, 3.5, 4.5, ...</td>\n      <td>drama</td>\n      <td>[1472945467.0, 1466733971.0, 1485359233.0, 145...</td>\n    </tr>\n    <tr>\n      <th>25661</th>\n      <td>Les invincibles (2013)</td>\n      <td>[2.5, 2.0, 3.5]</td>\n      <td>comedy</td>\n      <td>[1416478412.0, 1450162909.0, 1494623338.0]</td>\n    </tr>\n    <tr>\n      <th>44694</th>\n      <td>The Good Die Young (1954)</td>\n      <td>[2.5]</td>\n      <td>crime</td>\n      <td>[1479221022.0]</td>\n    </tr>\n    <tr>\n      <th>16256</th>\n      <td>For Ever Mozart (1996)</td>\n      <td>[5.0, 4.0, 2.5, 3.5, 5.0, 3.5, 4.0, 2.0, 1.5, ...</td>\n      <td>drama</td>\n      <td>[1006781344.0, 891478200.0, 1155132769.0, 1166...</td>\n    </tr>\n    <tr>\n      <th>13240</th>\n      <td>Dr. Jekyll and Mr. Hyde (1941)</td>\n      <td>[3.5, 5.0, 3.0, 5.0, 2.0, 3.0, 2.0, 3.5, 4.0, ...</td>\n      <td>drama|horror</td>\n      <td>[1073325922.0, 1073290271.0, 1074438813.0, 110...</td>\n    </tr>\n    <tr>\n      <th>12263</th>\n      <td>Deux mondes, Les (2007)</td>\n      <td>[4.0, 2.5, 2.5, 1.5, 4.0, 2.5, 3.5, 3.0, 5.0, ...</td>\n      <td>comedy|fantasy</td>\n      <td>[1500487736.0, 1262124442.0, 1483348116.0, 150...</td>\n    </tr>\n    <tr>\n      <th>28763</th>\n      <td>Metroland (1997)</td>\n      <td>[3.0, 2.5, 4.0, 3.0, 3.0, 3.0, 3.0, 4.0, 4.0, ...</td>\n      <td>comedy|drama</td>\n      <td>[1194722977.0, 1460577638.0, 986185569.0, 9967...</td>\n    </tr>\n    <tr>\n      <th>35021</th>\n      <td>Prophecy, The (1995)</td>\n      <td>[3.0, 2.5, 4.0, 3.0, 4.0, 3.0, 3.0, 3.5, 3.0, ...</td>\n      <td>fantasy|horror|mystery</td>\n      <td>[836845133.0, 1173234562.0, 1077931294.0, 9917...</td>\n    </tr>\n    <tr>\n      <th>5140</th>\n      <td>Beginning of the Great Revival (a.k.a. The Fou...</td>\n      <td>[0.5, 0.5, 1.0, 1.5]</td>\n      <td>drama|imax</td>\n      <td>[1434852536.0, 1441126671.0, 1319434566.0, 137...</td>\n    </tr>\n    <tr>\n      <th>34540</th>\n      <td>Possessed (1947)</td>\n      <td>[4.5, 4.0, 4.0, 4.0, 3.5, 4.5, 0.5, 4.0, 3.5, ...</td>\n      <td>drama|film-noir</td>\n      <td>[1416262978.0, 1507871242.0, 1465528997.0, 148...</td>\n    </tr>\n    <tr>\n      <th>5336</th>\n      <td>Berlin, Schoenhauser Corner (1957)</td>\n      <td>[3.5]</td>\n      <td>drama|romance</td>\n      <td>[1530314644.0]</td>\n    </tr>\n    <tr>\n      <th>40161</th>\n      <td>Sophie Scholl: The Final Days (Sophie Scholl -...</td>\n      <td>[4.0, 5.0, 5.0, 3.0, 3.5, 3.5, 3.5, 4.5, 1.0, ...</td>\n      <td>drama|war</td>\n      <td>[1195414467.0, 1225798053.0, 1337205351.0, 118...</td>\n    </tr>\n    <tr>\n      <th>1524</th>\n      <td>Absolon (2003)</td>\n      <td>[3.5, 1.0, 2.5, 0.5, 2.0, 0.5, 2.0, 2.5, 3.0, ...</td>\n      <td>action|sci-fi|thriller</td>\n      <td>[1440347102.0, 1274612381.0, 1399481906.0, 129...</td>\n    </tr>\n    <tr>\n      <th>46717</th>\n      <td>The Rizen (2017)</td>\n      <td>[4.0]</td>\n      <td>action|horror|sci-fi</td>\n      <td>[1506230972.0]</td>\n    </tr>\n    <tr>\n      <th>51827</th>\n      <td>What Have They Done to Your Daughters? (1974)</td>\n      <td>[3.5, 4.0, 3.5, 3.0]</td>\n      <td>mystery|romance|thriller</td>\n      <td>[1425138568.0, 1486760647.0, 1535602331.0, 145...</td>\n    </tr>\n    <tr>\n      <th>40244</th>\n      <td>Soundless (2004)</td>\n      <td>[3.5, 3.5]</td>\n      <td>action|crime|thriller</td>\n      <td>[1467365996.0, 1497236231.0]</td>\n    </tr>\n  </tbody>\n</table>\n</div>"
     },
     "execution_count": 118,
     "metadata": {},
     "output_type": "execute_result"
    }
   ],
   "source": [
    "movies_with_all_ratings_df.sample(20)"
   ],
   "metadata": {
    "collapsed": false,
    "pycharm": {
     "name": "#%%\n"
    }
   }
  },
  {
   "cell_type": "markdown",
   "source": [
    "Anything else we want to check at this point?\n",
    "\n",
    "Answer: Worth it at this point to check that we still have all the movies that we expect to have."
   ],
   "metadata": {
    "collapsed": false
   }
  },
  {
   "cell_type": "markdown",
   "source": [
    "Remember the movies that had no ratings?  Good thing we grabbed those :) let's use them now."
   ],
   "metadata": {
    "collapsed": false
   }
  },
  {
   "cell_type": "code",
   "execution_count": 119,
   "outputs": [
    {
     "data": {
      "text/plain": "          movieId                                      title  \\\n21871974    25817                     Break of Hearts (1935)   \n21914110    26361                    Baby Blue Marine (1976)   \n21971501    27153  Can't Be Heaven (Forever Together) (2000)   \n21986044    27433                               Bark! (2002)   \n22225201    31945                 Always a Bridesmaid (2000)   \n...           ...                                        ...   \n27756743   192399                         Under Wraps (1997)   \n27757129   192933                               Rosie (2018)   \n27757205   193109                   Ach śpij kochanie (2017)   \n27757340   193321                             Pledges (2018)   \n27757488   193593                   The Happy Thieves (1962)   \n\n                                 genres  userId  rating  timestamp  \n21871974                  drama|romance     NaN     NaN        NaN  \n21914110                          drama     NaN     NaN        NaN  \n21971501  children|comedy|drama|romance     NaN     NaN        NaN  \n21986044                   comedy|drama     NaN     NaN        NaN  \n22225201                    documentary     NaN     NaN        NaN  \n...                                 ...     ...     ...        ...  \n27756743         children|comedy|horror     NaN     NaN        NaN  \n27757129                          drama     NaN     NaN        NaN  \n27757205                 crime|thriller     NaN     NaN        NaN  \n27757340                  comedy|horror     NaN     NaN        NaN  \n27757488             comedy|crime|drama     NaN     NaN        NaN  \n\n[4209 rows x 6 columns]",
      "text/html": "<div>\n<style scoped>\n    .dataframe tbody tr th:only-of-type {\n        vertical-align: middle;\n    }\n\n    .dataframe tbody tr th {\n        vertical-align: top;\n    }\n\n    .dataframe thead th {\n        text-align: right;\n    }\n</style>\n<table border=\"1\" class=\"dataframe\">\n  <thead>\n    <tr style=\"text-align: right;\">\n      <th></th>\n      <th>movieId</th>\n      <th>title</th>\n      <th>genres</th>\n      <th>userId</th>\n      <th>rating</th>\n      <th>timestamp</th>\n    </tr>\n  </thead>\n  <tbody>\n    <tr>\n      <th>21871974</th>\n      <td>25817</td>\n      <td>Break of Hearts (1935)</td>\n      <td>drama|romance</td>\n      <td>NaN</td>\n      <td>NaN</td>\n      <td>NaN</td>\n    </tr>\n    <tr>\n      <th>21914110</th>\n      <td>26361</td>\n      <td>Baby Blue Marine (1976)</td>\n      <td>drama</td>\n      <td>NaN</td>\n      <td>NaN</td>\n      <td>NaN</td>\n    </tr>\n    <tr>\n      <th>21971501</th>\n      <td>27153</td>\n      <td>Can't Be Heaven (Forever Together) (2000)</td>\n      <td>children|comedy|drama|romance</td>\n      <td>NaN</td>\n      <td>NaN</td>\n      <td>NaN</td>\n    </tr>\n    <tr>\n      <th>21986044</th>\n      <td>27433</td>\n      <td>Bark! (2002)</td>\n      <td>comedy|drama</td>\n      <td>NaN</td>\n      <td>NaN</td>\n      <td>NaN</td>\n    </tr>\n    <tr>\n      <th>22225201</th>\n      <td>31945</td>\n      <td>Always a Bridesmaid (2000)</td>\n      <td>documentary</td>\n      <td>NaN</td>\n      <td>NaN</td>\n      <td>NaN</td>\n    </tr>\n    <tr>\n      <th>...</th>\n      <td>...</td>\n      <td>...</td>\n      <td>...</td>\n      <td>...</td>\n      <td>...</td>\n      <td>...</td>\n    </tr>\n    <tr>\n      <th>27756743</th>\n      <td>192399</td>\n      <td>Under Wraps (1997)</td>\n      <td>children|comedy|horror</td>\n      <td>NaN</td>\n      <td>NaN</td>\n      <td>NaN</td>\n    </tr>\n    <tr>\n      <th>27757129</th>\n      <td>192933</td>\n      <td>Rosie (2018)</td>\n      <td>drama</td>\n      <td>NaN</td>\n      <td>NaN</td>\n      <td>NaN</td>\n    </tr>\n    <tr>\n      <th>27757205</th>\n      <td>193109</td>\n      <td>Ach śpij kochanie (2017)</td>\n      <td>crime|thriller</td>\n      <td>NaN</td>\n      <td>NaN</td>\n      <td>NaN</td>\n    </tr>\n    <tr>\n      <th>27757340</th>\n      <td>193321</td>\n      <td>Pledges (2018)</td>\n      <td>comedy|horror</td>\n      <td>NaN</td>\n      <td>NaN</td>\n      <td>NaN</td>\n    </tr>\n    <tr>\n      <th>27757488</th>\n      <td>193593</td>\n      <td>The Happy Thieves (1962)</td>\n      <td>comedy|crime|drama</td>\n      <td>NaN</td>\n      <td>NaN</td>\n      <td>NaN</td>\n    </tr>\n  </tbody>\n</table>\n<p>4209 rows × 6 columns</p>\n</div>"
     },
     "execution_count": 119,
     "metadata": {},
     "output_type": "execute_result"
    }
   ],
   "source": [
    "movies_missing_ratings"
   ],
   "metadata": {
    "collapsed": false,
    "pycharm": {
     "name": "#%%\n"
    }
   }
  },
  {
   "cell_type": "markdown",
   "source": [
    "What can we assert to verify that we have all the movies we expect to have?\n",
    "\n",
    "We should check that:\n",
    "\n",
    "Original Number of Movies = # Movies Missing Ratings + # Movies with Ratings + # Movies with duplicated Titles\n",
    "\n",
    "Why?\n",
    "\n",
    "Remember that we kept all rows when we were combining genres above (we didn't create one version of the title with all genres).  We did this because ratings were joined to movies on movie id.  By keeping multiple rows of the movie we were able to capture all of the movie's ratings when we joined to the ratings df.  Then we grouped by movie title - which means we should only have one row for each movie title and it should have all the movie's ratings as a list in the rating column."
   ],
   "metadata": {
    "collapsed": false
   }
  },
  {
   "cell_type": "code",
   "execution_count": 120,
   "outputs": [
    {
     "data": {
      "text/plain": "58098"
     },
     "execution_count": 120,
     "metadata": {},
     "output_type": "execute_result"
    }
   ],
   "source": [
    "len(movies_df.index)"
   ],
   "metadata": {
    "collapsed": false,
    "pycharm": {
     "name": "#%%\n"
    }
   }
  },
  {
   "cell_type": "code",
   "execution_count": 121,
   "outputs": [
    {
     "data": {
      "text/plain": "58090"
     },
     "execution_count": 121,
     "metadata": {},
     "output_type": "execute_result"
    }
   ],
   "source": [
    "(len(movies_missing_ratings.index)+len(movies_with_all_ratings_df.index)+len(duplicated_titles))"
   ],
   "metadata": {
    "collapsed": false,
    "pycharm": {
     "name": "#%%\n"
    }
   }
  },
  {
   "cell_type": "code",
   "execution_count": 122,
   "outputs": [
    {
     "ename": "AssertionError",
     "evalue": "",
     "output_type": "error",
     "traceback": [
      "\u001B[0;31m---------------------------------------------------------------------------\u001B[0m",
      "\u001B[0;31mAssertionError\u001B[0m                            Traceback (most recent call last)",
      "\u001B[0;32m/var/folders/p5/b_txxkwd5bl901mk43z_hmkw0000gn/T/ipykernel_11879/2326883218.py\u001B[0m in \u001B[0;36m<cell line: 1>\u001B[0;34m()\u001B[0m\n\u001B[0;32m----> 1\u001B[0;31m \u001B[0;32massert\u001B[0m \u001B[0mlen\u001B[0m\u001B[0;34m(\u001B[0m\u001B[0mmovies_df\u001B[0m\u001B[0;34m.\u001B[0m\u001B[0mindex\u001B[0m\u001B[0;34m)\u001B[0m \u001B[0;34m==\u001B[0m \u001B[0;34m(\u001B[0m\u001B[0mlen\u001B[0m\u001B[0;34m(\u001B[0m\u001B[0mmovies_missing_ratings\u001B[0m\u001B[0;34m.\u001B[0m\u001B[0mindex\u001B[0m\u001B[0;34m)\u001B[0m\u001B[0;34m+\u001B[0m\u001B[0mlen\u001B[0m\u001B[0;34m(\u001B[0m\u001B[0mmovies_with_all_ratings_df\u001B[0m\u001B[0;34m.\u001B[0m\u001B[0mindex\u001B[0m\u001B[0;34m)\u001B[0m\u001B[0;34m+\u001B[0m\u001B[0mlen\u001B[0m\u001B[0;34m(\u001B[0m\u001B[0mduplicated_titles\u001B[0m\u001B[0;34m)\u001B[0m\u001B[0;34m)\u001B[0m\u001B[0;34m\u001B[0m\u001B[0;34m\u001B[0m\u001B[0m\n\u001B[0m",
      "\u001B[0;31mAssertionError\u001B[0m: "
     ]
    }
   ],
   "source": [
    "assert len(movies_df.index) == (len(movies_missing_ratings.index)+len(movies_with_all_ratings_df.index)+len(duplicated_titles))"
   ],
   "metadata": {
    "collapsed": false,
    "pycharm": {
     "name": "#%%\n"
    }
   }
  },
  {
   "cell_type": "markdown",
   "source": [
    "Let's checkout Aladdin again:"
   ],
   "metadata": {
    "collapsed": false
   }
  },
  {
   "cell_type": "code",
   "execution_count": 124,
   "outputs": [
    {
     "data": {
      "text/plain": "               title                                             rating  \\\n2055  Aladdin (1992)  [2.5, 4.0, 3.5, 4.0, 5.0, 3.5, 4.0, 4.0, 4.5, ...   \n\n                                                 genres  \\\n2055  adventure|animation|children|comedy|musical|fa...   \n\n                                              timestamp  \n2055  [1113797093.0, 948885872.0, 1442171461.0, 8295...  ",
      "text/html": "<div>\n<style scoped>\n    .dataframe tbody tr th:only-of-type {\n        vertical-align: middle;\n    }\n\n    .dataframe tbody tr th {\n        vertical-align: top;\n    }\n\n    .dataframe thead th {\n        text-align: right;\n    }\n</style>\n<table border=\"1\" class=\"dataframe\">\n  <thead>\n    <tr style=\"text-align: right;\">\n      <th></th>\n      <th>title</th>\n      <th>rating</th>\n      <th>genres</th>\n      <th>timestamp</th>\n    </tr>\n  </thead>\n  <tbody>\n    <tr>\n      <th>2055</th>\n      <td>Aladdin (1992)</td>\n      <td>[2.5, 4.0, 3.5, 4.0, 5.0, 3.5, 4.0, 4.0, 4.5, ...</td>\n      <td>adventure|animation|children|comedy|musical|fa...</td>\n      <td>[1113797093.0, 948885872.0, 1442171461.0, 8295...</td>\n    </tr>\n  </tbody>\n</table>\n</div>"
     },
     "execution_count": 124,
     "metadata": {},
     "output_type": "execute_result"
    }
   ],
   "source": [
    "movies_with_all_ratings_df.loc[movies_with_all_ratings_df['title'] == 'Aladdin (1992)']"
   ],
   "metadata": {
    "collapsed": false,
    "pycharm": {
     "name": "#%%\n"
    }
   }
  },
  {
   "cell_type": "markdown",
   "source": [
    "Now let's assign each movie an average rating."
   ],
   "metadata": {
    "collapsed": false
   }
  },
  {
   "cell_type": "code",
   "execution_count": 125,
   "outputs": [],
   "source": [
    "def average_list_items(ratings_list: List):\n",
    "    return sum(ratings_list)/len(ratings_list)"
   ],
   "metadata": {
    "collapsed": false,
    "pycharm": {
     "name": "#%%\n"
    }
   }
  },
  {
   "cell_type": "code",
   "execution_count": 126,
   "outputs": [],
   "source": [
    "movies_with_all_ratings_df['average_rating'] = movies_with_all_ratings_df['rating'].apply(average_list_items)"
   ],
   "metadata": {
    "collapsed": false,
    "pycharm": {
     "name": "#%%\n"
    }
   }
  },
  {
   "cell_type": "markdown",
   "source": [
    "Let's think about our recommendation engine now again.  Let's say that we want to recommend movies to by recommending the movies with the highest ratings and the most similar genres list.\n",
    "\n",
    "To find the movies with the \"most similar genres list\" we can use the nearest neighbors algorithm.  The first step in this would involve transforming the genres list to a vector.\n",
    "\n",
    "First let's drop some rows that could mess up our recommendation engine.  You may have noticed with some of the dataframe samples that some movies have the genre \"(no genres listed)\"  - that sort of feels like a miscellaneous category that would hurt us more than help us. So let's get rid of those movies."
   ],
   "metadata": {
    "collapsed": false
   }
  },
  {
   "cell_type": "code",
   "execution_count": 138,
   "outputs": [],
   "source": [
    "movies_with_ratings_and_genres = movies_with_all_ratings_df.loc[movies_with_all_ratings_df['genres'] != '(no genres listed)']"
   ],
   "metadata": {
    "collapsed": false,
    "pycharm": {
     "name": "#%%\n"
    }
   }
  },
  {
   "cell_type": "code",
   "execution_count": 139,
   "outputs": [
    {
     "data": {
      "text/plain": "                                                   title  \\\n10792            Curse of Chucky (Child's Play 6) (2013)   \n16146  Flowers of St. Francis (Francesco, giullare di...   \n1838                                        After (2009)   \n33286                                      Parker (2013)   \n36869                 Roman Polanski: Odd Man Out (2012)   \n16874                                  Front, The (1976)   \n31500                                  Noah's Ark (1999)   \n32390                               One More Time (1970)   \n32836                                    Outbreak (1995)   \n51788                         Wet Behind the Ears (2013)   \n27063                                    Lovesick (1983)   \n24493                                       Kotch (1971)   \n28783                               Mi fido di te (2007)   \n31443                              No One's Child (2014)   \n52744                                  Wolf Creek (2005)   \n29234                              Mister Пронька (1991)   \n43010                             The April Chill (2010)   \n19819                               Here on Earth (2000)   \n34022                              Pinocchio 3000 (2004)   \n24152                                     Kinbaku (2010)   \n\n                                                  rating  \\\n10792  [3.5, 5.0, 0.5, 1.5, 3.0, 2.5, 4.0, 2.0, 3.0, ...   \n16146  [4.0, 2.0, 4.0, 4.5, 2.5, 2.5, 3.5, 3.0, 4.5, ...   \n1838                                               [2.5]   \n33286  [4.5, 3.0, 3.0, 3.5, 4.0, 2.5, 3.0, 4.0, 4.0, ...   \n36869                                    [3.0, 4.0, 3.5]   \n16874  [3.5, 3.5, 1.5, 4.0, 5.0, 4.0, 4.0, 2.0, 3.5, ...   \n31500                               [2.5, 1.5, 3.0, 0.5]   \n32390                               [2.0, 1.0, 2.0, 3.5]   \n32836  [3.5, 4.0, 5.0, 4.5, 1.5, 3.0, 4.0, 4.0, 3.0, ...   \n51788                                              [3.5]   \n27063                                    [3.5, 3.0, 4.0]   \n24493  [3.5, 4.5, 3.5, 3.5, 1.0, 3.0, 3.5, 4.0, 3.5, ...   \n28783                                    [3.0, 3.5, 2.5]   \n31443                                    [4.5, 4.0, 3.5]   \n52744  [0.5, 1.5, 1.0, 3.5, 4.0, 2.5, 1.0, 3.0, 4.5, ...   \n29234                                              [3.0]   \n43010                                              [3.0]   \n19819  [0.5, 4.5, 1.0, 2.0, 2.0, 1.0, 2.0, 2.0, 1.0, ...   \n34022                                              [3.5]   \n24152                               [2.5, 3.0, 3.0, 4.0]   \n\n                             genres  \\\n10792               horror|thriller   \n16146                         drama   \n1838                          drama   \n33286                crime|thriller   \n36869                   documentary   \n16874                  comedy|drama   \n31500       adventure|drama|romance   \n32390                 action|comedy   \n32836  action|drama|sci-fi|thriller   \n51788                        comedy   \n27063        comedy|fantasy|romance   \n24493                  comedy|drama   \n28783                        comedy   \n31443                         drama   \n52744         crime|horror|thriller   \n29234                     animation   \n43010                         drama   \n19819                 drama|romance   \n34022     animation|children|sci-fi   \n24152                   documentary   \n\n                                               timestamp  average_rating  \n10792  [1449326707.0, 1507403422.0, 1515971446.0, 145...        2.751678  \n16146  [1425927458.0, 1506498752.0, 1221567153.0, 122...        3.633333  \n1838                                      [1535602359.0]        2.500000  \n33286  [1459980853.0, 1499887120.0, 1370377622.0, 139...        3.188433  \n36869         [1450163663.0, 1435540481.0, 1459091569.0]        3.500000  \n16874  [1105378043.0, 1506648127.0, 1224457482.0, 115...        3.693662  \n31500  [1422767382.0, 1447929546.0, 1422195322.0, 145...        1.875000  \n32390  [1480641538.0, 1511809520.0, 1484395413.0, 150...        2.125000  \n32836  [1113767157.0, 845061417.0, 836433605.0, 12252...        3.420117  \n51788                                     [1536459350.0]        3.500000  \n27063         [1513182988.0, 1483480981.0, 1421814078.0]        3.500000  \n24493  [1501401686.0, 1234140904.0, 1144764726.0, 113...        3.217391  \n28783         [1511650082.0, 1522180847.0, 1526542241.0]        3.000000  \n31443         [1443672742.0, 1439081358.0, 1461799674.0]        4.000000  \n52744  [1432522033.0, 1466102477.0, 1326585477.0, 148...        3.060501  \n29234                                     [1525910651.0]        3.000000  \n43010                                     [1532891204.0]        3.000000  \n19819  [1117521986.0, 1501377399.0, 1012599472.0, 974...        2.597633  \n34022                                     [1508809333.0]        3.500000  \n24152  [1386958114.0, 1458833090.0, 1387836188.0, 148...        3.125000  ",
      "text/html": "<div>\n<style scoped>\n    .dataframe tbody tr th:only-of-type {\n        vertical-align: middle;\n    }\n\n    .dataframe tbody tr th {\n        vertical-align: top;\n    }\n\n    .dataframe thead th {\n        text-align: right;\n    }\n</style>\n<table border=\"1\" class=\"dataframe\">\n  <thead>\n    <tr style=\"text-align: right;\">\n      <th></th>\n      <th>title</th>\n      <th>rating</th>\n      <th>genres</th>\n      <th>timestamp</th>\n      <th>average_rating</th>\n    </tr>\n  </thead>\n  <tbody>\n    <tr>\n      <th>10792</th>\n      <td>Curse of Chucky (Child's Play 6) (2013)</td>\n      <td>[3.5, 5.0, 0.5, 1.5, 3.0, 2.5, 4.0, 2.0, 3.0, ...</td>\n      <td>horror|thriller</td>\n      <td>[1449326707.0, 1507403422.0, 1515971446.0, 145...</td>\n      <td>2.751678</td>\n    </tr>\n    <tr>\n      <th>16146</th>\n      <td>Flowers of St. Francis (Francesco, giullare di...</td>\n      <td>[4.0, 2.0, 4.0, 4.5, 2.5, 2.5, 3.5, 3.0, 4.5, ...</td>\n      <td>drama</td>\n      <td>[1425927458.0, 1506498752.0, 1221567153.0, 122...</td>\n      <td>3.633333</td>\n    </tr>\n    <tr>\n      <th>1838</th>\n      <td>After (2009)</td>\n      <td>[2.5]</td>\n      <td>drama</td>\n      <td>[1535602359.0]</td>\n      <td>2.500000</td>\n    </tr>\n    <tr>\n      <th>33286</th>\n      <td>Parker (2013)</td>\n      <td>[4.5, 3.0, 3.0, 3.5, 4.0, 2.5, 3.0, 4.0, 4.0, ...</td>\n      <td>crime|thriller</td>\n      <td>[1459980853.0, 1499887120.0, 1370377622.0, 139...</td>\n      <td>3.188433</td>\n    </tr>\n    <tr>\n      <th>36869</th>\n      <td>Roman Polanski: Odd Man Out (2012)</td>\n      <td>[3.0, 4.0, 3.5]</td>\n      <td>documentary</td>\n      <td>[1450163663.0, 1435540481.0, 1459091569.0]</td>\n      <td>3.500000</td>\n    </tr>\n    <tr>\n      <th>16874</th>\n      <td>Front, The (1976)</td>\n      <td>[3.5, 3.5, 1.5, 4.0, 5.0, 4.0, 4.0, 2.0, 3.5, ...</td>\n      <td>comedy|drama</td>\n      <td>[1105378043.0, 1506648127.0, 1224457482.0, 115...</td>\n      <td>3.693662</td>\n    </tr>\n    <tr>\n      <th>31500</th>\n      <td>Noah's Ark (1999)</td>\n      <td>[2.5, 1.5, 3.0, 0.5]</td>\n      <td>adventure|drama|romance</td>\n      <td>[1422767382.0, 1447929546.0, 1422195322.0, 145...</td>\n      <td>1.875000</td>\n    </tr>\n    <tr>\n      <th>32390</th>\n      <td>One More Time (1970)</td>\n      <td>[2.0, 1.0, 2.0, 3.5]</td>\n      <td>action|comedy</td>\n      <td>[1480641538.0, 1511809520.0, 1484395413.0, 150...</td>\n      <td>2.125000</td>\n    </tr>\n    <tr>\n      <th>32836</th>\n      <td>Outbreak (1995)</td>\n      <td>[3.5, 4.0, 5.0, 4.5, 1.5, 3.0, 4.0, 4.0, 3.0, ...</td>\n      <td>action|drama|sci-fi|thriller</td>\n      <td>[1113767157.0, 845061417.0, 836433605.0, 12252...</td>\n      <td>3.420117</td>\n    </tr>\n    <tr>\n      <th>51788</th>\n      <td>Wet Behind the Ears (2013)</td>\n      <td>[3.5]</td>\n      <td>comedy</td>\n      <td>[1536459350.0]</td>\n      <td>3.500000</td>\n    </tr>\n    <tr>\n      <th>27063</th>\n      <td>Lovesick (1983)</td>\n      <td>[3.5, 3.0, 4.0]</td>\n      <td>comedy|fantasy|romance</td>\n      <td>[1513182988.0, 1483480981.0, 1421814078.0]</td>\n      <td>3.500000</td>\n    </tr>\n    <tr>\n      <th>24493</th>\n      <td>Kotch (1971)</td>\n      <td>[3.5, 4.5, 3.5, 3.5, 1.0, 3.0, 3.5, 4.0, 3.5, ...</td>\n      <td>comedy|drama</td>\n      <td>[1501401686.0, 1234140904.0, 1144764726.0, 113...</td>\n      <td>3.217391</td>\n    </tr>\n    <tr>\n      <th>28783</th>\n      <td>Mi fido di te (2007)</td>\n      <td>[3.0, 3.5, 2.5]</td>\n      <td>comedy</td>\n      <td>[1511650082.0, 1522180847.0, 1526542241.0]</td>\n      <td>3.000000</td>\n    </tr>\n    <tr>\n      <th>31443</th>\n      <td>No One's Child (2014)</td>\n      <td>[4.5, 4.0, 3.5]</td>\n      <td>drama</td>\n      <td>[1443672742.0, 1439081358.0, 1461799674.0]</td>\n      <td>4.000000</td>\n    </tr>\n    <tr>\n      <th>52744</th>\n      <td>Wolf Creek (2005)</td>\n      <td>[0.5, 1.5, 1.0, 3.5, 4.0, 2.5, 1.0, 3.0, 4.5, ...</td>\n      <td>crime|horror|thriller</td>\n      <td>[1432522033.0, 1466102477.0, 1326585477.0, 148...</td>\n      <td>3.060501</td>\n    </tr>\n    <tr>\n      <th>29234</th>\n      <td>Mister Пронька (1991)</td>\n      <td>[3.0]</td>\n      <td>animation</td>\n      <td>[1525910651.0]</td>\n      <td>3.000000</td>\n    </tr>\n    <tr>\n      <th>43010</th>\n      <td>The April Chill (2010)</td>\n      <td>[3.0]</td>\n      <td>drama</td>\n      <td>[1532891204.0]</td>\n      <td>3.000000</td>\n    </tr>\n    <tr>\n      <th>19819</th>\n      <td>Here on Earth (2000)</td>\n      <td>[0.5, 4.5, 1.0, 2.0, 2.0, 1.0, 2.0, 2.0, 1.0, ...</td>\n      <td>drama|romance</td>\n      <td>[1117521986.0, 1501377399.0, 1012599472.0, 974...</td>\n      <td>2.597633</td>\n    </tr>\n    <tr>\n      <th>34022</th>\n      <td>Pinocchio 3000 (2004)</td>\n      <td>[3.5]</td>\n      <td>animation|children|sci-fi</td>\n      <td>[1508809333.0]</td>\n      <td>3.500000</td>\n    </tr>\n    <tr>\n      <th>24152</th>\n      <td>Kinbaku (2010)</td>\n      <td>[2.5, 3.0, 3.0, 4.0]</td>\n      <td>documentary</td>\n      <td>[1386958114.0, 1458833090.0, 1387836188.0, 148...</td>\n      <td>3.125000</td>\n    </tr>\n  </tbody>\n</table>\n</div>"
     },
     "execution_count": 139,
     "metadata": {},
     "output_type": "execute_result"
    }
   ],
   "source": [
    "movies_with_ratings_and_genres.sample(20)"
   ],
   "metadata": {
    "collapsed": false,
    "pycharm": {
     "name": "#%%\n"
    }
   }
  },
  {
   "cell_type": "markdown",
   "source": [
    "Now let's drop movies that have less than 10 ratings. We probably don't have enough data to know if those ratings actually reflect how good the movie is or not.\n",
    "\n",
    "TODO: We could probably come up with a less random value than 10."
   ],
   "metadata": {
    "collapsed": false
   }
  },
  {
   "cell_type": "code",
   "execution_count": 140,
   "outputs": [
    {
     "name": "stderr",
     "output_type": "stream",
     "text": [
      "/var/folders/p5/b_txxkwd5bl901mk43z_hmkw0000gn/T/ipykernel_11879/2546204003.py:1: SettingWithCopyWarning: \n",
      "A value is trying to be set on a copy of a slice from a DataFrame.\n",
      "Try using .loc[row_indexer,col_indexer] = value instead\n",
      "\n",
      "See the caveats in the documentation: https://pandas.pydata.org/pandas-docs/stable/user_guide/indexing.html#returning-a-view-versus-a-copy\n",
      "  movies_with_ratings_and_genres['number of ratings'] = movies_with_ratings_and_genres['rating'].apply(lambda x: len(x))\n"
     ]
    }
   ],
   "source": [
    "movies_with_ratings_and_genres['number of ratings'] = movies_with_ratings_and_genres['rating'].apply(lambda x: len(x))"
   ],
   "metadata": {
    "collapsed": false,
    "pycharm": {
     "name": "#%%\n"
    }
   }
  },
  {
   "cell_type": "code",
   "execution_count": 141,
   "outputs": [],
   "source": [
    "movies_with_many_ratings = movies_with_ratings_and_genres.loc[movies_with_ratings_and_genres['number of ratings'] > 5]"
   ],
   "metadata": {
    "collapsed": false,
    "pycharm": {
     "name": "#%%\n"
    }
   }
  },
  {
   "cell_type": "code",
   "execution_count": 142,
   "outputs": [
    {
     "data": {
      "text/plain": "Empty DataFrame\nColumns: [title, rating, genres, timestamp, average_rating, number of ratings]\nIndex: []",
      "text/html": "<div>\n<style scoped>\n    .dataframe tbody tr th:only-of-type {\n        vertical-align: middle;\n    }\n\n    .dataframe tbody tr th {\n        vertical-align: top;\n    }\n\n    .dataframe thead th {\n        text-align: right;\n    }\n</style>\n<table border=\"1\" class=\"dataframe\">\n  <thead>\n    <tr style=\"text-align: right;\">\n      <th></th>\n      <th>title</th>\n      <th>rating</th>\n      <th>genres</th>\n      <th>timestamp</th>\n      <th>average_rating</th>\n      <th>number of ratings</th>\n    </tr>\n  </thead>\n  <tbody>\n  </tbody>\n</table>\n</div>"
     },
     "execution_count": 142,
     "metadata": {},
     "output_type": "execute_result"
    }
   ],
   "source": [
    "movies_with_many_ratings.loc[movies_with_many_ratings['genres'] == '(no genres listed)']"
   ],
   "metadata": {
    "collapsed": false,
    "pycharm": {
     "name": "#%%\n"
    }
   }
  },
  {
   "cell_type": "code",
   "execution_count": 143,
   "outputs": [
    {
     "name": "stderr",
     "output_type": "stream",
     "text": [
      "/var/folders/p5/b_txxkwd5bl901mk43z_hmkw0000gn/T/ipykernel_11879/640699836.py:1: SettingWithCopyWarning: \n",
      "A value is trying to be set on a copy of a slice from a DataFrame.\n",
      "Try using .loc[row_indexer,col_indexer] = value instead\n",
      "\n",
      "See the caveats in the documentation: https://pandas.pydata.org/pandas-docs/stable/user_guide/indexing.html#returning-a-view-versus-a-copy\n",
      "  movies_with_many_ratings['genres'] = movies_with_many_ratings['genres'].apply(lambda x: x.split('|'))\n"
     ]
    }
   ],
   "source": [
    "movies_with_many_ratings['genres'] = movies_with_many_ratings['genres'].apply(lambda x: x.split('|'))"
   ],
   "metadata": {
    "collapsed": false,
    "pycharm": {
     "name": "#%%\n"
    }
   }
  },
  {
   "cell_type": "code",
   "execution_count": 144,
   "outputs": [
    {
     "data": {
      "text/plain": "                                              title  \\\n29144                       Miss Firecracker (1989)   \n20239                       Hollywood Ending (2002)   \n28289                        Matchmaker, The (1958)   \n49804                           Twin Sitters (1994)   \n20303          Home Alone: The Holiday Heist (2012)   \n23539                  Just Before Nightfall (1971)   \n41375                                  Style (2001)   \n50102                             Uncle Buck (1989)   \n35194                              Pure Luck (1991)   \n30929                           Nevada Smith (1966)   \n39401                     Six-String Samurai (1998)   \n23741              Karate Kid, Part III, The (1989)   \n22819                            Jamaica Inn (1939)   \n36448             Ricky Gervais Live 3: Fame (2007)   \n17604             Giant Spider Invasion, The (1975)   \n28337                      Max Dugan Returns (1983)   \n28625  Men in Black III (M.III.B.) (M.I.B.³) (2012)   \n2879                            An Ideal Man (2015)   \n35979   Red Squirrel, The (Ardilla roja, La) (1993)   \n42093                                Tadpole (2002)   \n\n                                                  rating  \\\n29144  [4.0, 2.5, 3.0, 3.5, 4.0, 3.0, 4.0, 4.0, 3.0, ...   \n20239  [3.0, 2.0, 2.5, 4.5, 3.0, 3.0, 3.5, 1.0, 5.0, ...   \n28289  [3.5, 3.0, 4.5, 2.5, 3.5, 5.0, 3.5, 3.5, 3.5, ...   \n49804  [1.5, 3.0, 2.5, 3.5, 3.5, 4.0, 1.5, 3.5, 3.5, ...   \n20303  [0.5, 2.5, 0.5, 1.5, 3.5, 3.0, 0.5, 0.5, 4.0, ...   \n23539                [3.5, 3.0, 3.5, 3.5, 5.0, 4.0, 4.0]   \n41375  [0.5, 3.5, 1.0, 0.5, 2.0, 3.5, 4.0, 1.5, 3.0, ...   \n50102  [2.0, 4.5, 3.0, 2.5, 3.5, 4.0, 5.0, 2.0, 3.5, ...   \n35194  [2.0, 3.5, 3.0, 3.0, 2.5, 1.0, 3.0, 1.0, 2.0, ...   \n30929  [3.0, 3.5, 3.0, 4.0, 3.0, 2.0, 3.5, 3.5, 2.5, ...   \n39401  [4.0, 1.0, 3.0, 5.0, 1.0, 3.5, 4.0, 4.0, 1.5, ...   \n23741  [3.0, 2.0, 1.0, 2.0, 1.0, 3.0, 3.0, 1.5, 0.5, ...   \n22819  [1.0, 1.0, 2.5, 4.5, 2.5, 2.5, 4.0, 4.0, 1.0, ...   \n36448  [0.5, 4.0, 3.0, 0.5, 1.5, 4.0, 4.5, 3.0, 3.5, ...   \n17604  [0.5, 0.5, 0.5, 5.0, 2.0, 2.0, 0.5, 0.5, 1.0, ...   \n28337  [2.5, 4.0, 2.0, 3.0, 2.0, 3.0, 4.0, 1.0, 3.0, ...   \n28625  [3.5, 0.5, 3.5, 3.0, 3.5, 5.0, 4.0, 1.0, 4.0, ...   \n2879            [3.5, 3.5, 3.5, 3.5, 4.0, 2.5, 4.0, 3.0]   \n35979  [3.5, 3.0, 2.5, 3.0, 4.5, 3.0, 3.5, 5.0, 4.0, ...   \n42093  [4.0, 4.0, 1.0, 3.0, 4.0, 2.5, 3.0, 3.5, 1.5, ...   \n\n                                     genres  \\\n29144                              [comedy]   \n20239                       [comedy, drama]   \n28289                     [comedy, romance]   \n49804                            [thriller]   \n20303             [children, comedy, crime]   \n23539                        [crime, drama]   \n41375                            [thriller]   \n50102                              [comedy]   \n35194                       [comedy, crime]   \n30929                             [western]   \n39401           [action, adventure, sci-fi]   \n23741  [action, adventure, children, drama]   \n22819                               [drama]   \n36448                              [comedy]   \n17604                      [horror, sci-fi]   \n28337                              [comedy]   \n28625        [action, comedy, sci-fi, imax]   \n2879                             [thriller]   \n35979     [comedy, drama, mystery, romance]   \n42093              [comedy, drama, romance]   \n\n                                               timestamp  average_rating  \\\n29144  [1092789641.0, 1069145669.0, 1091379617.0, 111...        3.217073   \n20239  [1032811534.0, 1105388200.0, 1160077571.0, 150...        3.013534   \n28289  [1212240077.0, 1180426876.0, 1166624947.0, 122...        3.369565   \n49804  [1120626269.0, 1503470251.0, 1506362390.0, 149...        3.000000   \n20303  [1470694163.0, 1496771247.0, 1463282894.0, 148...        2.176471   \n23539  [1485254290.0, 1535602331.0, 1462783924.0, 145...        3.785714   \n41375  [1462734110.0, 1525819896.0, 1455216261.0, 146...        2.350000   \n50102  [1145937939.0, 1275404425.0, 1011899371.0, 111...        3.313157   \n35194  [1070432222.0, 1466323232.0, 1074829793.0, 112...        2.717391   \n30929  [1487636845.0, 1075437357.0, 1183581671.0, 150...        3.190000   \n39401  [1073946960.0, 979932664.0, 1365390721.0, 9771...        3.404509   \n23741  [922345080.0, 1452883351.0, 992923113.0, 95293...        2.234332   \n22819  [1018675012.0, 948395844.0, 1080025959.0, 1462...        2.917989   \n36448  [1287702162.0, 1281466576.0, 1368960320.0, 128...        3.599379   \n17604  [1103150242.0, 1467148261.0, 1062177732.0, 126...        1.535714   \n28337  [1121183128.0, 1133051839.0, 956554381.0, 1069...        3.092637   \n28625  [1442172035.0, 1432520708.0, 1383495122.0, 145...        3.397527   \n2879   [1535602373.0, 1512490978.0, 1446742719.0, 146...        3.437500   \n35979  [1483374917.0, 1324058476.0, 1295858874.0, 129...        3.540000   \n42093  [1050794387.0, 1029855752.0, 1498101290.0, 129...        3.281008   \n\n       number of ratings  \n29144                205  \n20239                665  \n28289                 46  \n49804                 35  \n20303                 34  \n23539                  7  \n41375                 10  \n50102               3329  \n35194                138  \n30929                100  \n39401                754  \n23741               4340  \n22819                189  \n36448                161  \n17604                 84  \n28337                421  \n28625               5094  \n2879                   8  \n35979                 25  \n42093                516  ",
      "text/html": "<div>\n<style scoped>\n    .dataframe tbody tr th:only-of-type {\n        vertical-align: middle;\n    }\n\n    .dataframe tbody tr th {\n        vertical-align: top;\n    }\n\n    .dataframe thead th {\n        text-align: right;\n    }\n</style>\n<table border=\"1\" class=\"dataframe\">\n  <thead>\n    <tr style=\"text-align: right;\">\n      <th></th>\n      <th>title</th>\n      <th>rating</th>\n      <th>genres</th>\n      <th>timestamp</th>\n      <th>average_rating</th>\n      <th>number of ratings</th>\n    </tr>\n  </thead>\n  <tbody>\n    <tr>\n      <th>29144</th>\n      <td>Miss Firecracker (1989)</td>\n      <td>[4.0, 2.5, 3.0, 3.5, 4.0, 3.0, 4.0, 4.0, 3.0, ...</td>\n      <td>[comedy]</td>\n      <td>[1092789641.0, 1069145669.0, 1091379617.0, 111...</td>\n      <td>3.217073</td>\n      <td>205</td>\n    </tr>\n    <tr>\n      <th>20239</th>\n      <td>Hollywood Ending (2002)</td>\n      <td>[3.0, 2.0, 2.5, 4.5, 3.0, 3.0, 3.5, 1.0, 5.0, ...</td>\n      <td>[comedy, drama]</td>\n      <td>[1032811534.0, 1105388200.0, 1160077571.0, 150...</td>\n      <td>3.013534</td>\n      <td>665</td>\n    </tr>\n    <tr>\n      <th>28289</th>\n      <td>Matchmaker, The (1958)</td>\n      <td>[3.5, 3.0, 4.5, 2.5, 3.5, 5.0, 3.5, 3.5, 3.5, ...</td>\n      <td>[comedy, romance]</td>\n      <td>[1212240077.0, 1180426876.0, 1166624947.0, 122...</td>\n      <td>3.369565</td>\n      <td>46</td>\n    </tr>\n    <tr>\n      <th>49804</th>\n      <td>Twin Sitters (1994)</td>\n      <td>[1.5, 3.0, 2.5, 3.5, 3.5, 4.0, 1.5, 3.5, 3.5, ...</td>\n      <td>[thriller]</td>\n      <td>[1120626269.0, 1503470251.0, 1506362390.0, 149...</td>\n      <td>3.000000</td>\n      <td>35</td>\n    </tr>\n    <tr>\n      <th>20303</th>\n      <td>Home Alone: The Holiday Heist (2012)</td>\n      <td>[0.5, 2.5, 0.5, 1.5, 3.5, 3.0, 0.5, 0.5, 4.0, ...</td>\n      <td>[children, comedy, crime]</td>\n      <td>[1470694163.0, 1496771247.0, 1463282894.0, 148...</td>\n      <td>2.176471</td>\n      <td>34</td>\n    </tr>\n    <tr>\n      <th>23539</th>\n      <td>Just Before Nightfall (1971)</td>\n      <td>[3.5, 3.0, 3.5, 3.5, 5.0, 4.0, 4.0]</td>\n      <td>[crime, drama]</td>\n      <td>[1485254290.0, 1535602331.0, 1462783924.0, 145...</td>\n      <td>3.785714</td>\n      <td>7</td>\n    </tr>\n    <tr>\n      <th>41375</th>\n      <td>Style (2001)</td>\n      <td>[0.5, 3.5, 1.0, 0.5, 2.0, 3.5, 4.0, 1.5, 3.0, ...</td>\n      <td>[thriller]</td>\n      <td>[1462734110.0, 1525819896.0, 1455216261.0, 146...</td>\n      <td>2.350000</td>\n      <td>10</td>\n    </tr>\n    <tr>\n      <th>50102</th>\n      <td>Uncle Buck (1989)</td>\n      <td>[2.0, 4.5, 3.0, 2.5, 3.5, 4.0, 5.0, 2.0, 3.5, ...</td>\n      <td>[comedy]</td>\n      <td>[1145937939.0, 1275404425.0, 1011899371.0, 111...</td>\n      <td>3.313157</td>\n      <td>3329</td>\n    </tr>\n    <tr>\n      <th>35194</th>\n      <td>Pure Luck (1991)</td>\n      <td>[2.0, 3.5, 3.0, 3.0, 2.5, 1.0, 3.0, 1.0, 2.0, ...</td>\n      <td>[comedy, crime]</td>\n      <td>[1070432222.0, 1466323232.0, 1074829793.0, 112...</td>\n      <td>2.717391</td>\n      <td>138</td>\n    </tr>\n    <tr>\n      <th>30929</th>\n      <td>Nevada Smith (1966)</td>\n      <td>[3.0, 3.5, 3.0, 4.0, 3.0, 2.0, 3.5, 3.5, 2.5, ...</td>\n      <td>[western]</td>\n      <td>[1487636845.0, 1075437357.0, 1183581671.0, 150...</td>\n      <td>3.190000</td>\n      <td>100</td>\n    </tr>\n    <tr>\n      <th>39401</th>\n      <td>Six-String Samurai (1998)</td>\n      <td>[4.0, 1.0, 3.0, 5.0, 1.0, 3.5, 4.0, 4.0, 1.5, ...</td>\n      <td>[action, adventure, sci-fi]</td>\n      <td>[1073946960.0, 979932664.0, 1365390721.0, 9771...</td>\n      <td>3.404509</td>\n      <td>754</td>\n    </tr>\n    <tr>\n      <th>23741</th>\n      <td>Karate Kid, Part III, The (1989)</td>\n      <td>[3.0, 2.0, 1.0, 2.0, 1.0, 3.0, 3.0, 1.5, 0.5, ...</td>\n      <td>[action, adventure, children, drama]</td>\n      <td>[922345080.0, 1452883351.0, 992923113.0, 95293...</td>\n      <td>2.234332</td>\n      <td>4340</td>\n    </tr>\n    <tr>\n      <th>22819</th>\n      <td>Jamaica Inn (1939)</td>\n      <td>[1.0, 1.0, 2.5, 4.5, 2.5, 2.5, 4.0, 4.0, 1.0, ...</td>\n      <td>[drama]</td>\n      <td>[1018675012.0, 948395844.0, 1080025959.0, 1462...</td>\n      <td>2.917989</td>\n      <td>189</td>\n    </tr>\n    <tr>\n      <th>36448</th>\n      <td>Ricky Gervais Live 3: Fame (2007)</td>\n      <td>[0.5, 4.0, 3.0, 0.5, 1.5, 4.0, 4.5, 3.0, 3.5, ...</td>\n      <td>[comedy]</td>\n      <td>[1287702162.0, 1281466576.0, 1368960320.0, 128...</td>\n      <td>3.599379</td>\n      <td>161</td>\n    </tr>\n    <tr>\n      <th>17604</th>\n      <td>Giant Spider Invasion, The (1975)</td>\n      <td>[0.5, 0.5, 0.5, 5.0, 2.0, 2.0, 0.5, 0.5, 1.0, ...</td>\n      <td>[horror, sci-fi]</td>\n      <td>[1103150242.0, 1467148261.0, 1062177732.0, 126...</td>\n      <td>1.535714</td>\n      <td>84</td>\n    </tr>\n    <tr>\n      <th>28337</th>\n      <td>Max Dugan Returns (1983)</td>\n      <td>[2.5, 4.0, 2.0, 3.0, 2.0, 3.0, 4.0, 1.0, 3.0, ...</td>\n      <td>[comedy]</td>\n      <td>[1121183128.0, 1133051839.0, 956554381.0, 1069...</td>\n      <td>3.092637</td>\n      <td>421</td>\n    </tr>\n    <tr>\n      <th>28625</th>\n      <td>Men in Black III (M.III.B.) (M.I.B.³) (2012)</td>\n      <td>[3.5, 0.5, 3.5, 3.0, 3.5, 5.0, 4.0, 1.0, 4.0, ...</td>\n      <td>[action, comedy, sci-fi, imax]</td>\n      <td>[1442172035.0, 1432520708.0, 1383495122.0, 145...</td>\n      <td>3.397527</td>\n      <td>5094</td>\n    </tr>\n    <tr>\n      <th>2879</th>\n      <td>An Ideal Man (2015)</td>\n      <td>[3.5, 3.5, 3.5, 3.5, 4.0, 2.5, 4.0, 3.0]</td>\n      <td>[thriller]</td>\n      <td>[1535602373.0, 1512490978.0, 1446742719.0, 146...</td>\n      <td>3.437500</td>\n      <td>8</td>\n    </tr>\n    <tr>\n      <th>35979</th>\n      <td>Red Squirrel, The (Ardilla roja, La) (1993)</td>\n      <td>[3.5, 3.0, 2.5, 3.0, 4.5, 3.0, 3.5, 5.0, 4.0, ...</td>\n      <td>[comedy, drama, mystery, romance]</td>\n      <td>[1483374917.0, 1324058476.0, 1295858874.0, 129...</td>\n      <td>3.540000</td>\n      <td>25</td>\n    </tr>\n    <tr>\n      <th>42093</th>\n      <td>Tadpole (2002)</td>\n      <td>[4.0, 4.0, 1.0, 3.0, 4.0, 2.5, 3.0, 3.5, 1.5, ...</td>\n      <td>[comedy, drama, romance]</td>\n      <td>[1050794387.0, 1029855752.0, 1498101290.0, 129...</td>\n      <td>3.281008</td>\n      <td>516</td>\n    </tr>\n  </tbody>\n</table>\n</div>"
     },
     "execution_count": 144,
     "metadata": {},
     "output_type": "execute_result"
    }
   ],
   "source": [
    "movies_with_many_ratings.sample(20)"
   ],
   "metadata": {
    "collapsed": false,
    "pycharm": {
     "name": "#%%\n"
    }
   }
  },
  {
   "cell_type": "markdown",
   "source": [
    "Next let's One Hot Encode the genres list\n",
    "1. Get a list of all the genres\n",
    "2. Use that to encode each genres list - this can be function in the transformations code"
   ],
   "metadata": {
    "collapsed": false,
    "pycharm": {
     "name": "#%% md\n"
    }
   }
  },
  {
   "cell_type": "code",
   "execution_count": 146,
   "outputs": [],
   "source": [
    "genres_list = list(movies_with_many_ratings.explode('genres').groupby('genres').agg(sum).reset_index()['genres'])"
   ],
   "metadata": {
    "collapsed": false,
    "pycharm": {
     "name": "#%%\n"
    }
   }
  },
  {
   "cell_type": "code",
   "execution_count": null,
   "outputs": [],
   "source": [],
   "metadata": {
    "collapsed": false,
    "pycharm": {
     "name": "#%%\n"
    }
   }
  }
 ],
 "metadata": {
  "kernelspec": {
   "display_name": "Python 3",
   "language": "python",
   "name": "python3"
  },
  "language_info": {
   "codemirror_mode": {
    "name": "ipython",
    "version": 2
   },
   "file_extension": ".py",
   "mimetype": "text/x-python",
   "name": "python",
   "nbconvert_exporter": "python",
   "pygments_lexer": "ipython2",
   "version": "2.7.6"
  }
 },
 "nbformat": 4,
 "nbformat_minor": 0
}
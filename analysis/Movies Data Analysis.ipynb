{
 "cells": [
  {
   "cell_type": "code",
   "execution_count": 2,
   "metadata": {
    "collapsed": true
   },
   "outputs": [],
   "source": [
    "import pandas as pd"
   ]
  },
  {
   "cell_type": "markdown",
   "source": [
    "### The Data and what we want to do with it:\n",
    "\n",
    "These datasets where originally from Kaggle here is the description they gave:\n",
    "\n",
    "This dataset contains 27753444 ratings and 1108997 tag applications across 58098 movies. These data sets were created by 283228 users between January 09, 1995 and September 26, 2018. This dataset was generated on September 26, 2018.\n",
    "\n",
    "Goal: Product a simple recommendation engine that accepts a movie title and then recommends two similar movies"
   ],
   "metadata": {
    "collapsed": false
   }
  },
  {
   "cell_type": "markdown",
   "source": [
    "### Reading the Data and Initial Stats"
   ],
   "metadata": {
    "collapsed": false
   }
  },
  {
   "cell_type": "code",
   "execution_count": 3,
   "outputs": [
    {
     "data": {
      "text/plain": "       movieId                                    title  \\\n0            1                         Toy Story (1995)   \n1            2                           Jumanji (1995)   \n2            3                  Grumpier Old Men (1995)   \n3            4                 Waiting to Exhale (1995)   \n4            5       Father of the Bride Part II (1995)   \n...        ...                                      ...   \n58093   193876                  The Great Glinka (1946)   \n58094   193878  Les tribulations d'une caissière (2011)   \n58095   193880                 Her Name Was Mumu (2016)   \n58096   193882                             Flora (2017)   \n58097   193886                              Leal (2018)   \n\n                                              genres  \n0       Adventure|animation|CHILDREN|comedy|Fantasy   \n1                        Adventure|children|FANTASY   \n2                                    Comedy|romance   \n3                              Comedy|drama|ROMANCE   \n4                                            Comedy   \n...                                              ...  \n58093                            (no genres listed)   \n58094                                        Comedy   \n58095                                         Drama   \n58096                 Adventure|drama|HORROR|sci-fi   \n58097                            Action|crime|DRAMA   \n\n[58098 rows x 3 columns]",
      "text/html": "<div>\n<style scoped>\n    .dataframe tbody tr th:only-of-type {\n        vertical-align: middle;\n    }\n\n    .dataframe tbody tr th {\n        vertical-align: top;\n    }\n\n    .dataframe thead th {\n        text-align: right;\n    }\n</style>\n<table border=\"1\" class=\"dataframe\">\n  <thead>\n    <tr style=\"text-align: right;\">\n      <th></th>\n      <th>movieId</th>\n      <th>title</th>\n      <th>genres</th>\n    </tr>\n  </thead>\n  <tbody>\n    <tr>\n      <th>0</th>\n      <td>1</td>\n      <td>Toy Story (1995)</td>\n      <td>Adventure|animation|CHILDREN|comedy|Fantasy</td>\n    </tr>\n    <tr>\n      <th>1</th>\n      <td>2</td>\n      <td>Jumanji (1995)</td>\n      <td>Adventure|children|FANTASY</td>\n    </tr>\n    <tr>\n      <th>2</th>\n      <td>3</td>\n      <td>Grumpier Old Men (1995)</td>\n      <td>Comedy|romance</td>\n    </tr>\n    <tr>\n      <th>3</th>\n      <td>4</td>\n      <td>Waiting to Exhale (1995)</td>\n      <td>Comedy|drama|ROMANCE</td>\n    </tr>\n    <tr>\n      <th>4</th>\n      <td>5</td>\n      <td>Father of the Bride Part II (1995)</td>\n      <td>Comedy</td>\n    </tr>\n    <tr>\n      <th>...</th>\n      <td>...</td>\n      <td>...</td>\n      <td>...</td>\n    </tr>\n    <tr>\n      <th>58093</th>\n      <td>193876</td>\n      <td>The Great Glinka (1946)</td>\n      <td>(no genres listed)</td>\n    </tr>\n    <tr>\n      <th>58094</th>\n      <td>193878</td>\n      <td>Les tribulations d'une caissière (2011)</td>\n      <td>Comedy</td>\n    </tr>\n    <tr>\n      <th>58095</th>\n      <td>193880</td>\n      <td>Her Name Was Mumu (2016)</td>\n      <td>Drama</td>\n    </tr>\n    <tr>\n      <th>58096</th>\n      <td>193882</td>\n      <td>Flora (2017)</td>\n      <td>Adventure|drama|HORROR|sci-fi</td>\n    </tr>\n    <tr>\n      <th>58097</th>\n      <td>193886</td>\n      <td>Leal (2018)</td>\n      <td>Action|crime|DRAMA</td>\n    </tr>\n  </tbody>\n</table>\n<p>58098 rows × 3 columns</p>\n</div>"
     },
     "execution_count": 3,
     "metadata": {},
     "output_type": "execute_result"
    }
   ],
   "source": [
    "movies_df = pd.read_csv('input/all_movies.csv')\n",
    "movies_df"
   ],
   "metadata": {
    "collapsed": false,
    "pycharm": {
     "name": "#%%\n"
    }
   }
  },
  {
   "cell_type": "code",
   "execution_count": 4,
   "outputs": [
    {
     "data": {
      "text/plain": "          userId  movieId  rating   timestamp\n0              1      307     3.5  1256677221\n1              1      481     3.5  1256677456\n2              1     1091     1.5  1256677471\n3              1     1257     4.5  1256677460\n4              1     1449     4.5  1256677264\n...          ...      ...     ...         ...\n27753439  283228     8542     4.5  1379882795\n27753440  283228     8712     4.5  1379882751\n27753441  283228    34405     4.5  1379882889\n27753442  283228    44761     4.5  1354159524\n27753443  283228    54286     4.5  1354159718\n\n[27753444 rows x 4 columns]",
      "text/html": "<div>\n<style scoped>\n    .dataframe tbody tr th:only-of-type {\n        vertical-align: middle;\n    }\n\n    .dataframe tbody tr th {\n        vertical-align: top;\n    }\n\n    .dataframe thead th {\n        text-align: right;\n    }\n</style>\n<table border=\"1\" class=\"dataframe\">\n  <thead>\n    <tr style=\"text-align: right;\">\n      <th></th>\n      <th>userId</th>\n      <th>movieId</th>\n      <th>rating</th>\n      <th>timestamp</th>\n    </tr>\n  </thead>\n  <tbody>\n    <tr>\n      <th>0</th>\n      <td>1</td>\n      <td>307</td>\n      <td>3.5</td>\n      <td>1256677221</td>\n    </tr>\n    <tr>\n      <th>1</th>\n      <td>1</td>\n      <td>481</td>\n      <td>3.5</td>\n      <td>1256677456</td>\n    </tr>\n    <tr>\n      <th>2</th>\n      <td>1</td>\n      <td>1091</td>\n      <td>1.5</td>\n      <td>1256677471</td>\n    </tr>\n    <tr>\n      <th>3</th>\n      <td>1</td>\n      <td>1257</td>\n      <td>4.5</td>\n      <td>1256677460</td>\n    </tr>\n    <tr>\n      <th>4</th>\n      <td>1</td>\n      <td>1449</td>\n      <td>4.5</td>\n      <td>1256677264</td>\n    </tr>\n    <tr>\n      <th>...</th>\n      <td>...</td>\n      <td>...</td>\n      <td>...</td>\n      <td>...</td>\n    </tr>\n    <tr>\n      <th>27753439</th>\n      <td>283228</td>\n      <td>8542</td>\n      <td>4.5</td>\n      <td>1379882795</td>\n    </tr>\n    <tr>\n      <th>27753440</th>\n      <td>283228</td>\n      <td>8712</td>\n      <td>4.5</td>\n      <td>1379882751</td>\n    </tr>\n    <tr>\n      <th>27753441</th>\n      <td>283228</td>\n      <td>34405</td>\n      <td>4.5</td>\n      <td>1379882889</td>\n    </tr>\n    <tr>\n      <th>27753442</th>\n      <td>283228</td>\n      <td>44761</td>\n      <td>4.5</td>\n      <td>1354159524</td>\n    </tr>\n    <tr>\n      <th>27753443</th>\n      <td>283228</td>\n      <td>54286</td>\n      <td>4.5</td>\n      <td>1354159718</td>\n    </tr>\n  </tbody>\n</table>\n<p>27753444 rows × 4 columns</p>\n</div>"
     },
     "execution_count": 4,
     "metadata": {},
     "output_type": "execute_result"
    }
   ],
   "source": [
    "ratings_df = pd.read_csv('input/ratings.csv')\n",
    "ratings_df"
   ],
   "metadata": {
    "collapsed": false,
    "pycharm": {
     "name": "#%%\n"
    }
   }
  },
  {
   "cell_type": "markdown",
   "source": [
    "## Step 1: Cleaning\n",
    "You shouldn't necessarily assume that your data is good.  It could be very sparse and not have much there. There could be duplication, poorly recorded or empty values, or with large text there could be a lot of garbage in there if it was an open text field\n",
    "\n",
    "Some things we'll do here:\n",
    "1. Get the number of rows and columns by looking at the shape\n",
    "2. Determine the number of non-null rows for each given column (This would tell us if a column is especially sparse)\n",
    "3. Check for duplicate rows\n",
    "\n",
    "As we find things that need to be cleaned (bad text, duplicates etc.) we will write tested cleaning functions to cleanup our input data."
   ],
   "metadata": {
    "collapsed": false
   }
  },
  {
   "cell_type": "code",
   "execution_count": 5,
   "outputs": [
    {
     "data": {
      "text/plain": "(58098, 3)"
     },
     "execution_count": 5,
     "metadata": {},
     "output_type": "execute_result"
    }
   ],
   "source": [
    "movies_df.shape"
   ],
   "metadata": {
    "collapsed": false,
    "pycharm": {
     "name": "#%%\n"
    }
   }
  },
  {
   "cell_type": "code",
   "execution_count": 6,
   "outputs": [
    {
     "name": "stdout",
     "output_type": "stream",
     "text": [
      "<class 'pandas.core.frame.DataFrame'>\n",
      "RangeIndex: 58098 entries, 0 to 58097\n",
      "Data columns (total 3 columns):\n",
      " #   Column   Non-Null Count  Dtype \n",
      "---  ------   --------------  ----- \n",
      " 0   movieId  58098 non-null  int64 \n",
      " 1   title    58098 non-null  object\n",
      " 2   genres   58098 non-null  object\n",
      "dtypes: int64(1), object(2)\n",
      "memory usage: 1.3+ MB\n"
     ]
    }
   ],
   "source": [
    "movies_df.info()"
   ],
   "metadata": {
    "collapsed": false,
    "pycharm": {
     "name": "#%%\n"
    }
   }
  },
  {
   "cell_type": "markdown",
   "source": [
    "#### Checking for Duplicates\n",
    "You can add assert statements throughout.  These are good as checks because they can directly translate into your tests or even just live in your scripts"
   ],
   "metadata": {
    "collapsed": false
   }
  },
  {
   "cell_type": "markdown",
   "source": [
    "Here we need to define what a duplicate is. If you don't specify column names then pandas will only call something a duplicate when all columns match.\n",
    "\n",
    "For movies, it seems like a \"duplicate\" would be rows that have exactly matching titles and genres"
   ],
   "metadata": {
    "collapsed": false
   }
  },
  {
   "cell_type": "code",
   "execution_count": 7,
   "outputs": [
    {
     "ename": "AssertionError",
     "evalue": "",
     "output_type": "error",
     "traceback": [
      "\u001B[0;31m---------------------------------------------------------------------------\u001B[0m",
      "\u001B[0;31mAssertionError\u001B[0m                            Traceback (most recent call last)",
      "\u001B[0;32m/var/folders/p5/b_txxkwd5bl901mk43z_hmkw0000gn/T/ipykernel_70046/3962551104.py\u001B[0m in \u001B[0;36m<module>\u001B[0;34m\u001B[0m\n\u001B[0;32m----> 1\u001B[0;31m \u001B[0;32massert\u001B[0m \u001B[0;34m(\u001B[0m\u001B[0mlen\u001B[0m\u001B[0;34m(\u001B[0m\u001B[0mmovies_df\u001B[0m\u001B[0;34m)\u001B[0m \u001B[0;34m-\u001B[0m \u001B[0mlen\u001B[0m\u001B[0;34m(\u001B[0m\u001B[0mmovies_df\u001B[0m\u001B[0;34m.\u001B[0m\u001B[0mdrop_duplicates\u001B[0m\u001B[0;34m(\u001B[0m\u001B[0;34m[\u001B[0m\u001B[0;34m'title'\u001B[0m\u001B[0;34m,\u001B[0m \u001B[0;34m'genres'\u001B[0m\u001B[0;34m]\u001B[0m\u001B[0;34m)\u001B[0m\u001B[0;34m)\u001B[0m\u001B[0;34m)\u001B[0m \u001B[0;34m==\u001B[0m \u001B[0;36m0\u001B[0m\u001B[0;34m\u001B[0m\u001B[0;34m\u001B[0m\u001B[0m\n\u001B[0m",
      "\u001B[0;31mAssertionError\u001B[0m: "
     ]
    }
   ],
   "source": [
    "assert (len(movies_df) - len(movies_df.drop_duplicates(['title', 'genres']))) == 0"
   ],
   "metadata": {
    "collapsed": false,
    "pycharm": {
     "name": "#%%\n"
    }
   }
  },
  {
   "cell_type": "markdown",
   "source": [
    "That is expected, but let's also make sure that the number of duplicated titles is equal to the number of duplicated genres/title combos"
   ],
   "metadata": {
    "collapsed": false
   }
  },
  {
   "cell_type": "code",
   "execution_count": 8,
   "outputs": [
    {
     "data": {
      "text/plain": "(14, 3)"
     },
     "execution_count": 8,
     "metadata": {},
     "output_type": "execute_result"
    }
   ],
   "source": [
    "movies_df.loc[movies_df.duplicated(['title', 'genres'])].shape"
   ],
   "metadata": {
    "collapsed": false,
    "pycharm": {
     "name": "#%%\n"
    }
   }
  },
  {
   "cell_type": "code",
   "execution_count": 9,
   "outputs": [
    {
     "data": {
      "text/plain": "(78, 3)"
     },
     "execution_count": 9,
     "metadata": {},
     "output_type": "execute_result"
    }
   ],
   "source": [
    "movies_df.loc[movies_df.duplicated(['title'])].shape"
   ],
   "metadata": {
    "collapsed": false,
    "pycharm": {
     "name": "#%%\n"
    }
   }
  },
  {
   "cell_type": "markdown",
   "source": [
    "#### Cleaning the duplicated/bad columns"
   ],
   "metadata": {
    "collapsed": false
   }
  },
  {
   "cell_type": "markdown",
   "source": [
    "Notice that the genres column has inconsistency in it's capitalization.  We probably also want to make sure any leading or trailing spaces are removed. So let's start by cleaning up the genres column."
   ],
   "metadata": {
    "collapsed": false
   }
  },
  {
   "cell_type": "code",
   "execution_count": 10,
   "outputs": [],
   "source": [
    "def lower_case_and_strip_spaces(input):\n",
    "    return input.lower().strip()"
   ],
   "metadata": {
    "collapsed": false,
    "pycharm": {
     "name": "#%%\n"
    }
   }
  },
  {
   "cell_type": "markdown",
   "source": [
    "We can start by writing tests in the notebook.  Our tests right now won't need any extra libraries like pytest.  They will simply be a function that runs our cleaning code against an input and asserts that the output is what we expect."
   ],
   "metadata": {
    "collapsed": false
   }
  },
  {
   "cell_type": "code",
   "execution_count": 11,
   "outputs": [],
   "source": [
    "initial: str = \"Crime|drama|HORROR\"\n",
    "expected: str = \"crime|drama|horror\"\n",
    "\n",
    "initial_2: str = \" CRIME|DRAMA|HORROR \"\n",
    "expected_2: str = \"crime|drama|horror\"\n",
    "\n",
    "initial_3: str = \" CRIME \"\n",
    "expected_3: str = \"crime\"\n",
    "\n",
    "initial_4: str = \" comedy \"\n",
    "expected_4: str = \"comedy\"\n",
    "actual = lower_case_and_strip_spaces(initial)\n",
    "assert actual == expected\n",
    "actual = lower_case_and_strip_spaces(initial_2)\n",
    "assert actual == expected_2\n",
    "actual = lower_case_and_strip_spaces(initial_3)\n",
    "assert actual == expected_3\n",
    "actual = lower_case_and_strip_spaces(initial_4)\n",
    "assert actual == expected_4"
   ],
   "metadata": {
    "collapsed": false,
    "pycharm": {
     "name": "#%%\n"
    }
   }
  },
  {
   "cell_type": "code",
   "execution_count": 12,
   "outputs": [
    {
     "data": {
      "text/plain": "       movieId                                    title  \\\n0            1                         Toy Story (1995)   \n1            2                           Jumanji (1995)   \n2            3                  Grumpier Old Men (1995)   \n3            4                 Waiting to Exhale (1995)   \n4            5       Father of the Bride Part II (1995)   \n...        ...                                      ...   \n58093   193876                  The Great Glinka (1946)   \n58094   193878  Les tribulations d'une caissière (2011)   \n58095   193880                 Her Name Was Mumu (2016)   \n58096   193882                             Flora (2017)   \n58097   193886                              Leal (2018)   \n\n                                            genres  \n0      adventure|animation|children|comedy|fantasy  \n1                       adventure|children|fantasy  \n2                                   comedy|romance  \n3                             comedy|drama|romance  \n4                                           comedy  \n...                                            ...  \n58093                           (no genres listed)  \n58094                                       comedy  \n58095                                        drama  \n58096                adventure|drama|horror|sci-fi  \n58097                           action|crime|drama  \n\n[58098 rows x 3 columns]",
      "text/html": "<div>\n<style scoped>\n    .dataframe tbody tr th:only-of-type {\n        vertical-align: middle;\n    }\n\n    .dataframe tbody tr th {\n        vertical-align: top;\n    }\n\n    .dataframe thead th {\n        text-align: right;\n    }\n</style>\n<table border=\"1\" class=\"dataframe\">\n  <thead>\n    <tr style=\"text-align: right;\">\n      <th></th>\n      <th>movieId</th>\n      <th>title</th>\n      <th>genres</th>\n    </tr>\n  </thead>\n  <tbody>\n    <tr>\n      <th>0</th>\n      <td>1</td>\n      <td>Toy Story (1995)</td>\n      <td>adventure|animation|children|comedy|fantasy</td>\n    </tr>\n    <tr>\n      <th>1</th>\n      <td>2</td>\n      <td>Jumanji (1995)</td>\n      <td>adventure|children|fantasy</td>\n    </tr>\n    <tr>\n      <th>2</th>\n      <td>3</td>\n      <td>Grumpier Old Men (1995)</td>\n      <td>comedy|romance</td>\n    </tr>\n    <tr>\n      <th>3</th>\n      <td>4</td>\n      <td>Waiting to Exhale (1995)</td>\n      <td>comedy|drama|romance</td>\n    </tr>\n    <tr>\n      <th>4</th>\n      <td>5</td>\n      <td>Father of the Bride Part II (1995)</td>\n      <td>comedy</td>\n    </tr>\n    <tr>\n      <th>...</th>\n      <td>...</td>\n      <td>...</td>\n      <td>...</td>\n    </tr>\n    <tr>\n      <th>58093</th>\n      <td>193876</td>\n      <td>The Great Glinka (1946)</td>\n      <td>(no genres listed)</td>\n    </tr>\n    <tr>\n      <th>58094</th>\n      <td>193878</td>\n      <td>Les tribulations d'une caissière (2011)</td>\n      <td>comedy</td>\n    </tr>\n    <tr>\n      <th>58095</th>\n      <td>193880</td>\n      <td>Her Name Was Mumu (2016)</td>\n      <td>drama</td>\n    </tr>\n    <tr>\n      <th>58096</th>\n      <td>193882</td>\n      <td>Flora (2017)</td>\n      <td>adventure|drama|horror|sci-fi</td>\n    </tr>\n    <tr>\n      <th>58097</th>\n      <td>193886</td>\n      <td>Leal (2018)</td>\n      <td>action|crime|drama</td>\n    </tr>\n  </tbody>\n</table>\n<p>58098 rows × 3 columns</p>\n</div>"
     },
     "execution_count": 12,
     "metadata": {},
     "output_type": "execute_result"
    }
   ],
   "source": [
    "movies_df['genres'] = movies_df['genres'].apply(lower_case_and_strip_spaces)\n",
    "movies_df"
   ],
   "metadata": {
    "collapsed": false,
    "pycharm": {
     "name": "#%%\n"
    }
   }
  },
  {
   "cell_type": "code",
   "execution_count": 13,
   "outputs": [],
   "source": [
    "movies_df = movies_df.loc[movies_df['genres'] != '(no genres listed)']"
   ],
   "metadata": {
    "collapsed": false,
    "pycharm": {
     "name": "#%%\n"
    }
   }
  },
  {
   "cell_type": "code",
   "execution_count": 14,
   "outputs": [
    {
     "data": {
      "text/plain": "       movieId                                    title  \\\n0            1                         Toy Story (1995)   \n1            2                           Jumanji (1995)   \n2            3                  Grumpier Old Men (1995)   \n3            4                 Waiting to Exhale (1995)   \n4            5       Father of the Bride Part II (1995)   \n...        ...                                      ...   \n58092   193874              Blondie's Big Moment (1947)   \n58094   193878  Les tribulations d'une caissière (2011)   \n58095   193880                 Her Name Was Mumu (2016)   \n58096   193882                             Flora (2017)   \n58097   193886                              Leal (2018)   \n\n                                            genres  \n0      adventure|animation|children|comedy|fantasy  \n1                       adventure|children|fantasy  \n2                                   comedy|romance  \n3                             comedy|drama|romance  \n4                                           comedy  \n...                                            ...  \n58092                                       comedy  \n58094                                       comedy  \n58095                                        drama  \n58096                adventure|drama|horror|sci-fi  \n58097                           action|crime|drama  \n\n[53832 rows x 3 columns]",
      "text/html": "<div>\n<style scoped>\n    .dataframe tbody tr th:only-of-type {\n        vertical-align: middle;\n    }\n\n    .dataframe tbody tr th {\n        vertical-align: top;\n    }\n\n    .dataframe thead th {\n        text-align: right;\n    }\n</style>\n<table border=\"1\" class=\"dataframe\">\n  <thead>\n    <tr style=\"text-align: right;\">\n      <th></th>\n      <th>movieId</th>\n      <th>title</th>\n      <th>genres</th>\n    </tr>\n  </thead>\n  <tbody>\n    <tr>\n      <th>0</th>\n      <td>1</td>\n      <td>Toy Story (1995)</td>\n      <td>adventure|animation|children|comedy|fantasy</td>\n    </tr>\n    <tr>\n      <th>1</th>\n      <td>2</td>\n      <td>Jumanji (1995)</td>\n      <td>adventure|children|fantasy</td>\n    </tr>\n    <tr>\n      <th>2</th>\n      <td>3</td>\n      <td>Grumpier Old Men (1995)</td>\n      <td>comedy|romance</td>\n    </tr>\n    <tr>\n      <th>3</th>\n      <td>4</td>\n      <td>Waiting to Exhale (1995)</td>\n      <td>comedy|drama|romance</td>\n    </tr>\n    <tr>\n      <th>4</th>\n      <td>5</td>\n      <td>Father of the Bride Part II (1995)</td>\n      <td>comedy</td>\n    </tr>\n    <tr>\n      <th>...</th>\n      <td>...</td>\n      <td>...</td>\n      <td>...</td>\n    </tr>\n    <tr>\n      <th>58092</th>\n      <td>193874</td>\n      <td>Blondie's Big Moment (1947)</td>\n      <td>comedy</td>\n    </tr>\n    <tr>\n      <th>58094</th>\n      <td>193878</td>\n      <td>Les tribulations d'une caissière (2011)</td>\n      <td>comedy</td>\n    </tr>\n    <tr>\n      <th>58095</th>\n      <td>193880</td>\n      <td>Her Name Was Mumu (2016)</td>\n      <td>drama</td>\n    </tr>\n    <tr>\n      <th>58096</th>\n      <td>193882</td>\n      <td>Flora (2017)</td>\n      <td>adventure|drama|horror|sci-fi</td>\n    </tr>\n    <tr>\n      <th>58097</th>\n      <td>193886</td>\n      <td>Leal (2018)</td>\n      <td>action|crime|drama</td>\n    </tr>\n  </tbody>\n</table>\n<p>53832 rows × 3 columns</p>\n</div>"
     },
     "execution_count": 14,
     "metadata": {},
     "output_type": "execute_result"
    }
   ],
   "source": [
    "movies_df"
   ],
   "metadata": {
    "collapsed": false,
    "pycharm": {
     "name": "#%%\n"
    }
   }
  },
  {
   "cell_type": "markdown",
   "source": [
    "Now we can move our cleaning function to a python file. From here on our we can test drive and write other cleaning functions in that file.  Then we can import the code to use in our notebook."
   ],
   "metadata": {
    "collapsed": false
   }
  },
  {
   "cell_type": "code",
   "execution_count": 15,
   "outputs": [
    {
     "data": {
      "text/plain": "       movieId                        title                   genres\n15902    80330               Offside (2006)             comedy|drama\n20835   101212             Girl, The (2012)                    drama\n25046   115777               Beneath (2013)                   horror\n27572   122940         Clear History (2013)                   comedy\n29852   128991        Johnny Express (2014)  animation|comedy|sci-fi\n30226   130062               Darling (2007)                    drama\n36172   143978                  Home (2008)                    drama\n38804   150310               Macbeth (2015)                    drama\n44387   163246  Seven Years Bad Luck (1921)                   comedy\n48620   172427            Little Man (2006)                   comedy\n52192   180205               Dracula (1931)                   horror\n52644   181329                 Lucky (2017)                    drama\n52795   181655                Detour (2017)                 thriller\n57269   191775        Berlin Calling (2008)             comedy|drama",
      "text/html": "<div>\n<style scoped>\n    .dataframe tbody tr th:only-of-type {\n        vertical-align: middle;\n    }\n\n    .dataframe tbody tr th {\n        vertical-align: top;\n    }\n\n    .dataframe thead th {\n        text-align: right;\n    }\n</style>\n<table border=\"1\" class=\"dataframe\">\n  <thead>\n    <tr style=\"text-align: right;\">\n      <th></th>\n      <th>movieId</th>\n      <th>title</th>\n      <th>genres</th>\n    </tr>\n  </thead>\n  <tbody>\n    <tr>\n      <th>15902</th>\n      <td>80330</td>\n      <td>Offside (2006)</td>\n      <td>comedy|drama</td>\n    </tr>\n    <tr>\n      <th>20835</th>\n      <td>101212</td>\n      <td>Girl, The (2012)</td>\n      <td>drama</td>\n    </tr>\n    <tr>\n      <th>25046</th>\n      <td>115777</td>\n      <td>Beneath (2013)</td>\n      <td>horror</td>\n    </tr>\n    <tr>\n      <th>27572</th>\n      <td>122940</td>\n      <td>Clear History (2013)</td>\n      <td>comedy</td>\n    </tr>\n    <tr>\n      <th>29852</th>\n      <td>128991</td>\n      <td>Johnny Express (2014)</td>\n      <td>animation|comedy|sci-fi</td>\n    </tr>\n    <tr>\n      <th>30226</th>\n      <td>130062</td>\n      <td>Darling (2007)</td>\n      <td>drama</td>\n    </tr>\n    <tr>\n      <th>36172</th>\n      <td>143978</td>\n      <td>Home (2008)</td>\n      <td>drama</td>\n    </tr>\n    <tr>\n      <th>38804</th>\n      <td>150310</td>\n      <td>Macbeth (2015)</td>\n      <td>drama</td>\n    </tr>\n    <tr>\n      <th>44387</th>\n      <td>163246</td>\n      <td>Seven Years Bad Luck (1921)</td>\n      <td>comedy</td>\n    </tr>\n    <tr>\n      <th>48620</th>\n      <td>172427</td>\n      <td>Little Man (2006)</td>\n      <td>comedy</td>\n    </tr>\n    <tr>\n      <th>52192</th>\n      <td>180205</td>\n      <td>Dracula (1931)</td>\n      <td>horror</td>\n    </tr>\n    <tr>\n      <th>52644</th>\n      <td>181329</td>\n      <td>Lucky (2017)</td>\n      <td>drama</td>\n    </tr>\n    <tr>\n      <th>52795</th>\n      <td>181655</td>\n      <td>Detour (2017)</td>\n      <td>thriller</td>\n    </tr>\n    <tr>\n      <th>57269</th>\n      <td>191775</td>\n      <td>Berlin Calling (2008)</td>\n      <td>comedy|drama</td>\n    </tr>\n  </tbody>\n</table>\n</div>"
     },
     "execution_count": 15,
     "metadata": {},
     "output_type": "execute_result"
    }
   ],
   "source": [
    "duplicated_titles_and_genres = movies_df.loc[movies_df.duplicated(['title', 'genres'])]\n",
    "duplicated_titles_and_genres"
   ],
   "metadata": {
    "collapsed": false,
    "pycharm": {
     "name": "#%%\n"
    }
   }
  },
  {
   "cell_type": "code",
   "execution_count": 16,
   "outputs": [
    {
     "data": {
      "text/plain": "       movieId                                      title  \\\n9142     26958                                Emma (1996)   \n9157     26982                       Men with Guns (1997)   \n13309    64997                   War of the Worlds (2005)   \n13395    65665                              Hamlet (2000)   \n13614    67459                               Chaos (2005)   \n...        ...                                        ...   \n56950   190881                            The Boss (2016)   \n57238   191713                               Noise (2007)   \n57269   191775                      Berlin Calling (2008)   \n57361   192003  Journey to the Center of the Earth (2008)   \n57953   193559                               Cargo (2017)   \n\n                                genres  \n9142                           romance  \n9157                             drama  \n13309                    action|sci-fi  \n13395                            drama  \n13614               crime|drama|horror  \n...                                ...  \n56950                      documentary  \n57238             crime|drama|thriller  \n57269                     comedy|drama  \n57361  action|adventure|fantasy|sci-fi  \n57953                            drama  \n\n[66 rows x 3 columns]",
      "text/html": "<div>\n<style scoped>\n    .dataframe tbody tr th:only-of-type {\n        vertical-align: middle;\n    }\n\n    .dataframe tbody tr th {\n        vertical-align: top;\n    }\n\n    .dataframe thead th {\n        text-align: right;\n    }\n</style>\n<table border=\"1\" class=\"dataframe\">\n  <thead>\n    <tr style=\"text-align: right;\">\n      <th></th>\n      <th>movieId</th>\n      <th>title</th>\n      <th>genres</th>\n    </tr>\n  </thead>\n  <tbody>\n    <tr>\n      <th>9142</th>\n      <td>26958</td>\n      <td>Emma (1996)</td>\n      <td>romance</td>\n    </tr>\n    <tr>\n      <th>9157</th>\n      <td>26982</td>\n      <td>Men with Guns (1997)</td>\n      <td>drama</td>\n    </tr>\n    <tr>\n      <th>13309</th>\n      <td>64997</td>\n      <td>War of the Worlds (2005)</td>\n      <td>action|sci-fi</td>\n    </tr>\n    <tr>\n      <th>13395</th>\n      <td>65665</td>\n      <td>Hamlet (2000)</td>\n      <td>drama</td>\n    </tr>\n    <tr>\n      <th>13614</th>\n      <td>67459</td>\n      <td>Chaos (2005)</td>\n      <td>crime|drama|horror</td>\n    </tr>\n    <tr>\n      <th>...</th>\n      <td>...</td>\n      <td>...</td>\n      <td>...</td>\n    </tr>\n    <tr>\n      <th>56950</th>\n      <td>190881</td>\n      <td>The Boss (2016)</td>\n      <td>documentary</td>\n    </tr>\n    <tr>\n      <th>57238</th>\n      <td>191713</td>\n      <td>Noise (2007)</td>\n      <td>crime|drama|thriller</td>\n    </tr>\n    <tr>\n      <th>57269</th>\n      <td>191775</td>\n      <td>Berlin Calling (2008)</td>\n      <td>comedy|drama</td>\n    </tr>\n    <tr>\n      <th>57361</th>\n      <td>192003</td>\n      <td>Journey to the Center of the Earth (2008)</td>\n      <td>action|adventure|fantasy|sci-fi</td>\n    </tr>\n    <tr>\n      <th>57953</th>\n      <td>193559</td>\n      <td>Cargo (2017)</td>\n      <td>drama</td>\n    </tr>\n  </tbody>\n</table>\n<p>66 rows × 3 columns</p>\n</div>"
     },
     "execution_count": 16,
     "metadata": {},
     "output_type": "execute_result"
    }
   ],
   "source": [
    "duplicated_titles = movies_df.loc[movies_df.duplicated(['title'])]\n",
    "duplicated_titles"
   ],
   "metadata": {
    "collapsed": false,
    "pycharm": {
     "name": "#%%\n"
    }
   }
  },
  {
   "cell_type": "markdown",
   "source": [
    "We still have the same number of rows in each \"duplicate\" category (duplicate based on title and duplicate based on title & genre).  So let's continue our analysis and see why that is.\n",
    "\n",
    "It would be good to see an example of a title that is a duplicate title, but has a different list of genres in each entry.\n",
    "\n",
    "To do that we can create lists of the title column from both data sets and find the difference between the two lists."
   ],
   "metadata": {
    "collapsed": false
   }
  },
  {
   "cell_type": "code",
   "execution_count": 17,
   "outputs": [
    {
     "data": {
      "text/plain": "['Aladdin (1992)',\n 'Paradise (2013)',\n 'Truth (2015)',\n 'Slow Burn (2000)',\n 'Office (2015)',\n 'Noise (2007)',\n 'Eros (2004)',\n 'Chaos (2005)',\n 'Veronica (2017)',\n 'Saturn 3 (1980)',\n 'Classmates (2016)',\n 'The Break-In (2016)',\n 'Lagaan: Once Upon a Time in India (2001)',\n 'Shelter (2015)',\n 'Rose (2011)',\n '20,000 Leagues Under the Sea (1997)',\n 'Frozen (2010)',\n 'The Boss (2016)',\n 'Ecstasy (2011)',\n 'Weekend (2011)',\n 'Aftermath (2012)',\n 'Men with Guns (1997)',\n 'Clockstoppers (2002)',\n 'Free Fall (2014)',\n 'Tag (2015)',\n 'Hostage (2005)',\n 'Sing (2016)',\n 'Holiday (2014)',\n 'Forsaken (2016)',\n 'The Midnight Man (2016)',\n 'Cargo (2017)',\n 'Hamlet (2000)',\n 'War of the Worlds (2005)',\n 'The Void (2016)',\n 'Gossip (2000)',\n 'Absolution (2015)',\n 'The Reunion (2011)',\n 'Delirium (2014)',\n 'The Dream Team (2012)',\n 'Stranded (2015)',\n 'Journey to the Center of the Earth (2008)',\n 'Blackout (2007)',\n 'Casanova (2005)',\n 'Deranged (2012)',\n 'Interrogation (2016)',\n 'Confessions of a Dangerous Mind (2002)',\n 'The Connection (2014)',\n 'Eden (2014)',\n 'Emma (1996)',\n 'Good People (2014)',\n 'The Promise (2016)',\n 'Grace (2014)']"
     },
     "execution_count": 17,
     "metadata": {},
     "output_type": "execute_result"
    }
   ],
   "source": [
    "from typing import List\n",
    "\n",
    "list_of_titles_from_duplicated_titles_and_genres: List = duplicated_titles_and_genres['title'].to_list()\n",
    "list_of_titles_from_duplicated_titles: List = duplicated_titles['title'].to_list()\n",
    "duplicated_titles = list(set(list_of_titles_from_duplicated_titles).difference(set(list_of_titles_from_duplicated_titles_and_genres)))\n",
    "duplicated_titles"
   ],
   "metadata": {
    "collapsed": false,
    "pycharm": {
     "name": "#%%\n"
    }
   }
  },
  {
   "cell_type": "markdown",
   "source": [
    "Now we can see which titles are duplicates by title but not duplicates by title & genre.  Let's look at an example:"
   ],
   "metadata": {
    "collapsed": false
   }
  },
  {
   "cell_type": "code",
   "execution_count": 18,
   "outputs": [
    {
     "data": {
      "text/plain": "       movieId           title                                       genres\n582        588  Aladdin (1992)  adventure|animation|children|comedy|musical\n24657   114240  Aladdin (1992)  adventure|animation|children|comedy|fantasy",
      "text/html": "<div>\n<style scoped>\n    .dataframe tbody tr th:only-of-type {\n        vertical-align: middle;\n    }\n\n    .dataframe tbody tr th {\n        vertical-align: top;\n    }\n\n    .dataframe thead th {\n        text-align: right;\n    }\n</style>\n<table border=\"1\" class=\"dataframe\">\n  <thead>\n    <tr style=\"text-align: right;\">\n      <th></th>\n      <th>movieId</th>\n      <th>title</th>\n      <th>genres</th>\n    </tr>\n  </thead>\n  <tbody>\n    <tr>\n      <th>582</th>\n      <td>588</td>\n      <td>Aladdin (1992)</td>\n      <td>adventure|animation|children|comedy|musical</td>\n    </tr>\n    <tr>\n      <th>24657</th>\n      <td>114240</td>\n      <td>Aladdin (1992)</td>\n      <td>adventure|animation|children|comedy|fantasy</td>\n    </tr>\n  </tbody>\n</table>\n</div>"
     },
     "execution_count": 18,
     "metadata": {},
     "output_type": "execute_result"
    }
   ],
   "source": [
    "movies_df.loc[movies_df['title'] == 'Aladdin (1992)']"
   ],
   "metadata": {
    "collapsed": false,
    "pycharm": {
     "name": "#%%\n"
    }
   }
  },
  {
   "cell_type": "markdown",
   "source": [
    "It was possible that a movie title could have been assigned to two different movies that have different genres, but based on our example it looks like this really is the same movie with two slight different genre lists.  So now let's write a couple cleaning functions in our cleaning module that can combine these lists for us."
   ],
   "metadata": {
    "collapsed": false
   }
  },
  {
   "cell_type": "code",
   "execution_count": 19,
   "outputs": [
    {
     "name": "stderr",
     "output_type": "stream",
     "text": [
      "/Users/lizjohnson/projects/simple_recommendation_engine/venv/lib/python3.7/site-packages/pandas/core/indexing.py:1884: SettingWithCopyWarning: \n",
      "A value is trying to be set on a copy of a slice from a DataFrame.\n",
      "Try using .loc[row_indexer,col_indexer] = value instead\n",
      "\n",
      "See the caveats in the documentation: https://pandas.pydata.org/pandas-docs/stable/user_guide/indexing.html#returning-a-view-versus-a-copy\n",
      "  self._setitem_single_column(loc, val, pi)\n"
     ]
    }
   ],
   "source": [
    "from analysis.utils.cleaning import find_duplicates_and_combine\n",
    "\n",
    "movies_with_combined_genres_df = find_duplicates_and_combine(movies_df, duplicated_titles)"
   ],
   "metadata": {
    "collapsed": false,
    "pycharm": {
     "name": "#%%\n"
    }
   }
  },
  {
   "cell_type": "markdown",
   "source": [
    "Before we run this - the way we have written it the movies data frame should not lose any rows. Let's assert that remains true."
   ],
   "metadata": {
    "collapsed": false
   }
  },
  {
   "cell_type": "code",
   "execution_count": 20,
   "outputs": [],
   "source": [
    "assert len(movies_with_combined_genres_df.index) == len(movies_df.index)"
   ],
   "metadata": {
    "collapsed": false,
    "pycharm": {
     "name": "#%%\n"
    }
   }
  },
  {
   "cell_type": "markdown",
   "source": [
    "### Ratings Data Frame\n",
    "Same Steps\n",
    "1. Easily get the number of rows and columns by looking at the shape\n",
    "2. Determine the number of non-null rows for each given column\n",
    "3. Check for duplicate rows"
   ],
   "metadata": {
    "collapsed": false
   }
  },
  {
   "cell_type": "code",
   "execution_count": 21,
   "outputs": [
    {
     "data": {
      "text/plain": "(27753444, 4)"
     },
     "execution_count": 21,
     "metadata": {},
     "output_type": "execute_result"
    }
   ],
   "source": [
    "ratings_df.shape"
   ],
   "metadata": {
    "collapsed": false,
    "pycharm": {
     "name": "#%%\n"
    }
   }
  },
  {
   "cell_type": "code",
   "execution_count": 22,
   "outputs": [
    {
     "data": {
      "text/plain": "userId       27753444\nmovieId      27753444\nrating       27753444\ntimestamp    27753444\ndtype: int64"
     },
     "execution_count": 22,
     "metadata": {},
     "output_type": "execute_result"
    }
   ],
   "source": [
    "ratings_df.notnull().agg(sum)"
   ],
   "metadata": {
    "collapsed": false,
    "pycharm": {
     "name": "#%%\n"
    }
   }
  },
  {
   "cell_type": "markdown",
   "source": [
    "Here we should again define what it means to be a \"duplicate\":"
   ],
   "metadata": {
    "collapsed": false
   }
  },
  {
   "cell_type": "code",
   "execution_count": 23,
   "outputs": [],
   "source": [
    "assert (len(ratings_df) - len(ratings_df.drop_duplicates(subset=['userId', 'movieId', 'rating', 'timestamp']))) == 0"
   ],
   "metadata": {
    "collapsed": false,
    "pycharm": {
     "name": "#%%\n"
    }
   }
  },
  {
   "cell_type": "markdown",
   "source": [
    "## Step 2: Title?\n",
    "We want to be able to recommend movies to users. What are some things we could do next?\n",
    "\n",
    "Answer:\n",
    "- Join movies to ratings\n",
    "- Group by movie title to find an average rating for each movie"
   ],
   "metadata": {
    "collapsed": false
   }
  },
  {
   "cell_type": "markdown",
   "source": [
    "Before we join we need to figure which direction to join - so we should ask ourselves:\n",
    "\n",
    "Why are we joining the two data frames?\n",
    "How many rows should the resulting data frame have?\n",
    "Do we expect a given column to have any nulls after the join?"
   ],
   "metadata": {
    "collapsed": false
   }
  },
  {
   "cell_type": "markdown",
   "source": [
    "Here we will left join movies to their ratings.  If we expect all movies to have ratings than we can start with an assertion that indicates that."
   ],
   "metadata": {
    "collapsed": false
   }
  },
  {
   "cell_type": "markdown",
   "source": [],
   "metadata": {
    "collapsed": false
   }
  },
  {
   "cell_type": "code",
   "execution_count": 24,
   "outputs": [],
   "source": [
    "movies_ratings_joined_df = movies_df.set_index('movieId').join(ratings_df.set_index('movieId')).reset_index()"
   ],
   "metadata": {
    "collapsed": false,
    "pycharm": {
     "name": "#%%\n"
    }
   }
  },
  {
   "cell_type": "code",
   "execution_count": 25,
   "outputs": [],
   "source": [
    "movies_with_ratings = movies_ratings_joined_df.loc[movies_ratings_joined_df['rating'].notna()]"
   ],
   "metadata": {
    "collapsed": false,
    "pycharm": {
     "name": "#%%\n"
    }
   }
  },
  {
   "cell_type": "code",
   "execution_count": 26,
   "outputs": [
    {
     "ename": "AssertionError",
     "evalue": "",
     "output_type": "error",
     "traceback": [
      "\u001B[0;31m---------------------------------------------------------------------------\u001B[0m",
      "\u001B[0;31mAssertionError\u001B[0m                            Traceback (most recent call last)",
      "\u001B[0;32m/var/folders/p5/b_txxkwd5bl901mk43z_hmkw0000gn/T/ipykernel_70046/456833705.py\u001B[0m in \u001B[0;36m<module>\u001B[0;34m\u001B[0m\n\u001B[0;32m----> 1\u001B[0;31m \u001B[0;32massert\u001B[0m \u001B[0mlen\u001B[0m\u001B[0;34m(\u001B[0m\u001B[0mmovies_ratings_joined_df\u001B[0m\u001B[0;34m.\u001B[0m\u001B[0mindex\u001B[0m\u001B[0;34m)\u001B[0m \u001B[0;34m==\u001B[0m \u001B[0mlen\u001B[0m\u001B[0;34m(\u001B[0m\u001B[0mmovies_with_ratings\u001B[0m\u001B[0;34m.\u001B[0m\u001B[0mindex\u001B[0m\u001B[0;34m)\u001B[0m\u001B[0;34m\u001B[0m\u001B[0;34m\u001B[0m\u001B[0m\n\u001B[0m",
      "\u001B[0;31mAssertionError\u001B[0m: "
     ]
    }
   ],
   "source": [
    "assert len(movies_ratings_joined_df.index) == len(movies_with_ratings.index)"
   ],
   "metadata": {
    "collapsed": false,
    "pycharm": {
     "name": "#%%\n"
    }
   }
  },
  {
   "cell_type": "markdown",
   "source": [
    "Well our assertion fails but what does that mean?"
   ],
   "metadata": {
    "collapsed": false
   }
  },
  {
   "cell_type": "code",
   "execution_count": 27,
   "outputs": [],
   "source": [
    "movies_missing_ratings = movies_ratings_joined_df.loc[movies_ratings_joined_df['rating'].isna()]"
   ],
   "metadata": {
    "collapsed": false,
    "pycharm": {
     "name": "#%%\n"
    }
   }
  },
  {
   "cell_type": "code",
   "execution_count": 28,
   "outputs": [
    {
     "data": {
      "text/plain": "          movieId                                      title  \\\n21871974    25817                     Break of Hearts (1935)   \n21914110    26361                    Baby Blue Marine (1976)   \n21971501    27153  Can't Be Heaven (Forever Together) (2000)   \n21986044    27433                               Bark! (2002)   \n22225201    31945                 Always a Bridesmaid (2000)   \n...           ...                                        ...   \n27737891   192399                         Under Wraps (1997)   \n27738267   192933                               Rosie (2018)   \n27738335   193109                   Ach śpij kochanie (2017)   \n27738455   193321                             Pledges (2018)   \n27738578   193593                   The Happy Thieves (1962)   \n\n                                 genres  userId  rating  timestamp  \n21871974                  drama|romance     NaN     NaN        NaN  \n21914110                          drama     NaN     NaN        NaN  \n21971501  children|comedy|drama|romance     NaN     NaN        NaN  \n21986044                   comedy|drama     NaN     NaN        NaN  \n22225201                    documentary     NaN     NaN        NaN  \n...                                 ...     ...     ...        ...  \n27737891         children|comedy|horror     NaN     NaN        NaN  \n27738267                          drama     NaN     NaN        NaN  \n27738335                 crime|thriller     NaN     NaN        NaN  \n27738455                  comedy|horror     NaN     NaN        NaN  \n27738578             comedy|crime|drama     NaN     NaN        NaN  \n\n[3675 rows x 6 columns]",
      "text/html": "<div>\n<style scoped>\n    .dataframe tbody tr th:only-of-type {\n        vertical-align: middle;\n    }\n\n    .dataframe tbody tr th {\n        vertical-align: top;\n    }\n\n    .dataframe thead th {\n        text-align: right;\n    }\n</style>\n<table border=\"1\" class=\"dataframe\">\n  <thead>\n    <tr style=\"text-align: right;\">\n      <th></th>\n      <th>movieId</th>\n      <th>title</th>\n      <th>genres</th>\n      <th>userId</th>\n      <th>rating</th>\n      <th>timestamp</th>\n    </tr>\n  </thead>\n  <tbody>\n    <tr>\n      <th>21871974</th>\n      <td>25817</td>\n      <td>Break of Hearts (1935)</td>\n      <td>drama|romance</td>\n      <td>NaN</td>\n      <td>NaN</td>\n      <td>NaN</td>\n    </tr>\n    <tr>\n      <th>21914110</th>\n      <td>26361</td>\n      <td>Baby Blue Marine (1976)</td>\n      <td>drama</td>\n      <td>NaN</td>\n      <td>NaN</td>\n      <td>NaN</td>\n    </tr>\n    <tr>\n      <th>21971501</th>\n      <td>27153</td>\n      <td>Can't Be Heaven (Forever Together) (2000)</td>\n      <td>children|comedy|drama|romance</td>\n      <td>NaN</td>\n      <td>NaN</td>\n      <td>NaN</td>\n    </tr>\n    <tr>\n      <th>21986044</th>\n      <td>27433</td>\n      <td>Bark! (2002)</td>\n      <td>comedy|drama</td>\n      <td>NaN</td>\n      <td>NaN</td>\n      <td>NaN</td>\n    </tr>\n    <tr>\n      <th>22225201</th>\n      <td>31945</td>\n      <td>Always a Bridesmaid (2000)</td>\n      <td>documentary</td>\n      <td>NaN</td>\n      <td>NaN</td>\n      <td>NaN</td>\n    </tr>\n    <tr>\n      <th>...</th>\n      <td>...</td>\n      <td>...</td>\n      <td>...</td>\n      <td>...</td>\n      <td>...</td>\n      <td>...</td>\n    </tr>\n    <tr>\n      <th>27737891</th>\n      <td>192399</td>\n      <td>Under Wraps (1997)</td>\n      <td>children|comedy|horror</td>\n      <td>NaN</td>\n      <td>NaN</td>\n      <td>NaN</td>\n    </tr>\n    <tr>\n      <th>27738267</th>\n      <td>192933</td>\n      <td>Rosie (2018)</td>\n      <td>drama</td>\n      <td>NaN</td>\n      <td>NaN</td>\n      <td>NaN</td>\n    </tr>\n    <tr>\n      <th>27738335</th>\n      <td>193109</td>\n      <td>Ach śpij kochanie (2017)</td>\n      <td>crime|thriller</td>\n      <td>NaN</td>\n      <td>NaN</td>\n      <td>NaN</td>\n    </tr>\n    <tr>\n      <th>27738455</th>\n      <td>193321</td>\n      <td>Pledges (2018)</td>\n      <td>comedy|horror</td>\n      <td>NaN</td>\n      <td>NaN</td>\n      <td>NaN</td>\n    </tr>\n    <tr>\n      <th>27738578</th>\n      <td>193593</td>\n      <td>The Happy Thieves (1962)</td>\n      <td>comedy|crime|drama</td>\n      <td>NaN</td>\n      <td>NaN</td>\n      <td>NaN</td>\n    </tr>\n  </tbody>\n</table>\n<p>3675 rows × 6 columns</p>\n</div>"
     },
     "execution_count": 28,
     "metadata": {},
     "output_type": "execute_result"
    }
   ],
   "source": [
    "movies_missing_ratings"
   ],
   "metadata": {
    "collapsed": false,
    "pycharm": {
     "name": "#%%\n"
    }
   }
  },
  {
   "cell_type": "markdown",
   "source": [],
   "metadata": {
    "collapsed": false
   }
  },
  {
   "cell_type": "markdown",
   "source": [
    "Joining movies to their ratings means that we have a subset of movies that don't have ratings.  We actually may want to know about these so it's good to know that they exist. For now though, we'll drop the records where the rating is NaN and then assert we get the number of rows we expect."
   ],
   "metadata": {
    "collapsed": false
   }
  },
  {
   "cell_type": "code",
   "execution_count": 29,
   "outputs": [],
   "source": [
    "movies_ratings_joined_df = movies_ratings_joined_df.loc[movies_ratings_joined_df['rating'].notna()]"
   ],
   "metadata": {
    "collapsed": false,
    "pycharm": {
     "name": "#%%\n"
    }
   }
  },
  {
   "cell_type": "code",
   "execution_count": 30,
   "outputs": [
    {
     "data": {
      "text/plain": "          movieId                                    title  \\\n0               1                         Toy Story (1995)   \n1               1                         Toy Story (1995)   \n2               1                         Toy Story (1995)   \n3               1                         Toy Story (1995)   \n4               1                         Toy Story (1995)   \n...           ...                                      ...   \n27738725   193878  Les tribulations d'une caissière (2011)   \n27738726   193880                 Her Name Was Mumu (2016)   \n27738727   193882                             Flora (2017)   \n27738728   193886                              Leal (2018)   \n27738729   193886                              Leal (2018)   \n\n                                               genres    userId  rating  \\\n0         adventure|animation|children|comedy|fantasy       4.0     4.0   \n1         adventure|animation|children|comedy|fantasy      10.0     5.0   \n2         adventure|animation|children|comedy|fantasy      14.0     4.5   \n3         adventure|animation|children|comedy|fantasy      15.0     4.0   \n4         adventure|animation|children|comedy|fantasy      22.0     4.0   \n...                                               ...       ...     ...   \n27738725                                       comedy  176871.0     2.0   \n27738726                                        drama   81710.0     2.0   \n27738727                adventure|drama|horror|sci-fi   33330.0     2.0   \n27738728                           action|crime|drama  206009.0     2.5   \n27738729                           action|crime|drama  226715.0     4.0   \n\n             timestamp  \n0         1.113766e+09  \n1         9.488858e+08  \n2         1.442169e+09  \n3         1.370810e+09  \n4         1.237623e+09  \n...                ...  \n27738725  1.537875e+09  \n27738726  1.537886e+09  \n27738727  1.537891e+09  \n27738728  1.537918e+09  \n27738729  1.537916e+09  \n\n[27735055 rows x 6 columns]",
      "text/html": "<div>\n<style scoped>\n    .dataframe tbody tr th:only-of-type {\n        vertical-align: middle;\n    }\n\n    .dataframe tbody tr th {\n        vertical-align: top;\n    }\n\n    .dataframe thead th {\n        text-align: right;\n    }\n</style>\n<table border=\"1\" class=\"dataframe\">\n  <thead>\n    <tr style=\"text-align: right;\">\n      <th></th>\n      <th>movieId</th>\n      <th>title</th>\n      <th>genres</th>\n      <th>userId</th>\n      <th>rating</th>\n      <th>timestamp</th>\n    </tr>\n  </thead>\n  <tbody>\n    <tr>\n      <th>0</th>\n      <td>1</td>\n      <td>Toy Story (1995)</td>\n      <td>adventure|animation|children|comedy|fantasy</td>\n      <td>4.0</td>\n      <td>4.0</td>\n      <td>1.113766e+09</td>\n    </tr>\n    <tr>\n      <th>1</th>\n      <td>1</td>\n      <td>Toy Story (1995)</td>\n      <td>adventure|animation|children|comedy|fantasy</td>\n      <td>10.0</td>\n      <td>5.0</td>\n      <td>9.488858e+08</td>\n    </tr>\n    <tr>\n      <th>2</th>\n      <td>1</td>\n      <td>Toy Story (1995)</td>\n      <td>adventure|animation|children|comedy|fantasy</td>\n      <td>14.0</td>\n      <td>4.5</td>\n      <td>1.442169e+09</td>\n    </tr>\n    <tr>\n      <th>3</th>\n      <td>1</td>\n      <td>Toy Story (1995)</td>\n      <td>adventure|animation|children|comedy|fantasy</td>\n      <td>15.0</td>\n      <td>4.0</td>\n      <td>1.370810e+09</td>\n    </tr>\n    <tr>\n      <th>4</th>\n      <td>1</td>\n      <td>Toy Story (1995)</td>\n      <td>adventure|animation|children|comedy|fantasy</td>\n      <td>22.0</td>\n      <td>4.0</td>\n      <td>1.237623e+09</td>\n    </tr>\n    <tr>\n      <th>...</th>\n      <td>...</td>\n      <td>...</td>\n      <td>...</td>\n      <td>...</td>\n      <td>...</td>\n      <td>...</td>\n    </tr>\n    <tr>\n      <th>27738725</th>\n      <td>193878</td>\n      <td>Les tribulations d'une caissière (2011)</td>\n      <td>comedy</td>\n      <td>176871.0</td>\n      <td>2.0</td>\n      <td>1.537875e+09</td>\n    </tr>\n    <tr>\n      <th>27738726</th>\n      <td>193880</td>\n      <td>Her Name Was Mumu (2016)</td>\n      <td>drama</td>\n      <td>81710.0</td>\n      <td>2.0</td>\n      <td>1.537886e+09</td>\n    </tr>\n    <tr>\n      <th>27738727</th>\n      <td>193882</td>\n      <td>Flora (2017)</td>\n      <td>adventure|drama|horror|sci-fi</td>\n      <td>33330.0</td>\n      <td>2.0</td>\n      <td>1.537891e+09</td>\n    </tr>\n    <tr>\n      <th>27738728</th>\n      <td>193886</td>\n      <td>Leal (2018)</td>\n      <td>action|crime|drama</td>\n      <td>206009.0</td>\n      <td>2.5</td>\n      <td>1.537918e+09</td>\n    </tr>\n    <tr>\n      <th>27738729</th>\n      <td>193886</td>\n      <td>Leal (2018)</td>\n      <td>action|crime|drama</td>\n      <td>226715.0</td>\n      <td>4.0</td>\n      <td>1.537916e+09</td>\n    </tr>\n  </tbody>\n</table>\n<p>27735055 rows × 6 columns</p>\n</div>"
     },
     "execution_count": 30,
     "metadata": {},
     "output_type": "execute_result"
    }
   ],
   "source": [
    "movies_ratings_joined_df"
   ],
   "metadata": {
    "collapsed": false,
    "pycharm": {
     "name": "#%%\n"
    }
   }
  },
  {
   "cell_type": "markdown",
   "source": [
    "Next let's get an average rating for each movie by grouping by title"
   ],
   "metadata": {
    "collapsed": false
   }
  },
  {
   "cell_type": "code",
   "execution_count": 31,
   "outputs": [],
   "source": [
    "movies_with_all_ratings_df = movies_ratings_joined_df.groupby(['title']).agg({'rating': lambda x : x.to_list(), 'genres': lambda x: x.to_list()[0]}).reset_index()"
   ],
   "metadata": {
    "collapsed": false,
    "pycharm": {
     "name": "#%%\n"
    }
   }
  },
  {
   "cell_type": "code",
   "execution_count": 32,
   "outputs": [
    {
     "data": {
      "text/plain": "                                            title  \\\n10026                           Crowd, The (1928)   \n35605                        Sea Hawk, The (1940)   \n23052                            Krummerne (1991)   \n31175                    Parthibhan Kanavu (2003)   \n29191                         Night Patrol (1984)   \n58                                   08/15 (1954)   \n33135                            Quiz Show (1994)   \n8                      $1,000 on the Black (1966)   \n20692                    Indecent Proposal (1993)   \n36944                          Sky Of Love (2007)   \n21300     Ivan Tsarevich & the Grey Wolf 2 (2013)   \n20185                              I-Lived (2015)   \n48211          West Beirut (West Beyrouth) (1998)   \n22590  Kill, Baby, Kill (Operazione paura) (1966)   \n33025    Qissa: The Tale of a Lonely Ghost (2013)   \n48839                           Wilderness (2006)   \n289                              2 Seconds (1998)   \n27455                         Model by Day (1994)   \n33751     Rehearsals for Extinct Anatomies (1987)   \n5297                              Big Jake (1971)   \n\n                                                  rating  \\\n10026  [3.5, 5.0, 3.0, 3.0, 4.0, 4.5, 5.0, 4.0, 3.5, ...   \n35605  [4.5, 4.5, 3.5, 0.5, 4.5, 3.5, 3.5, 3.5, 3.0, ...   \n23052                                         [4.0, 4.0]   \n31175                                              [3.5]   \n29191  [3.0, 5.0, 3.0, 1.0, 3.5, 1.0, 2.0, 2.5, 3.0, ...   \n58                                                 [4.0]   \n33135  [5.0, 4.0, 4.0, 3.0, 2.0, 3.0, 4.0, 3.5, 5.0, ...   \n8                                        [4.0, 3.0, 3.0]   \n20692  [3.5, 3.0, 2.0, 3.0, 4.0, 3.0, 3.0, 1.0, 4.0, ...   \n36944  [5.0, 3.0, 3.5, 5.0, 2.0, 3.5, 3.0, 5.0, 3.5, ...   \n21300  [3.0, 3.0, 2.5, 3.5, 2.5, 3.0, 4.5, 2.0, 1.5, ...   \n20185           [3.0, 0.5, 1.5, 4.0, 1.5, 1.0, 3.0, 2.0]   \n48211  [4.0, 2.5, 1.0, 4.0, 3.5, 3.0, 4.0, 5.0, 3.5, ...   \n22590  [4.5, 3.5, 3.5, 2.5, 3.5, 3.0, 4.0, 3.0, 3.0, ...   \n33025                                         [2.0, 3.0]   \n48839  [2.0, 3.0, 0.5, 2.5, 3.5, 3.0, 3.5, 1.5, 1.5, ...   \n289                                                [3.0]   \n27455                                    [1.5, 2.0, 3.0]   \n33751                [5.0, 3.0, 3.5, 3.0, 1.5, 1.0, 3.0]   \n5297   [3.5, 3.5, 4.0, 2.5, 3.5, 0.5, 3.0, 4.5, 3.0, ...   \n\n                             genres  \n10026                         drama  \n35605      action|adventure|romance  \n23052               children|comedy  \n31175                 drama|romance  \n29191                        comedy  \n58                        drama|war  \n33135                         drama  \n8                           western  \n20692                 drama|romance  \n36944                 drama|romance  \n21300  adventure|animation|children  \n20185       horror|mystery|thriller  \n48211                         drama  \n22590                        horror  \n33025                         drama  \n48839               horror|thriller  \n289                   drama|romance  \n27455              action|adventure  \n33751                     animation  \n5297                        western  ",
      "text/html": "<div>\n<style scoped>\n    .dataframe tbody tr th:only-of-type {\n        vertical-align: middle;\n    }\n\n    .dataframe tbody tr th {\n        vertical-align: top;\n    }\n\n    .dataframe thead th {\n        text-align: right;\n    }\n</style>\n<table border=\"1\" class=\"dataframe\">\n  <thead>\n    <tr style=\"text-align: right;\">\n      <th></th>\n      <th>title</th>\n      <th>rating</th>\n      <th>genres</th>\n    </tr>\n  </thead>\n  <tbody>\n    <tr>\n      <th>10026</th>\n      <td>Crowd, The (1928)</td>\n      <td>[3.5, 5.0, 3.0, 3.0, 4.0, 4.5, 5.0, 4.0, 3.5, ...</td>\n      <td>drama</td>\n    </tr>\n    <tr>\n      <th>35605</th>\n      <td>Sea Hawk, The (1940)</td>\n      <td>[4.5, 4.5, 3.5, 0.5, 4.5, 3.5, 3.5, 3.5, 3.0, ...</td>\n      <td>action|adventure|romance</td>\n    </tr>\n    <tr>\n      <th>23052</th>\n      <td>Krummerne (1991)</td>\n      <td>[4.0, 4.0]</td>\n      <td>children|comedy</td>\n    </tr>\n    <tr>\n      <th>31175</th>\n      <td>Parthibhan Kanavu (2003)</td>\n      <td>[3.5]</td>\n      <td>drama|romance</td>\n    </tr>\n    <tr>\n      <th>29191</th>\n      <td>Night Patrol (1984)</td>\n      <td>[3.0, 5.0, 3.0, 1.0, 3.5, 1.0, 2.0, 2.5, 3.0, ...</td>\n      <td>comedy</td>\n    </tr>\n    <tr>\n      <th>58</th>\n      <td>08/15 (1954)</td>\n      <td>[4.0]</td>\n      <td>drama|war</td>\n    </tr>\n    <tr>\n      <th>33135</th>\n      <td>Quiz Show (1994)</td>\n      <td>[5.0, 4.0, 4.0, 3.0, 2.0, 3.0, 4.0, 3.5, 5.0, ...</td>\n      <td>drama</td>\n    </tr>\n    <tr>\n      <th>8</th>\n      <td>$1,000 on the Black (1966)</td>\n      <td>[4.0, 3.0, 3.0]</td>\n      <td>western</td>\n    </tr>\n    <tr>\n      <th>20692</th>\n      <td>Indecent Proposal (1993)</td>\n      <td>[3.5, 3.0, 2.0, 3.0, 4.0, 3.0, 3.0, 1.0, 4.0, ...</td>\n      <td>drama|romance</td>\n    </tr>\n    <tr>\n      <th>36944</th>\n      <td>Sky Of Love (2007)</td>\n      <td>[5.0, 3.0, 3.5, 5.0, 2.0, 3.5, 3.0, 5.0, 3.5, ...</td>\n      <td>drama|romance</td>\n    </tr>\n    <tr>\n      <th>21300</th>\n      <td>Ivan Tsarevich &amp; the Grey Wolf 2 (2013)</td>\n      <td>[3.0, 3.0, 2.5, 3.5, 2.5, 3.0, 4.5, 2.0, 1.5, ...</td>\n      <td>adventure|animation|children</td>\n    </tr>\n    <tr>\n      <th>20185</th>\n      <td>I-Lived (2015)</td>\n      <td>[3.0, 0.5, 1.5, 4.0, 1.5, 1.0, 3.0, 2.0]</td>\n      <td>horror|mystery|thriller</td>\n    </tr>\n    <tr>\n      <th>48211</th>\n      <td>West Beirut (West Beyrouth) (1998)</td>\n      <td>[4.0, 2.5, 1.0, 4.0, 3.5, 3.0, 4.0, 5.0, 3.5, ...</td>\n      <td>drama</td>\n    </tr>\n    <tr>\n      <th>22590</th>\n      <td>Kill, Baby, Kill (Operazione paura) (1966)</td>\n      <td>[4.5, 3.5, 3.5, 2.5, 3.5, 3.0, 4.0, 3.0, 3.0, ...</td>\n      <td>horror</td>\n    </tr>\n    <tr>\n      <th>33025</th>\n      <td>Qissa: The Tale of a Lonely Ghost (2013)</td>\n      <td>[2.0, 3.0]</td>\n      <td>drama</td>\n    </tr>\n    <tr>\n      <th>48839</th>\n      <td>Wilderness (2006)</td>\n      <td>[2.0, 3.0, 0.5, 2.5, 3.5, 3.0, 3.5, 1.5, 1.5, ...</td>\n      <td>horror|thriller</td>\n    </tr>\n    <tr>\n      <th>289</th>\n      <td>2 Seconds (1998)</td>\n      <td>[3.0]</td>\n      <td>drama|romance</td>\n    </tr>\n    <tr>\n      <th>27455</th>\n      <td>Model by Day (1994)</td>\n      <td>[1.5, 2.0, 3.0]</td>\n      <td>action|adventure</td>\n    </tr>\n    <tr>\n      <th>33751</th>\n      <td>Rehearsals for Extinct Anatomies (1987)</td>\n      <td>[5.0, 3.0, 3.5, 3.0, 1.5, 1.0, 3.0]</td>\n      <td>animation</td>\n    </tr>\n    <tr>\n      <th>5297</th>\n      <td>Big Jake (1971)</td>\n      <td>[3.5, 3.5, 4.0, 2.5, 3.5, 0.5, 3.0, 4.5, 3.0, ...</td>\n      <td>western</td>\n    </tr>\n  </tbody>\n</table>\n</div>"
     },
     "execution_count": 32,
     "metadata": {},
     "output_type": "execute_result"
    }
   ],
   "source": [
    "movies_with_all_ratings_df.sample(20)"
   ],
   "metadata": {
    "collapsed": false,
    "pycharm": {
     "name": "#%%\n"
    }
   }
  },
  {
   "cell_type": "markdown",
   "source": [
    "Anything else we want to check at this point?\n",
    "\n",
    "Answer: Worth it at this point to check that we still have all the movies that we expect to have."
   ],
   "metadata": {
    "collapsed": false
   }
  },
  {
   "cell_type": "markdown",
   "source": [
    "Remember the movies that had no ratings?  Good thing we grabbed those :) let's use them now."
   ],
   "metadata": {
    "collapsed": false
   }
  },
  {
   "cell_type": "code",
   "execution_count": 33,
   "outputs": [
    {
     "data": {
      "text/plain": "          movieId                                      title  \\\n21871974    25817                     Break of Hearts (1935)   \n21914110    26361                    Baby Blue Marine (1976)   \n21971501    27153  Can't Be Heaven (Forever Together) (2000)   \n21986044    27433                               Bark! (2002)   \n22225201    31945                 Always a Bridesmaid (2000)   \n...           ...                                        ...   \n27737891   192399                         Under Wraps (1997)   \n27738267   192933                               Rosie (2018)   \n27738335   193109                   Ach śpij kochanie (2017)   \n27738455   193321                             Pledges (2018)   \n27738578   193593                   The Happy Thieves (1962)   \n\n                                 genres  userId  rating  timestamp  \n21871974                  drama|romance     NaN     NaN        NaN  \n21914110                          drama     NaN     NaN        NaN  \n21971501  children|comedy|drama|romance     NaN     NaN        NaN  \n21986044                   comedy|drama     NaN     NaN        NaN  \n22225201                    documentary     NaN     NaN        NaN  \n...                                 ...     ...     ...        ...  \n27737891         children|comedy|horror     NaN     NaN        NaN  \n27738267                          drama     NaN     NaN        NaN  \n27738335                 crime|thriller     NaN     NaN        NaN  \n27738455                  comedy|horror     NaN     NaN        NaN  \n27738578             comedy|crime|drama     NaN     NaN        NaN  \n\n[3675 rows x 6 columns]",
      "text/html": "<div>\n<style scoped>\n    .dataframe tbody tr th:only-of-type {\n        vertical-align: middle;\n    }\n\n    .dataframe tbody tr th {\n        vertical-align: top;\n    }\n\n    .dataframe thead th {\n        text-align: right;\n    }\n</style>\n<table border=\"1\" class=\"dataframe\">\n  <thead>\n    <tr style=\"text-align: right;\">\n      <th></th>\n      <th>movieId</th>\n      <th>title</th>\n      <th>genres</th>\n      <th>userId</th>\n      <th>rating</th>\n      <th>timestamp</th>\n    </tr>\n  </thead>\n  <tbody>\n    <tr>\n      <th>21871974</th>\n      <td>25817</td>\n      <td>Break of Hearts (1935)</td>\n      <td>drama|romance</td>\n      <td>NaN</td>\n      <td>NaN</td>\n      <td>NaN</td>\n    </tr>\n    <tr>\n      <th>21914110</th>\n      <td>26361</td>\n      <td>Baby Blue Marine (1976)</td>\n      <td>drama</td>\n      <td>NaN</td>\n      <td>NaN</td>\n      <td>NaN</td>\n    </tr>\n    <tr>\n      <th>21971501</th>\n      <td>27153</td>\n      <td>Can't Be Heaven (Forever Together) (2000)</td>\n      <td>children|comedy|drama|romance</td>\n      <td>NaN</td>\n      <td>NaN</td>\n      <td>NaN</td>\n    </tr>\n    <tr>\n      <th>21986044</th>\n      <td>27433</td>\n      <td>Bark! (2002)</td>\n      <td>comedy|drama</td>\n      <td>NaN</td>\n      <td>NaN</td>\n      <td>NaN</td>\n    </tr>\n    <tr>\n      <th>22225201</th>\n      <td>31945</td>\n      <td>Always a Bridesmaid (2000)</td>\n      <td>documentary</td>\n      <td>NaN</td>\n      <td>NaN</td>\n      <td>NaN</td>\n    </tr>\n    <tr>\n      <th>...</th>\n      <td>...</td>\n      <td>...</td>\n      <td>...</td>\n      <td>...</td>\n      <td>...</td>\n      <td>...</td>\n    </tr>\n    <tr>\n      <th>27737891</th>\n      <td>192399</td>\n      <td>Under Wraps (1997)</td>\n      <td>children|comedy|horror</td>\n      <td>NaN</td>\n      <td>NaN</td>\n      <td>NaN</td>\n    </tr>\n    <tr>\n      <th>27738267</th>\n      <td>192933</td>\n      <td>Rosie (2018)</td>\n      <td>drama</td>\n      <td>NaN</td>\n      <td>NaN</td>\n      <td>NaN</td>\n    </tr>\n    <tr>\n      <th>27738335</th>\n      <td>193109</td>\n      <td>Ach śpij kochanie (2017)</td>\n      <td>crime|thriller</td>\n      <td>NaN</td>\n      <td>NaN</td>\n      <td>NaN</td>\n    </tr>\n    <tr>\n      <th>27738455</th>\n      <td>193321</td>\n      <td>Pledges (2018)</td>\n      <td>comedy|horror</td>\n      <td>NaN</td>\n      <td>NaN</td>\n      <td>NaN</td>\n    </tr>\n    <tr>\n      <th>27738578</th>\n      <td>193593</td>\n      <td>The Happy Thieves (1962)</td>\n      <td>comedy|crime|drama</td>\n      <td>NaN</td>\n      <td>NaN</td>\n      <td>NaN</td>\n    </tr>\n  </tbody>\n</table>\n<p>3675 rows × 6 columns</p>\n</div>"
     },
     "execution_count": 33,
     "metadata": {},
     "output_type": "execute_result"
    }
   ],
   "source": [
    "movies_missing_ratings"
   ],
   "metadata": {
    "collapsed": false,
    "pycharm": {
     "name": "#%%\n"
    }
   }
  },
  {
   "cell_type": "markdown",
   "source": [
    "What can we assert to verify that we have all the movies we expect to have?\n",
    "\n",
    "We should check that:\n",
    "\n",
    "Original Number of Movies = # Movies Missing Ratings + # Movies with Ratings + # Movies with duplicated Titles\n",
    "\n",
    "Why?\n",
    "\n",
    "Remember that we kept all rows when we were combining genres above (we didn't create one version of the title with all genres).  We did this because ratings were joined to movies on movie id.  By keeping multiple rows of the movie we were able to capture all of the movie's ratings when we joined to the ratings df.  Then we grouped by movie title - which means we should only have one row for each movie title and it should have all the movie's ratings as a list in the rating column."
   ],
   "metadata": {
    "collapsed": false
   }
  },
  {
   "cell_type": "code",
   "execution_count": 34,
   "outputs": [
    {
     "data": {
      "text/plain": "53832"
     },
     "execution_count": 34,
     "metadata": {},
     "output_type": "execute_result"
    }
   ],
   "source": [
    "len(movies_df.index)"
   ],
   "metadata": {
    "collapsed": false,
    "pycharm": {
     "name": "#%%\n"
    }
   }
  },
  {
   "cell_type": "code",
   "execution_count": 35,
   "outputs": [
    {
     "data": {
      "text/plain": "53823"
     },
     "execution_count": 35,
     "metadata": {},
     "output_type": "execute_result"
    }
   ],
   "source": [
    "(len(movies_missing_ratings.index)+len(movies_with_all_ratings_df.index)+len(duplicated_titles))"
   ],
   "metadata": {
    "collapsed": false,
    "pycharm": {
     "name": "#%%\n"
    }
   }
  },
  {
   "cell_type": "code",
   "execution_count": 36,
   "outputs": [
    {
     "ename": "AssertionError",
     "evalue": "",
     "output_type": "error",
     "traceback": [
      "\u001B[0;31m---------------------------------------------------------------------------\u001B[0m",
      "\u001B[0;31mAssertionError\u001B[0m                            Traceback (most recent call last)",
      "\u001B[0;32m/var/folders/p5/b_txxkwd5bl901mk43z_hmkw0000gn/T/ipykernel_70046/2326883218.py\u001B[0m in \u001B[0;36m<module>\u001B[0;34m\u001B[0m\n\u001B[0;32m----> 1\u001B[0;31m \u001B[0;32massert\u001B[0m \u001B[0mlen\u001B[0m\u001B[0;34m(\u001B[0m\u001B[0mmovies_df\u001B[0m\u001B[0;34m.\u001B[0m\u001B[0mindex\u001B[0m\u001B[0;34m)\u001B[0m \u001B[0;34m==\u001B[0m \u001B[0;34m(\u001B[0m\u001B[0mlen\u001B[0m\u001B[0;34m(\u001B[0m\u001B[0mmovies_missing_ratings\u001B[0m\u001B[0;34m.\u001B[0m\u001B[0mindex\u001B[0m\u001B[0;34m)\u001B[0m\u001B[0;34m+\u001B[0m\u001B[0mlen\u001B[0m\u001B[0;34m(\u001B[0m\u001B[0mmovies_with_all_ratings_df\u001B[0m\u001B[0;34m.\u001B[0m\u001B[0mindex\u001B[0m\u001B[0;34m)\u001B[0m\u001B[0;34m+\u001B[0m\u001B[0mlen\u001B[0m\u001B[0;34m(\u001B[0m\u001B[0mduplicated_titles\u001B[0m\u001B[0;34m)\u001B[0m\u001B[0;34m)\u001B[0m\u001B[0;34m\u001B[0m\u001B[0;34m\u001B[0m\u001B[0m\n\u001B[0m",
      "\u001B[0;31mAssertionError\u001B[0m: "
     ]
    }
   ],
   "source": [
    "assert len(movies_df.index) == (len(movies_missing_ratings.index)+len(movies_with_all_ratings_df.index)+len(duplicated_titles))"
   ],
   "metadata": {
    "collapsed": false,
    "pycharm": {
     "name": "#%%\n"
    }
   }
  },
  {
   "cell_type": "markdown",
   "source": [
    "Let's checkout Aladdin again:"
   ],
   "metadata": {
    "collapsed": false
   }
  },
  {
   "cell_type": "code",
   "execution_count": 37,
   "outputs": [
    {
     "data": {
      "text/plain": "               title                                             rating  \\\n1900  Aladdin (1992)  [2.5, 4.0, 3.5, 4.0, 5.0, 3.5, 4.0, 4.0, 4.5, ...   \n\n                                                 genres  \n1900  adventure|animation|children|comedy|musical|fa...  ",
      "text/html": "<div>\n<style scoped>\n    .dataframe tbody tr th:only-of-type {\n        vertical-align: middle;\n    }\n\n    .dataframe tbody tr th {\n        vertical-align: top;\n    }\n\n    .dataframe thead th {\n        text-align: right;\n    }\n</style>\n<table border=\"1\" class=\"dataframe\">\n  <thead>\n    <tr style=\"text-align: right;\">\n      <th></th>\n      <th>title</th>\n      <th>rating</th>\n      <th>genres</th>\n    </tr>\n  </thead>\n  <tbody>\n    <tr>\n      <th>1900</th>\n      <td>Aladdin (1992)</td>\n      <td>[2.5, 4.0, 3.5, 4.0, 5.0, 3.5, 4.0, 4.0, 4.5, ...</td>\n      <td>adventure|animation|children|comedy|musical|fa...</td>\n    </tr>\n  </tbody>\n</table>\n</div>"
     },
     "execution_count": 37,
     "metadata": {},
     "output_type": "execute_result"
    }
   ],
   "source": [
    "movies_with_all_ratings_df.loc[movies_with_all_ratings_df['title'] == 'Aladdin (1992)']"
   ],
   "metadata": {
    "collapsed": false,
    "pycharm": {
     "name": "#%%\n"
    }
   }
  },
  {
   "cell_type": "markdown",
   "source": [
    "Now let's assign each movie an average rating."
   ],
   "metadata": {
    "collapsed": false
   }
  },
  {
   "cell_type": "code",
   "execution_count": 38,
   "outputs": [],
   "source": [
    "def average_list_items(ratings_list: List):\n",
    "    return sum(ratings_list)/len(ratings_list)"
   ],
   "metadata": {
    "collapsed": false,
    "pycharm": {
     "name": "#%%\n"
    }
   }
  },
  {
   "cell_type": "code",
   "execution_count": 39,
   "outputs": [],
   "source": [
    "movies_with_all_ratings_df['average_rating'] = movies_with_all_ratings_df['rating'].apply(average_list_items)"
   ],
   "metadata": {
    "collapsed": false,
    "pycharm": {
     "name": "#%%\n"
    }
   }
  },
  {
   "cell_type": "markdown",
   "source": [
    "Let's think about our recommendation engine now again.  Let's say that we want to recommend movies to by recommending the movies with the highest ratings and the most similar genres list.\n",
    "\n",
    "To find the movies with the \"most similar genres list\" we can use the nearest neighbors algorithm.  The first step in this would involve transforming the genres list to a vector.\n",
    "\n",
    "First let's drop some rows that could mess up our recommendation engine.  You may have noticed with some of the dataframe samples that some movies have the genre \"(no genres listed)\"  - that sort of feels like a miscellaneous category that would hurt us more than help us. So let's get rid of those movies."
   ],
   "metadata": {
    "collapsed": false
   }
  },
  {
   "cell_type": "code",
   "execution_count": 40,
   "outputs": [],
   "source": [
    "movies_with_ratings_and_genres = movies_with_all_ratings_df.loc[movies_with_all_ratings_df['genres'] != '(no genres listed)']"
   ],
   "metadata": {
    "collapsed": false,
    "pycharm": {
     "name": "#%%\n"
    }
   }
  },
  {
   "cell_type": "code",
   "execution_count": 41,
   "outputs": [
    {
     "data": {
      "text/plain": "                                                   title  \\\n5494   Birds, the Bees and the Italians, The (Signore...   \n44555  The Work and the Glory III: A House Divided (2...   \n40295                          The Avenging Eagle (1978)   \n1353                          About Last Night... (1986)   \n48360                              Wheels of Fire (1985)   \n17186                     Goofy Movies Number One (1933)   \n41759                              The Good Witch (2008)   \n47047           VHS Forever?: Psychotronic People (2014)   \n31923                Place for Lovers, A (Amanti) (1968)   \n22619                          Killer Shrews, The (1959)   \n27371                    Mission, The (Cheung fo) (1999)   \n22482  Kickboxer 3: The Art of War (Kickboxer III: Th...   \n16056                       G.I. Joe: Retaliation (2013)   \n10795          Days and Hours (Kod amidze Idriza) (2004)   \n22433       Kevin Nealon: Whelmed, But Not Overly (2012)   \n21997                                    Judwaa 2 (2017)   \n39955  Terror's Advocate (Avocat de la terreur, L') (...   \n21065                                  Irina Palm (2007)   \n43129                                The Outsider (1981)   \n26025                     Man Without a Face, The (1993)   \n\n                                                  rating  \\\n5494                                          [4.0, 3.5]   \n44555                                              [3.5]   \n40295                                         [3.5, 4.0]   \n1353   [3.0, 4.0, 2.0, 1.0, 3.0, 1.0, 3.0, 3.0, 5.0, ...   \n48360                                              [3.5]   \n17186                                         [2.5, 1.5]   \n41759  [4.0, 4.0, 5.0, 3.5, 4.0, 3.0, 3.0, 3.0, 4.5, ...   \n47047                                         [2.0, 3.0]   \n31923                                              [1.0]   \n22619  [4.0, 1.0, 2.0, 1.0, 5.0, 2.0, 2.0, 2.5, 2.0, ...   \n27371  [3.5, 3.5, 4.5, 2.5, 0.5, 5.0, 2.0, 3.5, 3.5, ...   \n22482  [0.5, 3.0, 2.5, 3.5, 1.0, 3.0, 1.5, 2.5, 1.5, ...   \n16056  [3.0, 2.5, 2.0, 3.0, 4.0, 2.0, 3.0, 3.0, 3.0, ...   \n10795                                         [2.5, 4.0]   \n22433                     [3.0, 3.0, 4.5, 3.5, 3.0, 3.5]   \n21997                     [4.0, 1.5, 3.0, 2.5, 2.5, 0.5]   \n39955  [3.0, 4.0, 3.0, 3.5, 2.5, 5.0, 3.0, 2.5, 4.5, ...   \n21065  [4.0, 4.5, 3.0, 3.5, 3.0, 5.0, 2.5, 4.5, 5.0, ...   \n43129                     [0.5, 3.0, 2.5, 3.0, 3.0, 4.0]   \n26025  [5.0, 3.0, 3.0, 3.0, 3.0, 3.5, 3.0, 3.0, 4.0, ...   \n\n                                      genres  average_rating  \n5494                                  comedy        3.750000  \n44555                                  drama        3.500000  \n40295                       action|adventure        3.750000  \n1353                    comedy|drama|romance        3.092700  \n48360                action|adventure|sci-fi        3.500000  \n17186                                 comedy        2.000000  \n41759                 children|drama|fantasy        3.642857  \n47047                            documentary        2.500000  \n31923                          drama|romance        1.000000  \n22619                          horror|sci-fi        2.142857  \n27371                    crime|drama|mystery        3.350000  \n22482                        action|thriller        2.250000  \n16056  action|adventure|sci-fi|thriller|imax        2.757780  \n10795                                  drama        3.250000  \n22433                                 comedy        3.416667  \n21997                  action|comedy|romance        2.333333  \n39955                            documentary        3.500000  \n21065                                  drama        3.523810  \n43129                                  drama        2.666667  \n26025                                  drama        3.400644  ",
      "text/html": "<div>\n<style scoped>\n    .dataframe tbody tr th:only-of-type {\n        vertical-align: middle;\n    }\n\n    .dataframe tbody tr th {\n        vertical-align: top;\n    }\n\n    .dataframe thead th {\n        text-align: right;\n    }\n</style>\n<table border=\"1\" class=\"dataframe\">\n  <thead>\n    <tr style=\"text-align: right;\">\n      <th></th>\n      <th>title</th>\n      <th>rating</th>\n      <th>genres</th>\n      <th>average_rating</th>\n    </tr>\n  </thead>\n  <tbody>\n    <tr>\n      <th>5494</th>\n      <td>Birds, the Bees and the Italians, The (Signore...</td>\n      <td>[4.0, 3.5]</td>\n      <td>comedy</td>\n      <td>3.750000</td>\n    </tr>\n    <tr>\n      <th>44555</th>\n      <td>The Work and the Glory III: A House Divided (2...</td>\n      <td>[3.5]</td>\n      <td>drama</td>\n      <td>3.500000</td>\n    </tr>\n    <tr>\n      <th>40295</th>\n      <td>The Avenging Eagle (1978)</td>\n      <td>[3.5, 4.0]</td>\n      <td>action|adventure</td>\n      <td>3.750000</td>\n    </tr>\n    <tr>\n      <th>1353</th>\n      <td>About Last Night... (1986)</td>\n      <td>[3.0, 4.0, 2.0, 1.0, 3.0, 1.0, 3.0, 3.0, 5.0, ...</td>\n      <td>comedy|drama|romance</td>\n      <td>3.092700</td>\n    </tr>\n    <tr>\n      <th>48360</th>\n      <td>Wheels of Fire (1985)</td>\n      <td>[3.5]</td>\n      <td>action|adventure|sci-fi</td>\n      <td>3.500000</td>\n    </tr>\n    <tr>\n      <th>17186</th>\n      <td>Goofy Movies Number One (1933)</td>\n      <td>[2.5, 1.5]</td>\n      <td>comedy</td>\n      <td>2.000000</td>\n    </tr>\n    <tr>\n      <th>41759</th>\n      <td>The Good Witch (2008)</td>\n      <td>[4.0, 4.0, 5.0, 3.5, 4.0, 3.0, 3.0, 3.0, 4.5, ...</td>\n      <td>children|drama|fantasy</td>\n      <td>3.642857</td>\n    </tr>\n    <tr>\n      <th>47047</th>\n      <td>VHS Forever?: Psychotronic People (2014)</td>\n      <td>[2.0, 3.0]</td>\n      <td>documentary</td>\n      <td>2.500000</td>\n    </tr>\n    <tr>\n      <th>31923</th>\n      <td>Place for Lovers, A (Amanti) (1968)</td>\n      <td>[1.0]</td>\n      <td>drama|romance</td>\n      <td>1.000000</td>\n    </tr>\n    <tr>\n      <th>22619</th>\n      <td>Killer Shrews, The (1959)</td>\n      <td>[4.0, 1.0, 2.0, 1.0, 5.0, 2.0, 2.0, 2.5, 2.0, ...</td>\n      <td>horror|sci-fi</td>\n      <td>2.142857</td>\n    </tr>\n    <tr>\n      <th>27371</th>\n      <td>Mission, The (Cheung fo) (1999)</td>\n      <td>[3.5, 3.5, 4.5, 2.5, 0.5, 5.0, 2.0, 3.5, 3.5, ...</td>\n      <td>crime|drama|mystery</td>\n      <td>3.350000</td>\n    </tr>\n    <tr>\n      <th>22482</th>\n      <td>Kickboxer 3: The Art of War (Kickboxer III: Th...</td>\n      <td>[0.5, 3.0, 2.5, 3.5, 1.0, 3.0, 1.5, 2.5, 1.5, ...</td>\n      <td>action|thriller</td>\n      <td>2.250000</td>\n    </tr>\n    <tr>\n      <th>16056</th>\n      <td>G.I. Joe: Retaliation (2013)</td>\n      <td>[3.0, 2.5, 2.0, 3.0, 4.0, 2.0, 3.0, 3.0, 3.0, ...</td>\n      <td>action|adventure|sci-fi|thriller|imax</td>\n      <td>2.757780</td>\n    </tr>\n    <tr>\n      <th>10795</th>\n      <td>Days and Hours (Kod amidze Idriza) (2004)</td>\n      <td>[2.5, 4.0]</td>\n      <td>drama</td>\n      <td>3.250000</td>\n    </tr>\n    <tr>\n      <th>22433</th>\n      <td>Kevin Nealon: Whelmed, But Not Overly (2012)</td>\n      <td>[3.0, 3.0, 4.5, 3.5, 3.0, 3.5]</td>\n      <td>comedy</td>\n      <td>3.416667</td>\n    </tr>\n    <tr>\n      <th>21997</th>\n      <td>Judwaa 2 (2017)</td>\n      <td>[4.0, 1.5, 3.0, 2.5, 2.5, 0.5]</td>\n      <td>action|comedy|romance</td>\n      <td>2.333333</td>\n    </tr>\n    <tr>\n      <th>39955</th>\n      <td>Terror's Advocate (Avocat de la terreur, L') (...</td>\n      <td>[3.0, 4.0, 3.0, 3.5, 2.5, 5.0, 3.0, 2.5, 4.5, ...</td>\n      <td>documentary</td>\n      <td>3.500000</td>\n    </tr>\n    <tr>\n      <th>21065</th>\n      <td>Irina Palm (2007)</td>\n      <td>[4.0, 4.5, 3.0, 3.5, 3.0, 5.0, 2.5, 4.5, 5.0, ...</td>\n      <td>drama</td>\n      <td>3.523810</td>\n    </tr>\n    <tr>\n      <th>43129</th>\n      <td>The Outsider (1981)</td>\n      <td>[0.5, 3.0, 2.5, 3.0, 3.0, 4.0]</td>\n      <td>drama</td>\n      <td>2.666667</td>\n    </tr>\n    <tr>\n      <th>26025</th>\n      <td>Man Without a Face, The (1993)</td>\n      <td>[5.0, 3.0, 3.0, 3.0, 3.0, 3.5, 3.0, 3.0, 4.0, ...</td>\n      <td>drama</td>\n      <td>3.400644</td>\n    </tr>\n  </tbody>\n</table>\n</div>"
     },
     "execution_count": 41,
     "metadata": {},
     "output_type": "execute_result"
    }
   ],
   "source": [
    "movies_with_ratings_and_genres.sample(20)"
   ],
   "metadata": {
    "collapsed": false,
    "pycharm": {
     "name": "#%%\n"
    }
   }
  },
  {
   "cell_type": "markdown",
   "source": [
    "Now let's drop movies that have less than 10 ratings. We probably don't have enough data to know if those ratings actually reflect how good the movie is or not.\n",
    "\n",
    "TODO: We could probably come up with a less random value than 10."
   ],
   "metadata": {
    "collapsed": false
   }
  },
  {
   "cell_type": "code",
   "execution_count": 80,
   "outputs": [],
   "source": [
    "movies_with_ratings_and_genres['number of ratings'] = movies_with_ratings_and_genres['rating'].apply(lambda x: len(x))"
   ],
   "metadata": {
    "collapsed": false,
    "pycharm": {
     "name": "#%%\n"
    }
   }
  },
  {
   "cell_type": "code",
   "execution_count": 81,
   "outputs": [],
   "source": [
    "movies_with_many_ratings = movies_with_ratings_and_genres.loc[movies_with_ratings_and_genres['number of ratings'] > 5]"
   ],
   "metadata": {
    "collapsed": false,
    "pycharm": {
     "name": "#%%\n"
    }
   }
  },
  {
   "cell_type": "code",
   "execution_count": 82,
   "outputs": [
    {
     "data": {
      "text/plain": "Empty DataFrame\nColumns: [title, rating, genres, average_rating, number of ratings]\nIndex: []",
      "text/html": "<div>\n<style scoped>\n    .dataframe tbody tr th:only-of-type {\n        vertical-align: middle;\n    }\n\n    .dataframe tbody tr th {\n        vertical-align: top;\n    }\n\n    .dataframe thead th {\n        text-align: right;\n    }\n</style>\n<table border=\"1\" class=\"dataframe\">\n  <thead>\n    <tr style=\"text-align: right;\">\n      <th></th>\n      <th>title</th>\n      <th>rating</th>\n      <th>genres</th>\n      <th>average_rating</th>\n      <th>number of ratings</th>\n    </tr>\n  </thead>\n  <tbody>\n  </tbody>\n</table>\n</div>"
     },
     "execution_count": 82,
     "metadata": {},
     "output_type": "execute_result"
    }
   ],
   "source": [
    "movies_with_many_ratings.loc[movies_with_many_ratings['genres'] == '(no genres listed)']"
   ],
   "metadata": {
    "collapsed": false,
    "pycharm": {
     "name": "#%%\n"
    }
   }
  },
  {
   "cell_type": "code",
   "execution_count": 83,
   "outputs": [
    {
     "name": "stderr",
     "output_type": "stream",
     "text": [
      "/Users/lizjohnson/projects/simple_recommendation_engine/venv/lib/python3.7/site-packages/ipykernel_launcher.py:1: SettingWithCopyWarning: \n",
      "A value is trying to be set on a copy of a slice from a DataFrame.\n",
      "Try using .loc[row_indexer,col_indexer] = value instead\n",
      "\n",
      "See the caveats in the documentation: https://pandas.pydata.org/pandas-docs/stable/user_guide/indexing.html#returning-a-view-versus-a-copy\n",
      "  \"\"\"Entry point for launching an IPython kernel.\n"
     ]
    }
   ],
   "source": [
    "movies_with_many_ratings['genres'] = movies_with_many_ratings['genres'].apply(lambda x: x.split('|'))"
   ],
   "metadata": {
    "collapsed": false,
    "pycharm": {
     "name": "#%%\n"
    }
   }
  },
  {
   "cell_type": "code",
   "execution_count": 84,
   "outputs": [
    {
     "data": {
      "text/plain": "                                                   title  \\\n39920              Terms and Conditions May Apply (2013)   \n30883                                Package, The (1989)   \n16012                          Further Gesture, A (1996)   \n2516                            American Pastoral (2016)   \n23418                                  Lake Eerie (2016)   \n48071               Wedding Banquet, The (Xi yan) (1993)   \n39549                       Talk of the Town, The (1942)   \n48121                        Ween Live in Chicago (2004)   \n35915                Serpent and the Rainbow, The (1988)   \n10272                               Daawat-e-Ishq (2014)   \n42694              The Man Who Invented Christmas (2017)   \n42564                                   The Loner (1987)   \n9555                      Cool Cat Saves the Kids (2015)   \n27252  Miracle of Marcelino, The (Marcelino pan y vin...   \n49365                            Wrestling Queens (2013)   \n27754                Morgan Murphy: Irish Goodbye (2014)   \n13671                    Escort, The (Scorta, La) (1993)   \n12916  Earth Trembles, The (Terra trema: Episodio del...   \n27041            Micmacs (Micmacs à tire-larigot) (2009)   \n16542                        Ghosts of Abu Ghraib (2007)   \n\n                                                  rating  \\\n39920  [4.5, 3.0, 4.0, 4.0, 4.0, 4.0, 4.0, 4.0, 3.0, ...   \n30883  [4.0, 3.0, 2.5, 3.0, 4.0, 1.0, 4.0, 2.0, 2.0, ...   \n16012  [0.5, 1.0, 4.0, 3.0, 3.0, 3.5, 2.5, 1.0, 3.0, ...   \n2516   [3.0, 2.0, 3.0, 3.0, 3.0, 3.0, 5.0, 3.0, 3.0, ...   \n23418      [0.5, 0.5, 0.5, 1.5, 2.5, 1.5, 2.5, 3.0, 2.5]   \n48071  [4.5, 4.0, 4.0, 3.0, 4.0, 4.0, 4.5, 4.0, 3.0, ...   \n39549  [4.5, 3.0, 4.0, 3.5, 5.0, 4.0, 3.0, 4.0, 5.0, ...   \n48121  [5.0, 1.0, 3.0, 0.5, 4.0, 5.0, 0.5, 4.5, 5.0, ...   \n35915  [3.5, 3.0, 3.5, 0.5, 2.0, 3.5, 4.0, 3.5, 2.5, ...   \n10272                     [2.5, 4.0, 3.0, 3.0, 4.0, 4.0]   \n42694  [3.0, 4.0, 4.0, 3.0, 3.0, 3.0, 2.5, 5.0, 3.0, ...   \n42564                     [0.5, 5.0, 3.0, 4.0, 3.0, 2.5]   \n9555   [0.5, 0.5, 0.5, 1.5, 0.5, 0.5, 1.5, 2.0, 0.5, ...   \n27252  [2.0, 3.5, 3.0, 3.0, 2.0, 3.5, 3.5, 1.0, 2.5, ...   \n49365                     [4.0, 2.5, 2.5, 1.5, 3.5, 3.5]   \n27754  [4.0, 5.0, 1.0, 4.0, 4.0, 4.5, 0.5, 3.0, 4.5, ...   \n13671  [4.0, 3.0, 4.5, 3.0, 4.0, 3.0, 2.0, 3.0, 3.0, ...   \n12916  [3.5, 4.5, 5.0, 4.0, 3.0, 4.0, 4.0, 3.0, 4.0, ...   \n27041  [3.5, 3.5, 4.5, 3.0, 4.0, 4.0, 4.0, 4.5, 2.5, ...   \n16542                [4.0, 3.0, 4.0, 4.0, 4.0, 3.0, 4.0]   \n\n                            genres  average_rating  number of ratings  \n39920                [documentary]        3.685484                 62  \n30883           [action, thriller]        3.260465                215  \n16012                      [drama]        2.250000                 10  \n2516                       [drama]        3.060606                 33  \n23418   [horror, sci-fi, thriller]        1.666667                  9  \n48071     [comedy, drama, romance]        3.923034                903  \n39549  [comedy, romance, thriller]        3.773109                238  \n48121                [documentary]        2.843750                 16  \n35915                     [horror]        3.221847                888  \n10272     [comedy, drama, romance]        3.416667                  6  \n42694                      [drama]        3.424242                 33  \n42564       [action, crime, drama]        3.000000                  6  \n9555         [adventure, children]        0.928571                 14  \n27252              [comedy, drama]        2.909091                 33  \n49365                     [comedy]        2.916667                  6  \n27754                     [comedy]        3.375000                 12  \n13671            [crime, thriller]        3.011905                 42  \n12916                      [drama]        3.490741                 54  \n27041              [comedy, crime]        3.652208                634  \n16542                [documentary]        3.714286                  7  ",
      "text/html": "<div>\n<style scoped>\n    .dataframe tbody tr th:only-of-type {\n        vertical-align: middle;\n    }\n\n    .dataframe tbody tr th {\n        vertical-align: top;\n    }\n\n    .dataframe thead th {\n        text-align: right;\n    }\n</style>\n<table border=\"1\" class=\"dataframe\">\n  <thead>\n    <tr style=\"text-align: right;\">\n      <th></th>\n      <th>title</th>\n      <th>rating</th>\n      <th>genres</th>\n      <th>average_rating</th>\n      <th>number of ratings</th>\n    </tr>\n  </thead>\n  <tbody>\n    <tr>\n      <th>39920</th>\n      <td>Terms and Conditions May Apply (2013)</td>\n      <td>[4.5, 3.0, 4.0, 4.0, 4.0, 4.0, 4.0, 4.0, 3.0, ...</td>\n      <td>[documentary]</td>\n      <td>3.685484</td>\n      <td>62</td>\n    </tr>\n    <tr>\n      <th>30883</th>\n      <td>Package, The (1989)</td>\n      <td>[4.0, 3.0, 2.5, 3.0, 4.0, 1.0, 4.0, 2.0, 2.0, ...</td>\n      <td>[action, thriller]</td>\n      <td>3.260465</td>\n      <td>215</td>\n    </tr>\n    <tr>\n      <th>16012</th>\n      <td>Further Gesture, A (1996)</td>\n      <td>[0.5, 1.0, 4.0, 3.0, 3.0, 3.5, 2.5, 1.0, 3.0, ...</td>\n      <td>[drama]</td>\n      <td>2.250000</td>\n      <td>10</td>\n    </tr>\n    <tr>\n      <th>2516</th>\n      <td>American Pastoral (2016)</td>\n      <td>[3.0, 2.0, 3.0, 3.0, 3.0, 3.0, 5.0, 3.0, 3.0, ...</td>\n      <td>[drama]</td>\n      <td>3.060606</td>\n      <td>33</td>\n    </tr>\n    <tr>\n      <th>23418</th>\n      <td>Lake Eerie (2016)</td>\n      <td>[0.5, 0.5, 0.5, 1.5, 2.5, 1.5, 2.5, 3.0, 2.5]</td>\n      <td>[horror, sci-fi, thriller]</td>\n      <td>1.666667</td>\n      <td>9</td>\n    </tr>\n    <tr>\n      <th>48071</th>\n      <td>Wedding Banquet, The (Xi yan) (1993)</td>\n      <td>[4.5, 4.0, 4.0, 3.0, 4.0, 4.0, 4.5, 4.0, 3.0, ...</td>\n      <td>[comedy, drama, romance]</td>\n      <td>3.923034</td>\n      <td>903</td>\n    </tr>\n    <tr>\n      <th>39549</th>\n      <td>Talk of the Town, The (1942)</td>\n      <td>[4.5, 3.0, 4.0, 3.5, 5.0, 4.0, 3.0, 4.0, 5.0, ...</td>\n      <td>[comedy, romance, thriller]</td>\n      <td>3.773109</td>\n      <td>238</td>\n    </tr>\n    <tr>\n      <th>48121</th>\n      <td>Ween Live in Chicago (2004)</td>\n      <td>[5.0, 1.0, 3.0, 0.5, 4.0, 5.0, 0.5, 4.5, 5.0, ...</td>\n      <td>[documentary]</td>\n      <td>2.843750</td>\n      <td>16</td>\n    </tr>\n    <tr>\n      <th>35915</th>\n      <td>Serpent and the Rainbow, The (1988)</td>\n      <td>[3.5, 3.0, 3.5, 0.5, 2.0, 3.5, 4.0, 3.5, 2.5, ...</td>\n      <td>[horror]</td>\n      <td>3.221847</td>\n      <td>888</td>\n    </tr>\n    <tr>\n      <th>10272</th>\n      <td>Daawat-e-Ishq (2014)</td>\n      <td>[2.5, 4.0, 3.0, 3.0, 4.0, 4.0]</td>\n      <td>[comedy, drama, romance]</td>\n      <td>3.416667</td>\n      <td>6</td>\n    </tr>\n    <tr>\n      <th>42694</th>\n      <td>The Man Who Invented Christmas (2017)</td>\n      <td>[3.0, 4.0, 4.0, 3.0, 3.0, 3.0, 2.5, 5.0, 3.0, ...</td>\n      <td>[drama]</td>\n      <td>3.424242</td>\n      <td>33</td>\n    </tr>\n    <tr>\n      <th>42564</th>\n      <td>The Loner (1987)</td>\n      <td>[0.5, 5.0, 3.0, 4.0, 3.0, 2.5]</td>\n      <td>[action, crime, drama]</td>\n      <td>3.000000</td>\n      <td>6</td>\n    </tr>\n    <tr>\n      <th>9555</th>\n      <td>Cool Cat Saves the Kids (2015)</td>\n      <td>[0.5, 0.5, 0.5, 1.5, 0.5, 0.5, 1.5, 2.0, 0.5, ...</td>\n      <td>[adventure, children]</td>\n      <td>0.928571</td>\n      <td>14</td>\n    </tr>\n    <tr>\n      <th>27252</th>\n      <td>Miracle of Marcelino, The (Marcelino pan y vin...</td>\n      <td>[2.0, 3.5, 3.0, 3.0, 2.0, 3.5, 3.5, 1.0, 2.5, ...</td>\n      <td>[comedy, drama]</td>\n      <td>2.909091</td>\n      <td>33</td>\n    </tr>\n    <tr>\n      <th>49365</th>\n      <td>Wrestling Queens (2013)</td>\n      <td>[4.0, 2.5, 2.5, 1.5, 3.5, 3.5]</td>\n      <td>[comedy]</td>\n      <td>2.916667</td>\n      <td>6</td>\n    </tr>\n    <tr>\n      <th>27754</th>\n      <td>Morgan Murphy: Irish Goodbye (2014)</td>\n      <td>[4.0, 5.0, 1.0, 4.0, 4.0, 4.5, 0.5, 3.0, 4.5, ...</td>\n      <td>[comedy]</td>\n      <td>3.375000</td>\n      <td>12</td>\n    </tr>\n    <tr>\n      <th>13671</th>\n      <td>Escort, The (Scorta, La) (1993)</td>\n      <td>[4.0, 3.0, 4.5, 3.0, 4.0, 3.0, 2.0, 3.0, 3.0, ...</td>\n      <td>[crime, thriller]</td>\n      <td>3.011905</td>\n      <td>42</td>\n    </tr>\n    <tr>\n      <th>12916</th>\n      <td>Earth Trembles, The (Terra trema: Episodio del...</td>\n      <td>[3.5, 4.5, 5.0, 4.0, 3.0, 4.0, 4.0, 3.0, 4.0, ...</td>\n      <td>[drama]</td>\n      <td>3.490741</td>\n      <td>54</td>\n    </tr>\n    <tr>\n      <th>27041</th>\n      <td>Micmacs (Micmacs à tire-larigot) (2009)</td>\n      <td>[3.5, 3.5, 4.5, 3.0, 4.0, 4.0, 4.0, 4.5, 2.5, ...</td>\n      <td>[comedy, crime]</td>\n      <td>3.652208</td>\n      <td>634</td>\n    </tr>\n    <tr>\n      <th>16542</th>\n      <td>Ghosts of Abu Ghraib (2007)</td>\n      <td>[4.0, 3.0, 4.0, 4.0, 4.0, 3.0, 4.0]</td>\n      <td>[documentary]</td>\n      <td>3.714286</td>\n      <td>7</td>\n    </tr>\n  </tbody>\n</table>\n</div>"
     },
     "execution_count": 84,
     "metadata": {},
     "output_type": "execute_result"
    }
   ],
   "source": [
    "movies_with_many_ratings.sample(20)"
   ],
   "metadata": {
    "collapsed": false,
    "pycharm": {
     "name": "#%%\n"
    }
   }
  },
  {
   "cell_type": "markdown",
   "source": [
    "Next let's do other things...."
   ],
   "metadata": {
    "collapsed": false,
    "pycharm": {
     "name": "#%% md\n"
    }
   }
  },
  {
   "cell_type": "code",
   "execution_count": 85,
   "outputs": [],
   "source": [
    "genres_list = list(movies_with_many_ratings.explode('genres').groupby('genres').agg(sum).reset_index()['genres'])"
   ],
   "metadata": {
    "collapsed": false,
    "pycharm": {
     "name": "#%%\n"
    }
   }
  },
  {
   "cell_type": "code",
   "execution_count": 86,
   "outputs": [
    {
     "data": {
      "text/plain": "19"
     },
     "execution_count": 86,
     "metadata": {},
     "output_type": "execute_result"
    }
   ],
   "source": [
    "len(genres_list)"
   ],
   "metadata": {
    "collapsed": false,
    "pycharm": {
     "name": "#%%\n"
    }
   }
  },
  {
   "cell_type": "code",
   "execution_count": 87,
   "outputs": [
    {
     "name": "stderr",
     "output_type": "stream",
     "text": [
      "/Users/lizjohnson/projects/simple_recommendation_engine/venv/lib/python3.7/site-packages/ipykernel_launcher.py:1: SettingWithCopyWarning: \n",
      "A value is trying to be set on a copy of a slice from a DataFrame.\n",
      "Try using .loc[row_indexer,col_indexer] = value instead\n",
      "\n",
      "See the caveats in the documentation: https://pandas.pydata.org/pandas-docs/stable/user_guide/indexing.html#returning-a-view-versus-a-copy\n",
      "  \"\"\"Entry point for launching an IPython kernel.\n"
     ]
    }
   ],
   "source": [
    "movies_with_many_ratings['genres_as_string'] = movies_with_many_ratings['genres'].apply(lambda x: ' '.join(x))"
   ],
   "metadata": {
    "collapsed": false,
    "pycharm": {
     "name": "#%%\n"
    }
   }
  },
  {
   "cell_type": "code",
   "execution_count": 94,
   "outputs": [],
   "source": [
    "movies_with_many_ratings = movies_with_many_ratings.reset_index().drop(columns=['index'])"
   ],
   "metadata": {
    "collapsed": false,
    "pycharm": {
     "name": "#%%\n"
    }
   }
  },
  {
   "cell_type": "code",
   "execution_count": 95,
   "outputs": [],
   "source": [
    "from sklearn.feature_extraction.text import TfidfVectorizer\n",
    "tf = TfidfVectorizer(analyzer='word',ngram_range=(1, 1),min_df=0, stop_words='english', vocabulary=genres_list)\n",
    "tfidf_matrix = tf.fit_transform(movies_with_many_ratings['genres_as_string'])"
   ],
   "metadata": {
    "collapsed": false,
    "pycharm": {
     "name": "#%%\n"
    }
   }
  },
  {
   "cell_type": "code",
   "execution_count": 96,
   "outputs": [
    {
     "data": {
      "text/plain": "        0    1         2         3         4         5    6         7    8   \\\n0      0.0  0.0  0.000000  0.000000  0.000000  0.000000  0.0  0.000000  0.0   \n1      0.0  0.0  0.000000  0.000000  0.773345  0.000000  0.0  0.633986  0.0   \n2      0.0  0.0  0.000000  0.000000  0.000000  0.000000  0.0  0.292683  0.0   \n3      0.0  0.0  0.000000  0.000000  1.000000  0.000000  0.0  0.000000  0.0   \n4      0.0  0.0  0.000000  0.000000  0.500969  0.761814  0.0  0.410693  0.0   \n...    ...  ...       ...       ...       ...       ...  ...       ...  ...   \n28317  0.0  0.0  1.000000  0.000000  0.000000  0.000000  0.0  0.000000  0.0   \n28318  0.0  0.0  0.000000  0.000000  0.000000  0.000000  0.0  0.384096  0.0   \n28319  0.0  0.0  0.000000  0.875695  0.482865  0.000000  0.0  0.000000  0.0   \n28320  0.0  0.0  0.704134  0.710067  0.000000  0.000000  0.0  0.000000  0.0   \n28321  0.0  0.0  0.000000  0.000000  0.000000  0.000000  0.0  0.000000  0.0   \n\n        9         10   11   12        13   14   15        16   17   18  \n0      0.0  0.000000  0.0  1.0  0.000000  0.0  0.0  0.000000  0.0  0.0  \n1      0.0  0.000000  0.0  0.0  0.000000  0.0  0.0  0.000000  0.0  0.0  \n2      0.0  0.530887  0.0  0.0  0.647573  0.0  0.0  0.461677  0.0  0.0  \n3      0.0  0.000000  0.0  0.0  0.000000  0.0  0.0  0.000000  0.0  0.0  \n4      0.0  0.000000  0.0  0.0  0.000000  0.0  0.0  0.000000  0.0  0.0  \n...    ...       ...  ...  ...       ...  ...  ...       ...  ...  ...  \n28317  0.0  0.000000  0.0  0.0  0.000000  0.0  0.0  0.000000  0.0  0.0  \n28318  0.0  0.696698  0.0  0.0  0.000000  0.0  0.0  0.605873  0.0  0.0  \n28319  0.0  0.000000  0.0  0.0  0.000000  0.0  0.0  0.000000  0.0  0.0  \n28320  0.0  0.000000  0.0  0.0  0.000000  0.0  0.0  0.000000  0.0  0.0  \n28321  0.0  1.000000  0.0  0.0  0.000000  0.0  0.0  0.000000  0.0  0.0  \n\n[28322 rows x 19 columns]",
      "text/html": "<div>\n<style scoped>\n    .dataframe tbody tr th:only-of-type {\n        vertical-align: middle;\n    }\n\n    .dataframe tbody tr th {\n        vertical-align: top;\n    }\n\n    .dataframe thead th {\n        text-align: right;\n    }\n</style>\n<table border=\"1\" class=\"dataframe\">\n  <thead>\n    <tr style=\"text-align: right;\">\n      <th></th>\n      <th>0</th>\n      <th>1</th>\n      <th>2</th>\n      <th>3</th>\n      <th>4</th>\n      <th>5</th>\n      <th>6</th>\n      <th>7</th>\n      <th>8</th>\n      <th>9</th>\n      <th>10</th>\n      <th>11</th>\n      <th>12</th>\n      <th>13</th>\n      <th>14</th>\n      <th>15</th>\n      <th>16</th>\n      <th>17</th>\n      <th>18</th>\n    </tr>\n  </thead>\n  <tbody>\n    <tr>\n      <th>0</th>\n      <td>0.0</td>\n      <td>0.0</td>\n      <td>0.000000</td>\n      <td>0.000000</td>\n      <td>0.000000</td>\n      <td>0.000000</td>\n      <td>0.0</td>\n      <td>0.000000</td>\n      <td>0.0</td>\n      <td>0.0</td>\n      <td>0.000000</td>\n      <td>0.0</td>\n      <td>1.0</td>\n      <td>0.000000</td>\n      <td>0.0</td>\n      <td>0.0</td>\n      <td>0.000000</td>\n      <td>0.0</td>\n      <td>0.0</td>\n    </tr>\n    <tr>\n      <th>1</th>\n      <td>0.0</td>\n      <td>0.0</td>\n      <td>0.000000</td>\n      <td>0.000000</td>\n      <td>0.773345</td>\n      <td>0.000000</td>\n      <td>0.0</td>\n      <td>0.633986</td>\n      <td>0.0</td>\n      <td>0.0</td>\n      <td>0.000000</td>\n      <td>0.0</td>\n      <td>0.0</td>\n      <td>0.000000</td>\n      <td>0.0</td>\n      <td>0.0</td>\n      <td>0.000000</td>\n      <td>0.0</td>\n      <td>0.0</td>\n    </tr>\n    <tr>\n      <th>2</th>\n      <td>0.0</td>\n      <td>0.0</td>\n      <td>0.000000</td>\n      <td>0.000000</td>\n      <td>0.000000</td>\n      <td>0.000000</td>\n      <td>0.0</td>\n      <td>0.292683</td>\n      <td>0.0</td>\n      <td>0.0</td>\n      <td>0.530887</td>\n      <td>0.0</td>\n      <td>0.0</td>\n      <td>0.647573</td>\n      <td>0.0</td>\n      <td>0.0</td>\n      <td>0.461677</td>\n      <td>0.0</td>\n      <td>0.0</td>\n    </tr>\n    <tr>\n      <th>3</th>\n      <td>0.0</td>\n      <td>0.0</td>\n      <td>0.000000</td>\n      <td>0.000000</td>\n      <td>1.000000</td>\n      <td>0.000000</td>\n      <td>0.0</td>\n      <td>0.000000</td>\n      <td>0.0</td>\n      <td>0.0</td>\n      <td>0.000000</td>\n      <td>0.0</td>\n      <td>0.0</td>\n      <td>0.000000</td>\n      <td>0.0</td>\n      <td>0.0</td>\n      <td>0.000000</td>\n      <td>0.0</td>\n      <td>0.0</td>\n    </tr>\n    <tr>\n      <th>4</th>\n      <td>0.0</td>\n      <td>0.0</td>\n      <td>0.000000</td>\n      <td>0.000000</td>\n      <td>0.500969</td>\n      <td>0.761814</td>\n      <td>0.0</td>\n      <td>0.410693</td>\n      <td>0.0</td>\n      <td>0.0</td>\n      <td>0.000000</td>\n      <td>0.0</td>\n      <td>0.0</td>\n      <td>0.000000</td>\n      <td>0.0</td>\n      <td>0.0</td>\n      <td>0.000000</td>\n      <td>0.0</td>\n      <td>0.0</td>\n    </tr>\n    <tr>\n      <th>...</th>\n      <td>...</td>\n      <td>...</td>\n      <td>...</td>\n      <td>...</td>\n      <td>...</td>\n      <td>...</td>\n      <td>...</td>\n      <td>...</td>\n      <td>...</td>\n      <td>...</td>\n      <td>...</td>\n      <td>...</td>\n      <td>...</td>\n      <td>...</td>\n      <td>...</td>\n      <td>...</td>\n      <td>...</td>\n      <td>...</td>\n      <td>...</td>\n    </tr>\n    <tr>\n      <th>28317</th>\n      <td>0.0</td>\n      <td>0.0</td>\n      <td>1.000000</td>\n      <td>0.000000</td>\n      <td>0.000000</td>\n      <td>0.000000</td>\n      <td>0.0</td>\n      <td>0.000000</td>\n      <td>0.0</td>\n      <td>0.0</td>\n      <td>0.000000</td>\n      <td>0.0</td>\n      <td>0.0</td>\n      <td>0.000000</td>\n      <td>0.0</td>\n      <td>0.0</td>\n      <td>0.000000</td>\n      <td>0.0</td>\n      <td>0.0</td>\n    </tr>\n    <tr>\n      <th>28318</th>\n      <td>0.0</td>\n      <td>0.0</td>\n      <td>0.000000</td>\n      <td>0.000000</td>\n      <td>0.000000</td>\n      <td>0.000000</td>\n      <td>0.0</td>\n      <td>0.384096</td>\n      <td>0.0</td>\n      <td>0.0</td>\n      <td>0.696698</td>\n      <td>0.0</td>\n      <td>0.0</td>\n      <td>0.000000</td>\n      <td>0.0</td>\n      <td>0.0</td>\n      <td>0.605873</td>\n      <td>0.0</td>\n      <td>0.0</td>\n    </tr>\n    <tr>\n      <th>28319</th>\n      <td>0.0</td>\n      <td>0.0</td>\n      <td>0.000000</td>\n      <td>0.875695</td>\n      <td>0.482865</td>\n      <td>0.000000</td>\n      <td>0.0</td>\n      <td>0.000000</td>\n      <td>0.0</td>\n      <td>0.0</td>\n      <td>0.000000</td>\n      <td>0.0</td>\n      <td>0.0</td>\n      <td>0.000000</td>\n      <td>0.0</td>\n      <td>0.0</td>\n      <td>0.000000</td>\n      <td>0.0</td>\n      <td>0.0</td>\n    </tr>\n    <tr>\n      <th>28320</th>\n      <td>0.0</td>\n      <td>0.0</td>\n      <td>0.704134</td>\n      <td>0.710067</td>\n      <td>0.000000</td>\n      <td>0.000000</td>\n      <td>0.0</td>\n      <td>0.000000</td>\n      <td>0.0</td>\n      <td>0.0</td>\n      <td>0.000000</td>\n      <td>0.0</td>\n      <td>0.0</td>\n      <td>0.000000</td>\n      <td>0.0</td>\n      <td>0.0</td>\n      <td>0.000000</td>\n      <td>0.0</td>\n      <td>0.0</td>\n    </tr>\n    <tr>\n      <th>28321</th>\n      <td>0.0</td>\n      <td>0.0</td>\n      <td>0.000000</td>\n      <td>0.000000</td>\n      <td>0.000000</td>\n      <td>0.000000</td>\n      <td>0.0</td>\n      <td>0.000000</td>\n      <td>0.0</td>\n      <td>0.0</td>\n      <td>1.000000</td>\n      <td>0.0</td>\n      <td>0.0</td>\n      <td>0.000000</td>\n      <td>0.0</td>\n      <td>0.0</td>\n      <td>0.000000</td>\n      <td>0.0</td>\n      <td>0.0</td>\n    </tr>\n  </tbody>\n</table>\n<p>28322 rows × 19 columns</p>\n</div>"
     },
     "execution_count": 96,
     "metadata": {},
     "output_type": "execute_result"
    }
   ],
   "source": [
    "pd.DataFrame(tfidf_matrix.toarray())"
   ],
   "metadata": {
    "collapsed": false,
    "pycharm": {
     "name": "#%%\n"
    }
   }
  },
  {
   "cell_type": "code",
   "execution_count": 97,
   "outputs": [],
   "source": [
    "from sklearn.metrics.pairwise import linear_kernel\n",
    "cosine_sim = linear_kernel(tfidf_matrix, tfidf_matrix)"
   ],
   "metadata": {
    "collapsed": false,
    "pycharm": {
     "name": "#%%\n"
    }
   }
  },
  {
   "cell_type": "markdown",
   "source": [
    "If n is the number of movies we have at this point then the cosine_sim frame should be of dimensions n x n"
   ],
   "metadata": {
    "collapsed": false
   }
  },
  {
   "cell_type": "code",
   "execution_count": 98,
   "outputs": [
    {
     "data": {
      "text/plain": "(28322, 28322)"
     },
     "execution_count": 98,
     "metadata": {},
     "output_type": "execute_result"
    }
   ],
   "source": [
    "cosine_sim.shape"
   ],
   "metadata": {
    "collapsed": false,
    "pycharm": {
     "name": "#%%\n"
    }
   }
  },
  {
   "cell_type": "markdown",
   "source": [
    "The next part you can Test Drive because now we'll add logic to grab the top 20 movie titles by index\n",
    "\n",
    "We can build this in a separate module and import it here to see some results"
   ],
   "metadata": {
    "collapsed": false
   }
  },
  {
   "cell_type": "code",
   "execution_count": 99,
   "outputs": [
    {
     "data": {
      "text/plain": "['Antz (1998)', 'Asterix and the Vikings (Astérix et les Vikings) (2006)']"
     },
     "execution_count": 99,
     "metadata": {},
     "output_type": "execute_result"
    }
   ],
   "source": [
    "from analysis.utils.recommendation import get_similar_movies\n",
    "\n",
    "similar_movies = get_similar_movies('Toy Story (1995)', cosine_sim, movies_with_many_ratings)\n",
    "similar_movies"
   ],
   "metadata": {
    "collapsed": false,
    "pycharm": {
     "name": "#%%\n"
    }
   }
  },
  {
   "cell_type": "code",
   "execution_count": null,
   "outputs": [],
   "source": [],
   "metadata": {
    "collapsed": false,
    "pycharm": {
     "name": "#%%\n"
    }
   }
  }
 ],
 "metadata": {
  "kernelspec": {
   "display_name": "Python 3",
   "language": "python",
   "name": "python3"
  },
  "language_info": {
   "codemirror_mode": {
    "name": "ipython",
    "version": 2
   },
   "file_extension": ".py",
   "mimetype": "text/x-python",
   "name": "python",
   "nbconvert_exporter": "python",
   "pygments_lexer": "ipython2",
   "version": "2.7.6"
  }
 },
 "nbformat": 4,
 "nbformat_minor": 0
}
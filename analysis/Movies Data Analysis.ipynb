{
 "cells": [
  {
   "cell_type": "code",
   "execution_count": 37,
   "metadata": {
    "collapsed": true
   },
   "outputs": [],
   "source": [
    "import pandas as pd\n",
    "from typing import List\n",
    "\n",
    "from analysis.utils.cleaning import lower_case_and_strip_spaces"
   ]
  },
  {
   "cell_type": "markdown",
   "source": [
    "### The Data and what we want to do with it:\n",
    "\n",
    "These datasets where originally from Kaggle here is the description they gave:\n",
    "This dataset contains 27753444 ratings across 58098 movies. These data sets were created by 283228 users between January 09, 1995 and September 26, 2018. This dataset was generated on September 26, 2018."
   ],
   "metadata": {
    "collapsed": false
   }
  },
  {
   "cell_type": "markdown",
   "source": [
    "### Reading the Data and Initial Stats"
   ],
   "metadata": {
    "collapsed": false
   }
  },
  {
   "cell_type": "code",
   "execution_count": 4,
   "outputs": [
    {
     "data": {
      "text/plain": "       movieId                                              title  \\\n36737   145222                                      Bedlam (2015)   \n27708   123254                                  State Fair (1962)   \n55004   186405                        Ben 10 - Alien Swarm (2009)   \n27385   122533                             Breach of Trust (1995)   \n23402   109935                    The Artist and the Model (2012)   \n2295      2379    Police Academy 2: Their First Assignment (1985)   \n50359   176165                 Cop and a Half: New Recruit (2017)   \n18160    90405                                     In Time (2011)   \n39854   152894                    Lakeer - Forbidden Lines (2004)   \n49275   173771                                     McLaren (2016)   \n8889     26498                              Boy Meets Girl (1984)   \n44692   163933                            Bury Me an Angel (1972)   \n25338   116487   Remington and the Curse of the Zombadings (2011)   \n51662   179099                                        HHhH (2017)   \n31692   133477                  Che casino... con Pierino! (1982)   \n16221    81643                      Flame of Barbary Coast (1945)   \n27989   123882                              Snow in August (2001)   \n48875   172943                             I Eat Your Skin (1971)   \n7137      7248  Suriyothai (a.k.a. Legend of Suriyothai, The) ...   \n37194   146344                               Elämältä kaiken sain   \n\n                               genres  \n36737                       Thriller   \n27708             (no genres listed)   \n55004                      Adventure   \n27385          Action|drama|THRILLER   \n23402                          Drama   \n2295                    Comedy|crime   \n50359   Action|children|COMEDY|crime   \n18160          Crime|sci-fi|THRILLER   \n39854           Action|drama|ROMANCE   \n49275       Action|documentary|DRAMA   \n8889                           Drama   \n44692                   Action|drama   \n25338            Comedy|drama|HORROR   \n51662                Action|thriller   \n31692                         Comedy   \n16221                Romance|western   \n27989                 Children|drama   \n48875                         Horror   \n7137      Action|adventure|DRAMA|war   \n37194                   Comedy|drama   ",
      "text/html": "<div>\n<style scoped>\n    .dataframe tbody tr th:only-of-type {\n        vertical-align: middle;\n    }\n\n    .dataframe tbody tr th {\n        vertical-align: top;\n    }\n\n    .dataframe thead th {\n        text-align: right;\n    }\n</style>\n<table border=\"1\" class=\"dataframe\">\n  <thead>\n    <tr style=\"text-align: right;\">\n      <th></th>\n      <th>movieId</th>\n      <th>title</th>\n      <th>genres</th>\n    </tr>\n  </thead>\n  <tbody>\n    <tr>\n      <th>36737</th>\n      <td>145222</td>\n      <td>Bedlam (2015)</td>\n      <td>Thriller</td>\n    </tr>\n    <tr>\n      <th>27708</th>\n      <td>123254</td>\n      <td>State Fair (1962)</td>\n      <td>(no genres listed)</td>\n    </tr>\n    <tr>\n      <th>55004</th>\n      <td>186405</td>\n      <td>Ben 10 - Alien Swarm (2009)</td>\n      <td>Adventure</td>\n    </tr>\n    <tr>\n      <th>27385</th>\n      <td>122533</td>\n      <td>Breach of Trust (1995)</td>\n      <td>Action|drama|THRILLER</td>\n    </tr>\n    <tr>\n      <th>23402</th>\n      <td>109935</td>\n      <td>The Artist and the Model (2012)</td>\n      <td>Drama</td>\n    </tr>\n    <tr>\n      <th>2295</th>\n      <td>2379</td>\n      <td>Police Academy 2: Their First Assignment (1985)</td>\n      <td>Comedy|crime</td>\n    </tr>\n    <tr>\n      <th>50359</th>\n      <td>176165</td>\n      <td>Cop and a Half: New Recruit (2017)</td>\n      <td>Action|children|COMEDY|crime</td>\n    </tr>\n    <tr>\n      <th>18160</th>\n      <td>90405</td>\n      <td>In Time (2011)</td>\n      <td>Crime|sci-fi|THRILLER</td>\n    </tr>\n    <tr>\n      <th>39854</th>\n      <td>152894</td>\n      <td>Lakeer - Forbidden Lines (2004)</td>\n      <td>Action|drama|ROMANCE</td>\n    </tr>\n    <tr>\n      <th>49275</th>\n      <td>173771</td>\n      <td>McLaren (2016)</td>\n      <td>Action|documentary|DRAMA</td>\n    </tr>\n    <tr>\n      <th>8889</th>\n      <td>26498</td>\n      <td>Boy Meets Girl (1984)</td>\n      <td>Drama</td>\n    </tr>\n    <tr>\n      <th>44692</th>\n      <td>163933</td>\n      <td>Bury Me an Angel (1972)</td>\n      <td>Action|drama</td>\n    </tr>\n    <tr>\n      <th>25338</th>\n      <td>116487</td>\n      <td>Remington and the Curse of the Zombadings (2011)</td>\n      <td>Comedy|drama|HORROR</td>\n    </tr>\n    <tr>\n      <th>51662</th>\n      <td>179099</td>\n      <td>HHhH (2017)</td>\n      <td>Action|thriller</td>\n    </tr>\n    <tr>\n      <th>31692</th>\n      <td>133477</td>\n      <td>Che casino... con Pierino! (1982)</td>\n      <td>Comedy</td>\n    </tr>\n    <tr>\n      <th>16221</th>\n      <td>81643</td>\n      <td>Flame of Barbary Coast (1945)</td>\n      <td>Romance|western</td>\n    </tr>\n    <tr>\n      <th>27989</th>\n      <td>123882</td>\n      <td>Snow in August (2001)</td>\n      <td>Children|drama</td>\n    </tr>\n    <tr>\n      <th>48875</th>\n      <td>172943</td>\n      <td>I Eat Your Skin (1971)</td>\n      <td>Horror</td>\n    </tr>\n    <tr>\n      <th>7137</th>\n      <td>7248</td>\n      <td>Suriyothai (a.k.a. Legend of Suriyothai, The) ...</td>\n      <td>Action|adventure|DRAMA|war</td>\n    </tr>\n    <tr>\n      <th>37194</th>\n      <td>146344</td>\n      <td>Elämältä kaiken sain</td>\n      <td>Comedy|drama</td>\n    </tr>\n  </tbody>\n</table>\n</div>"
     },
     "execution_count": 4,
     "metadata": {},
     "output_type": "execute_result"
    }
   ],
   "source": [
    "movies_df: pd.DataFrame = pd.read_csv('input/all_movies.csv')\n",
    "movies_df.sample(20)"
   ],
   "metadata": {
    "collapsed": false,
    "pycharm": {
     "name": "#%%\n"
    }
   }
  },
  {
   "cell_type": "code",
   "execution_count": 6,
   "outputs": [
    {
     "data": {
      "text/plain": "       movieId                                    title  \\\n0            1                         Toy Story (1995)   \n1            2                           Jumanji (1995)   \n2            3                  Grumpier Old Men (1995)   \n3            4                 Waiting to Exhale (1995)   \n4            5       Father of the Bride Part II (1995)   \n...        ...                                      ...   \n58093   193876                  The Great Glinka (1946)   \n58094   193878  Les tribulations d'une caissière (2011)   \n58095   193880                 Her Name Was Mumu (2016)   \n58096   193882                             Flora (2017)   \n58097   193886                              Leal (2018)   \n\n                                              genres  \n0       Adventure|animation|CHILDREN|comedy|Fantasy   \n1                        Adventure|children|FANTASY   \n2                                    Comedy|romance   \n3                              Comedy|drama|ROMANCE   \n4                                            Comedy   \n...                                              ...  \n58093                            (no genres listed)   \n58094                                        Comedy   \n58095                                         Drama   \n58096                 Adventure|drama|HORROR|sci-fi   \n58097                            Action|crime|DRAMA   \n\n[58098 rows x 3 columns]",
      "text/html": "<div>\n<style scoped>\n    .dataframe tbody tr th:only-of-type {\n        vertical-align: middle;\n    }\n\n    .dataframe tbody tr th {\n        vertical-align: top;\n    }\n\n    .dataframe thead th {\n        text-align: right;\n    }\n</style>\n<table border=\"1\" class=\"dataframe\">\n  <thead>\n    <tr style=\"text-align: right;\">\n      <th></th>\n      <th>movieId</th>\n      <th>title</th>\n      <th>genres</th>\n    </tr>\n  </thead>\n  <tbody>\n    <tr>\n      <th>0</th>\n      <td>1</td>\n      <td>Toy Story (1995)</td>\n      <td>Adventure|animation|CHILDREN|comedy|Fantasy</td>\n    </tr>\n    <tr>\n      <th>1</th>\n      <td>2</td>\n      <td>Jumanji (1995)</td>\n      <td>Adventure|children|FANTASY</td>\n    </tr>\n    <tr>\n      <th>2</th>\n      <td>3</td>\n      <td>Grumpier Old Men (1995)</td>\n      <td>Comedy|romance</td>\n    </tr>\n    <tr>\n      <th>3</th>\n      <td>4</td>\n      <td>Waiting to Exhale (1995)</td>\n      <td>Comedy|drama|ROMANCE</td>\n    </tr>\n    <tr>\n      <th>4</th>\n      <td>5</td>\n      <td>Father of the Bride Part II (1995)</td>\n      <td>Comedy</td>\n    </tr>\n    <tr>\n      <th>...</th>\n      <td>...</td>\n      <td>...</td>\n      <td>...</td>\n    </tr>\n    <tr>\n      <th>58093</th>\n      <td>193876</td>\n      <td>The Great Glinka (1946)</td>\n      <td>(no genres listed)</td>\n    </tr>\n    <tr>\n      <th>58094</th>\n      <td>193878</td>\n      <td>Les tribulations d'une caissière (2011)</td>\n      <td>Comedy</td>\n    </tr>\n    <tr>\n      <th>58095</th>\n      <td>193880</td>\n      <td>Her Name Was Mumu (2016)</td>\n      <td>Drama</td>\n    </tr>\n    <tr>\n      <th>58096</th>\n      <td>193882</td>\n      <td>Flora (2017)</td>\n      <td>Adventure|drama|HORROR|sci-fi</td>\n    </tr>\n    <tr>\n      <th>58097</th>\n      <td>193886</td>\n      <td>Leal (2018)</td>\n      <td>Action|crime|DRAMA</td>\n    </tr>\n  </tbody>\n</table>\n<p>58098 rows × 3 columns</p>\n</div>"
     },
     "execution_count": 6,
     "metadata": {},
     "output_type": "execute_result"
    }
   ],
   "source": [
    "movies_df"
   ],
   "metadata": {
    "collapsed": false,
    "pycharm": {
     "name": "#%%\n"
    }
   }
  },
  {
   "cell_type": "code",
   "execution_count": 7,
   "outputs": [
    {
     "data": {
      "text/plain": "          userId  movieId  rating   timestamp\n8102165    83406     1234     5.0  1095728493\n12400877  127058      367     2.0  1111287555\n17038902  174150      608     5.0   945700940\n2669324    27508      357     3.0   846323768\n23571102  240828    40826     2.5  1136767320\n27431524  279863     3608     3.0  1366525194\n20661989  211008      529     5.0   845075838\n11705337  120061       65     3.0  1152720027\n17019370  173990    63859     3.5  1272740060\n18222198  185980    43897     3.5  1299948170\n19417270  198271     1080     5.0   957901499\n14427498  147680     6157     0.5  1487197591\n23769881  242758     1894     3.0   963849042\n15135669  154650   174055     3.0  1537733725\n2310799    23762        1     4.0   881157921\n17430281  178042     3173     4.0  1162273661\n23338472  238606      208     2.5  1537745639\n6920249    70989     4748     1.5  1254526895\n6482229    66601     1270     2.0  1441665737\n10694529  109950     7562     4.0  1084468024",
      "text/html": "<div>\n<style scoped>\n    .dataframe tbody tr th:only-of-type {\n        vertical-align: middle;\n    }\n\n    .dataframe tbody tr th {\n        vertical-align: top;\n    }\n\n    .dataframe thead th {\n        text-align: right;\n    }\n</style>\n<table border=\"1\" class=\"dataframe\">\n  <thead>\n    <tr style=\"text-align: right;\">\n      <th></th>\n      <th>userId</th>\n      <th>movieId</th>\n      <th>rating</th>\n      <th>timestamp</th>\n    </tr>\n  </thead>\n  <tbody>\n    <tr>\n      <th>8102165</th>\n      <td>83406</td>\n      <td>1234</td>\n      <td>5.0</td>\n      <td>1095728493</td>\n    </tr>\n    <tr>\n      <th>12400877</th>\n      <td>127058</td>\n      <td>367</td>\n      <td>2.0</td>\n      <td>1111287555</td>\n    </tr>\n    <tr>\n      <th>17038902</th>\n      <td>174150</td>\n      <td>608</td>\n      <td>5.0</td>\n      <td>945700940</td>\n    </tr>\n    <tr>\n      <th>2669324</th>\n      <td>27508</td>\n      <td>357</td>\n      <td>3.0</td>\n      <td>846323768</td>\n    </tr>\n    <tr>\n      <th>23571102</th>\n      <td>240828</td>\n      <td>40826</td>\n      <td>2.5</td>\n      <td>1136767320</td>\n    </tr>\n    <tr>\n      <th>27431524</th>\n      <td>279863</td>\n      <td>3608</td>\n      <td>3.0</td>\n      <td>1366525194</td>\n    </tr>\n    <tr>\n      <th>20661989</th>\n      <td>211008</td>\n      <td>529</td>\n      <td>5.0</td>\n      <td>845075838</td>\n    </tr>\n    <tr>\n      <th>11705337</th>\n      <td>120061</td>\n      <td>65</td>\n      <td>3.0</td>\n      <td>1152720027</td>\n    </tr>\n    <tr>\n      <th>17019370</th>\n      <td>173990</td>\n      <td>63859</td>\n      <td>3.5</td>\n      <td>1272740060</td>\n    </tr>\n    <tr>\n      <th>18222198</th>\n      <td>185980</td>\n      <td>43897</td>\n      <td>3.5</td>\n      <td>1299948170</td>\n    </tr>\n    <tr>\n      <th>19417270</th>\n      <td>198271</td>\n      <td>1080</td>\n      <td>5.0</td>\n      <td>957901499</td>\n    </tr>\n    <tr>\n      <th>14427498</th>\n      <td>147680</td>\n      <td>6157</td>\n      <td>0.5</td>\n      <td>1487197591</td>\n    </tr>\n    <tr>\n      <th>23769881</th>\n      <td>242758</td>\n      <td>1894</td>\n      <td>3.0</td>\n      <td>963849042</td>\n    </tr>\n    <tr>\n      <th>15135669</th>\n      <td>154650</td>\n      <td>174055</td>\n      <td>3.0</td>\n      <td>1537733725</td>\n    </tr>\n    <tr>\n      <th>2310799</th>\n      <td>23762</td>\n      <td>1</td>\n      <td>4.0</td>\n      <td>881157921</td>\n    </tr>\n    <tr>\n      <th>17430281</th>\n      <td>178042</td>\n      <td>3173</td>\n      <td>4.0</td>\n      <td>1162273661</td>\n    </tr>\n    <tr>\n      <th>23338472</th>\n      <td>238606</td>\n      <td>208</td>\n      <td>2.5</td>\n      <td>1537745639</td>\n    </tr>\n    <tr>\n      <th>6920249</th>\n      <td>70989</td>\n      <td>4748</td>\n      <td>1.5</td>\n      <td>1254526895</td>\n    </tr>\n    <tr>\n      <th>6482229</th>\n      <td>66601</td>\n      <td>1270</td>\n      <td>2.0</td>\n      <td>1441665737</td>\n    </tr>\n    <tr>\n      <th>10694529</th>\n      <td>109950</td>\n      <td>7562</td>\n      <td>4.0</td>\n      <td>1084468024</td>\n    </tr>\n  </tbody>\n</table>\n</div>"
     },
     "execution_count": 7,
     "metadata": {},
     "output_type": "execute_result"
    }
   ],
   "source": [
    "ratings_df = pd.read_csv('input/ratings.csv')\n",
    "ratings_df.sample(20)"
   ],
   "metadata": {
    "collapsed": false,
    "pycharm": {
     "name": "#%%\n"
    }
   }
  },
  {
   "cell_type": "markdown",
   "source": [
    "## Step 1: Cleaning\n",
    "You shouldn't necessarily assume that your data is good.  It could be very sparse and not have much there. There could be duplication, poorly recorded or empty values, or with large text there could be a lot of garbage in there if it was an open text field\n",
    "\n",
    "Some things we'll do here:\n",
    "1. Get the number of rows and columns by looking at the shape\n",
    "2. Determine the number of non-null rows for each given column (This would tell us if a column is especially sparse)\n",
    "3. Check for duplicate rows\n",
    "\n",
    "As we find things that need to be cleaned (bad text, duplicates etc.) we will write tested cleaning functions to cleanup our input data."
   ],
   "metadata": {
    "collapsed": false
   }
  },
  {
   "cell_type": "code",
   "execution_count": 8,
   "outputs": [
    {
     "data": {
      "text/plain": "(58098, 3)"
     },
     "execution_count": 8,
     "metadata": {},
     "output_type": "execute_result"
    }
   ],
   "source": [
    "movies_df.shape"
   ],
   "metadata": {
    "collapsed": false,
    "pycharm": {
     "name": "#%%\n"
    }
   }
  },
  {
   "cell_type": "code",
   "execution_count": 9,
   "outputs": [
    {
     "name": "stdout",
     "output_type": "stream",
     "text": [
      "<class 'pandas.core.frame.DataFrame'>\n",
      "RangeIndex: 58098 entries, 0 to 58097\n",
      "Data columns (total 3 columns):\n",
      " #   Column   Non-Null Count  Dtype \n",
      "---  ------   --------------  ----- \n",
      " 0   movieId  58098 non-null  int64 \n",
      " 1   title    58098 non-null  object\n",
      " 2   genres   58098 non-null  object\n",
      "dtypes: int64(1), object(2)\n",
      "memory usage: 1.3+ MB\n"
     ]
    }
   ],
   "source": [
    "movies_df.info()"
   ],
   "metadata": {
    "collapsed": false,
    "pycharm": {
     "name": "#%%\n"
    }
   }
  },
  {
   "cell_type": "markdown",
   "source": [
    "#### Checking for Duplicates"
   ],
   "metadata": {
    "collapsed": false
   }
  },
  {
   "cell_type": "markdown",
   "source": [
    "First we need to define what a \"duplicate\" is."
   ],
   "metadata": {
    "collapsed": false
   }
  },
  {
   "cell_type": "code",
   "execution_count": 10,
   "outputs": [],
   "source": [],
   "metadata": {
    "collapsed": false,
    "pycharm": {
     "name": "#%%\n"
    }
   }
  },
  {
   "cell_type": "code",
   "execution_count": 12,
   "outputs": [],
   "source": [],
   "metadata": {
    "collapsed": false,
    "pycharm": {
     "name": "#%%\n"
    }
   }
  },
  {
   "cell_type": "code",
   "execution_count": 145,
   "outputs": [],
   "source": [],
   "metadata": {
    "collapsed": false,
    "pycharm": {
     "name": "#%%\n"
    }
   }
  },
  {
   "cell_type": "code",
   "execution_count": 14,
   "outputs": [],
   "source": [],
   "metadata": {
    "collapsed": false,
    "pycharm": {
     "name": "#%%\n"
    }
   }
  },
  {
   "cell_type": "code",
   "execution_count": 15,
   "outputs": [],
   "source": [],
   "metadata": {
    "collapsed": false,
    "pycharm": {
     "name": "#%%\n"
    }
   }
  },
  {
   "cell_type": "code",
   "execution_count": 145,
   "outputs": [],
   "source": [],
   "metadata": {
    "collapsed": false,
    "pycharm": {
     "name": "#%%\n"
    }
   }
  },
  {
   "cell_type": "markdown",
   "source": [
    "Let's do some cleanup."
   ],
   "metadata": {
    "collapsed": false
   }
  },
  {
   "cell_type": "code",
   "execution_count": 38,
   "outputs": [],
   "source": [],
   "metadata": {
    "collapsed": false,
    "pycharm": {
     "name": "#%%\n"
    }
   }
  },
  {
   "cell_type": "code",
   "execution_count": 40,
   "outputs": [],
   "source": [],
   "metadata": {
    "collapsed": false,
    "pycharm": {
     "name": "#%%\n"
    }
   }
  },
  {
   "cell_type": "code",
   "execution_count": 145,
   "outputs": [],
   "source": [],
   "metadata": {
    "collapsed": false,
    "pycharm": {
     "name": "#%%\n"
    }
   }
  },
  {
   "cell_type": "code",
   "execution_count": 145,
   "outputs": [],
   "source": [],
   "metadata": {
    "collapsed": false,
    "pycharm": {
     "name": "#%%\n"
    }
   }
  },
  {
   "cell_type": "code",
   "execution_count": 145,
   "outputs": [],
   "source": [],
   "metadata": {
    "collapsed": false,
    "pycharm": {
     "name": "#%%\n"
    }
   }
  },
  {
   "cell_type": "markdown",
   "source": [
    "Now let's determine what is happening to cause the shape discrepency"
   ],
   "metadata": {
    "collapsed": false
   }
  },
  {
   "cell_type": "code",
   "execution_count": 145,
   "outputs": [],
   "source": [],
   "metadata": {
    "collapsed": false,
    "pycharm": {
     "name": "#%%\n"
    }
   }
  },
  {
   "cell_type": "code",
   "execution_count": 145,
   "outputs": [],
   "source": [],
   "metadata": {
    "collapsed": false,
    "pycharm": {
     "name": "#%%\n"
    }
   }
  },
  {
   "cell_type": "markdown",
   "source": [
    "Here we have a situation where 56 things are duplicated based on their title but the two rows have different genres.  How can we easily find an example movie where this is the case?"
   ],
   "metadata": {
    "collapsed": false
   }
  },
  {
   "cell_type": "code",
   "execution_count": 145,
   "outputs": [],
   "source": [],
   "metadata": {
    "collapsed": false,
    "pycharm": {
     "name": "#%%\n"
    }
   }
  },
  {
   "cell_type": "markdown",
   "source": [
    "Let's check out an example:"
   ],
   "metadata": {
    "collapsed": false
   }
  },
  {
   "cell_type": "code",
   "execution_count": 145,
   "outputs": [],
   "source": [],
   "metadata": {
    "collapsed": false,
    "pycharm": {
     "name": "#%%\n"
    }
   }
  },
  {
   "cell_type": "code",
   "execution_count": 145,
   "outputs": [],
   "source": [],
   "metadata": {
    "collapsed": false,
    "pycharm": {
     "name": "#%%\n"
    }
   }
  },
  {
   "cell_type": "code",
   "execution_count": 145,
   "outputs": [],
   "source": [],
   "metadata": {
    "collapsed": false,
    "pycharm": {
     "name": "#%%\n"
    }
   }
  },
  {
   "cell_type": "code",
   "execution_count": 57,
   "outputs": [],
   "source": [],
   "metadata": {
    "collapsed": false,
    "pycharm": {
     "name": "#%%\n"
    }
   }
  },
  {
   "cell_type": "code",
   "execution_count": 145,
   "outputs": [],
   "source": [],
   "metadata": {
    "collapsed": false,
    "pycharm": {
     "name": "#%%\n"
    }
   }
  },
  {
   "cell_type": "code",
   "execution_count": 145,
   "outputs": [],
   "source": [],
   "metadata": {
    "collapsed": false,
    "pycharm": {
     "name": "#%%\n"
    }
   }
  },
  {
   "cell_type": "markdown",
   "source": [
    "### Ratings Data Frame\n",
    "Same Steps\n",
    "1. Easily get the number of rows and columns by looking at the shape\n",
    "2. Determine the number of non-null rows for each given column\n",
    "3. Check for duplicate rows"
   ],
   "metadata": {
    "collapsed": false
   }
  },
  {
   "cell_type": "code",
   "execution_count": 145,
   "outputs": [],
   "source": [],
   "metadata": {
    "collapsed": false,
    "pycharm": {
     "name": "#%%\n"
    }
   }
  },
  {
   "cell_type": "code",
   "execution_count": 145,
   "outputs": [],
   "source": [],
   "metadata": {
    "collapsed": false,
    "pycharm": {
     "name": "#%%\n"
    }
   }
  },
  {
   "cell_type": "markdown",
   "source": [
    "Here we should again define what it means to be a \"duplicate\":"
   ],
   "metadata": {
    "collapsed": false
   }
  },
  {
   "cell_type": "code",
   "execution_count": 63,
   "outputs": [],
   "source": [],
   "metadata": {
    "collapsed": false,
    "pycharm": {
     "name": "#%%\n"
    }
   }
  },
  {
   "cell_type": "markdown",
   "source": [
    "## Step 2: Feature Preparation\n",
    "We want to be able to recommend movies to users. What are some things we could do next?\n",
    "\n",
    "Answer:\n",
    "- Join movies to ratings\n",
    "- Group by movie title to find an average rating for each movie"
   ],
   "metadata": {
    "collapsed": false
   }
  },
  {
   "cell_type": "markdown",
   "source": [
    "Here we will left join movies to their ratings.  If we expect all movies to have ratings than we can start with an assertion that indicates that."
   ],
   "metadata": {
    "collapsed": false
   }
  },
  {
   "cell_type": "code",
   "execution_count": 64,
   "outputs": [],
   "source": [],
   "metadata": {
    "collapsed": false,
    "pycharm": {
     "name": "#%%\n"
    }
   }
  },
  {
   "cell_type": "code",
   "execution_count": 145,
   "outputs": [],
   "source": [],
   "metadata": {
    "collapsed": false,
    "pycharm": {
     "name": "#%%\n"
    }
   }
  },
  {
   "cell_type": "markdown",
   "source": [
    "Let's find the movies that were missing ratings (if any)."
   ],
   "metadata": {
    "collapsed": false
   }
  },
  {
   "cell_type": "markdown",
   "source": [],
   "metadata": {
    "collapsed": false
   }
  },
  {
   "cell_type": "code",
   "execution_count": 145,
   "outputs": [],
   "source": [],
   "metadata": {
    "collapsed": false,
    "pycharm": {
     "name": "#%%\n"
    }
   }
  },
  {
   "cell_type": "markdown",
   "source": [
    "Now let's keep only movies that did have ratings"
   ],
   "metadata": {
    "collapsed": false
   }
  },
  {
   "cell_type": "code",
   "execution_count": 145,
   "outputs": [],
   "source": [],
   "metadata": {
    "collapsed": false,
    "pycharm": {
     "name": "#%%\n"
    }
   }
  },
  {
   "cell_type": "code",
   "execution_count": 72,
   "outputs": [],
   "source": [],
   "metadata": {
    "collapsed": false,
    "pycharm": {
     "name": "#%%\n"
    }
   }
  },
  {
   "cell_type": "code",
   "execution_count": 145,
   "outputs": [],
   "source": [],
   "metadata": {
    "collapsed": false,
    "pycharm": {
     "name": "#%%\n"
    }
   }
  },
  {
   "cell_type": "markdown",
   "source": [
    "Next let's get an average rating for each movie by grouping by title and creating a list of the ratings and taking the first instance of a genres list."
   ],
   "metadata": {
    "collapsed": false
   }
  },
  {
   "cell_type": "code",
   "execution_count": 77,
   "outputs": [],
   "source": [],
   "metadata": {
    "collapsed": false,
    "pycharm": {
     "name": "#%%\n"
    }
   }
  },
  {
   "cell_type": "code",
   "execution_count": 78,
   "outputs": [],
   "source": [],
   "metadata": {
    "collapsed": false,
    "pycharm": {
     "name": "#%%\n"
    }
   }
  },
  {
   "cell_type": "code",
   "execution_count": 145,
   "outputs": [],
   "source": [],
   "metadata": {
    "collapsed": false,
    "pycharm": {
     "name": "#%%\n"
    }
   }
  },
  {
   "cell_type": "markdown",
   "source": [
    "Let's think about our recommendation engine now again.  Let's say that we want to recommend movies to by recommending the movies with the most similar genres list."
   ],
   "metadata": {
    "collapsed": false
   }
  },
  {
   "cell_type": "markdown",
   "source": [
    "In order to to use TF IDF we need a list of all the \"words\" (genres) used in our corpus.  This is easy for us to do.  We can make a list of all the genres by:\n",
    "1. Creating a column with a list of genres\n",
    "2. Grouping by the genre\n",
    "3. Aggregating the results\n",
    "4. Transforming the resulting series into a list of genres"
   ],
   "metadata": {
    "collapsed": false
   }
  },
  {
   "cell_type": "markdown",
   "source": [
    "Column with list of genres"
   ],
   "metadata": {
    "collapsed": false
   }
  },
  {
   "cell_type": "code",
   "execution_count": 80,
   "outputs": [],
   "source": [],
   "metadata": {
    "collapsed": false,
    "pycharm": {
     "name": "#%%\n"
    }
   }
  },
  {
   "cell_type": "markdown",
   "source": [
    "Group by Genre"
   ],
   "metadata": {
    "collapsed": false
   }
  },
  {
   "cell_type": "code",
   "execution_count": 81,
   "outputs": [],
   "source": [],
   "metadata": {
    "collapsed": false,
    "pycharm": {
     "name": "#%%\n"
    }
   }
  },
  {
   "cell_type": "markdown",
   "source": [
    "Aggregrate the results"
   ],
   "metadata": {
    "collapsed": false
   }
  },
  {
   "cell_type": "code",
   "execution_count": 145,
   "outputs": [],
   "source": [],
   "metadata": {
    "collapsed": false,
    "pycharm": {
     "name": "#%%\n"
    }
   }
  },
  {
   "cell_type": "markdown",
   "source": [
    "create a list of genres"
   ],
   "metadata": {
    "collapsed": false
   }
  },
  {
   "cell_type": "code",
   "execution_count": 145,
   "outputs": [],
   "source": [],
   "metadata": {
    "collapsed": false,
    "pycharm": {
     "name": "#%%\n"
    }
   }
  },
  {
   "cell_type": "markdown",
   "source": [
    "Let's turn our list of genres into a space separated list of genres (as if they were words in a sentence)"
   ],
   "metadata": {
    "collapsed": false
   }
  },
  {
   "cell_type": "code",
   "execution_count": 145,
   "outputs": [],
   "source": [],
   "metadata": {
    "collapsed": false,
    "pycharm": {
     "name": "#%%\n"
    }
   }
  },
  {
   "cell_type": "markdown",
   "source": [
    "reset our index again"
   ],
   "metadata": {
    "collapsed": false
   }
  },
  {
   "cell_type": "code",
   "execution_count": 87,
   "outputs": [],
   "source": [],
   "metadata": {
    "collapsed": false,
    "pycharm": {
     "name": "#%%\n"
    }
   }
  },
  {
   "cell_type": "markdown",
   "source": [],
   "metadata": {
    "collapsed": false
   }
  },
  {
   "cell_type": "markdown",
   "source": [],
   "metadata": {
    "collapsed": false,
    "pycharm": {
     "name": "#%% md\n"
    }
   }
  },
  {
   "cell_type": "raw",
   "source": [
    "analyzer : {'word', 'char', 'char_wb'} or callable, default='word'\n",
    "        Whether the feature should be made of word or character n-grams.\n",
    "        Option 'char_wb' creates character n-grams only from text inside\n",
    "        word boundaries; n-grams at the edges of words are padded with space.\n",
    "\n",
    "ngram_range : tuple (min_n, max_n), default=(1, 1)\n",
    "        The lower and upper boundary of the range of n-values for different\n",
    "        n-grams to be extracted. All values of n such that min_n <= n <= max_n\n",
    "        will be used. For example an ``ngram_range`` of ``(1, 1)`` means only\n",
    "        unigrams, ``(1, 2)`` means unigrams and bigrams, and ``(2, 2)`` means\n",
    "        only bigrams.\n",
    "\n",
    "min_df : float or int, default=1\n",
    "        When building the vocabulary ignore terms that have a document\n",
    "        frequency strictly lower than the given threshold.\n",
    "\n",
    "vocabulary_ : dict\n",
    "        A mapping of terms to feature indices."
   ],
   "metadata": {
    "collapsed": false,
    "pycharm": {
     "name": "#%% raw\n"
    }
   }
  },
  {
   "cell_type": "code",
   "execution_count": 88,
   "outputs": [],
   "source": [
    "from sklearn.feature_extraction.text import TfidfVectorizer\n",
    "tf = TfidfVectorizer(analyzer='word',ngram_range=(1, 1),min_df=0, stop_words='english', vocabulary=all_genres_list)\n",
    "tfidf_matrix = tf.fit_transform(movies_with_ratings_combined_df['genres_as_string'])"
   ],
   "metadata": {
    "collapsed": false,
    "pycharm": {
     "name": "#%%\n"
    }
   }
  },
  {
   "cell_type": "markdown",
   "source": [
    "To see what our matrix looks like we can do the following:"
   ],
   "metadata": {
    "collapsed": false
   }
  },
  {
   "cell_type": "code",
   "execution_count": 89,
   "outputs": [
    {
     "data": {
      "text/plain": "        0    1         2         3         4         5    6         7    8   \\\n0      0.0  0.0  0.000000  0.000000  0.000000  0.000000  0.0  0.000000  0.0   \n1      0.0  0.0  0.000000  0.000000  0.775664  0.000000  0.0  0.631147  0.0   \n2      0.0  0.0  0.000000  0.000000  0.000000  0.000000  0.0  0.000000  0.0   \n3      0.0  0.0  0.000000  0.000000  0.000000  0.000000  0.0  0.292236  0.0   \n4      0.0  0.0  0.000000  0.000000  0.000000  0.000000  0.0  0.000000  0.0   \n...    ...  ...       ...       ...       ...       ...  ...       ...  ...   \n50091  0.0  0.0  0.000000  0.000000  0.440962  0.671268  0.0  0.000000  0.0   \n50092  0.0  0.0  0.000000  0.000000  0.000000  0.000000  0.0  0.378841  0.0   \n50093  0.0  0.0  0.000000  0.000000  0.486407  0.000000  0.0  0.000000  0.0   \n50094  0.0  0.0  0.707986  0.706226  0.000000  0.000000  0.0  0.000000  0.0   \n50095  0.0  0.0  0.000000  0.000000  0.000000  0.000000  0.0  0.000000  0.0   \n\n        9         10   11   12        13        14   15        16        17  \\\n0      0.0  0.000000  0.0  1.0  0.000000  0.000000  0.0  0.000000  0.000000   \n1      0.0  0.000000  0.0  0.0  0.000000  0.000000  0.0  0.000000  0.000000   \n2      0.0  1.000000  0.0  0.0  0.000000  0.000000  0.0  0.000000  0.000000   \n3      0.0  0.529943  0.0  0.0  0.645142  0.000000  0.0  0.466423  0.000000   \n4      0.0  1.000000  0.0  0.0  0.000000  0.000000  0.0  0.000000  0.000000   \n...    ...       ...  ...  ...       ...       ...  ...       ...       ...   \n50091  0.0  0.000000  0.0  0.0  0.000000  0.595778  0.0  0.000000  0.000000   \n50092  0.0  0.000000  0.0  0.0  0.000000  0.000000  0.0  0.000000  0.925462   \n50093  0.0  0.000000  0.0  0.0  0.873732  0.000000  0.0  0.000000  0.000000   \n50094  0.0  0.000000  0.0  0.0  0.000000  0.000000  0.0  0.000000  0.000000   \n50095  0.0  1.000000  0.0  0.0  0.000000  0.000000  0.0  0.000000  0.000000   \n\n        18  \n0      0.0  \n1      0.0  \n2      0.0  \n3      0.0  \n4      0.0  \n...    ...  \n50091  0.0  \n50092  0.0  \n50093  0.0  \n50094  0.0  \n50095  0.0  \n\n[50096 rows x 19 columns]",
      "text/html": "<div>\n<style scoped>\n    .dataframe tbody tr th:only-of-type {\n        vertical-align: middle;\n    }\n\n    .dataframe tbody tr th {\n        vertical-align: top;\n    }\n\n    .dataframe thead th {\n        text-align: right;\n    }\n</style>\n<table border=\"1\" class=\"dataframe\">\n  <thead>\n    <tr style=\"text-align: right;\">\n      <th></th>\n      <th>0</th>\n      <th>1</th>\n      <th>2</th>\n      <th>3</th>\n      <th>4</th>\n      <th>5</th>\n      <th>6</th>\n      <th>7</th>\n      <th>8</th>\n      <th>9</th>\n      <th>10</th>\n      <th>11</th>\n      <th>12</th>\n      <th>13</th>\n      <th>14</th>\n      <th>15</th>\n      <th>16</th>\n      <th>17</th>\n      <th>18</th>\n    </tr>\n  </thead>\n  <tbody>\n    <tr>\n      <th>0</th>\n      <td>0.0</td>\n      <td>0.0</td>\n      <td>0.000000</td>\n      <td>0.000000</td>\n      <td>0.000000</td>\n      <td>0.000000</td>\n      <td>0.0</td>\n      <td>0.000000</td>\n      <td>0.0</td>\n      <td>0.0</td>\n      <td>0.000000</td>\n      <td>0.0</td>\n      <td>1.0</td>\n      <td>0.000000</td>\n      <td>0.000000</td>\n      <td>0.0</td>\n      <td>0.000000</td>\n      <td>0.000000</td>\n      <td>0.0</td>\n    </tr>\n    <tr>\n      <th>1</th>\n      <td>0.0</td>\n      <td>0.0</td>\n      <td>0.000000</td>\n      <td>0.000000</td>\n      <td>0.775664</td>\n      <td>0.000000</td>\n      <td>0.0</td>\n      <td>0.631147</td>\n      <td>0.0</td>\n      <td>0.0</td>\n      <td>0.000000</td>\n      <td>0.0</td>\n      <td>0.0</td>\n      <td>0.000000</td>\n      <td>0.000000</td>\n      <td>0.0</td>\n      <td>0.000000</td>\n      <td>0.000000</td>\n      <td>0.0</td>\n    </tr>\n    <tr>\n      <th>2</th>\n      <td>0.0</td>\n      <td>0.0</td>\n      <td>0.000000</td>\n      <td>0.000000</td>\n      <td>0.000000</td>\n      <td>0.000000</td>\n      <td>0.0</td>\n      <td>0.000000</td>\n      <td>0.0</td>\n      <td>0.0</td>\n      <td>1.000000</td>\n      <td>0.0</td>\n      <td>0.0</td>\n      <td>0.000000</td>\n      <td>0.000000</td>\n      <td>0.0</td>\n      <td>0.000000</td>\n      <td>0.000000</td>\n      <td>0.0</td>\n    </tr>\n    <tr>\n      <th>3</th>\n      <td>0.0</td>\n      <td>0.0</td>\n      <td>0.000000</td>\n      <td>0.000000</td>\n      <td>0.000000</td>\n      <td>0.000000</td>\n      <td>0.0</td>\n      <td>0.292236</td>\n      <td>0.0</td>\n      <td>0.0</td>\n      <td>0.529943</td>\n      <td>0.0</td>\n      <td>0.0</td>\n      <td>0.645142</td>\n      <td>0.000000</td>\n      <td>0.0</td>\n      <td>0.466423</td>\n      <td>0.000000</td>\n      <td>0.0</td>\n    </tr>\n    <tr>\n      <th>4</th>\n      <td>0.0</td>\n      <td>0.0</td>\n      <td>0.000000</td>\n      <td>0.000000</td>\n      <td>0.000000</td>\n      <td>0.000000</td>\n      <td>0.0</td>\n      <td>0.000000</td>\n      <td>0.0</td>\n      <td>0.0</td>\n      <td>1.000000</td>\n      <td>0.0</td>\n      <td>0.0</td>\n      <td>0.000000</td>\n      <td>0.000000</td>\n      <td>0.0</td>\n      <td>0.000000</td>\n      <td>0.000000</td>\n      <td>0.0</td>\n    </tr>\n    <tr>\n      <th>...</th>\n      <td>...</td>\n      <td>...</td>\n      <td>...</td>\n      <td>...</td>\n      <td>...</td>\n      <td>...</td>\n      <td>...</td>\n      <td>...</td>\n      <td>...</td>\n      <td>...</td>\n      <td>...</td>\n      <td>...</td>\n      <td>...</td>\n      <td>...</td>\n      <td>...</td>\n      <td>...</td>\n      <td>...</td>\n      <td>...</td>\n      <td>...</td>\n    </tr>\n    <tr>\n      <th>50091</th>\n      <td>0.0</td>\n      <td>0.0</td>\n      <td>0.000000</td>\n      <td>0.000000</td>\n      <td>0.440962</td>\n      <td>0.671268</td>\n      <td>0.0</td>\n      <td>0.000000</td>\n      <td>0.0</td>\n      <td>0.0</td>\n      <td>0.000000</td>\n      <td>0.0</td>\n      <td>0.0</td>\n      <td>0.000000</td>\n      <td>0.595778</td>\n      <td>0.0</td>\n      <td>0.000000</td>\n      <td>0.000000</td>\n      <td>0.0</td>\n    </tr>\n    <tr>\n      <th>50092</th>\n      <td>0.0</td>\n      <td>0.0</td>\n      <td>0.000000</td>\n      <td>0.000000</td>\n      <td>0.000000</td>\n      <td>0.000000</td>\n      <td>0.0</td>\n      <td>0.378841</td>\n      <td>0.0</td>\n      <td>0.0</td>\n      <td>0.000000</td>\n      <td>0.0</td>\n      <td>0.0</td>\n      <td>0.000000</td>\n      <td>0.000000</td>\n      <td>0.0</td>\n      <td>0.000000</td>\n      <td>0.925462</td>\n      <td>0.0</td>\n    </tr>\n    <tr>\n      <th>50093</th>\n      <td>0.0</td>\n      <td>0.0</td>\n      <td>0.000000</td>\n      <td>0.000000</td>\n      <td>0.486407</td>\n      <td>0.000000</td>\n      <td>0.0</td>\n      <td>0.000000</td>\n      <td>0.0</td>\n      <td>0.0</td>\n      <td>0.000000</td>\n      <td>0.0</td>\n      <td>0.0</td>\n      <td>0.873732</td>\n      <td>0.000000</td>\n      <td>0.0</td>\n      <td>0.000000</td>\n      <td>0.000000</td>\n      <td>0.0</td>\n    </tr>\n    <tr>\n      <th>50094</th>\n      <td>0.0</td>\n      <td>0.0</td>\n      <td>0.707986</td>\n      <td>0.706226</td>\n      <td>0.000000</td>\n      <td>0.000000</td>\n      <td>0.0</td>\n      <td>0.000000</td>\n      <td>0.0</td>\n      <td>0.0</td>\n      <td>0.000000</td>\n      <td>0.0</td>\n      <td>0.0</td>\n      <td>0.000000</td>\n      <td>0.000000</td>\n      <td>0.0</td>\n      <td>0.000000</td>\n      <td>0.000000</td>\n      <td>0.0</td>\n    </tr>\n    <tr>\n      <th>50095</th>\n      <td>0.0</td>\n      <td>0.0</td>\n      <td>0.000000</td>\n      <td>0.000000</td>\n      <td>0.000000</td>\n      <td>0.000000</td>\n      <td>0.0</td>\n      <td>0.000000</td>\n      <td>0.0</td>\n      <td>0.0</td>\n      <td>1.000000</td>\n      <td>0.0</td>\n      <td>0.0</td>\n      <td>0.000000</td>\n      <td>0.000000</td>\n      <td>0.0</td>\n      <td>0.000000</td>\n      <td>0.000000</td>\n      <td>0.0</td>\n    </tr>\n  </tbody>\n</table>\n<p>50096 rows × 19 columns</p>\n</div>"
     },
     "execution_count": 89,
     "metadata": {},
     "output_type": "execute_result"
    }
   ],
   "source": [
    "pd.DataFrame(tfidf_matrix.toarray())"
   ],
   "metadata": {
    "collapsed": false,
    "pycharm": {
     "name": "#%%\n"
    }
   }
  },
  {
   "cell_type": "markdown",
   "source": [
    "Now let's calculate the dot product of the tfidf_martix with itself in order to get a cosine similarity matrix."
   ],
   "metadata": {
    "collapsed": false
   }
  },
  {
   "cell_type": "code",
   "execution_count": 90,
   "outputs": [],
   "source": [
    "from sklearn.metrics.pairwise import linear_kernel\n",
    "cosine_sim = linear_kernel(tfidf_matrix, tfidf_matrix)"
   ],
   "metadata": {
    "collapsed": false,
    "pycharm": {
     "name": "#%%\n"
    }
   }
  },
  {
   "cell_type": "markdown",
   "source": [
    " What do we expect the dimensions of this matrix to be?"
   ],
   "metadata": {
    "collapsed": false
   }
  },
  {
   "cell_type": "code",
   "execution_count": 91,
   "outputs": [
    {
     "data": {
      "text/plain": "array([[1.        , 0.        , 0.        , ..., 0.        , 0.        ,\n        0.        ],\n       [0.        , 1.        , 0.        , ..., 0.37728826, 0.        ,\n        0.        ],\n       [0.        , 0.        , 1.        , ..., 0.        , 0.        ,\n        1.        ],\n       ...,\n       [0.        , 0.37728826, 0.        , ..., 1.        , 0.        ,\n        0.        ],\n       [0.        , 0.        , 0.        , ..., 0.        , 1.        ,\n        0.        ],\n       [0.        , 0.        , 1.        , ..., 0.        , 0.        ,\n        1.        ]])"
     },
     "execution_count": 91,
     "metadata": {},
     "output_type": "execute_result"
    }
   ],
   "source": [
    "cosine_sim"
   ],
   "metadata": {
    "collapsed": false,
    "pycharm": {
     "name": "#%%\n"
    }
   }
  },
  {
   "cell_type": "markdown",
   "source": [
    "Notice that this matrix also has 1's along the diagonals. Why is that?"
   ],
   "metadata": {
    "collapsed": false
   }
  },
  {
   "cell_type": "code",
   "execution_count": 92,
   "outputs": [
    {
     "data": {
      "text/plain": "(50096, 50096)"
     },
     "execution_count": 92,
     "metadata": {},
     "output_type": "execute_result"
    }
   ],
   "source": [
    "cosine_sim.shape"
   ],
   "metadata": {
    "collapsed": false,
    "pycharm": {
     "name": "#%%\n"
    }
   }
  },
  {
   "cell_type": "markdown",
   "source": [
    "The next part you can Test Drive because now we'll add logic to grab the top 20 movie titles by index\n",
    "\n",
    "We can build this in a separate module and import it here to see some results"
   ],
   "metadata": {
    "collapsed": false
   }
  },
  {
   "cell_type": "code",
   "execution_count": 93,
   "outputs": [
    {
     "data": {
      "text/plain": "['Antz (1998)', 'Asterix and the Vikings (Astérix et les Vikings) (2006)']"
     },
     "execution_count": 93,
     "metadata": {},
     "output_type": "execute_result"
    }
   ],
   "source": [
    "from analysis.utils.recommendation import get_similar_movies\n",
    "\n",
    "similar_movies = get_similar_movies('Toy Story (1995)', cosine_sim, movies_with_ratings_combined_df)\n",
    "similar_movies"
   ],
   "metadata": {
    "collapsed": false,
    "pycharm": {
     "name": "#%%\n"
    }
   }
  },
  {
   "cell_type": "markdown",
   "source": [
    "THAT'S IT! :)"
   ],
   "metadata": {
    "collapsed": false,
    "pycharm": {
     "name": "#%% md\n"
    }
   }
  }
 ],
 "metadata": {
  "kernelspec": {
   "display_name": "Python 3",
   "language": "python",
   "name": "python3"
  },
  "language_info": {
   "codemirror_mode": {
    "name": "ipython",
    "version": 2
   },
   "file_extension": ".py",
   "mimetype": "text/x-python",
   "name": "python",
   "nbconvert_exporter": "python",
   "pygments_lexer": "ipython2",
   "version": "2.7.6"
  }
 },
 "nbformat": 4,
 "nbformat_minor": 0
}
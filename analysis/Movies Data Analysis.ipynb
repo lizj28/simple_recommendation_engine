{
 "cells": [
  {
   "cell_type": "code",
   "execution_count": 37,
   "metadata": {
    "collapsed": true
   },
   "outputs": [],
   "source": [
    "import pandas as pd\n",
    "from typing import List\n",
    "\n",
    "from analysis.utils.cleaning import lower_case_and_strip_spaces"
   ]
  },
  {
   "cell_type": "markdown",
   "source": [
    "### The Data and what we want to do with it:\n",
    "\n",
    "These datasets where originally from Kaggle here is the description they gave:\n",
    "This dataset contains 27753444 ratings across 58098 movies. These data sets were created by 283228 users between January 09, 1995 and September 26, 2018. This dataset was generated on September 26, 2018."
   ],
   "metadata": {
    "collapsed": false
   }
  },
  {
   "cell_type": "markdown",
   "source": [
    "### Reading the Data and Initial Stats"
   ],
   "metadata": {
    "collapsed": false
   }
  },
  {
   "cell_type": "code",
   "execution_count": 4,
   "outputs": [
    {
     "data": {
      "text/plain": "       movieId                                              title  \\\n36737   145222                                      Bedlam (2015)   \n27708   123254                                  State Fair (1962)   \n55004   186405                        Ben 10 - Alien Swarm (2009)   \n27385   122533                             Breach of Trust (1995)   \n23402   109935                    The Artist and the Model (2012)   \n2295      2379    Police Academy 2: Their First Assignment (1985)   \n50359   176165                 Cop and a Half: New Recruit (2017)   \n18160    90405                                     In Time (2011)   \n39854   152894                    Lakeer - Forbidden Lines (2004)   \n49275   173771                                     McLaren (2016)   \n8889     26498                              Boy Meets Girl (1984)   \n44692   163933                            Bury Me an Angel (1972)   \n25338   116487   Remington and the Curse of the Zombadings (2011)   \n51662   179099                                        HHhH (2017)   \n31692   133477                  Che casino... con Pierino! (1982)   \n16221    81643                      Flame of Barbary Coast (1945)   \n27989   123882                              Snow in August (2001)   \n48875   172943                             I Eat Your Skin (1971)   \n7137      7248  Suriyothai (a.k.a. Legend of Suriyothai, The) ...   \n37194   146344                               Elämältä kaiken sain   \n\n                               genres  \n36737                       Thriller   \n27708             (no genres listed)   \n55004                      Adventure   \n27385          Action|drama|THRILLER   \n23402                          Drama   \n2295                    Comedy|crime   \n50359   Action|children|COMEDY|crime   \n18160          Crime|sci-fi|THRILLER   \n39854           Action|drama|ROMANCE   \n49275       Action|documentary|DRAMA   \n8889                           Drama   \n44692                   Action|drama   \n25338            Comedy|drama|HORROR   \n51662                Action|thriller   \n31692                         Comedy   \n16221                Romance|western   \n27989                 Children|drama   \n48875                         Horror   \n7137      Action|adventure|DRAMA|war   \n37194                   Comedy|drama   ",
      "text/html": "<div>\n<style scoped>\n    .dataframe tbody tr th:only-of-type {\n        vertical-align: middle;\n    }\n\n    .dataframe tbody tr th {\n        vertical-align: top;\n    }\n\n    .dataframe thead th {\n        text-align: right;\n    }\n</style>\n<table border=\"1\" class=\"dataframe\">\n  <thead>\n    <tr style=\"text-align: right;\">\n      <th></th>\n      <th>movieId</th>\n      <th>title</th>\n      <th>genres</th>\n    </tr>\n  </thead>\n  <tbody>\n    <tr>\n      <th>36737</th>\n      <td>145222</td>\n      <td>Bedlam (2015)</td>\n      <td>Thriller</td>\n    </tr>\n    <tr>\n      <th>27708</th>\n      <td>123254</td>\n      <td>State Fair (1962)</td>\n      <td>(no genres listed)</td>\n    </tr>\n    <tr>\n      <th>55004</th>\n      <td>186405</td>\n      <td>Ben 10 - Alien Swarm (2009)</td>\n      <td>Adventure</td>\n    </tr>\n    <tr>\n      <th>27385</th>\n      <td>122533</td>\n      <td>Breach of Trust (1995)</td>\n      <td>Action|drama|THRILLER</td>\n    </tr>\n    <tr>\n      <th>23402</th>\n      <td>109935</td>\n      <td>The Artist and the Model (2012)</td>\n      <td>Drama</td>\n    </tr>\n    <tr>\n      <th>2295</th>\n      <td>2379</td>\n      <td>Police Academy 2: Their First Assignment (1985)</td>\n      <td>Comedy|crime</td>\n    </tr>\n    <tr>\n      <th>50359</th>\n      <td>176165</td>\n      <td>Cop and a Half: New Recruit (2017)</td>\n      <td>Action|children|COMEDY|crime</td>\n    </tr>\n    <tr>\n      <th>18160</th>\n      <td>90405</td>\n      <td>In Time (2011)</td>\n      <td>Crime|sci-fi|THRILLER</td>\n    </tr>\n    <tr>\n      <th>39854</th>\n      <td>152894</td>\n      <td>Lakeer - Forbidden Lines (2004)</td>\n      <td>Action|drama|ROMANCE</td>\n    </tr>\n    <tr>\n      <th>49275</th>\n      <td>173771</td>\n      <td>McLaren (2016)</td>\n      <td>Action|documentary|DRAMA</td>\n    </tr>\n    <tr>\n      <th>8889</th>\n      <td>26498</td>\n      <td>Boy Meets Girl (1984)</td>\n      <td>Drama</td>\n    </tr>\n    <tr>\n      <th>44692</th>\n      <td>163933</td>\n      <td>Bury Me an Angel (1972)</td>\n      <td>Action|drama</td>\n    </tr>\n    <tr>\n      <th>25338</th>\n      <td>116487</td>\n      <td>Remington and the Curse of the Zombadings (2011)</td>\n      <td>Comedy|drama|HORROR</td>\n    </tr>\n    <tr>\n      <th>51662</th>\n      <td>179099</td>\n      <td>HHhH (2017)</td>\n      <td>Action|thriller</td>\n    </tr>\n    <tr>\n      <th>31692</th>\n      <td>133477</td>\n      <td>Che casino... con Pierino! (1982)</td>\n      <td>Comedy</td>\n    </tr>\n    <tr>\n      <th>16221</th>\n      <td>81643</td>\n      <td>Flame of Barbary Coast (1945)</td>\n      <td>Romance|western</td>\n    </tr>\n    <tr>\n      <th>27989</th>\n      <td>123882</td>\n      <td>Snow in August (2001)</td>\n      <td>Children|drama</td>\n    </tr>\n    <tr>\n      <th>48875</th>\n      <td>172943</td>\n      <td>I Eat Your Skin (1971)</td>\n      <td>Horror</td>\n    </tr>\n    <tr>\n      <th>7137</th>\n      <td>7248</td>\n      <td>Suriyothai (a.k.a. Legend of Suriyothai, The) ...</td>\n      <td>Action|adventure|DRAMA|war</td>\n    </tr>\n    <tr>\n      <th>37194</th>\n      <td>146344</td>\n      <td>Elämältä kaiken sain</td>\n      <td>Comedy|drama</td>\n    </tr>\n  </tbody>\n</table>\n</div>"
     },
     "execution_count": 4,
     "metadata": {},
     "output_type": "execute_result"
    }
   ],
   "source": [
    "movies_df: pd.DataFrame = pd.read_csv('input/all_movies.csv')\n",
    "movies_df.sample(20)"
   ],
   "metadata": {
    "collapsed": false,
    "pycharm": {
     "name": "#%%\n"
    }
   }
  },
  {
   "cell_type": "code",
   "execution_count": 6,
   "outputs": [
    {
     "data": {
      "text/plain": "       movieId                                    title  \\\n0            1                         Toy Story (1995)   \n1            2                           Jumanji (1995)   \n2            3                  Grumpier Old Men (1995)   \n3            4                 Waiting to Exhale (1995)   \n4            5       Father of the Bride Part II (1995)   \n...        ...                                      ...   \n58093   193876                  The Great Glinka (1946)   \n58094   193878  Les tribulations d'une caissière (2011)   \n58095   193880                 Her Name Was Mumu (2016)   \n58096   193882                             Flora (2017)   \n58097   193886                              Leal (2018)   \n\n                                              genres  \n0       Adventure|animation|CHILDREN|comedy|Fantasy   \n1                        Adventure|children|FANTASY   \n2                                    Comedy|romance   \n3                              Comedy|drama|ROMANCE   \n4                                            Comedy   \n...                                              ...  \n58093                            (no genres listed)   \n58094                                        Comedy   \n58095                                         Drama   \n58096                 Adventure|drama|HORROR|sci-fi   \n58097                            Action|crime|DRAMA   \n\n[58098 rows x 3 columns]",
      "text/html": "<div>\n<style scoped>\n    .dataframe tbody tr th:only-of-type {\n        vertical-align: middle;\n    }\n\n    .dataframe tbody tr th {\n        vertical-align: top;\n    }\n\n    .dataframe thead th {\n        text-align: right;\n    }\n</style>\n<table border=\"1\" class=\"dataframe\">\n  <thead>\n    <tr style=\"text-align: right;\">\n      <th></th>\n      <th>movieId</th>\n      <th>title</th>\n      <th>genres</th>\n    </tr>\n  </thead>\n  <tbody>\n    <tr>\n      <th>0</th>\n      <td>1</td>\n      <td>Toy Story (1995)</td>\n      <td>Adventure|animation|CHILDREN|comedy|Fantasy</td>\n    </tr>\n    <tr>\n      <th>1</th>\n      <td>2</td>\n      <td>Jumanji (1995)</td>\n      <td>Adventure|children|FANTASY</td>\n    </tr>\n    <tr>\n      <th>2</th>\n      <td>3</td>\n      <td>Grumpier Old Men (1995)</td>\n      <td>Comedy|romance</td>\n    </tr>\n    <tr>\n      <th>3</th>\n      <td>4</td>\n      <td>Waiting to Exhale (1995)</td>\n      <td>Comedy|drama|ROMANCE</td>\n    </tr>\n    <tr>\n      <th>4</th>\n      <td>5</td>\n      <td>Father of the Bride Part II (1995)</td>\n      <td>Comedy</td>\n    </tr>\n    <tr>\n      <th>...</th>\n      <td>...</td>\n      <td>...</td>\n      <td>...</td>\n    </tr>\n    <tr>\n      <th>58093</th>\n      <td>193876</td>\n      <td>The Great Glinka (1946)</td>\n      <td>(no genres listed)</td>\n    </tr>\n    <tr>\n      <th>58094</th>\n      <td>193878</td>\n      <td>Les tribulations d'une caissière (2011)</td>\n      <td>Comedy</td>\n    </tr>\n    <tr>\n      <th>58095</th>\n      <td>193880</td>\n      <td>Her Name Was Mumu (2016)</td>\n      <td>Drama</td>\n    </tr>\n    <tr>\n      <th>58096</th>\n      <td>193882</td>\n      <td>Flora (2017)</td>\n      <td>Adventure|drama|HORROR|sci-fi</td>\n    </tr>\n    <tr>\n      <th>58097</th>\n      <td>193886</td>\n      <td>Leal (2018)</td>\n      <td>Action|crime|DRAMA</td>\n    </tr>\n  </tbody>\n</table>\n<p>58098 rows × 3 columns</p>\n</div>"
     },
     "execution_count": 6,
     "metadata": {},
     "output_type": "execute_result"
    }
   ],
   "source": [
    "movies_df"
   ],
   "metadata": {
    "collapsed": false,
    "pycharm": {
     "name": "#%%\n"
    }
   }
  },
  {
   "cell_type": "code",
   "execution_count": 7,
   "outputs": [
    {
     "data": {
      "text/plain": "          userId  movieId  rating   timestamp\n8102165    83406     1234     5.0  1095728493\n12400877  127058      367     2.0  1111287555\n17038902  174150      608     5.0   945700940\n2669324    27508      357     3.0   846323768\n23571102  240828    40826     2.5  1136767320\n27431524  279863     3608     3.0  1366525194\n20661989  211008      529     5.0   845075838\n11705337  120061       65     3.0  1152720027\n17019370  173990    63859     3.5  1272740060\n18222198  185980    43897     3.5  1299948170\n19417270  198271     1080     5.0   957901499\n14427498  147680     6157     0.5  1487197591\n23769881  242758     1894     3.0   963849042\n15135669  154650   174055     3.0  1537733725\n2310799    23762        1     4.0   881157921\n17430281  178042     3173     4.0  1162273661\n23338472  238606      208     2.5  1537745639\n6920249    70989     4748     1.5  1254526895\n6482229    66601     1270     2.0  1441665737\n10694529  109950     7562     4.0  1084468024",
      "text/html": "<div>\n<style scoped>\n    .dataframe tbody tr th:only-of-type {\n        vertical-align: middle;\n    }\n\n    .dataframe tbody tr th {\n        vertical-align: top;\n    }\n\n    .dataframe thead th {\n        text-align: right;\n    }\n</style>\n<table border=\"1\" class=\"dataframe\">\n  <thead>\n    <tr style=\"text-align: right;\">\n      <th></th>\n      <th>userId</th>\n      <th>movieId</th>\n      <th>rating</th>\n      <th>timestamp</th>\n    </tr>\n  </thead>\n  <tbody>\n    <tr>\n      <th>8102165</th>\n      <td>83406</td>\n      <td>1234</td>\n      <td>5.0</td>\n      <td>1095728493</td>\n    </tr>\n    <tr>\n      <th>12400877</th>\n      <td>127058</td>\n      <td>367</td>\n      <td>2.0</td>\n      <td>1111287555</td>\n    </tr>\n    <tr>\n      <th>17038902</th>\n      <td>174150</td>\n      <td>608</td>\n      <td>5.0</td>\n      <td>945700940</td>\n    </tr>\n    <tr>\n      <th>2669324</th>\n      <td>27508</td>\n      <td>357</td>\n      <td>3.0</td>\n      <td>846323768</td>\n    </tr>\n    <tr>\n      <th>23571102</th>\n      <td>240828</td>\n      <td>40826</td>\n      <td>2.5</td>\n      <td>1136767320</td>\n    </tr>\n    <tr>\n      <th>27431524</th>\n      <td>279863</td>\n      <td>3608</td>\n      <td>3.0</td>\n      <td>1366525194</td>\n    </tr>\n    <tr>\n      <th>20661989</th>\n      <td>211008</td>\n      <td>529</td>\n      <td>5.0</td>\n      <td>845075838</td>\n    </tr>\n    <tr>\n      <th>11705337</th>\n      <td>120061</td>\n      <td>65</td>\n      <td>3.0</td>\n      <td>1152720027</td>\n    </tr>\n    <tr>\n      <th>17019370</th>\n      <td>173990</td>\n      <td>63859</td>\n      <td>3.5</td>\n      <td>1272740060</td>\n    </tr>\n    <tr>\n      <th>18222198</th>\n      <td>185980</td>\n      <td>43897</td>\n      <td>3.5</td>\n      <td>1299948170</td>\n    </tr>\n    <tr>\n      <th>19417270</th>\n      <td>198271</td>\n      <td>1080</td>\n      <td>5.0</td>\n      <td>957901499</td>\n    </tr>\n    <tr>\n      <th>14427498</th>\n      <td>147680</td>\n      <td>6157</td>\n      <td>0.5</td>\n      <td>1487197591</td>\n    </tr>\n    <tr>\n      <th>23769881</th>\n      <td>242758</td>\n      <td>1894</td>\n      <td>3.0</td>\n      <td>963849042</td>\n    </tr>\n    <tr>\n      <th>15135669</th>\n      <td>154650</td>\n      <td>174055</td>\n      <td>3.0</td>\n      <td>1537733725</td>\n    </tr>\n    <tr>\n      <th>2310799</th>\n      <td>23762</td>\n      <td>1</td>\n      <td>4.0</td>\n      <td>881157921</td>\n    </tr>\n    <tr>\n      <th>17430281</th>\n      <td>178042</td>\n      <td>3173</td>\n      <td>4.0</td>\n      <td>1162273661</td>\n    </tr>\n    <tr>\n      <th>23338472</th>\n      <td>238606</td>\n      <td>208</td>\n      <td>2.5</td>\n      <td>1537745639</td>\n    </tr>\n    <tr>\n      <th>6920249</th>\n      <td>70989</td>\n      <td>4748</td>\n      <td>1.5</td>\n      <td>1254526895</td>\n    </tr>\n    <tr>\n      <th>6482229</th>\n      <td>66601</td>\n      <td>1270</td>\n      <td>2.0</td>\n      <td>1441665737</td>\n    </tr>\n    <tr>\n      <th>10694529</th>\n      <td>109950</td>\n      <td>7562</td>\n      <td>4.0</td>\n      <td>1084468024</td>\n    </tr>\n  </tbody>\n</table>\n</div>"
     },
     "execution_count": 7,
     "metadata": {},
     "output_type": "execute_result"
    }
   ],
   "source": [
    "ratings_df = pd.read_csv('input/ratings.csv')\n",
    "ratings_df.sample(20)"
   ],
   "metadata": {
    "collapsed": false,
    "pycharm": {
     "name": "#%%\n"
    }
   }
  },
  {
   "cell_type": "markdown",
   "source": [
    "## Step 1: Cleaning\n",
    "You shouldn't necessarily assume that your data is good.  It could be very sparse and not have much there. There could be duplication, poorly recorded or empty values, or with large text there could be a lot of garbage in there if it was an open text field\n",
    "\n",
    "Some things we'll do here:\n",
    "1. Get the number of rows and columns by looking at the shape\n",
    "2. Determine the number of non-null rows for each given column (This would tell us if a column is especially sparse)\n",
    "3. Check for duplicate rows\n",
    "\n",
    "As we find things that need to be cleaned (bad text, duplicates etc.) we will write tested cleaning functions to cleanup our input data."
   ],
   "metadata": {
    "collapsed": false
   }
  },
  {
   "cell_type": "code",
   "execution_count": 8,
   "outputs": [
    {
     "data": {
      "text/plain": "(58098, 3)"
     },
     "execution_count": 8,
     "metadata": {},
     "output_type": "execute_result"
    }
   ],
   "source": [
    "movies_df.shape"
   ],
   "metadata": {
    "collapsed": false,
    "pycharm": {
     "name": "#%%\n"
    }
   }
  },
  {
   "cell_type": "code",
   "execution_count": 9,
   "outputs": [
    {
     "name": "stdout",
     "output_type": "stream",
     "text": [
      "<class 'pandas.core.frame.DataFrame'>\n",
      "RangeIndex: 58098 entries, 0 to 58097\n",
      "Data columns (total 3 columns):\n",
      " #   Column   Non-Null Count  Dtype \n",
      "---  ------   --------------  ----- \n",
      " 0   movieId  58098 non-null  int64 \n",
      " 1   title    58098 non-null  object\n",
      " 2   genres   58098 non-null  object\n",
      "dtypes: int64(1), object(2)\n",
      "memory usage: 1.3+ MB\n"
     ]
    }
   ],
   "source": [
    "movies_df.info()"
   ],
   "metadata": {
    "collapsed": false,
    "pycharm": {
     "name": "#%%\n"
    }
   }
  },
  {
   "cell_type": "markdown",
   "source": [
    "#### Checking for Duplicates"
   ],
   "metadata": {
    "collapsed": false
   }
  },
  {
   "cell_type": "markdown",
   "source": [
    "First we need to define what a \"duplicate\" is."
   ],
   "metadata": {
    "collapsed": false
   }
  },
  {
   "cell_type": "code",
   "execution_count": 10,
   "outputs": [],
   "source": [
    "is_title_duplicated = movies_df.duplicated(['title'])"
   ],
   "metadata": {
    "collapsed": false,
    "pycharm": {
     "name": "#%%\n"
    }
   }
  },
  {
   "cell_type": "code",
   "execution_count": 12,
   "outputs": [],
   "source": [
    "movie_where_title_is_duplicated_df = movies_df.loc[is_title_duplicated]"
   ],
   "metadata": {
    "collapsed": false,
    "pycharm": {
     "name": "#%%\n"
    }
   }
  },
  {
   "cell_type": "code",
   "execution_count": 13,
   "outputs": [
    {
     "data": {
      "text/plain": "(78, 3)"
     },
     "execution_count": 13,
     "metadata": {},
     "output_type": "execute_result"
    }
   ],
   "source": [
    "movie_where_title_is_duplicated_df.shape"
   ],
   "metadata": {
    "collapsed": false,
    "pycharm": {
     "name": "#%%\n"
    }
   }
  },
  {
   "cell_type": "code",
   "execution_count": 14,
   "outputs": [],
   "source": [
    "is_title_and_genre_duplicated = movies_df.duplicated(['title', 'genres'])"
   ],
   "metadata": {
    "collapsed": false,
    "pycharm": {
     "name": "#%%\n"
    }
   }
  },
  {
   "cell_type": "code",
   "execution_count": 15,
   "outputs": [],
   "source": [
    "movie_where_title_and_genre_is_duplicated_df = movies_df.loc[is_title_and_genre_duplicated]"
   ],
   "metadata": {
    "collapsed": false,
    "pycharm": {
     "name": "#%%\n"
    }
   }
  },
  {
   "cell_type": "code",
   "execution_count": 16,
   "outputs": [
    {
     "data": {
      "text/plain": "(14, 3)"
     },
     "execution_count": 16,
     "metadata": {},
     "output_type": "execute_result"
    }
   ],
   "source": [
    "movie_where_title_and_genre_is_duplicated_df.shape"
   ],
   "metadata": {
    "collapsed": false,
    "pycharm": {
     "name": "#%%\n"
    }
   }
  },
  {
   "cell_type": "markdown",
   "source": [
    "Let's do some cleanup."
   ],
   "metadata": {
    "collapsed": false
   }
  },
  {
   "cell_type": "code",
   "execution_count": 38,
   "outputs": [],
   "source": [
    "movies_df['genres'] = movies_df['genres'].apply(lambda x: lower_case_and_strip_spaces(x))"
   ],
   "metadata": {
    "collapsed": false,
    "pycharm": {
     "name": "#%%\n"
    }
   }
  },
  {
   "cell_type": "code",
   "execution_count": 40,
   "outputs": [],
   "source": [
    "movies_df = movies_df.loc[movies_df['genres'] != '(no genres listed)']"
   ],
   "metadata": {
    "collapsed": false,
    "pycharm": {
     "name": "#%%\n"
    }
   }
  },
  {
   "cell_type": "code",
   "execution_count": 41,
   "outputs": [
    {
     "data": {
      "text/plain": "(53832, 3)"
     },
     "execution_count": 41,
     "metadata": {},
     "output_type": "execute_result"
    }
   ],
   "source": [
    "movies_df.shape"
   ],
   "metadata": {
    "collapsed": false,
    "pycharm": {
     "name": "#%%\n"
    }
   }
  },
  {
   "cell_type": "code",
   "execution_count": 42,
   "outputs": [
    {
     "data": {
      "text/plain": "(70, 3)"
     },
     "execution_count": 42,
     "metadata": {},
     "output_type": "execute_result"
    }
   ],
   "source": [
    "movie_where_title_is_duplicated_df = movies_df.loc[is_title_duplicated]\n",
    "movie_where_title_is_duplicated_df.shape"
   ],
   "metadata": {
    "collapsed": false,
    "pycharm": {
     "name": "#%%\n"
    }
   }
  },
  {
   "cell_type": "code",
   "execution_count": 45,
   "outputs": [
    {
     "data": {
      "text/plain": "(14, 3)"
     },
     "execution_count": 45,
     "metadata": {},
     "output_type": "execute_result"
    }
   ],
   "source": [
    "movie_where_title_and_genre_is_duplicated_df = movies_df.loc[is_title_and_genre_duplicated]\n",
    "movie_where_title_and_genre_is_duplicated_df.shape"
   ],
   "metadata": {
    "collapsed": false,
    "pycharm": {
     "name": "#%%\n"
    }
   }
  },
  {
   "cell_type": "markdown",
   "source": [
    "Now let's determine what is happening to cause the shape discrepency"
   ],
   "metadata": {
    "collapsed": false
   }
  },
  {
   "cell_type": "code",
   "execution_count": 46,
   "outputs": [
    {
     "data": {
      "text/plain": "{'20,000 Leagues Under the Sea (1997)',\n 'Absolution (2015)',\n 'Aftermath (2012)',\n 'Aladdin (1992)',\n 'Beneath (2013)',\n 'Berlin Calling (2008)',\n 'Blackout (2007)',\n 'Cargo (2017)',\n 'Casanova (2005)',\n 'Chaos (2005)',\n 'Classmates (2016)',\n 'Clear History (2013)',\n 'Clockstoppers (2002)',\n 'Confessions of a Dangerous Mind (2002)',\n 'Contact (1992)',\n 'Darling (2007)',\n 'Delirium (2014)',\n 'Deranged (2012)',\n 'Detour (2017)',\n 'Dracula (1931)',\n 'Ecstasy (2011)',\n 'Eden (2014)',\n 'Emma (1996)',\n 'Eros (2004)',\n 'Escape Room (2017)',\n 'Forsaken (2016)',\n 'Free Fall (2014)',\n 'Frozen (2010)',\n 'Girl, The (2012)',\n 'Good People (2014)',\n 'Gossip (2000)',\n 'Grace (2014)',\n 'Hamlet (2000)',\n 'Holiday (2014)',\n 'Home (2008)',\n 'Hostage (2005)',\n 'Inside (2012)',\n 'Interrogation (2016)',\n 'Johnny Express (2014)',\n 'Journey to the Center of the Earth (2008)',\n 'Lagaan: Once Upon a Time in India (2001)',\n 'Let There Be Light (2017)',\n 'Little Man (2006)',\n 'Lucky (2017)',\n 'Macbeth (2015)',\n 'Men with Guns (1997)',\n 'Noise (2007)',\n 'Office (2015)',\n 'Offside (2006)',\n 'Paradise (2013)',\n 'Rose (2011)',\n 'Saturn 3 (1980)',\n 'Seven Years Bad Luck (1921)',\n 'Shelter (2015)',\n 'Sing (2016)',\n 'Slow Burn (2000)',\n 'Stranded (2015)',\n 'Tag (2015)',\n 'The Boss (2016)',\n 'The Break-In (2016)',\n 'The Connection (2014)',\n 'The Dream Team (2012)',\n 'The Midnight Man (2016)',\n 'The Promise (2016)',\n 'The Reunion (2011)',\n 'The Void (2016)',\n 'Truth (2015)',\n 'Veronica (2017)',\n 'War of the Worlds (2005)',\n 'Weekend (2011)'}"
     },
     "execution_count": 46,
     "metadata": {},
     "output_type": "execute_result"
    }
   ],
   "source": [
    "duplicates_by_title = set(movie_where_title_is_duplicated_df['title'])\n",
    "duplicates_by_title"
   ],
   "metadata": {
    "collapsed": false,
    "pycharm": {
     "name": "#%%\n"
    }
   }
  },
  {
   "cell_type": "code",
   "execution_count": 48,
   "outputs": [
    {
     "data": {
      "text/plain": "{'Beneath (2013)',\n 'Berlin Calling (2008)',\n 'Clear History (2013)',\n 'Darling (2007)',\n 'Detour (2017)',\n 'Dracula (1931)',\n 'Girl, The (2012)',\n 'Home (2008)',\n 'Johnny Express (2014)',\n 'Little Man (2006)',\n 'Lucky (2017)',\n 'Macbeth (2015)',\n 'Offside (2006)',\n 'Seven Years Bad Luck (1921)'}"
     },
     "execution_count": 48,
     "metadata": {},
     "output_type": "execute_result"
    }
   ],
   "source": [
    "duplicates_by_title_and_genre = set(movie_where_title_and_genre_is_duplicated_df['title'])\n",
    "duplicates_by_title_and_genre"
   ],
   "metadata": {
    "collapsed": false,
    "pycharm": {
     "name": "#%%\n"
    }
   }
  },
  {
   "cell_type": "markdown",
   "source": [
    "Here we have a situation where 56 things are duplicated based on their title but the two rows have different genres.  How can we easily find an example movie where this is the case?"
   ],
   "metadata": {
    "collapsed": false
   }
  },
  {
   "cell_type": "code",
   "execution_count": 52,
   "outputs": [
    {
     "data": {
      "text/plain": "['Emma (1996)',\n 'Chaos (2005)',\n 'Ecstasy (2011)',\n 'Let There Be Light (2017)',\n 'Office (2015)',\n 'Noise (2007)',\n 'Contact (1992)',\n 'Hamlet (2000)',\n 'Stranded (2015)',\n 'Lagaan: Once Upon a Time in India (2001)',\n 'The Promise (2016)',\n 'The Connection (2014)',\n 'Men with Guns (1997)',\n 'Inside (2012)',\n 'Weekend (2011)',\n 'Absolution (2015)',\n 'Deranged (2012)',\n 'The Midnight Man (2016)',\n 'Interrogation (2016)',\n 'Shelter (2015)',\n 'The Void (2016)',\n 'Holiday (2014)',\n 'The Break-In (2016)',\n 'Good People (2014)',\n 'Aftermath (2012)',\n 'Grace (2014)',\n 'Truth (2015)',\n 'Journey to the Center of the Earth (2008)',\n 'Classmates (2016)',\n 'Clockstoppers (2002)',\n 'Eden (2014)',\n 'Forsaken (2016)',\n 'Hostage (2005)',\n 'Paradise (2013)',\n 'Saturn 3 (1980)',\n 'Sing (2016)',\n 'The Dream Team (2012)',\n 'Gossip (2000)',\n 'Cargo (2017)',\n 'Rose (2011)',\n 'Eros (2004)',\n 'Blackout (2007)',\n 'Confessions of a Dangerous Mind (2002)',\n 'Frozen (2010)',\n 'Veronica (2017)',\n 'Casanova (2005)',\n '20,000 Leagues Under the Sea (1997)',\n 'The Reunion (2011)',\n 'Tag (2015)',\n 'Aladdin (1992)',\n 'Slow Burn (2000)',\n 'Free Fall (2014)',\n 'Escape Room (2017)',\n 'Delirium (2014)',\n 'The Boss (2016)',\n 'War of the Worlds (2005)']"
     },
     "execution_count": 52,
     "metadata": {},
     "output_type": "execute_result"
    }
   ],
   "source": [
    "movie_where_title_is_duplicated_but_not_genre = duplicates_by_title.difference(duplicates_by_title_and_genre)\n",
    "list(movie_where_title_is_duplicated_but_not_genre)"
   ],
   "metadata": {
    "collapsed": false,
    "pycharm": {
     "name": "#%%\n"
    }
   }
  },
  {
   "cell_type": "markdown",
   "source": [
    "Let's check out an example:"
   ],
   "metadata": {
    "collapsed": false
   }
  },
  {
   "cell_type": "code",
   "execution_count": 53,
   "outputs": [
    {
     "data": {
      "text/plain": "       movieId           title                                       genres\n582        588  Aladdin (1992)  adventure|animation|children|comedy|musical\n24657   114240  Aladdin (1992)  adventure|animation|children|comedy|fantasy",
      "text/html": "<div>\n<style scoped>\n    .dataframe tbody tr th:only-of-type {\n        vertical-align: middle;\n    }\n\n    .dataframe tbody tr th {\n        vertical-align: top;\n    }\n\n    .dataframe thead th {\n        text-align: right;\n    }\n</style>\n<table border=\"1\" class=\"dataframe\">\n  <thead>\n    <tr style=\"text-align: right;\">\n      <th></th>\n      <th>movieId</th>\n      <th>title</th>\n      <th>genres</th>\n    </tr>\n  </thead>\n  <tbody>\n    <tr>\n      <th>582</th>\n      <td>588</td>\n      <td>Aladdin (1992)</td>\n      <td>adventure|animation|children|comedy|musical</td>\n    </tr>\n    <tr>\n      <th>24657</th>\n      <td>114240</td>\n      <td>Aladdin (1992)</td>\n      <td>adventure|animation|children|comedy|fantasy</td>\n    </tr>\n  </tbody>\n</table>\n</div>"
     },
     "execution_count": 53,
     "metadata": {},
     "output_type": "execute_result"
    }
   ],
   "source": [
    "movies_df.loc[movies_df['title'] == 'Aladdin (1992)']"
   ],
   "metadata": {
    "collapsed": false,
    "pycharm": {
     "name": "#%%\n"
    }
   }
  },
  {
   "cell_type": "code",
   "execution_count": 54,
   "outputs": [
    {
     "data": {
      "text/plain": "       movieId             title                 genres\n44865   164300  Free Fall (2014)                  drama\n46947   168866  Free Fall (2014)  action|drama|thriller",
      "text/html": "<div>\n<style scoped>\n    .dataframe tbody tr th:only-of-type {\n        vertical-align: middle;\n    }\n\n    .dataframe tbody tr th {\n        vertical-align: top;\n    }\n\n    .dataframe thead th {\n        text-align: right;\n    }\n</style>\n<table border=\"1\" class=\"dataframe\">\n  <thead>\n    <tr style=\"text-align: right;\">\n      <th></th>\n      <th>movieId</th>\n      <th>title</th>\n      <th>genres</th>\n    </tr>\n  </thead>\n  <tbody>\n    <tr>\n      <th>44865</th>\n      <td>164300</td>\n      <td>Free Fall (2014)</td>\n      <td>drama</td>\n    </tr>\n    <tr>\n      <th>46947</th>\n      <td>168866</td>\n      <td>Free Fall (2014)</td>\n      <td>action|drama|thriller</td>\n    </tr>\n  </tbody>\n</table>\n</div>"
     },
     "execution_count": 54,
     "metadata": {},
     "output_type": "execute_result"
    }
   ],
   "source": [
    "movies_df.loc[movies_df['title'] == 'Free Fall (2014)']"
   ],
   "metadata": {
    "collapsed": false,
    "pycharm": {
     "name": "#%%\n"
    }
   }
  },
  {
   "cell_type": "code",
   "execution_count": 56,
   "outputs": [
    {
     "name": "stderr",
     "output_type": "stream",
     "text": [
      "/Users/lizjohnson/projects/simple_recommendation_engine/venv/lib/python3.7/site-packages/pandas/core/indexing.py:1884: SettingWithCopyWarning: \n",
      "A value is trying to be set on a copy of a slice from a DataFrame.\n",
      "Try using .loc[row_indexer,col_indexer] = value instead\n",
      "\n",
      "See the caveats in the documentation: https://pandas.pydata.org/pandas-docs/stable/user_guide/indexing.html#returning-a-view-versus-a-copy\n",
      "  self._setitem_single_column(loc, val, pi)\n"
     ]
    }
   ],
   "source": [
    "from utils.cleaning import find_duplicates_and_combine\n",
    "\n",
    "movies_with_combined_genres_df = find_duplicates_and_combine(movies_df, list(movie_where_title_is_duplicated_but_not_genre))"
   ],
   "metadata": {
    "collapsed": false,
    "pycharm": {
     "name": "#%%\n"
    }
   }
  },
  {
   "cell_type": "code",
   "execution_count": 57,
   "outputs": [],
   "source": [
    "assert len(movies_with_combined_genres_df.index) == len(movies_df.index)"
   ],
   "metadata": {
    "collapsed": false,
    "pycharm": {
     "name": "#%%\n"
    }
   }
  },
  {
   "cell_type": "code",
   "execution_count": 58,
   "outputs": [
    {
     "data": {
      "text/plain": "       movieId           title  \\\n582        588  Aladdin (1992)   \n24657   114240  Aladdin (1992)   \n\n                                                  genres  \n582    adventure|animation|children|comedy|musical|fa...  \n24657  adventure|animation|children|comedy|musical|fa...  ",
      "text/html": "<div>\n<style scoped>\n    .dataframe tbody tr th:only-of-type {\n        vertical-align: middle;\n    }\n\n    .dataframe tbody tr th {\n        vertical-align: top;\n    }\n\n    .dataframe thead th {\n        text-align: right;\n    }\n</style>\n<table border=\"1\" class=\"dataframe\">\n  <thead>\n    <tr style=\"text-align: right;\">\n      <th></th>\n      <th>movieId</th>\n      <th>title</th>\n      <th>genres</th>\n    </tr>\n  </thead>\n  <tbody>\n    <tr>\n      <th>582</th>\n      <td>588</td>\n      <td>Aladdin (1992)</td>\n      <td>adventure|animation|children|comedy|musical|fa...</td>\n    </tr>\n    <tr>\n      <th>24657</th>\n      <td>114240</td>\n      <td>Aladdin (1992)</td>\n      <td>adventure|animation|children|comedy|musical|fa...</td>\n    </tr>\n  </tbody>\n</table>\n</div>"
     },
     "execution_count": 58,
     "metadata": {},
     "output_type": "execute_result"
    }
   ],
   "source": [
    "movies_with_combined_genres_df.loc[movies_with_combined_genres_df['title'] == 'Aladdin (1992)']"
   ],
   "metadata": {
    "collapsed": false,
    "pycharm": {
     "name": "#%%\n"
    }
   }
  },
  {
   "cell_type": "code",
   "execution_count": 69,
   "outputs": [
    {
     "data": {
      "text/plain": "(14, 3)"
     },
     "execution_count": 69,
     "metadata": {},
     "output_type": "execute_result"
    }
   ],
   "source": [
    "movie_where_title_and_genre_is_duplicated_df = movies_with_combined_genres_df.loc[is_title_and_genre_duplicated]\n",
    "movie_where_title_and_genre_is_duplicated_df.shape"
   ],
   "metadata": {
    "collapsed": false,
    "pycharm": {
     "name": "#%%\n"
    }
   }
  },
  {
   "cell_type": "markdown",
   "source": [
    "### Ratings Data Frame\n",
    "Same Steps\n",
    "1. Easily get the number of rows and columns by looking at the shape\n",
    "2. Determine the number of non-null rows for each given column\n",
    "3. Check for duplicate rows"
   ],
   "metadata": {
    "collapsed": false
   }
  },
  {
   "cell_type": "code",
   "execution_count": 59,
   "outputs": [
    {
     "data": {
      "text/plain": "(27753444, 4)"
     },
     "execution_count": 59,
     "metadata": {},
     "output_type": "execute_result"
    }
   ],
   "source": [
    "ratings_df.shape"
   ],
   "metadata": {
    "collapsed": false,
    "pycharm": {
     "name": "#%%\n"
    }
   }
  },
  {
   "cell_type": "code",
   "execution_count": 60,
   "outputs": [
    {
     "name": "stdout",
     "output_type": "stream",
     "text": [
      "<class 'pandas.core.frame.DataFrame'>\n",
      "RangeIndex: 27753444 entries, 0 to 27753443\n",
      "Data columns (total 4 columns):\n",
      " #   Column     Dtype  \n",
      "---  ------     -----  \n",
      " 0   userId     int64  \n",
      " 1   movieId    int64  \n",
      " 2   rating     float64\n",
      " 3   timestamp  int64  \n",
      "dtypes: float64(1), int64(3)\n",
      "memory usage: 847.0 MB\n"
     ]
    }
   ],
   "source": [
    "ratings_df.info()"
   ],
   "metadata": {
    "collapsed": false,
    "pycharm": {
     "name": "#%%\n"
    }
   }
  },
  {
   "cell_type": "markdown",
   "source": [
    "Here we should again define what it means to be a \"duplicate\":"
   ],
   "metadata": {
    "collapsed": false
   }
  },
  {
   "cell_type": "code",
   "execution_count": 63,
   "outputs": [],
   "source": [
    "assert (len(ratings_df) - len(ratings_df.drop_duplicates(['userId', 'movieId', 'rating', 'timestamp']))) == 0"
   ],
   "metadata": {
    "collapsed": false,
    "pycharm": {
     "name": "#%%\n"
    }
   }
  },
  {
   "cell_type": "markdown",
   "source": [
    "## Step 2: Feature Preparation\n",
    "We want to be able to recommend movies to users. What are some things we could do next?\n",
    "\n",
    "Answer:\n",
    "- Join movies to ratings\n",
    "- Group by movie title to find an average rating for each movie"
   ],
   "metadata": {
    "collapsed": false
   }
  },
  {
   "cell_type": "markdown",
   "source": [
    "Here we will left join movies to their ratings.  If we expect all movies to have ratings than we can start with an assertion that indicates that."
   ],
   "metadata": {
    "collapsed": false
   }
  },
  {
   "cell_type": "code",
   "execution_count": 64,
   "outputs": [],
   "source": [
    "movies_and_ratings_df = movies_df.set_index('movieId').join(ratings_df.set_index('movieId')).reset_index()"
   ],
   "metadata": {
    "collapsed": false,
    "pycharm": {
     "name": "#%%\n"
    }
   }
  },
  {
   "cell_type": "code",
   "execution_count": 65,
   "outputs": [
    {
     "data": {
      "text/plain": "          movieId                                    title  \\\n0               1                         Toy Story (1995)   \n1               1                         Toy Story (1995)   \n2               1                         Toy Story (1995)   \n3               1                         Toy Story (1995)   \n4               1                         Toy Story (1995)   \n...           ...                                      ...   \n27738725   193878  Les tribulations d'une caissière (2011)   \n27738726   193880                 Her Name Was Mumu (2016)   \n27738727   193882                             Flora (2017)   \n27738728   193886                              Leal (2018)   \n27738729   193886                              Leal (2018)   \n\n                                               genres    userId  rating  \\\n0         adventure|animation|children|comedy|fantasy       4.0     4.0   \n1         adventure|animation|children|comedy|fantasy      10.0     5.0   \n2         adventure|animation|children|comedy|fantasy      14.0     4.5   \n3         adventure|animation|children|comedy|fantasy      15.0     4.0   \n4         adventure|animation|children|comedy|fantasy      22.0     4.0   \n...                                               ...       ...     ...   \n27738725                                       comedy  176871.0     2.0   \n27738726                                        drama   81710.0     2.0   \n27738727                adventure|drama|horror|sci-fi   33330.0     2.0   \n27738728                           action|crime|drama  206009.0     2.5   \n27738729                           action|crime|drama  226715.0     4.0   \n\n             timestamp  \n0         1.113766e+09  \n1         9.488858e+08  \n2         1.442169e+09  \n3         1.370810e+09  \n4         1.237623e+09  \n...                ...  \n27738725  1.537875e+09  \n27738726  1.537886e+09  \n27738727  1.537891e+09  \n27738728  1.537918e+09  \n27738729  1.537916e+09  \n\n[27738730 rows x 6 columns]",
      "text/html": "<div>\n<style scoped>\n    .dataframe tbody tr th:only-of-type {\n        vertical-align: middle;\n    }\n\n    .dataframe tbody tr th {\n        vertical-align: top;\n    }\n\n    .dataframe thead th {\n        text-align: right;\n    }\n</style>\n<table border=\"1\" class=\"dataframe\">\n  <thead>\n    <tr style=\"text-align: right;\">\n      <th></th>\n      <th>movieId</th>\n      <th>title</th>\n      <th>genres</th>\n      <th>userId</th>\n      <th>rating</th>\n      <th>timestamp</th>\n    </tr>\n  </thead>\n  <tbody>\n    <tr>\n      <th>0</th>\n      <td>1</td>\n      <td>Toy Story (1995)</td>\n      <td>adventure|animation|children|comedy|fantasy</td>\n      <td>4.0</td>\n      <td>4.0</td>\n      <td>1.113766e+09</td>\n    </tr>\n    <tr>\n      <th>1</th>\n      <td>1</td>\n      <td>Toy Story (1995)</td>\n      <td>adventure|animation|children|comedy|fantasy</td>\n      <td>10.0</td>\n      <td>5.0</td>\n      <td>9.488858e+08</td>\n    </tr>\n    <tr>\n      <th>2</th>\n      <td>1</td>\n      <td>Toy Story (1995)</td>\n      <td>adventure|animation|children|comedy|fantasy</td>\n      <td>14.0</td>\n      <td>4.5</td>\n      <td>1.442169e+09</td>\n    </tr>\n    <tr>\n      <th>3</th>\n      <td>1</td>\n      <td>Toy Story (1995)</td>\n      <td>adventure|animation|children|comedy|fantasy</td>\n      <td>15.0</td>\n      <td>4.0</td>\n      <td>1.370810e+09</td>\n    </tr>\n    <tr>\n      <th>4</th>\n      <td>1</td>\n      <td>Toy Story (1995)</td>\n      <td>adventure|animation|children|comedy|fantasy</td>\n      <td>22.0</td>\n      <td>4.0</td>\n      <td>1.237623e+09</td>\n    </tr>\n    <tr>\n      <th>...</th>\n      <td>...</td>\n      <td>...</td>\n      <td>...</td>\n      <td>...</td>\n      <td>...</td>\n      <td>...</td>\n    </tr>\n    <tr>\n      <th>27738725</th>\n      <td>193878</td>\n      <td>Les tribulations d'une caissière (2011)</td>\n      <td>comedy</td>\n      <td>176871.0</td>\n      <td>2.0</td>\n      <td>1.537875e+09</td>\n    </tr>\n    <tr>\n      <th>27738726</th>\n      <td>193880</td>\n      <td>Her Name Was Mumu (2016)</td>\n      <td>drama</td>\n      <td>81710.0</td>\n      <td>2.0</td>\n      <td>1.537886e+09</td>\n    </tr>\n    <tr>\n      <th>27738727</th>\n      <td>193882</td>\n      <td>Flora (2017)</td>\n      <td>adventure|drama|horror|sci-fi</td>\n      <td>33330.0</td>\n      <td>2.0</td>\n      <td>1.537891e+09</td>\n    </tr>\n    <tr>\n      <th>27738728</th>\n      <td>193886</td>\n      <td>Leal (2018)</td>\n      <td>action|crime|drama</td>\n      <td>206009.0</td>\n      <td>2.5</td>\n      <td>1.537918e+09</td>\n    </tr>\n    <tr>\n      <th>27738729</th>\n      <td>193886</td>\n      <td>Leal (2018)</td>\n      <td>action|crime|drama</td>\n      <td>226715.0</td>\n      <td>4.0</td>\n      <td>1.537916e+09</td>\n    </tr>\n  </tbody>\n</table>\n<p>27738730 rows × 6 columns</p>\n</div>"
     },
     "execution_count": 65,
     "metadata": {},
     "output_type": "execute_result"
    }
   ],
   "source": [
    "movies_and_ratings_df"
   ],
   "metadata": {
    "collapsed": false,
    "pycharm": {
     "name": "#%%\n"
    }
   }
  },
  {
   "cell_type": "markdown",
   "source": [
    "Let's find the movies that were missing ratings (if any)."
   ],
   "metadata": {
    "collapsed": false
   }
  },
  {
   "cell_type": "markdown",
   "source": [],
   "metadata": {
    "collapsed": false
   }
  },
  {
   "cell_type": "code",
   "execution_count": 67,
   "outputs": [
    {
     "data": {
      "text/plain": "          movieId                                      title  \\\n21871974    25817                     Break of Hearts (1935)   \n21914110    26361                    Baby Blue Marine (1976)   \n21971501    27153  Can't Be Heaven (Forever Together) (2000)   \n21986044    27433                               Bark! (2002)   \n22225201    31945                 Always a Bridesmaid (2000)   \n...           ...                                        ...   \n27737891   192399                         Under Wraps (1997)   \n27738267   192933                               Rosie (2018)   \n27738335   193109                   Ach śpij kochanie (2017)   \n27738455   193321                             Pledges (2018)   \n27738578   193593                   The Happy Thieves (1962)   \n\n                                 genres  userId  rating  timestamp  \n21871974                  drama|romance     NaN     NaN        NaN  \n21914110                          drama     NaN     NaN        NaN  \n21971501  children|comedy|drama|romance     NaN     NaN        NaN  \n21986044                   comedy|drama     NaN     NaN        NaN  \n22225201                    documentary     NaN     NaN        NaN  \n...                                 ...     ...     ...        ...  \n27737891         children|comedy|horror     NaN     NaN        NaN  \n27738267                          drama     NaN     NaN        NaN  \n27738335                 crime|thriller     NaN     NaN        NaN  \n27738455                  comedy|horror     NaN     NaN        NaN  \n27738578             comedy|crime|drama     NaN     NaN        NaN  \n\n[3675 rows x 6 columns]",
      "text/html": "<div>\n<style scoped>\n    .dataframe tbody tr th:only-of-type {\n        vertical-align: middle;\n    }\n\n    .dataframe tbody tr th {\n        vertical-align: top;\n    }\n\n    .dataframe thead th {\n        text-align: right;\n    }\n</style>\n<table border=\"1\" class=\"dataframe\">\n  <thead>\n    <tr style=\"text-align: right;\">\n      <th></th>\n      <th>movieId</th>\n      <th>title</th>\n      <th>genres</th>\n      <th>userId</th>\n      <th>rating</th>\n      <th>timestamp</th>\n    </tr>\n  </thead>\n  <tbody>\n    <tr>\n      <th>21871974</th>\n      <td>25817</td>\n      <td>Break of Hearts (1935)</td>\n      <td>drama|romance</td>\n      <td>NaN</td>\n      <td>NaN</td>\n      <td>NaN</td>\n    </tr>\n    <tr>\n      <th>21914110</th>\n      <td>26361</td>\n      <td>Baby Blue Marine (1976)</td>\n      <td>drama</td>\n      <td>NaN</td>\n      <td>NaN</td>\n      <td>NaN</td>\n    </tr>\n    <tr>\n      <th>21971501</th>\n      <td>27153</td>\n      <td>Can't Be Heaven (Forever Together) (2000)</td>\n      <td>children|comedy|drama|romance</td>\n      <td>NaN</td>\n      <td>NaN</td>\n      <td>NaN</td>\n    </tr>\n    <tr>\n      <th>21986044</th>\n      <td>27433</td>\n      <td>Bark! (2002)</td>\n      <td>comedy|drama</td>\n      <td>NaN</td>\n      <td>NaN</td>\n      <td>NaN</td>\n    </tr>\n    <tr>\n      <th>22225201</th>\n      <td>31945</td>\n      <td>Always a Bridesmaid (2000)</td>\n      <td>documentary</td>\n      <td>NaN</td>\n      <td>NaN</td>\n      <td>NaN</td>\n    </tr>\n    <tr>\n      <th>...</th>\n      <td>...</td>\n      <td>...</td>\n      <td>...</td>\n      <td>...</td>\n      <td>...</td>\n      <td>...</td>\n    </tr>\n    <tr>\n      <th>27737891</th>\n      <td>192399</td>\n      <td>Under Wraps (1997)</td>\n      <td>children|comedy|horror</td>\n      <td>NaN</td>\n      <td>NaN</td>\n      <td>NaN</td>\n    </tr>\n    <tr>\n      <th>27738267</th>\n      <td>192933</td>\n      <td>Rosie (2018)</td>\n      <td>drama</td>\n      <td>NaN</td>\n      <td>NaN</td>\n      <td>NaN</td>\n    </tr>\n    <tr>\n      <th>27738335</th>\n      <td>193109</td>\n      <td>Ach śpij kochanie (2017)</td>\n      <td>crime|thriller</td>\n      <td>NaN</td>\n      <td>NaN</td>\n      <td>NaN</td>\n    </tr>\n    <tr>\n      <th>27738455</th>\n      <td>193321</td>\n      <td>Pledges (2018)</td>\n      <td>comedy|horror</td>\n      <td>NaN</td>\n      <td>NaN</td>\n      <td>NaN</td>\n    </tr>\n    <tr>\n      <th>27738578</th>\n      <td>193593</td>\n      <td>The Happy Thieves (1962)</td>\n      <td>comedy|crime|drama</td>\n      <td>NaN</td>\n      <td>NaN</td>\n      <td>NaN</td>\n    </tr>\n  </tbody>\n</table>\n<p>3675 rows × 6 columns</p>\n</div>"
     },
     "execution_count": 67,
     "metadata": {},
     "output_type": "execute_result"
    }
   ],
   "source": [
    "movies_missing_ratings = movies_and_ratings_df.loc[movies_and_ratings_df['rating'].isna()]\n",
    "movies_missing_ratings"
   ],
   "metadata": {
    "collapsed": false,
    "pycharm": {
     "name": "#%%\n"
    }
   }
  },
  {
   "cell_type": "markdown",
   "source": [
    "Now let's keep only movies that did have ratings"
   ],
   "metadata": {
    "collapsed": false
   }
  },
  {
   "cell_type": "code",
   "execution_count": 68,
   "outputs": [
    {
     "data": {
      "text/plain": "          movieId                                    title  \\\n0               1                         Toy Story (1995)   \n1               1                         Toy Story (1995)   \n2               1                         Toy Story (1995)   \n3               1                         Toy Story (1995)   \n4               1                         Toy Story (1995)   \n...           ...                                      ...   \n27738725   193878  Les tribulations d'une caissière (2011)   \n27738726   193880                 Her Name Was Mumu (2016)   \n27738727   193882                             Flora (2017)   \n27738728   193886                              Leal (2018)   \n27738729   193886                              Leal (2018)   \n\n                                               genres    userId  rating  \\\n0         adventure|animation|children|comedy|fantasy       4.0     4.0   \n1         adventure|animation|children|comedy|fantasy      10.0     5.0   \n2         adventure|animation|children|comedy|fantasy      14.0     4.5   \n3         adventure|animation|children|comedy|fantasy      15.0     4.0   \n4         adventure|animation|children|comedy|fantasy      22.0     4.0   \n...                                               ...       ...     ...   \n27738725                                       comedy  176871.0     2.0   \n27738726                                        drama   81710.0     2.0   \n27738727                adventure|drama|horror|sci-fi   33330.0     2.0   \n27738728                           action|crime|drama  206009.0     2.5   \n27738729                           action|crime|drama  226715.0     4.0   \n\n             timestamp  \n0         1.113766e+09  \n1         9.488858e+08  \n2         1.442169e+09  \n3         1.370810e+09  \n4         1.237623e+09  \n...                ...  \n27738725  1.537875e+09  \n27738726  1.537886e+09  \n27738727  1.537891e+09  \n27738728  1.537918e+09  \n27738729  1.537916e+09  \n\n[27735055 rows x 6 columns]",
      "text/html": "<div>\n<style scoped>\n    .dataframe tbody tr th:only-of-type {\n        vertical-align: middle;\n    }\n\n    .dataframe tbody tr th {\n        vertical-align: top;\n    }\n\n    .dataframe thead th {\n        text-align: right;\n    }\n</style>\n<table border=\"1\" class=\"dataframe\">\n  <thead>\n    <tr style=\"text-align: right;\">\n      <th></th>\n      <th>movieId</th>\n      <th>title</th>\n      <th>genres</th>\n      <th>userId</th>\n      <th>rating</th>\n      <th>timestamp</th>\n    </tr>\n  </thead>\n  <tbody>\n    <tr>\n      <th>0</th>\n      <td>1</td>\n      <td>Toy Story (1995)</td>\n      <td>adventure|animation|children|comedy|fantasy</td>\n      <td>4.0</td>\n      <td>4.0</td>\n      <td>1.113766e+09</td>\n    </tr>\n    <tr>\n      <th>1</th>\n      <td>1</td>\n      <td>Toy Story (1995)</td>\n      <td>adventure|animation|children|comedy|fantasy</td>\n      <td>10.0</td>\n      <td>5.0</td>\n      <td>9.488858e+08</td>\n    </tr>\n    <tr>\n      <th>2</th>\n      <td>1</td>\n      <td>Toy Story (1995)</td>\n      <td>adventure|animation|children|comedy|fantasy</td>\n      <td>14.0</td>\n      <td>4.5</td>\n      <td>1.442169e+09</td>\n    </tr>\n    <tr>\n      <th>3</th>\n      <td>1</td>\n      <td>Toy Story (1995)</td>\n      <td>adventure|animation|children|comedy|fantasy</td>\n      <td>15.0</td>\n      <td>4.0</td>\n      <td>1.370810e+09</td>\n    </tr>\n    <tr>\n      <th>4</th>\n      <td>1</td>\n      <td>Toy Story (1995)</td>\n      <td>adventure|animation|children|comedy|fantasy</td>\n      <td>22.0</td>\n      <td>4.0</td>\n      <td>1.237623e+09</td>\n    </tr>\n    <tr>\n      <th>...</th>\n      <td>...</td>\n      <td>...</td>\n      <td>...</td>\n      <td>...</td>\n      <td>...</td>\n      <td>...</td>\n    </tr>\n    <tr>\n      <th>27738725</th>\n      <td>193878</td>\n      <td>Les tribulations d'une caissière (2011)</td>\n      <td>comedy</td>\n      <td>176871.0</td>\n      <td>2.0</td>\n      <td>1.537875e+09</td>\n    </tr>\n    <tr>\n      <th>27738726</th>\n      <td>193880</td>\n      <td>Her Name Was Mumu (2016)</td>\n      <td>drama</td>\n      <td>81710.0</td>\n      <td>2.0</td>\n      <td>1.537886e+09</td>\n    </tr>\n    <tr>\n      <th>27738727</th>\n      <td>193882</td>\n      <td>Flora (2017)</td>\n      <td>adventure|drama|horror|sci-fi</td>\n      <td>33330.0</td>\n      <td>2.0</td>\n      <td>1.537891e+09</td>\n    </tr>\n    <tr>\n      <th>27738728</th>\n      <td>193886</td>\n      <td>Leal (2018)</td>\n      <td>action|crime|drama</td>\n      <td>206009.0</td>\n      <td>2.5</td>\n      <td>1.537918e+09</td>\n    </tr>\n    <tr>\n      <th>27738729</th>\n      <td>193886</td>\n      <td>Leal (2018)</td>\n      <td>action|crime|drama</td>\n      <td>226715.0</td>\n      <td>4.0</td>\n      <td>1.537916e+09</td>\n    </tr>\n  </tbody>\n</table>\n<p>27735055 rows × 6 columns</p>\n</div>"
     },
     "execution_count": 68,
     "metadata": {},
     "output_type": "execute_result"
    }
   ],
   "source": [
    "movies_with_ratings_df = movies_and_ratings_df.loc[movies_and_ratings_df['rating'].notna()]\n",
    "movies_with_ratings_df"
   ],
   "metadata": {
    "collapsed": false,
    "pycharm": {
     "name": "#%%\n"
    }
   }
  },
  {
   "cell_type": "code",
   "execution_count": 72,
   "outputs": [],
   "source": [
    "movies_with_ratings_combined_df = movies_with_ratings_df.groupby('title').agg({'rating': lambda x: x.to_list(), 'genres': lambda x: x.to_list()[0]}).reset_index()"
   ],
   "metadata": {
    "collapsed": false,
    "pycharm": {
     "name": "#%%\n"
    }
   }
  },
  {
   "cell_type": "code",
   "execution_count": 73,
   "outputs": [
    {
     "data": {
      "text/plain": "                                        title  \\\n0            \"Great Performances\" Cats (1998)   \n1                  #1 Cheerleader Camp (2010)   \n2                            #Captured (2017)   \n3                              #Horror (2015)   \n4                           #SCREAMERS (2016)   \n...                                       ...   \n50091                          ארבינקא (1967)   \n50092  …And the Fifth Horseman Is Fear (1965)   \n50093                             キサラギ (2007)   \n50094                          チェブラーシカ (2010)   \n50095                             貞子3D (2012)   \n\n                                                  rating  \\\n0      [3.0, 5.0, 4.0, 1.0, 0.5, 1.5, 0.5, 3.5, 5.0, ...   \n1          [3.0, 1.0, 1.5, 3.0, 4.0, 2.0, 4.0, 5.0, 1.5]   \n2                                                  [2.5]   \n3      [1.0, 1.0, 3.0, 3.5, 0.5, 2.5, 1.5, 2.0, 3.0, ...   \n4                                                  [2.5]   \n...                                                  ...   \n50091                                              [3.5]   \n50092                                         [3.5, 3.0]   \n50093                                    [3.5, 4.5, 3.0]   \n50094  [5.0, 4.0, 2.5, 3.5, 3.5, 4.5, 3.0, 3.0, 2.0, ...   \n50095  [4.0, 3.5, 2.0, 1.5, 1.0, 1.0, 4.0, 0.5, 3.0, ...   \n\n                              genres  \n0                            musical  \n1                       comedy|drama  \n2                             horror  \n3      drama|horror|mystery|thriller  \n4                             horror  \n...                              ...  \n50091           comedy|crime|romance  \n50092                      drama|war  \n50093                 comedy|mystery  \n50094             animation|children  \n50095                         horror  \n\n[50096 rows x 3 columns]",
      "text/html": "<div>\n<style scoped>\n    .dataframe tbody tr th:only-of-type {\n        vertical-align: middle;\n    }\n\n    .dataframe tbody tr th {\n        vertical-align: top;\n    }\n\n    .dataframe thead th {\n        text-align: right;\n    }\n</style>\n<table border=\"1\" class=\"dataframe\">\n  <thead>\n    <tr style=\"text-align: right;\">\n      <th></th>\n      <th>title</th>\n      <th>rating</th>\n      <th>genres</th>\n    </tr>\n  </thead>\n  <tbody>\n    <tr>\n      <th>0</th>\n      <td>\"Great Performances\" Cats (1998)</td>\n      <td>[3.0, 5.0, 4.0, 1.0, 0.5, 1.5, 0.5, 3.5, 5.0, ...</td>\n      <td>musical</td>\n    </tr>\n    <tr>\n      <th>1</th>\n      <td>#1 Cheerleader Camp (2010)</td>\n      <td>[3.0, 1.0, 1.5, 3.0, 4.0, 2.0, 4.0, 5.0, 1.5]</td>\n      <td>comedy|drama</td>\n    </tr>\n    <tr>\n      <th>2</th>\n      <td>#Captured (2017)</td>\n      <td>[2.5]</td>\n      <td>horror</td>\n    </tr>\n    <tr>\n      <th>3</th>\n      <td>#Horror (2015)</td>\n      <td>[1.0, 1.0, 3.0, 3.5, 0.5, 2.5, 1.5, 2.0, 3.0, ...</td>\n      <td>drama|horror|mystery|thriller</td>\n    </tr>\n    <tr>\n      <th>4</th>\n      <td>#SCREAMERS (2016)</td>\n      <td>[2.5]</td>\n      <td>horror</td>\n    </tr>\n    <tr>\n      <th>...</th>\n      <td>...</td>\n      <td>...</td>\n      <td>...</td>\n    </tr>\n    <tr>\n      <th>50091</th>\n      <td>ארבינקא (1967)</td>\n      <td>[3.5]</td>\n      <td>comedy|crime|romance</td>\n    </tr>\n    <tr>\n      <th>50092</th>\n      <td>…And the Fifth Horseman Is Fear (1965)</td>\n      <td>[3.5, 3.0]</td>\n      <td>drama|war</td>\n    </tr>\n    <tr>\n      <th>50093</th>\n      <td>キサラギ (2007)</td>\n      <td>[3.5, 4.5, 3.0]</td>\n      <td>comedy|mystery</td>\n    </tr>\n    <tr>\n      <th>50094</th>\n      <td>チェブラーシカ (2010)</td>\n      <td>[5.0, 4.0, 2.5, 3.5, 3.5, 4.5, 3.0, 3.0, 2.0, ...</td>\n      <td>animation|children</td>\n    </tr>\n    <tr>\n      <th>50095</th>\n      <td>貞子3D (2012)</td>\n      <td>[4.0, 3.5, 2.0, 1.5, 1.0, 1.0, 4.0, 0.5, 3.0, ...</td>\n      <td>horror</td>\n    </tr>\n  </tbody>\n</table>\n<p>50096 rows × 3 columns</p>\n</div>"
     },
     "execution_count": 73,
     "metadata": {},
     "output_type": "execute_result"
    }
   ],
   "source": [
    "movies_with_ratings_combined_df"
   ],
   "metadata": {
    "collapsed": false,
    "pycharm": {
     "name": "#%%\n"
    }
   }
  },
  {
   "cell_type": "markdown",
   "source": [
    "Next let's get an average rating for each movie by grouping by title and creating a list of the ratings and taking the first instance of a genres list."
   ],
   "metadata": {
    "collapsed": false
   }
  },
  {
   "cell_type": "code",
   "execution_count": 77,
   "outputs": [],
   "source": [
    "def average_rating(ratings: List) -> float:\n",
    "    return sum(ratings)/len(ratings)"
   ],
   "metadata": {
    "collapsed": false,
    "pycharm": {
     "name": "#%%\n"
    }
   }
  },
  {
   "cell_type": "code",
   "execution_count": 78,
   "outputs": [],
   "source": [
    "movies_with_ratings_combined_df['average_rating'] = movies_with_ratings_combined_df['rating'].apply(average_rating)"
   ],
   "metadata": {
    "collapsed": false,
    "pycharm": {
     "name": "#%%\n"
    }
   }
  },
  {
   "cell_type": "code",
   "execution_count": 79,
   "outputs": [
    {
     "data": {
      "text/plain": "                                        title  \\\n0            \"Great Performances\" Cats (1998)   \n1                  #1 Cheerleader Camp (2010)   \n2                            #Captured (2017)   \n3                              #Horror (2015)   \n4                           #SCREAMERS (2016)   \n...                                       ...   \n50091                          ארבינקא (1967)   \n50092  …And the Fifth Horseman Is Fear (1965)   \n50093                             キサラギ (2007)   \n50094                          チェブラーシカ (2010)   \n50095                             貞子3D (2012)   \n\n                                                  rating  \\\n0      [3.0, 5.0, 4.0, 1.0, 0.5, 1.5, 0.5, 3.5, 5.0, ...   \n1          [3.0, 1.0, 1.5, 3.0, 4.0, 2.0, 4.0, 5.0, 1.5]   \n2                                                  [2.5]   \n3      [1.0, 1.0, 3.0, 3.5, 0.5, 2.5, 1.5, 2.0, 3.0, ...   \n4                                                  [2.5]   \n...                                                  ...   \n50091                                              [3.5]   \n50092                                         [3.5, 3.0]   \n50093                                    [3.5, 4.5, 3.0]   \n50094  [5.0, 4.0, 2.5, 3.5, 3.5, 4.5, 3.0, 3.0, 2.0, ...   \n50095  [4.0, 3.5, 2.0, 1.5, 1.0, 1.0, 4.0, 0.5, 3.0, ...   \n\n                              genres  average_rating  \n0                            musical        2.815556  \n1                       comedy|drama        2.777778  \n2                             horror        2.500000  \n3      drama|horror|mystery|thriller        2.078947  \n4                             horror        2.500000  \n...                              ...             ...  \n50091           comedy|crime|romance        3.500000  \n50092                      drama|war        3.250000  \n50093                 comedy|mystery        3.666667  \n50094             animation|children        3.150000  \n50095                         horror        2.136364  \n\n[50096 rows x 4 columns]",
      "text/html": "<div>\n<style scoped>\n    .dataframe tbody tr th:only-of-type {\n        vertical-align: middle;\n    }\n\n    .dataframe tbody tr th {\n        vertical-align: top;\n    }\n\n    .dataframe thead th {\n        text-align: right;\n    }\n</style>\n<table border=\"1\" class=\"dataframe\">\n  <thead>\n    <tr style=\"text-align: right;\">\n      <th></th>\n      <th>title</th>\n      <th>rating</th>\n      <th>genres</th>\n      <th>average_rating</th>\n    </tr>\n  </thead>\n  <tbody>\n    <tr>\n      <th>0</th>\n      <td>\"Great Performances\" Cats (1998)</td>\n      <td>[3.0, 5.0, 4.0, 1.0, 0.5, 1.5, 0.5, 3.5, 5.0, ...</td>\n      <td>musical</td>\n      <td>2.815556</td>\n    </tr>\n    <tr>\n      <th>1</th>\n      <td>#1 Cheerleader Camp (2010)</td>\n      <td>[3.0, 1.0, 1.5, 3.0, 4.0, 2.0, 4.0, 5.0, 1.5]</td>\n      <td>comedy|drama</td>\n      <td>2.777778</td>\n    </tr>\n    <tr>\n      <th>2</th>\n      <td>#Captured (2017)</td>\n      <td>[2.5]</td>\n      <td>horror</td>\n      <td>2.500000</td>\n    </tr>\n    <tr>\n      <th>3</th>\n      <td>#Horror (2015)</td>\n      <td>[1.0, 1.0, 3.0, 3.5, 0.5, 2.5, 1.5, 2.0, 3.0, ...</td>\n      <td>drama|horror|mystery|thriller</td>\n      <td>2.078947</td>\n    </tr>\n    <tr>\n      <th>4</th>\n      <td>#SCREAMERS (2016)</td>\n      <td>[2.5]</td>\n      <td>horror</td>\n      <td>2.500000</td>\n    </tr>\n    <tr>\n      <th>...</th>\n      <td>...</td>\n      <td>...</td>\n      <td>...</td>\n      <td>...</td>\n    </tr>\n    <tr>\n      <th>50091</th>\n      <td>ארבינקא (1967)</td>\n      <td>[3.5]</td>\n      <td>comedy|crime|romance</td>\n      <td>3.500000</td>\n    </tr>\n    <tr>\n      <th>50092</th>\n      <td>…And the Fifth Horseman Is Fear (1965)</td>\n      <td>[3.5, 3.0]</td>\n      <td>drama|war</td>\n      <td>3.250000</td>\n    </tr>\n    <tr>\n      <th>50093</th>\n      <td>キサラギ (2007)</td>\n      <td>[3.5, 4.5, 3.0]</td>\n      <td>comedy|mystery</td>\n      <td>3.666667</td>\n    </tr>\n    <tr>\n      <th>50094</th>\n      <td>チェブラーシカ (2010)</td>\n      <td>[5.0, 4.0, 2.5, 3.5, 3.5, 4.5, 3.0, 3.0, 2.0, ...</td>\n      <td>animation|children</td>\n      <td>3.150000</td>\n    </tr>\n    <tr>\n      <th>50095</th>\n      <td>貞子3D (2012)</td>\n      <td>[4.0, 3.5, 2.0, 1.5, 1.0, 1.0, 4.0, 0.5, 3.0, ...</td>\n      <td>horror</td>\n      <td>2.136364</td>\n    </tr>\n  </tbody>\n</table>\n<p>50096 rows × 4 columns</p>\n</div>"
     },
     "execution_count": 79,
     "metadata": {},
     "output_type": "execute_result"
    }
   ],
   "source": [
    "movies_with_ratings_combined_df"
   ],
   "metadata": {
    "collapsed": false,
    "pycharm": {
     "name": "#%%\n"
    }
   }
  },
  {
   "cell_type": "markdown",
   "source": [
    "Let's think about our recommendation engine now again.  Let's say that we want to recommend movies to by recommending the movies with the most similar genres list."
   ],
   "metadata": {
    "collapsed": false
   }
  },
  {
   "cell_type": "markdown",
   "source": [
    "In order to to use TF IDF we need a list of all the \"words\" (genres) used in our corpus.  This is easy for us to do.  We can make a list of all the genres by:\n",
    "1. Creating a column with a list of genres\n",
    "2. Grouping by the genre\n",
    "3. Aggregating the results\n",
    "4. Transforming the resulting series into a list of genres"
   ],
   "metadata": {
    "collapsed": false
   }
  },
  {
   "cell_type": "markdown",
   "source": [
    "Column with list of genres"
   ],
   "metadata": {
    "collapsed": false
   }
  },
  {
   "cell_type": "code",
   "execution_count": 80,
   "outputs": [],
   "source": [
    "movies_with_ratings_combined_df['genres'] = movies_with_ratings_combined_df['genres'].apply(lambda x: x.split('|'))"
   ],
   "metadata": {
    "collapsed": false,
    "pycharm": {
     "name": "#%%\n"
    }
   }
  },
  {
   "cell_type": "markdown",
   "source": [
    "Group by Genre"
   ],
   "metadata": {
    "collapsed": false
   }
  },
  {
   "cell_type": "code",
   "execution_count": 81,
   "outputs": [],
   "source": [
    "movies_grouped_by_genre = movies_with_ratings_combined_df.explode('genres').groupby('genres')"
   ],
   "metadata": {
    "collapsed": false,
    "pycharm": {
     "name": "#%%\n"
    }
   }
  },
  {
   "cell_type": "markdown",
   "source": [
    "Aggregrate the results"
   ],
   "metadata": {
    "collapsed": false
   }
  },
  {
   "cell_type": "code",
   "execution_count": 82,
   "outputs": [
    {
     "data": {
      "text/plain": "0          action\n1       adventure\n2       animation\n3        children\n4          comedy\n5           crime\n6     documentary\n7           drama\n8         fantasy\n9       film-noir\n10         horror\n11           imax\n12        musical\n13        mystery\n14        romance\n15         sci-fi\n16       thriller\n17            war\n18        western\nName: genres, dtype: object"
     },
     "execution_count": 82,
     "metadata": {},
     "output_type": "execute_result"
    }
   ],
   "source": [
    "all_genres = movies_grouped_by_genre.agg(sum).reset_index()['genres']\n",
    "all_genres"
   ],
   "metadata": {
    "collapsed": false,
    "pycharm": {
     "name": "#%%\n"
    }
   }
  },
  {
   "cell_type": "markdown",
   "source": [
    "create a list of genres"
   ],
   "metadata": {
    "collapsed": false
   }
  },
  {
   "cell_type": "code",
   "execution_count": 84,
   "outputs": [
    {
     "data": {
      "text/plain": "['action',\n 'adventure',\n 'animation',\n 'children',\n 'comedy',\n 'crime',\n 'documentary',\n 'drama',\n 'fantasy',\n 'film-noir',\n 'horror',\n 'imax',\n 'musical',\n 'mystery',\n 'romance',\n 'sci-fi',\n 'thriller',\n 'war',\n 'western']"
     },
     "execution_count": 84,
     "metadata": {},
     "output_type": "execute_result"
    }
   ],
   "source": [
    "all_genres_list = list(all_genres)\n",
    "all_genres_list"
   ],
   "metadata": {
    "collapsed": false,
    "pycharm": {
     "name": "#%%\n"
    }
   }
  },
  {
   "cell_type": "markdown",
   "source": [
    "Let's turn our list of genres into a space separated list of genres (as if they were words in a sentence)"
   ],
   "metadata": {
    "collapsed": false
   }
  },
  {
   "cell_type": "code",
   "execution_count": 86,
   "outputs": [],
   "source": [
    "movies_with_ratings_combined_df['genres_as_string'] = movies_with_ratings_combined_df['genres'].apply(lambda x: ' '.join(x))"
   ],
   "metadata": {
    "collapsed": false,
    "pycharm": {
     "name": "#%%\n"
    }
   }
  },
  {
   "cell_type": "markdown",
   "source": [
    "reset our index again"
   ],
   "metadata": {
    "collapsed": false
   }
  },
  {
   "cell_type": "code",
   "execution_count": 87,
   "outputs": [],
   "source": [
    "movies_with_ratings_combined_df = movies_with_ratings_combined_df.reset_index().drop(columns=['index'])"
   ],
   "metadata": {
    "collapsed": false,
    "pycharm": {
     "name": "#%%\n"
    }
   }
  },
  {
   "cell_type": "markdown",
   "source": [],
   "metadata": {
    "collapsed": false
   }
  },
  {
   "cell_type": "markdown",
   "source": [],
   "metadata": {
    "collapsed": false,
    "pycharm": {
     "name": "#%% md\n"
    }
   }
  },
  {
   "cell_type": "raw",
   "source": [
    "analyzer : {'word', 'char', 'char_wb'} or callable, default='word'\n",
    "        Whether the feature should be made of word or character n-grams.\n",
    "        Option 'char_wb' creates character n-grams only from text inside\n",
    "        word boundaries; n-grams at the edges of words are padded with space.\n",
    "\n",
    "ngram_range : tuple (min_n, max_n), default=(1, 1)\n",
    "        The lower and upper boundary of the range of n-values for different\n",
    "        n-grams to be extracted. All values of n such that min_n <= n <= max_n\n",
    "        will be used. For example an ``ngram_range`` of ``(1, 1)`` means only\n",
    "        unigrams, ``(1, 2)`` means unigrams and bigrams, and ``(2, 2)`` means\n",
    "        only bigrams.\n",
    "\n",
    "min_df : float or int, default=1\n",
    "        When building the vocabulary ignore terms that have a document\n",
    "        frequency strictly lower than the given threshold.\n",
    "\n",
    "vocabulary_ : dict\n",
    "        A mapping of terms to feature indices."
   ],
   "metadata": {
    "collapsed": false,
    "pycharm": {
     "name": "#%% raw\n"
    }
   }
  },
  {
   "cell_type": "code",
   "execution_count": 88,
   "outputs": [],
   "source": [
    "from sklearn.feature_extraction.text import TfidfVectorizer\n",
    "tf = TfidfVectorizer(analyzer='word',ngram_range=(1, 1),min_df=0, stop_words='english', vocabulary=all_genres_list)\n",
    "tfidf_matrix = tf.fit_transform(movies_with_ratings_combined_df['genres_as_string'])"
   ],
   "metadata": {
    "collapsed": false,
    "pycharm": {
     "name": "#%%\n"
    }
   }
  },
  {
   "cell_type": "markdown",
   "source": [
    "To see what our matrix looks like we can do the following:"
   ],
   "metadata": {
    "collapsed": false
   }
  },
  {
   "cell_type": "code",
   "execution_count": 89,
   "outputs": [
    {
     "data": {
      "text/plain": "        0    1         2         3         4         5    6         7    8   \\\n0      0.0  0.0  0.000000  0.000000  0.000000  0.000000  0.0  0.000000  0.0   \n1      0.0  0.0  0.000000  0.000000  0.775664  0.000000  0.0  0.631147  0.0   \n2      0.0  0.0  0.000000  0.000000  0.000000  0.000000  0.0  0.000000  0.0   \n3      0.0  0.0  0.000000  0.000000  0.000000  0.000000  0.0  0.292236  0.0   \n4      0.0  0.0  0.000000  0.000000  0.000000  0.000000  0.0  0.000000  0.0   \n...    ...  ...       ...       ...       ...       ...  ...       ...  ...   \n50091  0.0  0.0  0.000000  0.000000  0.440962  0.671268  0.0  0.000000  0.0   \n50092  0.0  0.0  0.000000  0.000000  0.000000  0.000000  0.0  0.378841  0.0   \n50093  0.0  0.0  0.000000  0.000000  0.486407  0.000000  0.0  0.000000  0.0   \n50094  0.0  0.0  0.707986  0.706226  0.000000  0.000000  0.0  0.000000  0.0   \n50095  0.0  0.0  0.000000  0.000000  0.000000  0.000000  0.0  0.000000  0.0   \n\n        9         10   11   12        13        14   15        16        17  \\\n0      0.0  0.000000  0.0  1.0  0.000000  0.000000  0.0  0.000000  0.000000   \n1      0.0  0.000000  0.0  0.0  0.000000  0.000000  0.0  0.000000  0.000000   \n2      0.0  1.000000  0.0  0.0  0.000000  0.000000  0.0  0.000000  0.000000   \n3      0.0  0.529943  0.0  0.0  0.645142  0.000000  0.0  0.466423  0.000000   \n4      0.0  1.000000  0.0  0.0  0.000000  0.000000  0.0  0.000000  0.000000   \n...    ...       ...  ...  ...       ...       ...  ...       ...       ...   \n50091  0.0  0.000000  0.0  0.0  0.000000  0.595778  0.0  0.000000  0.000000   \n50092  0.0  0.000000  0.0  0.0  0.000000  0.000000  0.0  0.000000  0.925462   \n50093  0.0  0.000000  0.0  0.0  0.873732  0.000000  0.0  0.000000  0.000000   \n50094  0.0  0.000000  0.0  0.0  0.000000  0.000000  0.0  0.000000  0.000000   \n50095  0.0  1.000000  0.0  0.0  0.000000  0.000000  0.0  0.000000  0.000000   \n\n        18  \n0      0.0  \n1      0.0  \n2      0.0  \n3      0.0  \n4      0.0  \n...    ...  \n50091  0.0  \n50092  0.0  \n50093  0.0  \n50094  0.0  \n50095  0.0  \n\n[50096 rows x 19 columns]",
      "text/html": "<div>\n<style scoped>\n    .dataframe tbody tr th:only-of-type {\n        vertical-align: middle;\n    }\n\n    .dataframe tbody tr th {\n        vertical-align: top;\n    }\n\n    .dataframe thead th {\n        text-align: right;\n    }\n</style>\n<table border=\"1\" class=\"dataframe\">\n  <thead>\n    <tr style=\"text-align: right;\">\n      <th></th>\n      <th>0</th>\n      <th>1</th>\n      <th>2</th>\n      <th>3</th>\n      <th>4</th>\n      <th>5</th>\n      <th>6</th>\n      <th>7</th>\n      <th>8</th>\n      <th>9</th>\n      <th>10</th>\n      <th>11</th>\n      <th>12</th>\n      <th>13</th>\n      <th>14</th>\n      <th>15</th>\n      <th>16</th>\n      <th>17</th>\n      <th>18</th>\n    </tr>\n  </thead>\n  <tbody>\n    <tr>\n      <th>0</th>\n      <td>0.0</td>\n      <td>0.0</td>\n      <td>0.000000</td>\n      <td>0.000000</td>\n      <td>0.000000</td>\n      <td>0.000000</td>\n      <td>0.0</td>\n      <td>0.000000</td>\n      <td>0.0</td>\n      <td>0.0</td>\n      <td>0.000000</td>\n      <td>0.0</td>\n      <td>1.0</td>\n      <td>0.000000</td>\n      <td>0.000000</td>\n      <td>0.0</td>\n      <td>0.000000</td>\n      <td>0.000000</td>\n      <td>0.0</td>\n    </tr>\n    <tr>\n      <th>1</th>\n      <td>0.0</td>\n      <td>0.0</td>\n      <td>0.000000</td>\n      <td>0.000000</td>\n      <td>0.775664</td>\n      <td>0.000000</td>\n      <td>0.0</td>\n      <td>0.631147</td>\n      <td>0.0</td>\n      <td>0.0</td>\n      <td>0.000000</td>\n      <td>0.0</td>\n      <td>0.0</td>\n      <td>0.000000</td>\n      <td>0.000000</td>\n      <td>0.0</td>\n      <td>0.000000</td>\n      <td>0.000000</td>\n      <td>0.0</td>\n    </tr>\n    <tr>\n      <th>2</th>\n      <td>0.0</td>\n      <td>0.0</td>\n      <td>0.000000</td>\n      <td>0.000000</td>\n      <td>0.000000</td>\n      <td>0.000000</td>\n      <td>0.0</td>\n      <td>0.000000</td>\n      <td>0.0</td>\n      <td>0.0</td>\n      <td>1.000000</td>\n      <td>0.0</td>\n      <td>0.0</td>\n      <td>0.000000</td>\n      <td>0.000000</td>\n      <td>0.0</td>\n      <td>0.000000</td>\n      <td>0.000000</td>\n      <td>0.0</td>\n    </tr>\n    <tr>\n      <th>3</th>\n      <td>0.0</td>\n      <td>0.0</td>\n      <td>0.000000</td>\n      <td>0.000000</td>\n      <td>0.000000</td>\n      <td>0.000000</td>\n      <td>0.0</td>\n      <td>0.292236</td>\n      <td>0.0</td>\n      <td>0.0</td>\n      <td>0.529943</td>\n      <td>0.0</td>\n      <td>0.0</td>\n      <td>0.645142</td>\n      <td>0.000000</td>\n      <td>0.0</td>\n      <td>0.466423</td>\n      <td>0.000000</td>\n      <td>0.0</td>\n    </tr>\n    <tr>\n      <th>4</th>\n      <td>0.0</td>\n      <td>0.0</td>\n      <td>0.000000</td>\n      <td>0.000000</td>\n      <td>0.000000</td>\n      <td>0.000000</td>\n      <td>0.0</td>\n      <td>0.000000</td>\n      <td>0.0</td>\n      <td>0.0</td>\n      <td>1.000000</td>\n      <td>0.0</td>\n      <td>0.0</td>\n      <td>0.000000</td>\n      <td>0.000000</td>\n      <td>0.0</td>\n      <td>0.000000</td>\n      <td>0.000000</td>\n      <td>0.0</td>\n    </tr>\n    <tr>\n      <th>...</th>\n      <td>...</td>\n      <td>...</td>\n      <td>...</td>\n      <td>...</td>\n      <td>...</td>\n      <td>...</td>\n      <td>...</td>\n      <td>...</td>\n      <td>...</td>\n      <td>...</td>\n      <td>...</td>\n      <td>...</td>\n      <td>...</td>\n      <td>...</td>\n      <td>...</td>\n      <td>...</td>\n      <td>...</td>\n      <td>...</td>\n      <td>...</td>\n    </tr>\n    <tr>\n      <th>50091</th>\n      <td>0.0</td>\n      <td>0.0</td>\n      <td>0.000000</td>\n      <td>0.000000</td>\n      <td>0.440962</td>\n      <td>0.671268</td>\n      <td>0.0</td>\n      <td>0.000000</td>\n      <td>0.0</td>\n      <td>0.0</td>\n      <td>0.000000</td>\n      <td>0.0</td>\n      <td>0.0</td>\n      <td>0.000000</td>\n      <td>0.595778</td>\n      <td>0.0</td>\n      <td>0.000000</td>\n      <td>0.000000</td>\n      <td>0.0</td>\n    </tr>\n    <tr>\n      <th>50092</th>\n      <td>0.0</td>\n      <td>0.0</td>\n      <td>0.000000</td>\n      <td>0.000000</td>\n      <td>0.000000</td>\n      <td>0.000000</td>\n      <td>0.0</td>\n      <td>0.378841</td>\n      <td>0.0</td>\n      <td>0.0</td>\n      <td>0.000000</td>\n      <td>0.0</td>\n      <td>0.0</td>\n      <td>0.000000</td>\n      <td>0.000000</td>\n      <td>0.0</td>\n      <td>0.000000</td>\n      <td>0.925462</td>\n      <td>0.0</td>\n    </tr>\n    <tr>\n      <th>50093</th>\n      <td>0.0</td>\n      <td>0.0</td>\n      <td>0.000000</td>\n      <td>0.000000</td>\n      <td>0.486407</td>\n      <td>0.000000</td>\n      <td>0.0</td>\n      <td>0.000000</td>\n      <td>0.0</td>\n      <td>0.0</td>\n      <td>0.000000</td>\n      <td>0.0</td>\n      <td>0.0</td>\n      <td>0.873732</td>\n      <td>0.000000</td>\n      <td>0.0</td>\n      <td>0.000000</td>\n      <td>0.000000</td>\n      <td>0.0</td>\n    </tr>\n    <tr>\n      <th>50094</th>\n      <td>0.0</td>\n      <td>0.0</td>\n      <td>0.707986</td>\n      <td>0.706226</td>\n      <td>0.000000</td>\n      <td>0.000000</td>\n      <td>0.0</td>\n      <td>0.000000</td>\n      <td>0.0</td>\n      <td>0.0</td>\n      <td>0.000000</td>\n      <td>0.0</td>\n      <td>0.0</td>\n      <td>0.000000</td>\n      <td>0.000000</td>\n      <td>0.0</td>\n      <td>0.000000</td>\n      <td>0.000000</td>\n      <td>0.0</td>\n    </tr>\n    <tr>\n      <th>50095</th>\n      <td>0.0</td>\n      <td>0.0</td>\n      <td>0.000000</td>\n      <td>0.000000</td>\n      <td>0.000000</td>\n      <td>0.000000</td>\n      <td>0.0</td>\n      <td>0.000000</td>\n      <td>0.0</td>\n      <td>0.0</td>\n      <td>1.000000</td>\n      <td>0.0</td>\n      <td>0.0</td>\n      <td>0.000000</td>\n      <td>0.000000</td>\n      <td>0.0</td>\n      <td>0.000000</td>\n      <td>0.000000</td>\n      <td>0.0</td>\n    </tr>\n  </tbody>\n</table>\n<p>50096 rows × 19 columns</p>\n</div>"
     },
     "execution_count": 89,
     "metadata": {},
     "output_type": "execute_result"
    }
   ],
   "source": [
    "pd.DataFrame(tfidf_matrix.toarray())"
   ],
   "metadata": {
    "collapsed": false,
    "pycharm": {
     "name": "#%%\n"
    }
   }
  },
  {
   "cell_type": "markdown",
   "source": [
    "Now let's calculate the dot product of the tfidf_martix with itself in order to get a cosine similarity matrix."
   ],
   "metadata": {
    "collapsed": false
   }
  },
  {
   "cell_type": "code",
   "execution_count": 90,
   "outputs": [],
   "source": [
    "from sklearn.metrics.pairwise import linear_kernel\n",
    "cosine_sim = linear_kernel(tfidf_matrix, tfidf_matrix)"
   ],
   "metadata": {
    "collapsed": false,
    "pycharm": {
     "name": "#%%\n"
    }
   }
  },
  {
   "cell_type": "markdown",
   "source": [
    " What do we expect the dimensions of this matrix to be?"
   ],
   "metadata": {
    "collapsed": false
   }
  },
  {
   "cell_type": "code",
   "execution_count": 91,
   "outputs": [
    {
     "data": {
      "text/plain": "array([[1.        , 0.        , 0.        , ..., 0.        , 0.        ,\n        0.        ],\n       [0.        , 1.        , 0.        , ..., 0.37728826, 0.        ,\n        0.        ],\n       [0.        , 0.        , 1.        , ..., 0.        , 0.        ,\n        1.        ],\n       ...,\n       [0.        , 0.37728826, 0.        , ..., 1.        , 0.        ,\n        0.        ],\n       [0.        , 0.        , 0.        , ..., 0.        , 1.        ,\n        0.        ],\n       [0.        , 0.        , 1.        , ..., 0.        , 0.        ,\n        1.        ]])"
     },
     "execution_count": 91,
     "metadata": {},
     "output_type": "execute_result"
    }
   ],
   "source": [
    "cosine_sim"
   ],
   "metadata": {
    "collapsed": false,
    "pycharm": {
     "name": "#%%\n"
    }
   }
  },
  {
   "cell_type": "markdown",
   "source": [
    "Notice that this matrix also has 1's along the diagonals. Why is that?"
   ],
   "metadata": {
    "collapsed": false
   }
  },
  {
   "cell_type": "code",
   "execution_count": 92,
   "outputs": [
    {
     "data": {
      "text/plain": "(50096, 50096)"
     },
     "execution_count": 92,
     "metadata": {},
     "output_type": "execute_result"
    }
   ],
   "source": [
    "cosine_sim.shape"
   ],
   "metadata": {
    "collapsed": false,
    "pycharm": {
     "name": "#%%\n"
    }
   }
  },
  {
   "cell_type": "markdown",
   "source": [
    "The next part you can Test Drive because now we'll add logic to grab the top 20 movie titles by index\n",
    "\n",
    "We can build this in a separate module and import it here to see some results"
   ],
   "metadata": {
    "collapsed": false
   }
  },
  {
   "cell_type": "code",
   "execution_count": 93,
   "outputs": [
    {
     "data": {
      "text/plain": "['Antz (1998)', 'Asterix and the Vikings (Astérix et les Vikings) (2006)']"
     },
     "execution_count": 93,
     "metadata": {},
     "output_type": "execute_result"
    }
   ],
   "source": [
    "from analysis.utils.recommendation import get_similar_movies\n",
    "\n",
    "similar_movies = get_similar_movies('Toy Story (1995)', cosine_sim, movies_with_ratings_combined_df)\n",
    "similar_movies"
   ],
   "metadata": {
    "collapsed": false,
    "pycharm": {
     "name": "#%%\n"
    }
   }
  },
  {
   "cell_type": "markdown",
   "source": [
    "THAT'S IT! :)"
   ],
   "metadata": {
    "collapsed": false,
    "pycharm": {
     "name": "#%% md\n"
    }
   }
  }
 ],
 "metadata": {
  "kernelspec": {
   "display_name": "Python 3",
   "language": "python",
   "name": "python3"
  },
  "language_info": {
   "codemirror_mode": {
    "name": "ipython",
    "version": 2
   },
   "file_extension": ".py",
   "mimetype": "text/x-python",
   "name": "python",
   "nbconvert_exporter": "python",
   "pygments_lexer": "ipython2",
   "version": "2.7.6"
  }
 },
 "nbformat": 4,
 "nbformat_minor": 0
}
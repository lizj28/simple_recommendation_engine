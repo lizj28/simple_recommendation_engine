{
 "nbformat": 4,
 "nbformat_minor": 0,
 "metadata": {
  "colab": {
   "provenance": [],
   "mount_file_id": "1uA-LVfGAAyX_jLAWoDyOjgYuZxEoaxm9",
   "authorship_tag": "ABX9TyOq9IlNvQolypLBueiAUFuc"
  },
  "kernelspec": {
   "name": "python3",
   "display_name": "Python 3"
  },
  "language_info": {
   "name": "python"
  }
 },
 "cells": [
  {
   "cell_type": "code",
   "execution_count": 81,
   "metadata": {
    "id": "GENKa5u8rzr4",
    "executionInfo": {
     "status": "ok",
     "timestamp": 1663898652329,
     "user_tz": 300,
     "elapsed": 356,
     "user": {
      "displayName": "Liz Johnson",
      "userId": "08118905151181161429"
     }
    }
   },
   "outputs": [],
   "source": [
    "import random\n",
    "\n",
    "import pandas as pd\n",
    "import datetime as datetime"
   ]
  },
  {
   "cell_type": "code",
   "source": [
    "movies_df = pd.read_csv('../input/movies.csv', dtype=str)\n",
    "movies_df"
   ],
   "metadata": {
    "colab": {
     "base_uri": "https://localhost:8080/",
     "height": 424
    },
    "id": "y1hRKzrLu8tH",
    "executionInfo": {
     "status": "ok",
     "timestamp": 1663898652696,
     "user_tz": 300,
     "elapsed": 183,
     "user": {
      "displayName": "Liz Johnson",
      "userId": "08118905151181161429"
     }
    },
    "outputId": "a26caf01-34c3-4462-a4bc-0b71f4863cf9"
   },
   "execution_count": 111,
   "outputs": [
    {
     "data": {
      "text/plain": "      movieId                                    title  \\\n0           1                         Toy Story (1995)   \n1           2                           Jumanji (1995)   \n2           3                  Grumpier Old Men (1995)   \n3           4                 Waiting to Exhale (1995)   \n4           5       Father of the Bride Part II (1995)   \n...       ...                                      ...   \n58093  193876                  The Great Glinka (1946)   \n58094  193878  Les tribulations d'une caissière (2011)   \n58095  193880                 Her Name Was Mumu (2016)   \n58096  193882                             Flora (2017)   \n58097  193886                              Leal (2018)   \n\n                                            genres  \n0      Adventure|Animation|Children|Comedy|Fantasy  \n1                       Adventure|Children|Fantasy  \n2                                   Comedy|Romance  \n3                             Comedy|Drama|Romance  \n4                                           Comedy  \n...                                            ...  \n58093                           (no genres listed)  \n58094                                       Comedy  \n58095                                        Drama  \n58096                Adventure|Drama|Horror|Sci-Fi  \n58097                           Action|Crime|Drama  \n\n[58098 rows x 3 columns]",
      "text/html": "<div>\n<style scoped>\n    .dataframe tbody tr th:only-of-type {\n        vertical-align: middle;\n    }\n\n    .dataframe tbody tr th {\n        vertical-align: top;\n    }\n\n    .dataframe thead th {\n        text-align: right;\n    }\n</style>\n<table border=\"1\" class=\"dataframe\">\n  <thead>\n    <tr style=\"text-align: right;\">\n      <th></th>\n      <th>movieId</th>\n      <th>title</th>\n      <th>genres</th>\n    </tr>\n  </thead>\n  <tbody>\n    <tr>\n      <th>0</th>\n      <td>1</td>\n      <td>Toy Story (1995)</td>\n      <td>Adventure|Animation|Children|Comedy|Fantasy</td>\n    </tr>\n    <tr>\n      <th>1</th>\n      <td>2</td>\n      <td>Jumanji (1995)</td>\n      <td>Adventure|Children|Fantasy</td>\n    </tr>\n    <tr>\n      <th>2</th>\n      <td>3</td>\n      <td>Grumpier Old Men (1995)</td>\n      <td>Comedy|Romance</td>\n    </tr>\n    <tr>\n      <th>3</th>\n      <td>4</td>\n      <td>Waiting to Exhale (1995)</td>\n      <td>Comedy|Drama|Romance</td>\n    </tr>\n    <tr>\n      <th>4</th>\n      <td>5</td>\n      <td>Father of the Bride Part II (1995)</td>\n      <td>Comedy</td>\n    </tr>\n    <tr>\n      <th>...</th>\n      <td>...</td>\n      <td>...</td>\n      <td>...</td>\n    </tr>\n    <tr>\n      <th>58093</th>\n      <td>193876</td>\n      <td>The Great Glinka (1946)</td>\n      <td>(no genres listed)</td>\n    </tr>\n    <tr>\n      <th>58094</th>\n      <td>193878</td>\n      <td>Les tribulations d'une caissière (2011)</td>\n      <td>Comedy</td>\n    </tr>\n    <tr>\n      <th>58095</th>\n      <td>193880</td>\n      <td>Her Name Was Mumu (2016)</td>\n      <td>Drama</td>\n    </tr>\n    <tr>\n      <th>58096</th>\n      <td>193882</td>\n      <td>Flora (2017)</td>\n      <td>Adventure|Drama|Horror|Sci-Fi</td>\n    </tr>\n    <tr>\n      <th>58097</th>\n      <td>193886</td>\n      <td>Leal (2018)</td>\n      <td>Action|Crime|Drama</td>\n    </tr>\n  </tbody>\n</table>\n<p>58098 rows × 3 columns</p>\n</div>"
     },
     "execution_count": 111,
     "metadata": {},
     "output_type": "execute_result"
    }
   ]
  },
  {
   "cell_type": "code",
   "execution_count": 112,
   "outputs": [],
   "source": [
    "def add_spaces(genres):\n",
    "  movie_list = f\" {genres} \"\n",
    "  return movie_list\n",
    "\n",
    "def randomly_case(genres):\n",
    "  genres_list = genres.split('|')\n",
    "  idx = 1\n",
    "  all_genres_modified = []\n",
    "  for genre in genres_list:\n",
    "    if idx % 3 == 0:\n",
    "      genre = genre.upper()\n",
    "      all_genres_modified.append(genre)\n",
    "    elif idx % 2 == 0:\n",
    "      genre = genre.lower()\n",
    "      all_genres_modified.append(genre)\n",
    "    else:\n",
    "      all_genres_modified.append(genre)\n",
    "    idx = idx + 1\n",
    "  return '|'.join(all_genres_modified)"
   ],
   "metadata": {
    "collapsed": false,
    "pycharm": {
     "name": "#%%\n"
    }
   }
  },
  {
   "cell_type": "code",
   "execution_count": 113,
   "outputs": [],
   "source": [
    "movies_df_with_bad_genres = movies_df\n",
    "movies_df_with_bad_genres['genres'] = movies_df_with_bad_genres['genres'].apply(lambda x: randomly_case(x))\n",
    "movies_df_with_bad_genres['genres'] = movies_df_with_bad_genres['genres'].apply(lambda x: add_spaces(x))"
   ],
   "metadata": {
    "collapsed": false,
    "pycharm": {
     "name": "#%%\n"
    }
   }
  },
  {
   "cell_type": "code",
   "execution_count": 114,
   "outputs": [
    {
     "data": {
      "text/plain": "      movieId                                    title  \\\n0           1                         Toy Story (1995)   \n1           2                           Jumanji (1995)   \n2           3                  Grumpier Old Men (1995)   \n3           4                 Waiting to Exhale (1995)   \n4           5       Father of the Bride Part II (1995)   \n...       ...                                      ...   \n58093  193876                  The Great Glinka (1946)   \n58094  193878  Les tribulations d'une caissière (2011)   \n58095  193880                 Her Name Was Mumu (2016)   \n58096  193882                             Flora (2017)   \n58097  193886                              Leal (2018)   \n\n                                              genres  \n0       Adventure|animation|CHILDREN|comedy|Fantasy   \n1                        Adventure|children|FANTASY   \n2                                    Comedy|romance   \n3                              Comedy|drama|ROMANCE   \n4                                            Comedy   \n...                                              ...  \n58093                            (no genres listed)   \n58094                                        Comedy   \n58095                                         Drama   \n58096                 Adventure|drama|HORROR|sci-fi   \n58097                            Action|crime|DRAMA   \n\n[58098 rows x 3 columns]",
      "text/html": "<div>\n<style scoped>\n    .dataframe tbody tr th:only-of-type {\n        vertical-align: middle;\n    }\n\n    .dataframe tbody tr th {\n        vertical-align: top;\n    }\n\n    .dataframe thead th {\n        text-align: right;\n    }\n</style>\n<table border=\"1\" class=\"dataframe\">\n  <thead>\n    <tr style=\"text-align: right;\">\n      <th></th>\n      <th>movieId</th>\n      <th>title</th>\n      <th>genres</th>\n    </tr>\n  </thead>\n  <tbody>\n    <tr>\n      <th>0</th>\n      <td>1</td>\n      <td>Toy Story (1995)</td>\n      <td>Adventure|animation|CHILDREN|comedy|Fantasy</td>\n    </tr>\n    <tr>\n      <th>1</th>\n      <td>2</td>\n      <td>Jumanji (1995)</td>\n      <td>Adventure|children|FANTASY</td>\n    </tr>\n    <tr>\n      <th>2</th>\n      <td>3</td>\n      <td>Grumpier Old Men (1995)</td>\n      <td>Comedy|romance</td>\n    </tr>\n    <tr>\n      <th>3</th>\n      <td>4</td>\n      <td>Waiting to Exhale (1995)</td>\n      <td>Comedy|drama|ROMANCE</td>\n    </tr>\n    <tr>\n      <th>4</th>\n      <td>5</td>\n      <td>Father of the Bride Part II (1995)</td>\n      <td>Comedy</td>\n    </tr>\n    <tr>\n      <th>...</th>\n      <td>...</td>\n      <td>...</td>\n      <td>...</td>\n    </tr>\n    <tr>\n      <th>58093</th>\n      <td>193876</td>\n      <td>The Great Glinka (1946)</td>\n      <td>(no genres listed)</td>\n    </tr>\n    <tr>\n      <th>58094</th>\n      <td>193878</td>\n      <td>Les tribulations d'une caissière (2011)</td>\n      <td>Comedy</td>\n    </tr>\n    <tr>\n      <th>58095</th>\n      <td>193880</td>\n      <td>Her Name Was Mumu (2016)</td>\n      <td>Drama</td>\n    </tr>\n    <tr>\n      <th>58096</th>\n      <td>193882</td>\n      <td>Flora (2017)</td>\n      <td>Adventure|drama|HORROR|sci-fi</td>\n    </tr>\n    <tr>\n      <th>58097</th>\n      <td>193886</td>\n      <td>Leal (2018)</td>\n      <td>Action|crime|DRAMA</td>\n    </tr>\n  </tbody>\n</table>\n<p>58098 rows × 3 columns</p>\n</div>"
     },
     "execution_count": 114,
     "metadata": {},
     "output_type": "execute_result"
    }
   ],
   "source": [
    "movies_df_with_bad_genres"
   ],
   "metadata": {
    "collapsed": false,
    "pycharm": {
     "name": "#%%\n"
    }
   }
  },
  {
   "cell_type": "code",
   "execution_count": 115,
   "outputs": [],
   "source": [
    "movies_df_with_bad_genres.to_csv('../input/all_movies.csv',index=False)"
   ],
   "metadata": {
    "collapsed": false,
    "pycharm": {
     "name": "#%%\n"
    }
   }
  },
  {
   "cell_type": "code",
   "execution_count": null,
   "outputs": [],
   "source": [],
   "metadata": {
    "collapsed": false,
    "pycharm": {
     "name": "#%%\n"
    }
   }
  },
  {
   "cell_type": "code",
   "execution_count": 58,
   "outputs": [],
   "source": [
    "movies_df['movie_list'] = movies_df['genres'].apply(lambda x: x.split('|'))"
   ],
   "metadata": {
    "collapsed": false,
    "pycharm": {
     "name": "#%%\n"
    }
   }
  },
  {
   "cell_type": "code",
   "execution_count": 59,
   "outputs": [],
   "source": [
    "def add_spaces_to_singles(movie_list):\n",
    "  if len(movie_list) == 1:\n",
    "    movie_list = [f\" {movie_list[0]} \"]\n",
    "  return movie_list"
   ],
   "metadata": {
    "collapsed": false,
    "pycharm": {
     "name": "#%%\n"
    }
   }
  },
  {
   "cell_type": "code",
   "execution_count": 70,
   "outputs": [],
   "source": [
    "movies_df_with_bad_genres = movies_df\n",
    "movies_df_with_bad_genres['movie_list'] = movies_df_with_bad_genres['movie_list'].apply(lambda x: add_spaces_to_singles(x))"
   ],
   "metadata": {
    "collapsed": false,
    "pycharm": {
     "name": "#%%\n"
    }
   }
  },
  {
   "cell_type": "code",
   "execution_count": null,
   "outputs": [],
   "source": [
    "def rejoin(list):\n",
    "  new_genres =\n",
    "  return"
   ],
   "metadata": {
    "collapsed": false,
    "pycharm": {
     "name": "#%%\n"
    }
   }
  },
  {
   "cell_type": "code",
   "execution_count": 72,
   "outputs": [
    {
     "ename": "AttributeError",
     "evalue": "'list' object has no attribute 'join'",
     "output_type": "error",
     "traceback": [
      "\u001B[0;31m---------------------------------------------------------------------------\u001B[0m",
      "\u001B[0;31mAttributeError\u001B[0m                            Traceback (most recent call last)",
      "\u001B[0;32m/var/folders/p5/b_txxkwd5bl901mk43z_hmkw0000gn/T/ipykernel_72240/2361385642.py\u001B[0m in \u001B[0;36m<cell line: 1>\u001B[0;34m()\u001B[0m\n\u001B[0;32m----> 1\u001B[0;31m \u001B[0mmovies_df_with_bad_genres\u001B[0m\u001B[0;34m[\u001B[0m\u001B[0;34m'movie_list'\u001B[0m\u001B[0;34m]\u001B[0m \u001B[0;34m=\u001B[0m \u001B[0mmovies_df_with_bad_genres\u001B[0m\u001B[0;34m[\u001B[0m\u001B[0;34m'movie_list'\u001B[0m\u001B[0;34m]\u001B[0m\u001B[0;34m.\u001B[0m\u001B[0mapply\u001B[0m\u001B[0;34m(\u001B[0m\u001B[0;32mlambda\u001B[0m \u001B[0mx\u001B[0m\u001B[0;34m:\u001B[0m \u001B[0mx\u001B[0m\u001B[0;34m.\u001B[0m\u001B[0mjoin\u001B[0m\u001B[0;34m(\u001B[0m\u001B[0;34m'|'\u001B[0m\u001B[0;34m)\u001B[0m\u001B[0;34m)\u001B[0m\u001B[0;34m\u001B[0m\u001B[0;34m\u001B[0m\u001B[0m\n\u001B[0m",
      "\u001B[0;32m/Library/Frameworks/Python.framework/Versions/3.10/lib/python3.10/site-packages/pandas/core/series.py\u001B[0m in \u001B[0;36mapply\u001B[0;34m(self, func, convert_dtype, args, **kwargs)\u001B[0m\n\u001B[1;32m   4355\u001B[0m         \u001B[0mdtype\u001B[0m\u001B[0;34m:\u001B[0m \u001B[0mfloat64\u001B[0m\u001B[0;34m\u001B[0m\u001B[0;34m\u001B[0m\u001B[0m\n\u001B[1;32m   4356\u001B[0m         \"\"\"\n\u001B[0;32m-> 4357\u001B[0;31m         \u001B[0;32mreturn\u001B[0m \u001B[0mSeriesApply\u001B[0m\u001B[0;34m(\u001B[0m\u001B[0mself\u001B[0m\u001B[0;34m,\u001B[0m \u001B[0mfunc\u001B[0m\u001B[0;34m,\u001B[0m \u001B[0mconvert_dtype\u001B[0m\u001B[0;34m,\u001B[0m \u001B[0margs\u001B[0m\u001B[0;34m,\u001B[0m \u001B[0mkwargs\u001B[0m\u001B[0;34m)\u001B[0m\u001B[0;34m.\u001B[0m\u001B[0mapply\u001B[0m\u001B[0;34m(\u001B[0m\u001B[0;34m)\u001B[0m\u001B[0;34m\u001B[0m\u001B[0;34m\u001B[0m\u001B[0m\n\u001B[0m\u001B[1;32m   4358\u001B[0m \u001B[0;34m\u001B[0m\u001B[0m\n\u001B[1;32m   4359\u001B[0m     def _reduce(\n",
      "\u001B[0;32m/Library/Frameworks/Python.framework/Versions/3.10/lib/python3.10/site-packages/pandas/core/apply.py\u001B[0m in \u001B[0;36mapply\u001B[0;34m(self)\u001B[0m\n\u001B[1;32m   1041\u001B[0m             \u001B[0;32mreturn\u001B[0m \u001B[0mself\u001B[0m\u001B[0;34m.\u001B[0m\u001B[0mapply_str\u001B[0m\u001B[0;34m(\u001B[0m\u001B[0;34m)\u001B[0m\u001B[0;34m\u001B[0m\u001B[0;34m\u001B[0m\u001B[0m\n\u001B[1;32m   1042\u001B[0m \u001B[0;34m\u001B[0m\u001B[0m\n\u001B[0;32m-> 1043\u001B[0;31m         \u001B[0;32mreturn\u001B[0m \u001B[0mself\u001B[0m\u001B[0;34m.\u001B[0m\u001B[0mapply_standard\u001B[0m\u001B[0;34m(\u001B[0m\u001B[0;34m)\u001B[0m\u001B[0;34m\u001B[0m\u001B[0;34m\u001B[0m\u001B[0m\n\u001B[0m\u001B[1;32m   1044\u001B[0m \u001B[0;34m\u001B[0m\u001B[0m\n\u001B[1;32m   1045\u001B[0m     \u001B[0;32mdef\u001B[0m \u001B[0magg\u001B[0m\u001B[0;34m(\u001B[0m\u001B[0mself\u001B[0m\u001B[0;34m)\u001B[0m\u001B[0;34m:\u001B[0m\u001B[0;34m\u001B[0m\u001B[0;34m\u001B[0m\u001B[0m\n",
      "\u001B[0;32m/Library/Frameworks/Python.framework/Versions/3.10/lib/python3.10/site-packages/pandas/core/apply.py\u001B[0m in \u001B[0;36mapply_standard\u001B[0;34m(self)\u001B[0m\n\u001B[1;32m   1096\u001B[0m                 \u001B[0;31m# List[Union[Callable[..., Any], str]]]]]\"; expected\u001B[0m\u001B[0;34m\u001B[0m\u001B[0;34m\u001B[0m\u001B[0m\n\u001B[1;32m   1097\u001B[0m                 \u001B[0;31m# \"Callable[[Any], Any]\"\u001B[0m\u001B[0;34m\u001B[0m\u001B[0;34m\u001B[0m\u001B[0m\n\u001B[0;32m-> 1098\u001B[0;31m                 mapped = lib.map_infer(\n\u001B[0m\u001B[1;32m   1099\u001B[0m                     \u001B[0mvalues\u001B[0m\u001B[0;34m,\u001B[0m\u001B[0;34m\u001B[0m\u001B[0;34m\u001B[0m\u001B[0m\n\u001B[1;32m   1100\u001B[0m                     \u001B[0mf\u001B[0m\u001B[0;34m,\u001B[0m  \u001B[0;31m# type: ignore[arg-type]\u001B[0m\u001B[0;34m\u001B[0m\u001B[0;34m\u001B[0m\u001B[0m\n",
      "\u001B[0;32m/Library/Frameworks/Python.framework/Versions/3.10/lib/python3.10/site-packages/pandas/_libs/lib.pyx\u001B[0m in \u001B[0;36mpandas._libs.lib.map_infer\u001B[0;34m()\u001B[0m\n",
      "\u001B[0;32m/var/folders/p5/b_txxkwd5bl901mk43z_hmkw0000gn/T/ipykernel_72240/2361385642.py\u001B[0m in \u001B[0;36m<lambda>\u001B[0;34m(x)\u001B[0m\n\u001B[0;32m----> 1\u001B[0;31m \u001B[0mmovies_df_with_bad_genres\u001B[0m\u001B[0;34m[\u001B[0m\u001B[0;34m'movie_list'\u001B[0m\u001B[0;34m]\u001B[0m \u001B[0;34m=\u001B[0m \u001B[0mmovies_df_with_bad_genres\u001B[0m\u001B[0;34m[\u001B[0m\u001B[0;34m'movie_list'\u001B[0m\u001B[0;34m]\u001B[0m\u001B[0;34m.\u001B[0m\u001B[0mapply\u001B[0m\u001B[0;34m(\u001B[0m\u001B[0;32mlambda\u001B[0m \u001B[0mx\u001B[0m\u001B[0;34m:\u001B[0m \u001B[0mx\u001B[0m\u001B[0;34m.\u001B[0m\u001B[0mjoin\u001B[0m\u001B[0;34m(\u001B[0m\u001B[0;34m'|'\u001B[0m\u001B[0;34m)\u001B[0m\u001B[0;34m)\u001B[0m\u001B[0;34m\u001B[0m\u001B[0;34m\u001B[0m\u001B[0m\n\u001B[0m",
      "\u001B[0;31mAttributeError\u001B[0m: 'list' object has no attribute 'join'"
     ]
    }
   ],
   "source": [
    "movies_df_with_bad_genres['movie_list'] = movies_df_with_bad_genres['movie_list'].apply(lambda x: y.join('|') for y in x)"
   ],
   "metadata": {
    "collapsed": false,
    "pycharm": {
     "name": "#%%\n"
    }
   }
  },
  {
   "cell_type": "code",
   "execution_count": null,
   "outputs": [],
   "source": [],
   "metadata": {
    "collapsed": false,
    "pycharm": {
     "name": "#%%\n"
    }
   }
  },
  {
   "cell_type": "code",
   "execution_count": 71,
   "outputs": [],
   "source": [
    "movies_df_with_bad_genres.to_csv('../input/all_movies.csv')"
   ],
   "metadata": {
    "collapsed": false,
    "pycharm": {
     "name": "#%%\n"
    }
   }
  },
  {
   "cell_type": "code",
   "execution_count": 63,
   "outputs": [],
   "source": [
    "movies_df_with_bad_genres = movies_df_with_bad_genres.explode('movie_list')"
   ],
   "metadata": {
    "collapsed": false,
    "pycharm": {
     "name": "#%%\n"
    }
   }
  },
  {
   "cell_type": "code",
   "execution_count": 53,
   "outputs": [],
   "source": [
    "movies_df_with_bad_genres['movie_list'] = movies_df_with_bad_genres['movie_list'].apply(lambda x: str(x))"
   ],
   "metadata": {
    "collapsed": false,
    "pycharm": {
     "name": "#%%\n"
    }
   }
  },
  {
   "cell_type": "code",
   "execution_count": 65,
   "outputs": [
    {
     "data": {
      "text/plain": "              movie_list                                              title\n0    (no genres listed)   [Away with Words (San tiao ren) (1999), Scorpi...\n1                Action   [Sudden Death (1995), Fair Game (1995), Under ...\n2             Adventure   [Mark of Zorro, The (1940), Macao (1952), Prin...\n3             Animation   [Cloudland (1998), Fritz the Cat (1972), Nine ...\n4              Children   [Baby-Sitters Club, The (1995), Zeus and Roxan...\n5                Comedy   [Father of the Bride Part II (1995), Four Room...\n6                 Crime   [Coup de torchon (Clean Slate) (1981), Switchb...\n7           Documentary   [Nico Icon (1995), Heidi Fleiss: Hollywood Mad...\n8                 Drama   [Nixon (1995), Othello (1995), Dangerous Minds...\n9               Fantasy   [Hungarian Fairy Tale, A (Hol volt, hol nem vo...\n10            Film-Noir   [Force of Evil (1948), Raw Deal (1948), T-Men ...\n11               Horror   [Lord of Illusions (1995), Castle Freak (1995)...\n12                 IMAX           [Encounter in the Third Dimension (1999)]\n13              Musical   [Meet Me in St. Louis (1944), Gigi (1958), Ins...\n14              Mystery   [Moonlight Murder (1936), Five Angles on Murde...\n15              Romance   [Modern Affair, A (1995), Jack and Sarah (1995...\n16               Sci-Fi   [2010: The Year We Make Contact (1984), Meteor...\n17             Thriller   [Jade (1995), Safe (1995), Tie That Binds, The...\n18                  War   [Pharaoh's Army (1995), Prisoner of the Mounta...\n19              Western   [Wild Bill (1995), Wyatt Earp (1994), Bad Girl...\n20                Action  [Heat (1995), GoldenEye (1995), Cutthroat Isla...\n21             Adventure  [Toy Story (1995), Jumanji (1995), Tom and Huc...\n22             Animation  [Toy Story (1995), Balto (1995), Pocahontas (1...\n23              Children  [Toy Story (1995), Jumanji (1995), Tom and Huc...\n24                Comedy  [Toy Story (1995), Grumpier Old Men (1995), Wa...\n25                 Crime  [Heat (1995), Casino (1995), Money Train (1995...\n26           Documentary  [Across the Sea of Time (1995), Martin Lawrenc...\n27                 Drama  [Waiting to Exhale (1995), American President,...\n28               Fantasy  [Toy Story (1995), Jumanji (1995), City of Los...\n29             Film-Noir  [Devil in a Blue Dress (1995), Suture (1993), ...\n30                Horror  [Dracula: Dead and Loving It (1995), Copycat (...\n31                  IMAX  [Wings of Courage (1995), Across the Sea of Ti...\n32               Musical  [Pocahontas (1995), Muppet Treasure Island (19...\n33               Mystery  [Copycat (1995), City of Lost Children, The (C...\n34               Romance  [Grumpier Old Men (1995), Waiting to Exhale (1...\n35                Sci-Fi  [Powder (1995), City of Lost Children, The (Ci...\n36              Thriller  [Heat (1995), GoldenEye (1995), Money Train (1...\n37                   War  [Richard III (1995), Misérables, Les (1995), B...\n38               Western  [Desperado (1995), Legends of the Fall (1994),...",
      "text/html": "<div>\n<style scoped>\n    .dataframe tbody tr th:only-of-type {\n        vertical-align: middle;\n    }\n\n    .dataframe tbody tr th {\n        vertical-align: top;\n    }\n\n    .dataframe thead th {\n        text-align: right;\n    }\n</style>\n<table border=\"1\" class=\"dataframe\">\n  <thead>\n    <tr style=\"text-align: right;\">\n      <th></th>\n      <th>movie_list</th>\n      <th>title</th>\n    </tr>\n  </thead>\n  <tbody>\n    <tr>\n      <th>0</th>\n      <td>(no genres listed)</td>\n      <td>[Away with Words (San tiao ren) (1999), Scorpi...</td>\n    </tr>\n    <tr>\n      <th>1</th>\n      <td>Action</td>\n      <td>[Sudden Death (1995), Fair Game (1995), Under ...</td>\n    </tr>\n    <tr>\n      <th>2</th>\n      <td>Adventure</td>\n      <td>[Mark of Zorro, The (1940), Macao (1952), Prin...</td>\n    </tr>\n    <tr>\n      <th>3</th>\n      <td>Animation</td>\n      <td>[Cloudland (1998), Fritz the Cat (1972), Nine ...</td>\n    </tr>\n    <tr>\n      <th>4</th>\n      <td>Children</td>\n      <td>[Baby-Sitters Club, The (1995), Zeus and Roxan...</td>\n    </tr>\n    <tr>\n      <th>5</th>\n      <td>Comedy</td>\n      <td>[Father of the Bride Part II (1995), Four Room...</td>\n    </tr>\n    <tr>\n      <th>6</th>\n      <td>Crime</td>\n      <td>[Coup de torchon (Clean Slate) (1981), Switchb...</td>\n    </tr>\n    <tr>\n      <th>7</th>\n      <td>Documentary</td>\n      <td>[Nico Icon (1995), Heidi Fleiss: Hollywood Mad...</td>\n    </tr>\n    <tr>\n      <th>8</th>\n      <td>Drama</td>\n      <td>[Nixon (1995), Othello (1995), Dangerous Minds...</td>\n    </tr>\n    <tr>\n      <th>9</th>\n      <td>Fantasy</td>\n      <td>[Hungarian Fairy Tale, A (Hol volt, hol nem vo...</td>\n    </tr>\n    <tr>\n      <th>10</th>\n      <td>Film-Noir</td>\n      <td>[Force of Evil (1948), Raw Deal (1948), T-Men ...</td>\n    </tr>\n    <tr>\n      <th>11</th>\n      <td>Horror</td>\n      <td>[Lord of Illusions (1995), Castle Freak (1995)...</td>\n    </tr>\n    <tr>\n      <th>12</th>\n      <td>IMAX</td>\n      <td>[Encounter in the Third Dimension (1999)]</td>\n    </tr>\n    <tr>\n      <th>13</th>\n      <td>Musical</td>\n      <td>[Meet Me in St. Louis (1944), Gigi (1958), Ins...</td>\n    </tr>\n    <tr>\n      <th>14</th>\n      <td>Mystery</td>\n      <td>[Moonlight Murder (1936), Five Angles on Murde...</td>\n    </tr>\n    <tr>\n      <th>15</th>\n      <td>Romance</td>\n      <td>[Modern Affair, A (1995), Jack and Sarah (1995...</td>\n    </tr>\n    <tr>\n      <th>16</th>\n      <td>Sci-Fi</td>\n      <td>[2010: The Year We Make Contact (1984), Meteor...</td>\n    </tr>\n    <tr>\n      <th>17</th>\n      <td>Thriller</td>\n      <td>[Jade (1995), Safe (1995), Tie That Binds, The...</td>\n    </tr>\n    <tr>\n      <th>18</th>\n      <td>War</td>\n      <td>[Pharaoh's Army (1995), Prisoner of the Mounta...</td>\n    </tr>\n    <tr>\n      <th>19</th>\n      <td>Western</td>\n      <td>[Wild Bill (1995), Wyatt Earp (1994), Bad Girl...</td>\n    </tr>\n    <tr>\n      <th>20</th>\n      <td>Action</td>\n      <td>[Heat (1995), GoldenEye (1995), Cutthroat Isla...</td>\n    </tr>\n    <tr>\n      <th>21</th>\n      <td>Adventure</td>\n      <td>[Toy Story (1995), Jumanji (1995), Tom and Huc...</td>\n    </tr>\n    <tr>\n      <th>22</th>\n      <td>Animation</td>\n      <td>[Toy Story (1995), Balto (1995), Pocahontas (1...</td>\n    </tr>\n    <tr>\n      <th>23</th>\n      <td>Children</td>\n      <td>[Toy Story (1995), Jumanji (1995), Tom and Huc...</td>\n    </tr>\n    <tr>\n      <th>24</th>\n      <td>Comedy</td>\n      <td>[Toy Story (1995), Grumpier Old Men (1995), Wa...</td>\n    </tr>\n    <tr>\n      <th>25</th>\n      <td>Crime</td>\n      <td>[Heat (1995), Casino (1995), Money Train (1995...</td>\n    </tr>\n    <tr>\n      <th>26</th>\n      <td>Documentary</td>\n      <td>[Across the Sea of Time (1995), Martin Lawrenc...</td>\n    </tr>\n    <tr>\n      <th>27</th>\n      <td>Drama</td>\n      <td>[Waiting to Exhale (1995), American President,...</td>\n    </tr>\n    <tr>\n      <th>28</th>\n      <td>Fantasy</td>\n      <td>[Toy Story (1995), Jumanji (1995), City of Los...</td>\n    </tr>\n    <tr>\n      <th>29</th>\n      <td>Film-Noir</td>\n      <td>[Devil in a Blue Dress (1995), Suture (1993), ...</td>\n    </tr>\n    <tr>\n      <th>30</th>\n      <td>Horror</td>\n      <td>[Dracula: Dead and Loving It (1995), Copycat (...</td>\n    </tr>\n    <tr>\n      <th>31</th>\n      <td>IMAX</td>\n      <td>[Wings of Courage (1995), Across the Sea of Ti...</td>\n    </tr>\n    <tr>\n      <th>32</th>\n      <td>Musical</td>\n      <td>[Pocahontas (1995), Muppet Treasure Island (19...</td>\n    </tr>\n    <tr>\n      <th>33</th>\n      <td>Mystery</td>\n      <td>[Copycat (1995), City of Lost Children, The (C...</td>\n    </tr>\n    <tr>\n      <th>34</th>\n      <td>Romance</td>\n      <td>[Grumpier Old Men (1995), Waiting to Exhale (1...</td>\n    </tr>\n    <tr>\n      <th>35</th>\n      <td>Sci-Fi</td>\n      <td>[Powder (1995), City of Lost Children, The (Ci...</td>\n    </tr>\n    <tr>\n      <th>36</th>\n      <td>Thriller</td>\n      <td>[Heat (1995), GoldenEye (1995), Money Train (1...</td>\n    </tr>\n    <tr>\n      <th>37</th>\n      <td>War</td>\n      <td>[Richard III (1995), Misérables, Les (1995), B...</td>\n    </tr>\n    <tr>\n      <th>38</th>\n      <td>Western</td>\n      <td>[Desperado (1995), Legends of the Fall (1994),...</td>\n    </tr>\n  </tbody>\n</table>\n</div>"
     },
     "execution_count": 65,
     "metadata": {},
     "output_type": "execute_result"
    }
   ],
   "source": [
    "movies_df_with_bad_genres.groupby(['movie_list']).agg({'title': lambda x : x.to_list()}).reset_index()"
   ],
   "metadata": {
    "collapsed": false,
    "pycharm": {
     "name": "#%%\n"
    }
   }
  },
  {
   "cell_type": "code",
   "execution_count": 69,
   "outputs": [],
   "source": [
    "movies_df_with_bad_genres.to_csv('../input/all_movies.csv')"
   ],
   "metadata": {
    "collapsed": false,
    "pycharm": {
     "name": "#%%\n"
    }
   }
  },
  {
   "cell_type": "code",
   "execution_count": null,
   "outputs": [],
   "source": [],
   "metadata": {
    "collapsed": false,
    "pycharm": {
     "name": "#%%\n"
    }
   }
  },
  {
   "cell_type": "code",
   "source": [
    "ratings_df = pd.read_csv('../input/ratings.csv', dtype=str)"
   ],
   "metadata": {
    "id": "P_AwsNGKu9Hz",
    "executionInfo": {
     "status": "ok",
     "timestamp": 1663898800078,
     "user_tz": 300,
     "elapsed": 1888,
     "user": {
      "displayName": "Liz Johnson",
      "userId": "08118905151181161429"
     }
    }
   },
   "execution_count": 9,
   "outputs": []
  },
  {
   "cell_type": "code",
   "source": [
    "ratings_df"
   ],
   "metadata": {
    "colab": {
     "base_uri": "https://localhost:8080/",
     "height": 424
    },
    "id": "34GC9cuhu4_L",
    "executionInfo": {
     "status": "ok",
     "timestamp": 1663898800080,
     "user_tz": 300,
     "elapsed": 6,
     "user": {
      "displayName": "Liz Johnson",
      "userId": "08118905151181161429"
     }
    },
    "outputId": "aef2f63e-58d1-4b1d-e56e-b9bd3613b8af"
   },
   "execution_count": 10,
   "outputs": [
    {
     "data": {
      "text/plain": "          userId movieId rating   timestamp\n0              1     307    3.5  1256677221\n1              1     481    3.5  1256677456\n2              1    1091    1.5  1256677471\n3              1    1257    4.5  1256677460\n4              1    1449    4.5  1256677264\n...          ...     ...    ...         ...\n27753439  283228    8542    4.5  1379882795\n27753440  283228    8712    4.5  1379882751\n27753441  283228   34405    4.5  1379882889\n27753442  283228   44761    4.5  1354159524\n27753443  283228   54286    4.5  1354159718\n\n[27753444 rows x 4 columns]",
      "text/html": "<div>\n<style scoped>\n    .dataframe tbody tr th:only-of-type {\n        vertical-align: middle;\n    }\n\n    .dataframe tbody tr th {\n        vertical-align: top;\n    }\n\n    .dataframe thead th {\n        text-align: right;\n    }\n</style>\n<table border=\"1\" class=\"dataframe\">\n  <thead>\n    <tr style=\"text-align: right;\">\n      <th></th>\n      <th>userId</th>\n      <th>movieId</th>\n      <th>rating</th>\n      <th>timestamp</th>\n    </tr>\n  </thead>\n  <tbody>\n    <tr>\n      <th>0</th>\n      <td>1</td>\n      <td>307</td>\n      <td>3.5</td>\n      <td>1256677221</td>\n    </tr>\n    <tr>\n      <th>1</th>\n      <td>1</td>\n      <td>481</td>\n      <td>3.5</td>\n      <td>1256677456</td>\n    </tr>\n    <tr>\n      <th>2</th>\n      <td>1</td>\n      <td>1091</td>\n      <td>1.5</td>\n      <td>1256677471</td>\n    </tr>\n    <tr>\n      <th>3</th>\n      <td>1</td>\n      <td>1257</td>\n      <td>4.5</td>\n      <td>1256677460</td>\n    </tr>\n    <tr>\n      <th>4</th>\n      <td>1</td>\n      <td>1449</td>\n      <td>4.5</td>\n      <td>1256677264</td>\n    </tr>\n    <tr>\n      <th>...</th>\n      <td>...</td>\n      <td>...</td>\n      <td>...</td>\n      <td>...</td>\n    </tr>\n    <tr>\n      <th>27753439</th>\n      <td>283228</td>\n      <td>8542</td>\n      <td>4.5</td>\n      <td>1379882795</td>\n    </tr>\n    <tr>\n      <th>27753440</th>\n      <td>283228</td>\n      <td>8712</td>\n      <td>4.5</td>\n      <td>1379882751</td>\n    </tr>\n    <tr>\n      <th>27753441</th>\n      <td>283228</td>\n      <td>34405</td>\n      <td>4.5</td>\n      <td>1379882889</td>\n    </tr>\n    <tr>\n      <th>27753442</th>\n      <td>283228</td>\n      <td>44761</td>\n      <td>4.5</td>\n      <td>1354159524</td>\n    </tr>\n    <tr>\n      <th>27753443</th>\n      <td>283228</td>\n      <td>54286</td>\n      <td>4.5</td>\n      <td>1354159718</td>\n    </tr>\n  </tbody>\n</table>\n<p>27753444 rows × 4 columns</p>\n</div>"
     },
     "execution_count": 10,
     "metadata": {},
     "output_type": "execute_result"
    }
   ]
  },
  {
   "cell_type": "code",
   "execution_count": 29,
   "outputs": [],
   "source": [
    "ratings_df_with_dups = ratings_df"
   ],
   "metadata": {
    "collapsed": false,
    "pycharm": {
     "name": "#%%\n"
    }
   }
  },
  {
   "cell_type": "code",
   "execution_count": 30,
   "outputs": [
    {
     "name": "stdout",
     "output_type": "stream",
     "text": [
      "16706078\n",
      "17657698\n",
      "3411414\n",
      "26664853\n",
      "26918058\n",
      "8324363\n",
      "18221168\n",
      "10033094\n",
      "17769435\n",
      "26668476\n"
     ]
    }
   ],
   "source": [
    "#Randomly select 50k columns and dup them\n",
    "for i in range(0, 10):\n",
    "  random_index = random.randint(0, len(ratings_df.index))\n",
    "  print(random_index)\n",
    "  row = ratings_df.iloc[random_index]\n",
    "  ratings_df_with_dups.loc[len(ratings_df_with_dups.index)] = row\n",
    "  ratings_df_with_dups.loc[len(ratings_df_with_dups.index)] = row\n",
    "  ratings_df_with_dups.loc[len(ratings_df_with_dups.index)] = row\n",
    "  ratings_df_with_dups.loc[len(ratings_df_with_dups.index)] = row\n",
    "  ratings_df_with_dups.loc[len(ratings_df_with_dups.index)] = row\n",
    "  ratings_df_with_dups.loc[len(ratings_df_with_dups.index)] = row\n",
    "  ratings_df_with_dups.loc[len(ratings_df_with_dups.index)] = row\n",
    "  ratings_df_with_dups.loc[len(ratings_df_with_dups.index)] = row\n",
    "  ratings_df_with_dups.loc[len(ratings_df_with_dups.index)] = row\n",
    "  ratings_df_with_dups.loc[len(ratings_df_with_dups.index)] = row\n",
    "  ratings_df_with_dups.loc[len(ratings_df_with_dups.index)] = row\n",
    "  ratings_df_with_dups.loc[len(ratings_df_with_dups.index)] = row\n",
    "  ratings_df_with_dups.loc[len(ratings_df_with_dups.index)] = row\n",
    "  ratings_df_with_dups.loc[len(ratings_df_with_dups.index)] = row\n",
    "  ratings_df_with_dups.loc[len(ratings_df_with_dups.index)] = row\n",
    "  ratings_df_with_dups.loc[len(ratings_df_with_dups.index)] = row\n",
    "  ratings_df_with_dups.loc[len(ratings_df_with_dups.index)] = row"
   ],
   "metadata": {
    "collapsed": false,
    "pycharm": {
     "name": "#%%\n"
    }
   }
  },
  {
   "cell_type": "markdown",
   "source": [],
   "metadata": {
    "collapsed": false
   }
  },
  {
   "cell_type": "code",
   "execution_count": 28,
   "outputs": [
    {
     "data": {
      "text/plain": "90"
     },
     "execution_count": 28,
     "metadata": {},
     "output_type": "execute_result"
    }
   ],
   "source": [
    "len(ratings_df_with_dups.index) - len(ratings_df_with_dups.drop_duplicates().index)"
   ],
   "metadata": {
    "collapsed": false,
    "pycharm": {
     "name": "#%%\n"
    }
   }
  },
  {
   "cell_type": "code",
   "execution_count": 33,
   "outputs": [],
   "source": [
    "ratings_df_dup_counts = ratings_df_with_dups.groupby(ratings_df_with_dups.columns.tolist()).size().reset_index().\\\n",
    "    rename(columns={0:'records'})"
   ],
   "metadata": {
    "collapsed": false,
    "pycharm": {
     "name": "#%%\n"
    }
   }
  },
  {
   "cell_type": "code",
   "execution_count": 90,
   "outputs": [
    {
     "data": {
      "text/plain": "          userId movieId rating   timestamp  records\n377859    103325      60    2.0  1174701713       18\n1743754    11564    1080    4.0  1431983694        9\n2018336   117901    4638    2.0  1203477664        2\n6065586   154868     933    4.5  1193047235        9\n6530085   159011     196    3.0   942070537        2\n7784019   170892   61678    2.0  1224056131       18\n8834313   180524     532    2.0   845886682       18\n8955321   181675    2396    4.0  1225631126       18\n9447852   185965   80463    4.5  1419991277       18\n11079438   20079    1249    3.0  1388319715        2\n15644806  243040    8529    2.5  1467893653        9\n16447562  250657    1387    3.0  1097075612        9\n16521517  251347    3176    4.0  1129075821        9\n18623044  270458    3116    3.0  1085843723        9\n18822173  272272    2455    4.0   974869255       18\n18825746  272297  128099    4.0  1493398797       18\n19106507  274896    1022    4.0   860067382       18\n19497742  278355    1625    4.0  1452464966        9\n19513953  278492    1017    3.0   965357472        2\n19806863  281073     306    4.0  1147207253        2\n20758949   35053    1222    2.0   999805921       18\n21040401   37638     543    3.0  1109369900        9\n23083452   56609    4995    4.0  1530552680        2\n23371596   59314  112138    3.5  1478892740        2\n23654742   61728   60943    2.5  1244341758        2\n24660680   70940     168    4.0  1045800178        9\n26234026   85755     590    3.0   832816076       18\n26359820   86944   91658    4.0  1487964707        2\n26845978   91598      50    3.5  1092412818        9\n27145177   94340   40815    3.0  1343152481        2",
      "text/html": "<div>\n<style scoped>\n    .dataframe tbody tr th:only-of-type {\n        vertical-align: middle;\n    }\n\n    .dataframe tbody tr th {\n        vertical-align: top;\n    }\n\n    .dataframe thead th {\n        text-align: right;\n    }\n</style>\n<table border=\"1\" class=\"dataframe\">\n  <thead>\n    <tr style=\"text-align: right;\">\n      <th></th>\n      <th>userId</th>\n      <th>movieId</th>\n      <th>rating</th>\n      <th>timestamp</th>\n      <th>records</th>\n    </tr>\n  </thead>\n  <tbody>\n    <tr>\n      <th>377859</th>\n      <td>103325</td>\n      <td>60</td>\n      <td>2.0</td>\n      <td>1174701713</td>\n      <td>18</td>\n    </tr>\n    <tr>\n      <th>1743754</th>\n      <td>11564</td>\n      <td>1080</td>\n      <td>4.0</td>\n      <td>1431983694</td>\n      <td>9</td>\n    </tr>\n    <tr>\n      <th>2018336</th>\n      <td>117901</td>\n      <td>4638</td>\n      <td>2.0</td>\n      <td>1203477664</td>\n      <td>2</td>\n    </tr>\n    <tr>\n      <th>6065586</th>\n      <td>154868</td>\n      <td>933</td>\n      <td>4.5</td>\n      <td>1193047235</td>\n      <td>9</td>\n    </tr>\n    <tr>\n      <th>6530085</th>\n      <td>159011</td>\n      <td>196</td>\n      <td>3.0</td>\n      <td>942070537</td>\n      <td>2</td>\n    </tr>\n    <tr>\n      <th>7784019</th>\n      <td>170892</td>\n      <td>61678</td>\n      <td>2.0</td>\n      <td>1224056131</td>\n      <td>18</td>\n    </tr>\n    <tr>\n      <th>8834313</th>\n      <td>180524</td>\n      <td>532</td>\n      <td>2.0</td>\n      <td>845886682</td>\n      <td>18</td>\n    </tr>\n    <tr>\n      <th>8955321</th>\n      <td>181675</td>\n      <td>2396</td>\n      <td>4.0</td>\n      <td>1225631126</td>\n      <td>18</td>\n    </tr>\n    <tr>\n      <th>9447852</th>\n      <td>185965</td>\n      <td>80463</td>\n      <td>4.5</td>\n      <td>1419991277</td>\n      <td>18</td>\n    </tr>\n    <tr>\n      <th>11079438</th>\n      <td>20079</td>\n      <td>1249</td>\n      <td>3.0</td>\n      <td>1388319715</td>\n      <td>2</td>\n    </tr>\n    <tr>\n      <th>15644806</th>\n      <td>243040</td>\n      <td>8529</td>\n      <td>2.5</td>\n      <td>1467893653</td>\n      <td>9</td>\n    </tr>\n    <tr>\n      <th>16447562</th>\n      <td>250657</td>\n      <td>1387</td>\n      <td>3.0</td>\n      <td>1097075612</td>\n      <td>9</td>\n    </tr>\n    <tr>\n      <th>16521517</th>\n      <td>251347</td>\n      <td>3176</td>\n      <td>4.0</td>\n      <td>1129075821</td>\n      <td>9</td>\n    </tr>\n    <tr>\n      <th>18623044</th>\n      <td>270458</td>\n      <td>3116</td>\n      <td>3.0</td>\n      <td>1085843723</td>\n      <td>9</td>\n    </tr>\n    <tr>\n      <th>18822173</th>\n      <td>272272</td>\n      <td>2455</td>\n      <td>4.0</td>\n      <td>974869255</td>\n      <td>18</td>\n    </tr>\n    <tr>\n      <th>18825746</th>\n      <td>272297</td>\n      <td>128099</td>\n      <td>4.0</td>\n      <td>1493398797</td>\n      <td>18</td>\n    </tr>\n    <tr>\n      <th>19106507</th>\n      <td>274896</td>\n      <td>1022</td>\n      <td>4.0</td>\n      <td>860067382</td>\n      <td>18</td>\n    </tr>\n    <tr>\n      <th>19497742</th>\n      <td>278355</td>\n      <td>1625</td>\n      <td>4.0</td>\n      <td>1452464966</td>\n      <td>9</td>\n    </tr>\n    <tr>\n      <th>19513953</th>\n      <td>278492</td>\n      <td>1017</td>\n      <td>3.0</td>\n      <td>965357472</td>\n      <td>2</td>\n    </tr>\n    <tr>\n      <th>19806863</th>\n      <td>281073</td>\n      <td>306</td>\n      <td>4.0</td>\n      <td>1147207253</td>\n      <td>2</td>\n    </tr>\n    <tr>\n      <th>20758949</th>\n      <td>35053</td>\n      <td>1222</td>\n      <td>2.0</td>\n      <td>999805921</td>\n      <td>18</td>\n    </tr>\n    <tr>\n      <th>21040401</th>\n      <td>37638</td>\n      <td>543</td>\n      <td>3.0</td>\n      <td>1109369900</td>\n      <td>9</td>\n    </tr>\n    <tr>\n      <th>23083452</th>\n      <td>56609</td>\n      <td>4995</td>\n      <td>4.0</td>\n      <td>1530552680</td>\n      <td>2</td>\n    </tr>\n    <tr>\n      <th>23371596</th>\n      <td>59314</td>\n      <td>112138</td>\n      <td>3.5</td>\n      <td>1478892740</td>\n      <td>2</td>\n    </tr>\n    <tr>\n      <th>23654742</th>\n      <td>61728</td>\n      <td>60943</td>\n      <td>2.5</td>\n      <td>1244341758</td>\n      <td>2</td>\n    </tr>\n    <tr>\n      <th>24660680</th>\n      <td>70940</td>\n      <td>168</td>\n      <td>4.0</td>\n      <td>1045800178</td>\n      <td>9</td>\n    </tr>\n    <tr>\n      <th>26234026</th>\n      <td>85755</td>\n      <td>590</td>\n      <td>3.0</td>\n      <td>832816076</td>\n      <td>18</td>\n    </tr>\n    <tr>\n      <th>26359820</th>\n      <td>86944</td>\n      <td>91658</td>\n      <td>4.0</td>\n      <td>1487964707</td>\n      <td>2</td>\n    </tr>\n    <tr>\n      <th>26845978</th>\n      <td>91598</td>\n      <td>50</td>\n      <td>3.5</td>\n      <td>1092412818</td>\n      <td>9</td>\n    </tr>\n    <tr>\n      <th>27145177</th>\n      <td>94340</td>\n      <td>40815</td>\n      <td>3.0</td>\n      <td>1343152481</td>\n      <td>2</td>\n    </tr>\n  </tbody>\n</table>\n</div>"
     },
     "execution_count": 90,
     "metadata": {},
     "output_type": "execute_result"
    }
   ],
   "source": [
    "ratings_df_dup_counts.query(\"records > 1\")"
   ],
   "metadata": {
    "collapsed": false,
    "pycharm": {
     "name": "#%%\n"
    }
   }
  },
  {
   "cell_type": "code",
   "execution_count": 38,
   "outputs": [],
   "source": [
    "import numpy as np\n",
    "\n",
    "\n",
    "def get_some_sources():\n",
    "  sources = ['rotten tomatoes', 'imdb', 'google', 'movieratings.com', np.nan, np.nan, np.nan, np.nan, np.nan, np.nan, np.nan, np.nan, '', '', '']\n",
    "  return random.choice(sources)"
   ],
   "metadata": {
    "collapsed": false,
    "pycharm": {
     "name": "#%%\n"
    }
   }
  },
  {
   "cell_type": "code",
   "execution_count": null,
   "outputs": [],
   "source": [],
   "metadata": {
    "collapsed": false,
    "pycharm": {
     "name": "#%%\n"
    }
   }
  },
  {
   "cell_type": "code",
   "execution_count": null,
   "outputs": [],
   "source": [],
   "metadata": {
    "collapsed": false,
    "pycharm": {
     "name": "#%%\n"
    }
   }
  },
  {
   "cell_type": "code",
   "execution_count": 39,
   "outputs": [],
   "source": [
    "ratings_df_with_dups['source'] = ratings_df_with_dups.apply(lambda x: get_some_sources(), axis=1)"
   ],
   "metadata": {
    "collapsed": false,
    "pycharm": {
     "name": "#%%\n"
    }
   }
  },
  {
   "cell_type": "code",
   "execution_count": 67,
   "outputs": [
    {
     "data": {
      "text/plain": "          userId movieId rating   timestamp            source\n2521866    25984     356    3.5  1455132215   rotten tomatoes\n19400520  198124     780    4.0  1122251792               NaN\n19741218  201415    2478    3.5  1225245764                  \n10360292  106531    1291    4.5  1225164311               NaN\n20299776  206960     780    4.0  1325100317               NaN\n1603655    16287     203    4.0   846592538            google\n6073184    62355     736    4.0   838716985               NaN\n11110667  114058    4344    1.0  1006977976               NaN\n7476145    76997    1986    0.5  1071631087              imdb\n26015531  265685      65    2.5  1398716807   rotten tomatoes\n21899386  223658   46335    4.0  1518797699                  \n847168      8520    5507    5.0  1173397725  movieratings.com\n10315386  106125    3114    4.0  1473599322               NaN\n19086921  194730      28    4.0   848999324               NaN\n23967359  244937    2541    3.0   975224510               NaN\n2834654    29296      95    4.0   851098963               NaN\n7231574    74287    1993    1.0   964740937            google\n12849814  131553   45517    4.0  1441779672               NaN\n848832      8527   71254    2.0  1366986220               NaN\n2128863    21844    8974    5.0  1491651069                  ",
      "text/html": "<div>\n<style scoped>\n    .dataframe tbody tr th:only-of-type {\n        vertical-align: middle;\n    }\n\n    .dataframe tbody tr th {\n        vertical-align: top;\n    }\n\n    .dataframe thead th {\n        text-align: right;\n    }\n</style>\n<table border=\"1\" class=\"dataframe\">\n  <thead>\n    <tr style=\"text-align: right;\">\n      <th></th>\n      <th>userId</th>\n      <th>movieId</th>\n      <th>rating</th>\n      <th>timestamp</th>\n      <th>source</th>\n    </tr>\n  </thead>\n  <tbody>\n    <tr>\n      <th>2521866</th>\n      <td>25984</td>\n      <td>356</td>\n      <td>3.5</td>\n      <td>1455132215</td>\n      <td>rotten tomatoes</td>\n    </tr>\n    <tr>\n      <th>19400520</th>\n      <td>198124</td>\n      <td>780</td>\n      <td>4.0</td>\n      <td>1122251792</td>\n      <td>NaN</td>\n    </tr>\n    <tr>\n      <th>19741218</th>\n      <td>201415</td>\n      <td>2478</td>\n      <td>3.5</td>\n      <td>1225245764</td>\n      <td></td>\n    </tr>\n    <tr>\n      <th>10360292</th>\n      <td>106531</td>\n      <td>1291</td>\n      <td>4.5</td>\n      <td>1225164311</td>\n      <td>NaN</td>\n    </tr>\n    <tr>\n      <th>20299776</th>\n      <td>206960</td>\n      <td>780</td>\n      <td>4.0</td>\n      <td>1325100317</td>\n      <td>NaN</td>\n    </tr>\n    <tr>\n      <th>1603655</th>\n      <td>16287</td>\n      <td>203</td>\n      <td>4.0</td>\n      <td>846592538</td>\n      <td>google</td>\n    </tr>\n    <tr>\n      <th>6073184</th>\n      <td>62355</td>\n      <td>736</td>\n      <td>4.0</td>\n      <td>838716985</td>\n      <td>NaN</td>\n    </tr>\n    <tr>\n      <th>11110667</th>\n      <td>114058</td>\n      <td>4344</td>\n      <td>1.0</td>\n      <td>1006977976</td>\n      <td>NaN</td>\n    </tr>\n    <tr>\n      <th>7476145</th>\n      <td>76997</td>\n      <td>1986</td>\n      <td>0.5</td>\n      <td>1071631087</td>\n      <td>imdb</td>\n    </tr>\n    <tr>\n      <th>26015531</th>\n      <td>265685</td>\n      <td>65</td>\n      <td>2.5</td>\n      <td>1398716807</td>\n      <td>rotten tomatoes</td>\n    </tr>\n    <tr>\n      <th>21899386</th>\n      <td>223658</td>\n      <td>46335</td>\n      <td>4.0</td>\n      <td>1518797699</td>\n      <td></td>\n    </tr>\n    <tr>\n      <th>847168</th>\n      <td>8520</td>\n      <td>5507</td>\n      <td>5.0</td>\n      <td>1173397725</td>\n      <td>movieratings.com</td>\n    </tr>\n    <tr>\n      <th>10315386</th>\n      <td>106125</td>\n      <td>3114</td>\n      <td>4.0</td>\n      <td>1473599322</td>\n      <td>NaN</td>\n    </tr>\n    <tr>\n      <th>19086921</th>\n      <td>194730</td>\n      <td>28</td>\n      <td>4.0</td>\n      <td>848999324</td>\n      <td>NaN</td>\n    </tr>\n    <tr>\n      <th>23967359</th>\n      <td>244937</td>\n      <td>2541</td>\n      <td>3.0</td>\n      <td>975224510</td>\n      <td>NaN</td>\n    </tr>\n    <tr>\n      <th>2834654</th>\n      <td>29296</td>\n      <td>95</td>\n      <td>4.0</td>\n      <td>851098963</td>\n      <td>NaN</td>\n    </tr>\n    <tr>\n      <th>7231574</th>\n      <td>74287</td>\n      <td>1993</td>\n      <td>1.0</td>\n      <td>964740937</td>\n      <td>google</td>\n    </tr>\n    <tr>\n      <th>12849814</th>\n      <td>131553</td>\n      <td>45517</td>\n      <td>4.0</td>\n      <td>1441779672</td>\n      <td>NaN</td>\n    </tr>\n    <tr>\n      <th>848832</th>\n      <td>8527</td>\n      <td>71254</td>\n      <td>2.0</td>\n      <td>1366986220</td>\n      <td>NaN</td>\n    </tr>\n    <tr>\n      <th>2128863</th>\n      <td>21844</td>\n      <td>8974</td>\n      <td>5.0</td>\n      <td>1491651069</td>\n      <td></td>\n    </tr>\n  </tbody>\n</table>\n</div>"
     },
     "execution_count": 67,
     "metadata": {},
     "output_type": "execute_result"
    }
   ],
   "source": [
    "ratings_df_with_dups.sample(20)"
   ],
   "metadata": {
    "collapsed": false,
    "pycharm": {
     "name": "#%%\n"
    }
   }
  },
  {
   "cell_type": "code",
   "execution_count": 88,
   "outputs": [],
   "source": [
    "ratings_df_with_dups.to_csv('../input/all_ratings.csv', index=False)"
   ],
   "metadata": {
    "collapsed": false,
    "pycharm": {
     "name": "#%%\n"
    }
   }
  },
  {
   "cell_type": "code",
   "execution_count": null,
   "outputs": [],
   "source": [],
   "metadata": {
    "collapsed": false,
    "pycharm": {
     "name": "#%%\n"
    }
   }
  },
  {
   "cell_type": "markdown",
   "source": [
    "# Simple Column Conversion\n",
    "Two ways to do this:\n",
    "1. Independently defined function\n",
    "2. Lambda function"
   ],
   "metadata": {
    "id": "bpJLP8NsHGik"
   }
  },
  {
   "cell_type": "code",
   "source": [
    "ratings_df[ratings_df['timestamp'].isna()]\n"
   ],
   "metadata": {
    "colab": {
     "base_uri": "https://localhost:8080/",
     "height": 81
    },
    "id": "-c4j5pS1-wHU",
    "executionInfo": {
     "status": "ok",
     "timestamp": 1663898801717,
     "user_tz": 300,
     "elapsed": 180,
     "user": {
      "displayName": "Liz Johnson",
      "userId": "08118905151181161429"
     }
    },
    "outputId": "e494acfd-9315-4e14-c402-455792537b5e"
   },
   "execution_count": 17,
   "outputs": [
    {
     "output_type": "execute_result",
     "data": {
      "text/plain": [
       "         userId  movieId  rating  timestamp\n",
       "7256623   74531    44555     4.0        NaN"
      ],
      "text/html": [
       "\n",
       "  <div id=\"df-9ce3280c-7c41-4b0a-bfbb-2e44a054cf2d\">\n",
       "    <div class=\"colab-df-container\">\n",
       "      <div>\n",
       "<style scoped>\n",
       "    .dataframe tbody tr th:only-of-type {\n",
       "        vertical-align: middle;\n",
       "    }\n",
       "\n",
       "    .dataframe tbody tr th {\n",
       "        vertical-align: top;\n",
       "    }\n",
       "\n",
       "    .dataframe thead th {\n",
       "        text-align: right;\n",
       "    }\n",
       "</style>\n",
       "<table border=\"1\" class=\"dataframe\">\n",
       "  <thead>\n",
       "    <tr style=\"text-align: right;\">\n",
       "      <th></th>\n",
       "      <th>userId</th>\n",
       "      <th>movieId</th>\n",
       "      <th>rating</th>\n",
       "      <th>timestamp</th>\n",
       "    </tr>\n",
       "  </thead>\n",
       "  <tbody>\n",
       "    <tr>\n",
       "      <th>7256623</th>\n",
       "      <td>74531</td>\n",
       "      <td>44555</td>\n",
       "      <td>4.0</td>\n",
       "      <td>NaN</td>\n",
       "    </tr>\n",
       "  </tbody>\n",
       "</table>\n",
       "</div>\n",
       "      <button class=\"colab-df-convert\" onclick=\"convertToInteractive('df-9ce3280c-7c41-4b0a-bfbb-2e44a054cf2d')\"\n",
       "              title=\"Convert this dataframe to an interactive table.\"\n",
       "              style=\"display:none;\">\n",
       "        \n",
       "  <svg xmlns=\"http://www.w3.org/2000/svg\" height=\"24px\"viewBox=\"0 0 24 24\"\n",
       "       width=\"24px\">\n",
       "    <path d=\"M0 0h24v24H0V0z\" fill=\"none\"/>\n",
       "    <path d=\"M18.56 5.44l.94 2.06.94-2.06 2.06-.94-2.06-.94-.94-2.06-.94 2.06-2.06.94zm-11 1L8.5 8.5l.94-2.06 2.06-.94-2.06-.94L8.5 2.5l-.94 2.06-2.06.94zm10 10l.94 2.06.94-2.06 2.06-.94-2.06-.94-.94-2.06-.94 2.06-2.06.94z\"/><path d=\"M17.41 7.96l-1.37-1.37c-.4-.4-.92-.59-1.43-.59-.52 0-1.04.2-1.43.59L10.3 9.45l-7.72 7.72c-.78.78-.78 2.05 0 2.83L4 21.41c.39.39.9.59 1.41.59.51 0 1.02-.2 1.41-.59l7.78-7.78 2.81-2.81c.8-.78.8-2.07 0-2.86zM5.41 20L4 18.59l7.72-7.72 1.47 1.35L5.41 20z\"/>\n",
       "  </svg>\n",
       "      </button>\n",
       "      \n",
       "  <style>\n",
       "    .colab-df-container {\n",
       "      display:flex;\n",
       "      flex-wrap:wrap;\n",
       "      gap: 12px;\n",
       "    }\n",
       "\n",
       "    .colab-df-convert {\n",
       "      background-color: #E8F0FE;\n",
       "      border: none;\n",
       "      border-radius: 50%;\n",
       "      cursor: pointer;\n",
       "      display: none;\n",
       "      fill: #1967D2;\n",
       "      height: 32px;\n",
       "      padding: 0 0 0 0;\n",
       "      width: 32px;\n",
       "    }\n",
       "\n",
       "    .colab-df-convert:hover {\n",
       "      background-color: #E2EBFA;\n",
       "      box-shadow: 0px 1px 2px rgba(60, 64, 67, 0.3), 0px 1px 3px 1px rgba(60, 64, 67, 0.15);\n",
       "      fill: #174EA6;\n",
       "    }\n",
       "\n",
       "    [theme=dark] .colab-df-convert {\n",
       "      background-color: #3B4455;\n",
       "      fill: #D2E3FC;\n",
       "    }\n",
       "\n",
       "    [theme=dark] .colab-df-convert:hover {\n",
       "      background-color: #434B5C;\n",
       "      box-shadow: 0px 1px 3px 1px rgba(0, 0, 0, 0.15);\n",
       "      filter: drop-shadow(0px 1px 2px rgba(0, 0, 0, 0.3));\n",
       "      fill: #FFFFFF;\n",
       "    }\n",
       "  </style>\n",
       "\n",
       "      <script>\n",
       "        const buttonEl =\n",
       "          document.querySelector('#df-9ce3280c-7c41-4b0a-bfbb-2e44a054cf2d button.colab-df-convert');\n",
       "        buttonEl.style.display =\n",
       "          google.colab.kernel.accessAllowed ? 'block' : 'none';\n",
       "\n",
       "        async function convertToInteractive(key) {\n",
       "          const element = document.querySelector('#df-9ce3280c-7c41-4b0a-bfbb-2e44a054cf2d');\n",
       "          const dataTable =\n",
       "            await google.colab.kernel.invokeFunction('convertToInteractive',\n",
       "                                                     [key], {});\n",
       "          if (!dataTable) return;\n",
       "\n",
       "          const docLinkHtml = 'Like what you see? Visit the ' +\n",
       "            '<a target=\"_blank\" href=https://colab.research.google.com/notebooks/data_table.ipynb>data table notebook</a>'\n",
       "            + ' to learn more about interactive tables.';\n",
       "          element.innerHTML = '';\n",
       "          dataTable['output_type'] = 'display_data';\n",
       "          await google.colab.output.renderOutput(dataTable, element);\n",
       "          const docLink = document.createElement('div');\n",
       "          docLink.innerHTML = docLinkHtml;\n",
       "          element.appendChild(docLink);\n",
       "        }\n",
       "      </script>\n",
       "    </div>\n",
       "  </div>\n",
       "  "
      ]
     },
     "metadata": {},
     "execution_count": 17
    }
   ]
  },
  {
   "cell_type": "code",
   "source": [
    "ratings_df = ratings_df.dropna(subset=['timestamp'])"
   ],
   "metadata": {
    "id": "Dh0T6gKS-wX6",
    "executionInfo": {
     "status": "ok",
     "timestamp": 1663898803279,
     "user_tz": 300,
     "elapsed": 185,
     "user": {
      "displayName": "Liz Johnson",
      "userId": "08118905151181161429"
     }
    }
   },
   "execution_count": 18,
   "outputs": []
  },
  {
   "cell_type": "code",
   "source": [
    "def convert_from_timestamp_to_datetime(timestamp: int):\n",
    "  return datetime.datetime.utcfromtimestamp(timestamp)"
   ],
   "metadata": {
    "id": "vmqqMVclFPgt",
    "executionInfo": {
     "status": "ok",
     "timestamp": 1663898805043,
     "user_tz": 300,
     "elapsed": 169,
     "user": {
      "displayName": "Liz Johnson",
      "userId": "08118905151181161429"
     }
    }
   },
   "execution_count": 19,
   "outputs": []
  },
  {
   "cell_type": "code",
   "source": [
    "ratings_df_with_date_from_function = ratings_df\n",
    "ratings_df_with_date_from_function['date_rated'] = ratings_df_with_date_from_function['timestamp'].apply(convert_from_timestamp_to_datetime)"
   ],
   "metadata": {
    "colab": {
     "base_uri": "https://localhost:8080/"
    },
    "id": "nAMLIpjnFbgx",
    "executionInfo": {
     "status": "ok",
     "timestamp": 1663898933479,
     "user_tz": 300,
     "elapsed": 3227,
     "user": {
      "displayName": "Liz Johnson",
      "userId": "08118905151181161429"
     }
    },
    "outputId": "9151f38a-7793-4558-db57-b5a7c28d5913"
   },
   "execution_count": 24,
   "outputs": [
    {
     "output_type": "stream",
     "name": "stderr",
     "text": [
      "/usr/local/lib/python3.7/dist-packages/ipykernel_launcher.py:2: SettingWithCopyWarning: \n",
      "A value is trying to be set on a copy of a slice from a DataFrame.\n",
      "Try using .loc[row_indexer,col_indexer] = value instead\n",
      "\n",
      "See the caveats in the documentation: https://pandas.pydata.org/pandas-docs/stable/user_guide/indexing.html#returning-a-view-versus-a-copy\n",
      "  \n"
     ]
    }
   ]
  },
  {
   "cell_type": "code",
   "source": [
    "ratings_df_with_date_from_function"
   ],
   "metadata": {
    "colab": {
     "base_uri": "https://localhost:8080/",
     "height": 424
    },
    "id": "ALMyJJUpGYE1",
    "executionInfo": {
     "status": "ok",
     "timestamp": 1663898945411,
     "user_tz": 300,
     "elapsed": 201,
     "user": {
      "displayName": "Liz Johnson",
      "userId": "08118905151181161429"
     }
    },
    "outputId": "9a4f5cfd-1574-4ad4-e952-2a0554b7f562"
   },
   "execution_count": 25,
   "outputs": [
    {
     "output_type": "execute_result",
     "data": {
      "text/plain": [
       "         userId  movieId  rating     timestamp          date_rated\n",
       "0             1      307     3.5  1.256677e+09 2009-10-27 21:00:21\n",
       "1             1      481     3.5  1.256677e+09 2009-10-27 21:04:16\n",
       "2             1     1091     1.5  1.256677e+09 2009-10-27 21:04:31\n",
       "3             1     1257     4.5  1.256677e+09 2009-10-27 21:04:20\n",
       "4             1     1449     4.5  1.256677e+09 2009-10-27 21:01:04\n",
       "...         ...      ...     ...           ...                 ...\n",
       "7256618   74531    38304     5.0  1.287760e+09 2010-10-22 15:07:54\n",
       "7256619   74531    41014     4.5  1.347335e+09 2012-09-11 03:44:41\n",
       "7256620   74531    41285     2.0  1.404405e+09 2014-07-03 16:35:29\n",
       "7256621   74531    42632     4.0  1.353081e+09 2012-11-16 15:56:18\n",
       "7256622   74531    43444     5.0  1.323805e+09 2011-12-13 19:43:24\n",
       "\n",
       "[7256623 rows x 5 columns]"
      ],
      "text/html": [
       "\n",
       "  <div id=\"df-b06a8f5c-5951-43cf-8048-9760bb0607bf\">\n",
       "    <div class=\"colab-df-container\">\n",
       "      <div>\n",
       "<style scoped>\n",
       "    .dataframe tbody tr th:only-of-type {\n",
       "        vertical-align: middle;\n",
       "    }\n",
       "\n",
       "    .dataframe tbody tr th {\n",
       "        vertical-align: top;\n",
       "    }\n",
       "\n",
       "    .dataframe thead th {\n",
       "        text-align: right;\n",
       "    }\n",
       "</style>\n",
       "<table border=\"1\" class=\"dataframe\">\n",
       "  <thead>\n",
       "    <tr style=\"text-align: right;\">\n",
       "      <th></th>\n",
       "      <th>userId</th>\n",
       "      <th>movieId</th>\n",
       "      <th>rating</th>\n",
       "      <th>timestamp</th>\n",
       "      <th>date_rated</th>\n",
       "    </tr>\n",
       "  </thead>\n",
       "  <tbody>\n",
       "    <tr>\n",
       "      <th>0</th>\n",
       "      <td>1</td>\n",
       "      <td>307</td>\n",
       "      <td>3.5</td>\n",
       "      <td>1.256677e+09</td>\n",
       "      <td>2009-10-27 21:00:21</td>\n",
       "    </tr>\n",
       "    <tr>\n",
       "      <th>1</th>\n",
       "      <td>1</td>\n",
       "      <td>481</td>\n",
       "      <td>3.5</td>\n",
       "      <td>1.256677e+09</td>\n",
       "      <td>2009-10-27 21:04:16</td>\n",
       "    </tr>\n",
       "    <tr>\n",
       "      <th>2</th>\n",
       "      <td>1</td>\n",
       "      <td>1091</td>\n",
       "      <td>1.5</td>\n",
       "      <td>1.256677e+09</td>\n",
       "      <td>2009-10-27 21:04:31</td>\n",
       "    </tr>\n",
       "    <tr>\n",
       "      <th>3</th>\n",
       "      <td>1</td>\n",
       "      <td>1257</td>\n",
       "      <td>4.5</td>\n",
       "      <td>1.256677e+09</td>\n",
       "      <td>2009-10-27 21:04:20</td>\n",
       "    </tr>\n",
       "    <tr>\n",
       "      <th>4</th>\n",
       "      <td>1</td>\n",
       "      <td>1449</td>\n",
       "      <td>4.5</td>\n",
       "      <td>1.256677e+09</td>\n",
       "      <td>2009-10-27 21:01:04</td>\n",
       "    </tr>\n",
       "    <tr>\n",
       "      <th>...</th>\n",
       "      <td>...</td>\n",
       "      <td>...</td>\n",
       "      <td>...</td>\n",
       "      <td>...</td>\n",
       "      <td>...</td>\n",
       "    </tr>\n",
       "    <tr>\n",
       "      <th>7256618</th>\n",
       "      <td>74531</td>\n",
       "      <td>38304</td>\n",
       "      <td>5.0</td>\n",
       "      <td>1.287760e+09</td>\n",
       "      <td>2010-10-22 15:07:54</td>\n",
       "    </tr>\n",
       "    <tr>\n",
       "      <th>7256619</th>\n",
       "      <td>74531</td>\n",
       "      <td>41014</td>\n",
       "      <td>4.5</td>\n",
       "      <td>1.347335e+09</td>\n",
       "      <td>2012-09-11 03:44:41</td>\n",
       "    </tr>\n",
       "    <tr>\n",
       "      <th>7256620</th>\n",
       "      <td>74531</td>\n",
       "      <td>41285</td>\n",
       "      <td>2.0</td>\n",
       "      <td>1.404405e+09</td>\n",
       "      <td>2014-07-03 16:35:29</td>\n",
       "    </tr>\n",
       "    <tr>\n",
       "      <th>7256621</th>\n",
       "      <td>74531</td>\n",
       "      <td>42632</td>\n",
       "      <td>4.0</td>\n",
       "      <td>1.353081e+09</td>\n",
       "      <td>2012-11-16 15:56:18</td>\n",
       "    </tr>\n",
       "    <tr>\n",
       "      <th>7256622</th>\n",
       "      <td>74531</td>\n",
       "      <td>43444</td>\n",
       "      <td>5.0</td>\n",
       "      <td>1.323805e+09</td>\n",
       "      <td>2011-12-13 19:43:24</td>\n",
       "    </tr>\n",
       "  </tbody>\n",
       "</table>\n",
       "<p>7256623 rows × 5 columns</p>\n",
       "</div>\n",
       "      <button class=\"colab-df-convert\" onclick=\"convertToInteractive('df-b06a8f5c-5951-43cf-8048-9760bb0607bf')\"\n",
       "              title=\"Convert this dataframe to an interactive table.\"\n",
       "              style=\"display:none;\">\n",
       "        \n",
       "  <svg xmlns=\"http://www.w3.org/2000/svg\" height=\"24px\"viewBox=\"0 0 24 24\"\n",
       "       width=\"24px\">\n",
       "    <path d=\"M0 0h24v24H0V0z\" fill=\"none\"/>\n",
       "    <path d=\"M18.56 5.44l.94 2.06.94-2.06 2.06-.94-2.06-.94-.94-2.06-.94 2.06-2.06.94zm-11 1L8.5 8.5l.94-2.06 2.06-.94-2.06-.94L8.5 2.5l-.94 2.06-2.06.94zm10 10l.94 2.06.94-2.06 2.06-.94-2.06-.94-.94-2.06-.94 2.06-2.06.94z\"/><path d=\"M17.41 7.96l-1.37-1.37c-.4-.4-.92-.59-1.43-.59-.52 0-1.04.2-1.43.59L10.3 9.45l-7.72 7.72c-.78.78-.78 2.05 0 2.83L4 21.41c.39.39.9.59 1.41.59.51 0 1.02-.2 1.41-.59l7.78-7.78 2.81-2.81c.8-.78.8-2.07 0-2.86zM5.41 20L4 18.59l7.72-7.72 1.47 1.35L5.41 20z\"/>\n",
       "  </svg>\n",
       "      </button>\n",
       "      \n",
       "  <style>\n",
       "    .colab-df-container {\n",
       "      display:flex;\n",
       "      flex-wrap:wrap;\n",
       "      gap: 12px;\n",
       "    }\n",
       "\n",
       "    .colab-df-convert {\n",
       "      background-color: #E8F0FE;\n",
       "      border: none;\n",
       "      border-radius: 50%;\n",
       "      cursor: pointer;\n",
       "      display: none;\n",
       "      fill: #1967D2;\n",
       "      height: 32px;\n",
       "      padding: 0 0 0 0;\n",
       "      width: 32px;\n",
       "    }\n",
       "\n",
       "    .colab-df-convert:hover {\n",
       "      background-color: #E2EBFA;\n",
       "      box-shadow: 0px 1px 2px rgba(60, 64, 67, 0.3), 0px 1px 3px 1px rgba(60, 64, 67, 0.15);\n",
       "      fill: #174EA6;\n",
       "    }\n",
       "\n",
       "    [theme=dark] .colab-df-convert {\n",
       "      background-color: #3B4455;\n",
       "      fill: #D2E3FC;\n",
       "    }\n",
       "\n",
       "    [theme=dark] .colab-df-convert:hover {\n",
       "      background-color: #434B5C;\n",
       "      box-shadow: 0px 1px 3px 1px rgba(0, 0, 0, 0.15);\n",
       "      filter: drop-shadow(0px 1px 2px rgba(0, 0, 0, 0.3));\n",
       "      fill: #FFFFFF;\n",
       "    }\n",
       "  </style>\n",
       "\n",
       "      <script>\n",
       "        const buttonEl =\n",
       "          document.querySelector('#df-b06a8f5c-5951-43cf-8048-9760bb0607bf button.colab-df-convert');\n",
       "        buttonEl.style.display =\n",
       "          google.colab.kernel.accessAllowed ? 'block' : 'none';\n",
       "\n",
       "        async function convertToInteractive(key) {\n",
       "          const element = document.querySelector('#df-b06a8f5c-5951-43cf-8048-9760bb0607bf');\n",
       "          const dataTable =\n",
       "            await google.colab.kernel.invokeFunction('convertToInteractive',\n",
       "                                                     [key], {});\n",
       "          if (!dataTable) return;\n",
       "\n",
       "          const docLinkHtml = 'Like what you see? Visit the ' +\n",
       "            '<a target=\"_blank\" href=https://colab.research.google.com/notebooks/data_table.ipynb>data table notebook</a>'\n",
       "            + ' to learn more about interactive tables.';\n",
       "          element.innerHTML = '';\n",
       "          dataTable['output_type'] = 'display_data';\n",
       "          await google.colab.output.renderOutput(dataTable, element);\n",
       "          const docLink = document.createElement('div');\n",
       "          docLink.innerHTML = docLinkHtml;\n",
       "          element.appendChild(docLink);\n",
       "        }\n",
       "      </script>\n",
       "    </div>\n",
       "  </div>\n",
       "  "
      ]
     },
     "metadata": {},
     "execution_count": 25
    }
   ]
  },
  {
   "cell_type": "code",
   "source": [
    "ratings_df_with_date_from_lambda = ratings_df\n",
    "ratings_df_with_date_from_lambda['date_rated'] = ratings_df_with_date_from_lambda['timestamp'].apply(lambda x: datetime.datetime.utcfromtimestamp(x))"
   ],
   "metadata": {
    "colab": {
     "base_uri": "https://localhost:8080/"
    },
    "id": "RIcY9kTz99_m",
    "executionInfo": {
     "status": "ok",
     "timestamp": 1663898975650,
     "user_tz": 300,
     "elapsed": 3252,
     "user": {
      "displayName": "Liz Johnson",
      "userId": "08118905151181161429"
     }
    },
    "outputId": "46cd2d39-0019-49bd-8cb3-6b3b99d92bdb"
   },
   "execution_count": 27,
   "outputs": [
    {
     "output_type": "stream",
     "name": "stderr",
     "text": [
      "/usr/local/lib/python3.7/dist-packages/ipykernel_launcher.py:2: SettingWithCopyWarning: \n",
      "A value is trying to be set on a copy of a slice from a DataFrame.\n",
      "Try using .loc[row_indexer,col_indexer] = value instead\n",
      "\n",
      "See the caveats in the documentation: https://pandas.pydata.org/pandas-docs/stable/user_guide/indexing.html#returning-a-view-versus-a-copy\n",
      "  \n"
     ]
    }
   ]
  },
  {
   "cell_type": "code",
   "source": [
    "ratings_df_with_date_from_lambda"
   ],
   "metadata": {
    "colab": {
     "base_uri": "https://localhost:8080/",
     "height": 424
    },
    "id": "Z4Gwc3ecFNRH",
    "executionInfo": {
     "status": "ok",
     "timestamp": 1663898981796,
     "user_tz": 300,
     "elapsed": 162,
     "user": {
      "displayName": "Liz Johnson",
      "userId": "08118905151181161429"
     }
    },
    "outputId": "11cc4c6d-c9b6-43aa-b543-c070c30ba530"
   },
   "execution_count": 28,
   "outputs": [
    {
     "output_type": "execute_result",
     "data": {
      "text/plain": [
       "         userId  movieId  rating     timestamp          date_rated\n",
       "0             1      307     3.5  1.256677e+09 2009-10-27 21:00:21\n",
       "1             1      481     3.5  1.256677e+09 2009-10-27 21:04:16\n",
       "2             1     1091     1.5  1.256677e+09 2009-10-27 21:04:31\n",
       "3             1     1257     4.5  1.256677e+09 2009-10-27 21:04:20\n",
       "4             1     1449     4.5  1.256677e+09 2009-10-27 21:01:04\n",
       "...         ...      ...     ...           ...                 ...\n",
       "7256618   74531    38304     5.0  1.287760e+09 2010-10-22 15:07:54\n",
       "7256619   74531    41014     4.5  1.347335e+09 2012-09-11 03:44:41\n",
       "7256620   74531    41285     2.0  1.404405e+09 2014-07-03 16:35:29\n",
       "7256621   74531    42632     4.0  1.353081e+09 2012-11-16 15:56:18\n",
       "7256622   74531    43444     5.0  1.323805e+09 2011-12-13 19:43:24\n",
       "\n",
       "[7256623 rows x 5 columns]"
      ],
      "text/html": [
       "\n",
       "  <div id=\"df-f8af3166-236e-40ce-8ada-4d9b9c1b2584\">\n",
       "    <div class=\"colab-df-container\">\n",
       "      <div>\n",
       "<style scoped>\n",
       "    .dataframe tbody tr th:only-of-type {\n",
       "        vertical-align: middle;\n",
       "    }\n",
       "\n",
       "    .dataframe tbody tr th {\n",
       "        vertical-align: top;\n",
       "    }\n",
       "\n",
       "    .dataframe thead th {\n",
       "        text-align: right;\n",
       "    }\n",
       "</style>\n",
       "<table border=\"1\" class=\"dataframe\">\n",
       "  <thead>\n",
       "    <tr style=\"text-align: right;\">\n",
       "      <th></th>\n",
       "      <th>userId</th>\n",
       "      <th>movieId</th>\n",
       "      <th>rating</th>\n",
       "      <th>timestamp</th>\n",
       "      <th>date_rated</th>\n",
       "    </tr>\n",
       "  </thead>\n",
       "  <tbody>\n",
       "    <tr>\n",
       "      <th>0</th>\n",
       "      <td>1</td>\n",
       "      <td>307</td>\n",
       "      <td>3.5</td>\n",
       "      <td>1.256677e+09</td>\n",
       "      <td>2009-10-27 21:00:21</td>\n",
       "    </tr>\n",
       "    <tr>\n",
       "      <th>1</th>\n",
       "      <td>1</td>\n",
       "      <td>481</td>\n",
       "      <td>3.5</td>\n",
       "      <td>1.256677e+09</td>\n",
       "      <td>2009-10-27 21:04:16</td>\n",
       "    </tr>\n",
       "    <tr>\n",
       "      <th>2</th>\n",
       "      <td>1</td>\n",
       "      <td>1091</td>\n",
       "      <td>1.5</td>\n",
       "      <td>1.256677e+09</td>\n",
       "      <td>2009-10-27 21:04:31</td>\n",
       "    </tr>\n",
       "    <tr>\n",
       "      <th>3</th>\n",
       "      <td>1</td>\n",
       "      <td>1257</td>\n",
       "      <td>4.5</td>\n",
       "      <td>1.256677e+09</td>\n",
       "      <td>2009-10-27 21:04:20</td>\n",
       "    </tr>\n",
       "    <tr>\n",
       "      <th>4</th>\n",
       "      <td>1</td>\n",
       "      <td>1449</td>\n",
       "      <td>4.5</td>\n",
       "      <td>1.256677e+09</td>\n",
       "      <td>2009-10-27 21:01:04</td>\n",
       "    </tr>\n",
       "    <tr>\n",
       "      <th>...</th>\n",
       "      <td>...</td>\n",
       "      <td>...</td>\n",
       "      <td>...</td>\n",
       "      <td>...</td>\n",
       "      <td>...</td>\n",
       "    </tr>\n",
       "    <tr>\n",
       "      <th>7256618</th>\n",
       "      <td>74531</td>\n",
       "      <td>38304</td>\n",
       "      <td>5.0</td>\n",
       "      <td>1.287760e+09</td>\n",
       "      <td>2010-10-22 15:07:54</td>\n",
       "    </tr>\n",
       "    <tr>\n",
       "      <th>7256619</th>\n",
       "      <td>74531</td>\n",
       "      <td>41014</td>\n",
       "      <td>4.5</td>\n",
       "      <td>1.347335e+09</td>\n",
       "      <td>2012-09-11 03:44:41</td>\n",
       "    </tr>\n",
       "    <tr>\n",
       "      <th>7256620</th>\n",
       "      <td>74531</td>\n",
       "      <td>41285</td>\n",
       "      <td>2.0</td>\n",
       "      <td>1.404405e+09</td>\n",
       "      <td>2014-07-03 16:35:29</td>\n",
       "    </tr>\n",
       "    <tr>\n",
       "      <th>7256621</th>\n",
       "      <td>74531</td>\n",
       "      <td>42632</td>\n",
       "      <td>4.0</td>\n",
       "      <td>1.353081e+09</td>\n",
       "      <td>2012-11-16 15:56:18</td>\n",
       "    </tr>\n",
       "    <tr>\n",
       "      <th>7256622</th>\n",
       "      <td>74531</td>\n",
       "      <td>43444</td>\n",
       "      <td>5.0</td>\n",
       "      <td>1.323805e+09</td>\n",
       "      <td>2011-12-13 19:43:24</td>\n",
       "    </tr>\n",
       "  </tbody>\n",
       "</table>\n",
       "<p>7256623 rows × 5 columns</p>\n",
       "</div>\n",
       "      <button class=\"colab-df-convert\" onclick=\"convertToInteractive('df-f8af3166-236e-40ce-8ada-4d9b9c1b2584')\"\n",
       "              title=\"Convert this dataframe to an interactive table.\"\n",
       "              style=\"display:none;\">\n",
       "        \n",
       "  <svg xmlns=\"http://www.w3.org/2000/svg\" height=\"24px\"viewBox=\"0 0 24 24\"\n",
       "       width=\"24px\">\n",
       "    <path d=\"M0 0h24v24H0V0z\" fill=\"none\"/>\n",
       "    <path d=\"M18.56 5.44l.94 2.06.94-2.06 2.06-.94-2.06-.94-.94-2.06-.94 2.06-2.06.94zm-11 1L8.5 8.5l.94-2.06 2.06-.94-2.06-.94L8.5 2.5l-.94 2.06-2.06.94zm10 10l.94 2.06.94-2.06 2.06-.94-2.06-.94-.94-2.06-.94 2.06-2.06.94z\"/><path d=\"M17.41 7.96l-1.37-1.37c-.4-.4-.92-.59-1.43-.59-.52 0-1.04.2-1.43.59L10.3 9.45l-7.72 7.72c-.78.78-.78 2.05 0 2.83L4 21.41c.39.39.9.59 1.41.59.51 0 1.02-.2 1.41-.59l7.78-7.78 2.81-2.81c.8-.78.8-2.07 0-2.86zM5.41 20L4 18.59l7.72-7.72 1.47 1.35L5.41 20z\"/>\n",
       "  </svg>\n",
       "      </button>\n",
       "      \n",
       "  <style>\n",
       "    .colab-df-container {\n",
       "      display:flex;\n",
       "      flex-wrap:wrap;\n",
       "      gap: 12px;\n",
       "    }\n",
       "\n",
       "    .colab-df-convert {\n",
       "      background-color: #E8F0FE;\n",
       "      border: none;\n",
       "      border-radius: 50%;\n",
       "      cursor: pointer;\n",
       "      display: none;\n",
       "      fill: #1967D2;\n",
       "      height: 32px;\n",
       "      padding: 0 0 0 0;\n",
       "      width: 32px;\n",
       "    }\n",
       "\n",
       "    .colab-df-convert:hover {\n",
       "      background-color: #E2EBFA;\n",
       "      box-shadow: 0px 1px 2px rgba(60, 64, 67, 0.3), 0px 1px 3px 1px rgba(60, 64, 67, 0.15);\n",
       "      fill: #174EA6;\n",
       "    }\n",
       "\n",
       "    [theme=dark] .colab-df-convert {\n",
       "      background-color: #3B4455;\n",
       "      fill: #D2E3FC;\n",
       "    }\n",
       "\n",
       "    [theme=dark] .colab-df-convert:hover {\n",
       "      background-color: #434B5C;\n",
       "      box-shadow: 0px 1px 3px 1px rgba(0, 0, 0, 0.15);\n",
       "      filter: drop-shadow(0px 1px 2px rgba(0, 0, 0, 0.3));\n",
       "      fill: #FFFFFF;\n",
       "    }\n",
       "  </style>\n",
       "\n",
       "      <script>\n",
       "        const buttonEl =\n",
       "          document.querySelector('#df-f8af3166-236e-40ce-8ada-4d9b9c1b2584 button.colab-df-convert');\n",
       "        buttonEl.style.display =\n",
       "          google.colab.kernel.accessAllowed ? 'block' : 'none';\n",
       "\n",
       "        async function convertToInteractive(key) {\n",
       "          const element = document.querySelector('#df-f8af3166-236e-40ce-8ada-4d9b9c1b2584');\n",
       "          const dataTable =\n",
       "            await google.colab.kernel.invokeFunction('convertToInteractive',\n",
       "                                                     [key], {});\n",
       "          if (!dataTable) return;\n",
       "\n",
       "          const docLinkHtml = 'Like what you see? Visit the ' +\n",
       "            '<a target=\"_blank\" href=https://colab.research.google.com/notebooks/data_table.ipynb>data table notebook</a>'\n",
       "            + ' to learn more about interactive tables.';\n",
       "          element.innerHTML = '';\n",
       "          dataTable['output_type'] = 'display_data';\n",
       "          await google.colab.output.renderOutput(dataTable, element);\n",
       "          const docLink = document.createElement('div');\n",
       "          docLink.innerHTML = docLinkHtml;\n",
       "          element.appendChild(docLink);\n",
       "        }\n",
       "      </script>\n",
       "    </div>\n",
       "  </div>\n",
       "  "
      ]
     },
     "metadata": {},
     "execution_count": 28
    }
   ]
  },
  {
   "cell_type": "markdown",
   "source": [
    "# Now we can look at string manipulation, exploding a column, and regrouping\n",
    "Goal: Let's get lists of movies for each genre and count how many movies there are of each genre"
   ],
   "metadata": {
    "id": "ZiwPGBj7Hb87"
   }
  },
  {
   "cell_type": "code",
   "source": [
    "movies_df['genres_list'] = movies_df['genres'].apply(lambda x: x.split('|'))"
   ],
   "metadata": {
    "id": "ZQzmS7Y99-25",
    "executionInfo": {
     "status": "ok",
     "timestamp": 1663899259331,
     "user_tz": 300,
     "elapsed": 154,
     "user": {
      "displayName": "Liz Johnson",
      "userId": "08118905151181161429"
     }
    }
   },
   "execution_count": 30,
   "outputs": []
  },
  {
   "cell_type": "markdown",
   "source": [
    "Sampling the Data Frame versus just viewing the default rows returned\n",
    "- sampling allows you to see more of the data\n",
    "- this lets you eye ball for anything wierd that may not exist in the first and last ten rows"
   ],
   "metadata": {
    "id": "wpv4ZbW5ID70"
   }
  },
  {
   "cell_type": "code",
   "source": [
    "movies_df.sample(20)"
   ],
   "metadata": {
    "colab": {
     "base_uri": "https://localhost:8080/",
     "height": 677
    },
    "id": "SOkL8OLUBRgQ",
    "executionInfo": {
     "status": "ok",
     "timestamp": 1663899266011,
     "user_tz": 300,
     "elapsed": 157,
     "user": {
      "displayName": "Liz Johnson",
      "userId": "08118905151181161429"
     }
    },
    "outputId": "86aa8b1e-e5c4-4db1-c369-52a517e05477"
   },
   "execution_count": 32,
   "outputs": [
    {
     "output_type": "execute_result",
     "data": {
      "text/plain": [
       "       movieId                                              title  \\\n",
       "25404   116686                               Deadly Dreams (1988)   \n",
       "39579   152260                     L'odeur de la mandarine (2015)   \n",
       "12981    61279                              Variety Lights (1950)   \n",
       "7019      7130                                     Darling (1965)   \n",
       "2095      2178                                      Frenzy (1972)   \n",
       "34706   140621  Russell Brand - From Addiction to Recovery (2012)   \n",
       "25518   116941                          Jetsons: The Movie (1990)   \n",
       "13008    61470                      Boys in Company C, The (1978)   \n",
       "11210    47124                              Ant Bully, The (2006)   \n",
       "5787      5885  What to Do in Case of Fire (Was tun, wenn's br...   \n",
       "6109      6207                         Slaughter Rule, The (2002)   \n",
       "39204   151433                     Mill of the Stone Women (1960)   \n",
       "50376   176199                               Altar of Fire (1976)   \n",
       "492        496                        What Happened Was... (1994)   \n",
       "52902   181871                                   Sea Salts (1949)   \n",
       "11634    50828                     Red Angel (Akai tenshi) (1966)   \n",
       "33902   138702                                       Feast (2014)   \n",
       "17145    86368                   Confessions of a Nazi Spy (1939)   \n",
       "27607   123012               The Daughter of Rosie O'Grady (1950)   \n",
       "48093   171341                            The Yellow Birds (2017)   \n",
       "\n",
       "                                                 genres  \\\n",
       "25404                                   Horror|Thriller   \n",
       "39579                                     Drama|Romance   \n",
       "12981                                             Drama   \n",
       "7019                                              Drama   \n",
       "2095                                           Thriller   \n",
       "34706                                       Documentary   \n",
       "25518          Animation|Children|Comedy|Musical|Sci-Fi   \n",
       "13008                                         Drama|War   \n",
       "11210  Adventure|Animation|Children|Comedy|Fantasy|IMAX   \n",
       "5787                                       Comedy|Drama   \n",
       "6109                                              Drama   \n",
       "39204                                     Horror|Sci-Fi   \n",
       "50376                                       Documentary   \n",
       "492                       Comedy|Drama|Romance|Thriller   \n",
       "52902                                         Animation   \n",
       "11634                                 Drama|Romance|War   \n",
       "33902           Animation|Children|Comedy|Drama|Romance   \n",
       "17145                                             Drama   \n",
       "27607                                            Comedy   \n",
       "48093                                         Drama|War   \n",
       "\n",
       "                                             genres_list  \n",
       "25404                                 [Horror, Thriller]  \n",
       "39579                                   [Drama, Romance]  \n",
       "12981                                            [Drama]  \n",
       "7019                                             [Drama]  \n",
       "2095                                          [Thriller]  \n",
       "34706                                      [Documentary]  \n",
       "25518     [Animation, Children, Comedy, Musical, Sci-Fi]  \n",
       "13008                                       [Drama, War]  \n",
       "11210  [Adventure, Animation, Children, Comedy, Fanta...  \n",
       "5787                                     [Comedy, Drama]  \n",
       "6109                                             [Drama]  \n",
       "39204                                   [Horror, Sci-Fi]  \n",
       "50376                                      [Documentary]  \n",
       "492                   [Comedy, Drama, Romance, Thriller]  \n",
       "52902                                        [Animation]  \n",
       "11634                              [Drama, Romance, War]  \n",
       "33902      [Animation, Children, Comedy, Drama, Romance]  \n",
       "17145                                            [Drama]  \n",
       "27607                                           [Comedy]  \n",
       "48093                                       [Drama, War]  "
      ],
      "text/html": [
       "\n",
       "  <div id=\"df-088d915a-e097-4102-8d32-bd94b6484e9d\">\n",
       "    <div class=\"colab-df-container\">\n",
       "      <div>\n",
       "<style scoped>\n",
       "    .dataframe tbody tr th:only-of-type {\n",
       "        vertical-align: middle;\n",
       "    }\n",
       "\n",
       "    .dataframe tbody tr th {\n",
       "        vertical-align: top;\n",
       "    }\n",
       "\n",
       "    .dataframe thead th {\n",
       "        text-align: right;\n",
       "    }\n",
       "</style>\n",
       "<table border=\"1\" class=\"dataframe\">\n",
       "  <thead>\n",
       "    <tr style=\"text-align: right;\">\n",
       "      <th></th>\n",
       "      <th>movieId</th>\n",
       "      <th>title</th>\n",
       "      <th>genres</th>\n",
       "      <th>genres_list</th>\n",
       "    </tr>\n",
       "  </thead>\n",
       "  <tbody>\n",
       "    <tr>\n",
       "      <th>25404</th>\n",
       "      <td>116686</td>\n",
       "      <td>Deadly Dreams (1988)</td>\n",
       "      <td>Horror|Thriller</td>\n",
       "      <td>[Horror, Thriller]</td>\n",
       "    </tr>\n",
       "    <tr>\n",
       "      <th>39579</th>\n",
       "      <td>152260</td>\n",
       "      <td>L'odeur de la mandarine (2015)</td>\n",
       "      <td>Drama|Romance</td>\n",
       "      <td>[Drama, Romance]</td>\n",
       "    </tr>\n",
       "    <tr>\n",
       "      <th>12981</th>\n",
       "      <td>61279</td>\n",
       "      <td>Variety Lights (1950)</td>\n",
       "      <td>Drama</td>\n",
       "      <td>[Drama]</td>\n",
       "    </tr>\n",
       "    <tr>\n",
       "      <th>7019</th>\n",
       "      <td>7130</td>\n",
       "      <td>Darling (1965)</td>\n",
       "      <td>Drama</td>\n",
       "      <td>[Drama]</td>\n",
       "    </tr>\n",
       "    <tr>\n",
       "      <th>2095</th>\n",
       "      <td>2178</td>\n",
       "      <td>Frenzy (1972)</td>\n",
       "      <td>Thriller</td>\n",
       "      <td>[Thriller]</td>\n",
       "    </tr>\n",
       "    <tr>\n",
       "      <th>34706</th>\n",
       "      <td>140621</td>\n",
       "      <td>Russell Brand - From Addiction to Recovery (2012)</td>\n",
       "      <td>Documentary</td>\n",
       "      <td>[Documentary]</td>\n",
       "    </tr>\n",
       "    <tr>\n",
       "      <th>25518</th>\n",
       "      <td>116941</td>\n",
       "      <td>Jetsons: The Movie (1990)</td>\n",
       "      <td>Animation|Children|Comedy|Musical|Sci-Fi</td>\n",
       "      <td>[Animation, Children, Comedy, Musical, Sci-Fi]</td>\n",
       "    </tr>\n",
       "    <tr>\n",
       "      <th>13008</th>\n",
       "      <td>61470</td>\n",
       "      <td>Boys in Company C, The (1978)</td>\n",
       "      <td>Drama|War</td>\n",
       "      <td>[Drama, War]</td>\n",
       "    </tr>\n",
       "    <tr>\n",
       "      <th>11210</th>\n",
       "      <td>47124</td>\n",
       "      <td>Ant Bully, The (2006)</td>\n",
       "      <td>Adventure|Animation|Children|Comedy|Fantasy|IMAX</td>\n",
       "      <td>[Adventure, Animation, Children, Comedy, Fanta...</td>\n",
       "    </tr>\n",
       "    <tr>\n",
       "      <th>5787</th>\n",
       "      <td>5885</td>\n",
       "      <td>What to Do in Case of Fire (Was tun, wenn's br...</td>\n",
       "      <td>Comedy|Drama</td>\n",
       "      <td>[Comedy, Drama]</td>\n",
       "    </tr>\n",
       "    <tr>\n",
       "      <th>6109</th>\n",
       "      <td>6207</td>\n",
       "      <td>Slaughter Rule, The (2002)</td>\n",
       "      <td>Drama</td>\n",
       "      <td>[Drama]</td>\n",
       "    </tr>\n",
       "    <tr>\n",
       "      <th>39204</th>\n",
       "      <td>151433</td>\n",
       "      <td>Mill of the Stone Women (1960)</td>\n",
       "      <td>Horror|Sci-Fi</td>\n",
       "      <td>[Horror, Sci-Fi]</td>\n",
       "    </tr>\n",
       "    <tr>\n",
       "      <th>50376</th>\n",
       "      <td>176199</td>\n",
       "      <td>Altar of Fire (1976)</td>\n",
       "      <td>Documentary</td>\n",
       "      <td>[Documentary]</td>\n",
       "    </tr>\n",
       "    <tr>\n",
       "      <th>492</th>\n",
       "      <td>496</td>\n",
       "      <td>What Happened Was... (1994)</td>\n",
       "      <td>Comedy|Drama|Romance|Thriller</td>\n",
       "      <td>[Comedy, Drama, Romance, Thriller]</td>\n",
       "    </tr>\n",
       "    <tr>\n",
       "      <th>52902</th>\n",
       "      <td>181871</td>\n",
       "      <td>Sea Salts (1949)</td>\n",
       "      <td>Animation</td>\n",
       "      <td>[Animation]</td>\n",
       "    </tr>\n",
       "    <tr>\n",
       "      <th>11634</th>\n",
       "      <td>50828</td>\n",
       "      <td>Red Angel (Akai tenshi) (1966)</td>\n",
       "      <td>Drama|Romance|War</td>\n",
       "      <td>[Drama, Romance, War]</td>\n",
       "    </tr>\n",
       "    <tr>\n",
       "      <th>33902</th>\n",
       "      <td>138702</td>\n",
       "      <td>Feast (2014)</td>\n",
       "      <td>Animation|Children|Comedy|Drama|Romance</td>\n",
       "      <td>[Animation, Children, Comedy, Drama, Romance]</td>\n",
       "    </tr>\n",
       "    <tr>\n",
       "      <th>17145</th>\n",
       "      <td>86368</td>\n",
       "      <td>Confessions of a Nazi Spy (1939)</td>\n",
       "      <td>Drama</td>\n",
       "      <td>[Drama]</td>\n",
       "    </tr>\n",
       "    <tr>\n",
       "      <th>27607</th>\n",
       "      <td>123012</td>\n",
       "      <td>The Daughter of Rosie O'Grady (1950)</td>\n",
       "      <td>Comedy</td>\n",
       "      <td>[Comedy]</td>\n",
       "    </tr>\n",
       "    <tr>\n",
       "      <th>48093</th>\n",
       "      <td>171341</td>\n",
       "      <td>The Yellow Birds (2017)</td>\n",
       "      <td>Drama|War</td>\n",
       "      <td>[Drama, War]</td>\n",
       "    </tr>\n",
       "  </tbody>\n",
       "</table>\n",
       "</div>\n",
       "      <button class=\"colab-df-convert\" onclick=\"convertToInteractive('df-088d915a-e097-4102-8d32-bd94b6484e9d')\"\n",
       "              title=\"Convert this dataframe to an interactive table.\"\n",
       "              style=\"display:none;\">\n",
       "        \n",
       "  <svg xmlns=\"http://www.w3.org/2000/svg\" height=\"24px\"viewBox=\"0 0 24 24\"\n",
       "       width=\"24px\">\n",
       "    <path d=\"M0 0h24v24H0V0z\" fill=\"none\"/>\n",
       "    <path d=\"M18.56 5.44l.94 2.06.94-2.06 2.06-.94-2.06-.94-.94-2.06-.94 2.06-2.06.94zm-11 1L8.5 8.5l.94-2.06 2.06-.94-2.06-.94L8.5 2.5l-.94 2.06-2.06.94zm10 10l.94 2.06.94-2.06 2.06-.94-2.06-.94-.94-2.06-.94 2.06-2.06.94z\"/><path d=\"M17.41 7.96l-1.37-1.37c-.4-.4-.92-.59-1.43-.59-.52 0-1.04.2-1.43.59L10.3 9.45l-7.72 7.72c-.78.78-.78 2.05 0 2.83L4 21.41c.39.39.9.59 1.41.59.51 0 1.02-.2 1.41-.59l7.78-7.78 2.81-2.81c.8-.78.8-2.07 0-2.86zM5.41 20L4 18.59l7.72-7.72 1.47 1.35L5.41 20z\"/>\n",
       "  </svg>\n",
       "      </button>\n",
       "      \n",
       "  <style>\n",
       "    .colab-df-container {\n",
       "      display:flex;\n",
       "      flex-wrap:wrap;\n",
       "      gap: 12px;\n",
       "    }\n",
       "\n",
       "    .colab-df-convert {\n",
       "      background-color: #E8F0FE;\n",
       "      border: none;\n",
       "      border-radius: 50%;\n",
       "      cursor: pointer;\n",
       "      display: none;\n",
       "      fill: #1967D2;\n",
       "      height: 32px;\n",
       "      padding: 0 0 0 0;\n",
       "      width: 32px;\n",
       "    }\n",
       "\n",
       "    .colab-df-convert:hover {\n",
       "      background-color: #E2EBFA;\n",
       "      box-shadow: 0px 1px 2px rgba(60, 64, 67, 0.3), 0px 1px 3px 1px rgba(60, 64, 67, 0.15);\n",
       "      fill: #174EA6;\n",
       "    }\n",
       "\n",
       "    [theme=dark] .colab-df-convert {\n",
       "      background-color: #3B4455;\n",
       "      fill: #D2E3FC;\n",
       "    }\n",
       "\n",
       "    [theme=dark] .colab-df-convert:hover {\n",
       "      background-color: #434B5C;\n",
       "      box-shadow: 0px 1px 3px 1px rgba(0, 0, 0, 0.15);\n",
       "      filter: drop-shadow(0px 1px 2px rgba(0, 0, 0, 0.3));\n",
       "      fill: #FFFFFF;\n",
       "    }\n",
       "  </style>\n",
       "\n",
       "      <script>\n",
       "        const buttonEl =\n",
       "          document.querySelector('#df-088d915a-e097-4102-8d32-bd94b6484e9d button.colab-df-convert');\n",
       "        buttonEl.style.display =\n",
       "          google.colab.kernel.accessAllowed ? 'block' : 'none';\n",
       "\n",
       "        async function convertToInteractive(key) {\n",
       "          const element = document.querySelector('#df-088d915a-e097-4102-8d32-bd94b6484e9d');\n",
       "          const dataTable =\n",
       "            await google.colab.kernel.invokeFunction('convertToInteractive',\n",
       "                                                     [key], {});\n",
       "          if (!dataTable) return;\n",
       "\n",
       "          const docLinkHtml = 'Like what you see? Visit the ' +\n",
       "            '<a target=\"_blank\" href=https://colab.research.google.com/notebooks/data_table.ipynb>data table notebook</a>'\n",
       "            + ' to learn more about interactive tables.';\n",
       "          element.innerHTML = '';\n",
       "          dataTable['output_type'] = 'display_data';\n",
       "          await google.colab.output.renderOutput(dataTable, element);\n",
       "          const docLink = document.createElement('div');\n",
       "          docLink.innerHTML = docLinkHtml;\n",
       "          element.appendChild(docLink);\n",
       "        }\n",
       "      </script>\n",
       "    </div>\n",
       "  </div>\n",
       "  "
      ]
     },
     "metadata": {},
     "execution_count": 32
    }
   ]
  },
  {
   "cell_type": "code",
   "source": [],
   "metadata": {
    "id": "an2rd_KUBURg",
    "executionInfo": {
     "status": "ok",
     "timestamp": 1663899262680,
     "user_tz": 300,
     "elapsed": 159,
     "user": {
      "displayName": "Liz Johnson",
      "userId": "08118905151181161429"
     }
    }
   },
   "execution_count": 31,
   "outputs": []
  },
  {
   "cell_type": "markdown",
   "source": [
    "Now you can... \n",
    "1. Join the ratings to the movies in order to get ratings for all movies\n",
    "  - Ensure that you did have ratings that didn't have associated movies\n",
    "  - Make sure you join the right direction\n",
    "2. Convert the timestamp to somehting readable\n",
    "  - Check for invalid timestamps?\n",
    "3. Add a column on the joined df that has the average rating for a given movie\n",
    "4. Find the average rating for a movie of a specific genere"
   ],
   "metadata": {
    "id": "zSXNqriZwM4f"
   }
  }
 ]
}